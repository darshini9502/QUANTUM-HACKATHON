{
 "cells": [
  {
   "cell_type": "code",
   "execution_count": 1,
   "id": "c0eeb680",
   "metadata": {},
   "outputs": [
    {
     "data": {
      "text/plain": [
       "<spacy.lang.en.English at 0x172f151b610>"
      ]
     },
     "execution_count": 1,
     "metadata": {},
     "output_type": "execute_result"
    }
   ],
   "source": [
    "import spacy\n",
    "spacy.load('en_core_web_sm')"
   ]
  },
  {
   "cell_type": "code",
   "execution_count": 2,
   "id": "2cfc2fb9",
   "metadata": {
    "scrolled": true
   },
   "outputs": [
    {
     "name": "stdout",
     "output_type": "stream",
     "text": [
      "['Copy of Abhishek Kumar_Java Developer_Teksands.pdf', 'Copy of Abhishek.pdf', 'Copy of Adarsh G N_Java Developer_Teksands.docx', 'Copy of Amit Kumar.docx', 'Copy of Anirban Mandal_Azure Data Engineer.pdf', 'Copy of Ankit Bhor_Java Developer_Teksands.docx', 'Copy of AnkitaDagdiya_Java Developer_Teksands.pdf', 'Copy of Arava Reddy Resume--2021.docx', 'Copy of ArchanaPM_Java Developer_Teksands.pdf', 'Copy of Arun.docx', 'Copy of Arush_Resume_6.pdf', 'Copy of Ashutosh Suryawanshi_Java Developer_Teksands.pdf', 'Copy of Ashutosh_Gaikwad_Resume-.pdf', 'Copy of Balaji Giridhar.pdf', 'Copy of BHarinadha_Java Developer_Teksands.pdf', 'Copy of BhavanaS_Java Developer_Teksands.pdf', 'Copy of BHUPENdra PGT.pdf', 'Copy of BrijMohanChauhan_java_Softek.pdf', 'Copy of Chakradar - Azure ADF.docx', 'Copy of Chandan B S_Java Developer_Teksands.docx', 'Copy of Chandrakala_ADF_Resume.doc', 'Copy of Chandresh Vikram_Java Developer_Teksands.docx', 'Copy of CHANDU CHAKALA_Java Developer_Teksands.docx', 'Copy of ChetanMYadav_Java Developer_Teksands.pdf', 'Copy of chinna srikanth.pdf', 'Copy of DavenderSingh[10_0].doc', 'Copy of Debasis Sethy_Java Developer_Teksands.docx', 'Copy of Debi Prasad_Java Developer_Teksands.pdf', 'Copy of DeeptiSatpathy_Java Developer_Teksands.pdf', 'Copy of DeveshriSabale_Java Developer_Teksands.pdf', 'Copy of DhanunjayaPosa_Java Developer_Teksands.pdf', 'Copy of DineshDevsarkar_Java Developer_Teksands.pdf', 'Copy of Dipali Zendage_Java Developer_2.2 Years.pdf', 'Copy of DivyanshSingh_Java Developer_Teksands.pdf', 'Copy of Eswar Nalakurthi_Java Developer_Teksands.docx', 'Copy of Hemlata_Resume.pdf', 'Copy of KomalArunGhodeswar_Java Developer_Teksands.pdf', 'Copy of Konka Karthik_Java Developer_Teksands.pdf', 'Copy of Kshitij_Gupta_Resume.pdf', 'Copy of kumaraswamy_Java Devoloper_Teksands.pdf', 'Copy of LakshmiSravaniTadiparthi[5_6].pdf', 'Copy of Lalbude.docx', 'Copy of Madhan D_Java Developer_Teksands.docx', 'Copy of MahekPipalia_Java Developer_Teksands.pdf', 'Copy of Mahesh_Java Developer_Teksands.pdf', 'Copy of Mallikarjuna Narravula_Java Developer_Teksands.pdf', 'Copy of Manasi-ResumeUpdated.pdf', 'Copy of manikandan_Java Developer_Teksands.pdf', 'Copy of MANISHA_ABDAR.pdf', 'Copy of maruthiprasad_Java Developer_Teksands.pdf', 'Copy of MukeshKannaS__Java Developer_Teksands.pdf', 'Copy of MuktaJoshi_Java Developer_Teksands.pdf', 'Copy of Nag Arjun_Java Developer_Teksands.pdf', 'Copy of NagababuB_Java Developer_Teksands.pdf', 'Copy of NagarjunaAtla.docx', 'Copy of Nanditha_CV (1).pdf', 'Copy of Naukri_AdarshChaubey[7y_0m].pdf', 'Copy of Naukri_AkashSen[12y_0m].doc', 'Copy of Naukri_AkshataD[6y_0m].docx', 'Copy of Naukri_Amit[10y_0m].doc', 'Copy of Naukri_AnirbanGhosh[12y_0m].pdf', 'Copy of Naukri_AnkitKumar[6y_0m].pdf', 'Copy of Naukri_AnwarullahRazaSiddique[2y_10m].pdf', 'Copy of Naukri_AshishRaghav[12y_0m].doc', 'Copy of Naukri_AshutoshKumarThakur[12y_0m] (1).doc', 'Copy of Naukri_BharathMerugu[10y_0m].docx', 'Copy of Naukri_BhumitraBhardwaj[7y_0m].pdf', 'Copy of Naukri_ChKiranmai[4y_8m].docx', 'Copy of Naukri_DAshokreddy[5y_1m].docx', 'Copy of Naukri_DeepShikha[6y_0m].pdf', 'Copy of Naukri_DineshKaushal_6486656_-01_07-_1.pdf', 'Copy of Naukri_DurgeshMilindKulkarni[4y_0m].pdf', 'Copy of Naukri_EdukondaluGosula_6437660_-02_05-_1.pdf', 'Copy of Naukri_GamyaGuntur_6257680_-01_08-_1.pdf', 'Copy of Naukri_GargiPal[8y_0m].pdf', 'Copy of Naukri_GunaSekharMatta_6092880_-01_00-_1 (1).pdf', 'Copy of Naukri_IRFANAHMAD[10y_0m].docx', 'Copy of Naukri_jayaprakash[9y_0m].doc', 'Copy of Naukri_kaminisingh[5y_9m].docx', 'Copy of Naukri_khadar[10y_0m].docx', 'Copy of Naukri_kiranlata[5y_1m].pdf', 'Copy of Naukri_Kiruthiga_6503696_-03_00-_1.pdf', 'Copy of Naukri_KUNALKUMARSINHA[6y_0m].pdf', 'Copy of Naukri_MAMIDISETTIDURGANAGAPRASAD_6443206_-03_05-_1.docx', 'Copy of Naukri_ManeshManoharMR_6495156_-02_06-_1.pdf', 'Copy of Naukri_ManojReddy_6517390_-03_11-_1 (1).pdf', 'Copy of Naukri_MayurAhirrao_6484432_-01_10-_1.pdf', 'Copy of Naukri_MeenakshiSimhadri_6390308_-02_08-_1 (1).doc', 'Copy of Naukri_mujthaba[4y_1m].pdf', 'Copy of Naukri_Nagesh[8y_0m].doc', 'Copy of Naukri_NehaSingh[12y_0m].docx', 'Copy of Naukri_NethajiRangasamy[10y_0m].docx', 'Copy of Naukri_NiveditaPrakash[9y_0m].pdf', 'Copy of Naukri_PAshokVenkataSai_6526112_-02_09-_1 (1).pdf', 'Copy of Naukri_Pradeepchoudhary[5y_4m].pdf', 'Copy of Naukri_RAJASEKHAR_6390068_-02_00-_1.pdf', 'Copy of Naukri_SaiMahesh[4y_1m].doc', 'Copy of Naukri_Sandhya_6513468_-03_06-_1 (1).docx', 'Copy of Naukri_SandipanRoyChoudhury[4y_0m] (1).pdf', 'Copy of Naukri_ShamshadAlam[14y_0m].docx', 'Copy of Naukri_ShauryaRathi[5y_0m].pdf', 'Copy of Naukri_ShekharNalawade[9y_0m].pdf', 'Copy of Naukri_ShivakumarAiyadurai[13y_0m].docx', 'Copy of Naukri_ShravanKumarPappula[8y_0m].docx', 'Copy of Naukri_Siddharth_6556280_-08_06-_1.docx', 'Copy of Naukri_SruthiPayyazhi[5y_5m].pdf', 'Copy of Naukri_SubhenduSekharRath[10y_0m] (1).pdf', 'Copy of Naukri_subrat[10y_0m].doc', 'Copy of Naukri_SudalaiMari_6503864_-03_08-_1 (1) (1).pdf', 'Copy of Naukri_Sudhakara[14y_0m].docx', 'Copy of Naukri_SudheerMaddu[10y_0m] (1).docx', 'Copy of Naukri_SUMITBHATTAR[9y_4m].docx', 'Copy of Naukri_SUMITKUMARAGARWAL[4y_1m].docx', 'Copy of Naukri_TanjeetSinghAjmani[4y_3m].pdf', 'Copy of Naukri_TANMOYBANERJEE[4y_0m].pdf', 'Copy of Naukri_VediyaRaghuvanshi[6y_0m].pdf', 'Copy of Naukri_VENUGOPALMALAYAMBAKAM_6075112_-02_05-_1.pdf', 'Copy of Naukri_VimalenduShekhar_6528194_-02_10-_1.pdf', 'Copy of Naukri_VishnuvardhanReddySettipallyC[7y_0m].pdf', 'Copy of Naukri_yatish[5y_0m].docx', 'Copy of NeeluAggarwal.pdf', 'Copy of NGanesh Gaikwad_Java Developer_Teksands.pdf', 'Copy of NikhathAmeena_Resume (1).docx', 'Copy of nishant kodathi.pdf', 'Copy of Nithin R_Java Developer_Teksands.pdf', 'Copy of NitishPandey_Java Developer_Teksands.pdf', 'Copy of Nogeshhalmare_Java Developer_Teksands.pdf', 'Copy of Om Gawande Resume.pdf', 'Copy of OMKAR_GHUGARE.pdf', 'Copy of Palash_Resume-3.pdf', 'Copy of PALETIBHANUCHAND_Java Developer_Teksands.pdf', 'Copy of Paresh Kanade_Java Developer_Teksands.docx', 'Copy of Prabhat Rawat Resume.pdf', 'Copy of PrakashD_Java Developer_Teksands.pdf', 'Copy of Prathap R_Java Developer_Teksands.pdf', 'Copy of Pujari Siddharam_Java Developer_Softtek.docx', 'Copy of RachayitaPatro_Java Developer_Teksands.pdf', 'Copy of Rahul Sahu_Java Developer_Teksands.docx', 'Copy of RajeevRanjan[7_0].docx', 'Copy of RajkumarMallik_Java developer_Teksands.pdf', 'Copy of RajshekarN_Java Developer_Teksands.pdf', 'Copy of Rakesh Kolhe_Java Developer_Teksands.docx', 'Copy of RAUSHAN_KUMAR_CV_Raushan Kumar.docx', 'Copy of RaviResume JD.pdf', 'Copy of Resume-Jitesh.pdf', 'Copy of Resume-Yamini Gupta (3)-5.pdf', 'Copy of Resume_Princy-Azure+Data+Engg. (1).docx', 'Copy of Resume_SaiSankar_DataEngineer.pdf', 'Copy of Resume_Sajimol (1).pdf', 'Copy of Resume_Teena_Agrawal.pdf', 'Copy of Rohini Mali CV.pdf', 'Copy of RojaliniSahoo_Java Developer_Teksands.pdf', 'Copy of SantoshKumarSahoo_Java Developer_Teksands.pdf', 'Copy of Shridhar Chougule.pdf', 'Copy of Shubham Verma_Java Developer_Teksands.pdf', 'Copy of ShwetaSingh[6_Python only.pdf', 'Copy of Shweta_Resume_1.pdf', 'Copy of simranpanda_Java Developer_Teksands.pdf', 'Copy of SivaPriya_Cloud_SQL_ADF_PowerBI.pdf', 'Copy of SivaRamaKrishna_Java Developer_Teksands.pdf', 'Copy of Siva_Resume.pdf', 'Copy of Snehal Dhok.pdf', 'Copy of Snehal_s Resume_v1.pdf', 'Copy of SonuPrakash_Java Developer_Teksands.pdf', 'Copy of sreekanth_Java Developer_Teksands.pdf', 'Copy of Subbareddy_ java-resume.pdf', 'Copy of SujeetRay_Java Developer_Teksands.pdf', 'Copy of Sumanth_Java Developer_Teksands.docx', 'Copy of SumitKumarSuman_Java Developer_Teksands.pdf', 'Copy of Sunitha J_Azure_Resume1.pdf', 'Copy of Suraj Shelkikar resume.pdf', 'Copy of Suresh Nalla_Java Developer_Teksands.docx', 'Copy of surya_resume ML_surya kumar.pdf', 'Copy of Swapna_Azure Data Engineer.docx', 'Copy of Taran Kapoor.docx', 'Copy of Utkarsh_s Resume (3).pdf', 'Copy of Vadla BhanuKumar_Java Developer_Teksands.docx', 'Copy of Varshitha  S_Java Developer_Teksands.pdf', 'Copy of VinayakSureshPevekar_ML_TE.pdf', 'Copy of VishnuPM_JavaDeveloper_Teksands.pdf', 'Copy of Yash_Zode_Resume.pdf', 'Copy of Yaswanth Reddy_Java Developer_Teksands.docx', 'Copy of ZeeshanAliKhan[9_0].pdf']\n"
     ]
    }
   ],
   "source": [
    "path = r'C:\\Users\\kambo\\OneDrive\\Desktop\\resumes\\all resumes'\n",
    "import os\n",
    "files_list=os.listdir(path)\n",
    "print(files_list)"
   ]
  },
  {
   "cell_type": "code",
   "execution_count": 3,
   "id": "5b470b5b",
   "metadata": {
    "scrolled": true
   },
   "outputs": [
    {
     "name": "stderr",
     "output_type": "stream",
     "text": [
      "C:\\Users\\kambo\\anaconda3\\lib\\site-packages\\spacy\\util.py:275: UserWarning: [W031] Model 'en_training' (0.0.0) requires spaCy v2.1 and is incompatible with the current spaCy version (2.3.5). This may lead to unexpected results or runtime errors. To resolve this, download a newer compatible model or retrain your custom model with the current spaCy version. For more details and available updates, run: python -m spacy validate\n",
      "  warnings.warn(warn_msg)\n"
     ]
    },
    {
     "name": "stdout",
     "output_type": "stream",
     "text": [
      "{'name': 'Abhishek Kumar', 'email': 'abhisek.dbg17@gmail.com', 'mobile_number': '8002598201', 'skills': ['Apis', 'Java', 'English', 'Windows', 'Engineering', 'Technical', 'System', 'Jira', 'Agile', 'Unix', 'Cisco', 'Ui'], 'college_name': None, 'degree': None, 'designation': None, 'experience': ['● Associate at Tata Consultancy Services from Feb 2017 to Jan 2020. Developed multiple', 'applications using core Java and Spring boot for various clients.', 'Responsibilities:', '● Worked for clients like Qualcomm, Cisco, Infineon within TCS.', '● Developed applications with core Java on order management systems.', '● Software Developer at Recrosoft technologies (client: flipkart) from Sep 2020 till July 2022.', 'Description: The project was based on Orchestration tool, which collects data from various'], 'company_names': None, 'no_of_pages': 2, 'total_experience': 2.92}\n"
     ]
    },
    {
     "name": "stderr",
     "output_type": "stream",
     "text": [
      "C:\\Users\\kambo\\anaconda3\\lib\\site-packages\\spacy\\util.py:275: UserWarning: [W031] Model 'en_training' (0.0.0) requires spaCy v2.1 and is incompatible with the current spaCy version (2.3.5). This may lead to unexpected results or runtime errors. To resolve this, download a newer compatible model or retrain your custom model with the current spaCy version. For more details and available updates, run: python -m spacy validate\n",
      "  warnings.warn(warn_msg)\n"
     ]
    },
    {
     "name": "stdout",
     "output_type": "stream",
     "text": [
      "{'name': 'Email ID', 'email': 'abhisheknaik6@gmail.com', 'mobile_number': '9900457009', 'skills': ['Java', 'Email', 'English', 'Higher education', 'Research', 'Therapeutic', 'Engineering', 'Servers', 'Hp alm', 'Agile', 'Programming', 'Github', 'Communication', 'Mysql', 'Lifecycle'], 'college_name': None, 'degree': None, 'designation': None, 'experience': ['Accenture, Bangalore — Software Engineer', 'SEPTEMBER 2019 - PRESENT.', 'Client - Roche Diagnostics IT', '●', '● Maintained, developed and released functionalities and features on a weekly basis in', 'an Application Lifecycle Management tool called RETINA, increasing the number of', 'business users within Roche to transition from HP ALM to RETINA  by ~20%.'], 'company_names': None, 'no_of_pages': 1, 'total_experience': 3.25}\n"
     ]
    },
    {
     "name": "stderr",
     "output_type": "stream",
     "text": [
      "C:\\Users\\kambo\\anaconda3\\lib\\site-packages\\spacy\\util.py:275: UserWarning: [W031] Model 'en_training' (0.0.0) requires spaCy v2.1 and is incompatible with the current spaCy version (2.3.5). This may lead to unexpected results or runtime errors. To resolve this, download a newer compatible model or retrain your custom model with the current spaCy version. For more details and available updates, run: python -m spacy validate\n",
      "  warnings.warn(warn_msg)\n"
     ]
    },
    {
     "name": "stdout",
     "output_type": "stream",
     "text": [
      "{'name': 'Adarsha G', 'email': 'adarshagh04@gmail.com', 'mobile_number': '9380671785', 'skills': ['Technical skills', 'Payments', 'Xml', 'Rest', 'Java', 'Email', 'Telecom', 'Api', 'Windows', 'Time management', 'Analytical', 'Inventory management', 'System', 'Agile', 'Design', 'Healthcare', 'Communication', 'Mobile', 'Excel', 'Database', 'Sdlc', 'Debugging', 'Engineering', 'Servers', 'Mysql', 'Billing', 'Jira', 'Merchant', 'Reports', 'R', 'Technical', 'Software development life cycle', 'Inventory', 'Pdf'], 'college_name': None, 'degree': ['Bachelor of Engineering in Civil Engineering . Declaration: I hereby declare that all details furnished above are true to my knowledge. Date: Place'], 'designation': None, 'experience': [], 'company_names': None, 'no_of_pages': None, 'total_experience': 0.0}\n"
     ]
    },
    {
     "name": "stderr",
     "output_type": "stream",
     "text": [
      "C:\\Users\\kambo\\anaconda3\\lib\\site-packages\\spacy\\util.py:275: UserWarning: [W031] Model 'en_training' (0.0.0) requires spaCy v2.1 and is incompatible with the current spaCy version (2.3.5). This may lead to unexpected results or runtime errors. To resolve this, download a newer compatible model or retrain your custom model with the current spaCy version. For more details and available updates, run: python -m spacy validate\n",
      "  warnings.warn(warn_msg)\n"
     ]
    },
    {
     "name": "stdout",
     "output_type": "stream",
     "text": [
      "{'name': 'Amit Kumar E', 'email': 'amit02543@yahoo.com', 'mobile_number': '868 9699', 'skills': ['Sql', 'Apis', 'Java', 'Rest', 'System', 'Migration', 'Agile', 'Design', 'Conversion', 'Computer science', 'Communication', 'Html', 'Javascript', 'Postgresql', 'Mobile', 'Presentation', 'Interactive', 'Scrum', 'Cloud', 'Architecture', 'Sharepoint', 'Content', 'Database', 'Sdlc', 'Engineering', 'Programming', 'Analysis', 'Servers', 'Scripting', 'Mysql', 'Jsp', 'Security', 'Updates', 'Policies', 'Oracle', 'Process', 'Jira', 'Css', 'Js', 'Governance', 'Github', 'Python'], 'college_name': None, 'degree': ['B.Tech in Computer Science and Engineering from Orissa Engineering college'], 'designation': ['Software Engineer'], 'experience': [], 'company_names': ['Oracle', 'Optum Global Solutions', 'Motivity Labs'], 'no_of_pages': None, 'total_experience': 0.0}\n"
     ]
    },
    {
     "name": "stderr",
     "output_type": "stream",
     "text": [
      "C:\\Users\\kambo\\anaconda3\\lib\\site-packages\\spacy\\util.py:275: UserWarning: [W031] Model 'en_training' (0.0.0) requires spaCy v2.1 and is incompatible with the current spaCy version (2.3.5). This may lead to unexpected results or runtime errors. To resolve this, download a newer compatible model or retrain your custom model with the current spaCy version. For more details and available updates, run: python -m spacy validate\n",
      "  warnings.warn(warn_msg)\n"
     ]
    },
    {
     "name": "stdout",
     "output_type": "stream",
     "text": [
      "{'name': 'Anirban Mandal', 'email': 'anirbanmandal808@gmail.com', 'mobile_number': '9641913488', 'skills': ['Sql server', 'Sql', 'Email', 'Sas', 'Ms excel', 'Migration', 'Excel', 'Access', 'Engineering', 'Pivot', 'Datasets', 'English', 'Jira', 'Etl', 'Governance', 'Project management', 'Schedule', 'Administration', 'Tableau'], 'college_name': None, 'degree': None, 'designation': ['Azure Data Engineer'], 'experience': ['•  Working as Azure Data Engineer with Tata Consultancy Services from July, 2021 to till', 'date.', '•  Worked as Azure Admin with Tata Consultancy Services from October, 2020 to June,', '2021.', 'Skill Sets:', '•  Azure Data Stack - Azure Data Factory (ADF) , Azure Data Lake Storage (ADLS) ,  Azure Blob', 'Storage, Azure Databricks, Key vault, Azure Synapse , Dedicated SQL Pool, SQL Server', 'Management Studio (SSMS).', '•  Azure Administration –  Azure VM, Azure SQL DB, SQL server, Key Vault, SSMS, MS Excel', '•  Project Management – JIRA, Confluence', '•  Basic Understanding of Power BI, Azure DevOps and CI-CD pipeline', 'Certifications:', '•  Microsoft Azure Data Engineer (DP-203)', '•  Microsoft Azure Data Fundamentals (DP-900)', 'Project Summary:', 'Project-1:', 'Client', 'Role', 'Johnson & Johnson', 'Azure Data Engineer', 'Duration', 'July, 2021 to till date', 'Tools', 'Azure Data Factory, Azure Data Bricks, Azure Blob Storage, Data', 'Lake, Azure Synapse, SQL Server Management Studio', 'Responsibilities:', '\\uf0a2  Creating Data Factory Pipelines using Linked Services, Datasets and various Data sources', 'to Extract and load data to Synapse SQL Pool & Setup Trigger to schedule them.', '\\uf0a2  Create Managed Identity & providing access for Blob and ADLS Gen2 container.', '\\uf0a2  Monitor Pipelines in case of failure and troubleshoot the issue on priority basis.', '\\uf0a2  Creating SparkSQL scripts to transform raw data as per business logic in Azure Databricks', 'and schedule from Databricks for a runtime.', '\\uf0a2  Create Key Vaults, storing secrets in it and use the secrets in Databricks.', '\\uf0a2  Creating Delta table and Mount point for Blob and Data Lake to read/write through', 'Databricks.', '\\uf0a2  Handle operational tasks like Manage Cluster configurations and permissions as', 'Databricks Admin and reduced Job Runtime by 50%.', '\\uf0a2  Project Migration (Data stack) from Dev to QA and Prod.', '\\uf0a2  Create Dedicated SQL Pool and create User with different access levels using SSMS.', '\\uf0a2  Co-ordinate with Teammates to optimize the performance of the ETL Jobs and reduce the', 'failure/breakdown as much as possible.', 'Project-2:', 'Client', 'Role', 'Johnson & Johnson', 'Azure Admin', 'Duration', 'October, 2020 to June, 2021', 'Tools', 'Azure VM , Azure SQL DB, SQL Server, Azure KeyVault, SSMS', 'Responsibilities:', '\\uf0a2  Create & Provision different Azure Resources for different internal teams.', '\\uf0a2  Azure SQL DB Backup and Recovery.', '\\uf0a2  Create SQL DB and creating user with different access levels in DB using SSMS.', '\\uf0a2  Maintain Resource Groups and Resource details in MS Excel using Pivot table, Lookup', 'functions and various other functions and make Visualization.', '\\uf0a2  Implementation of Access Governance using Role Based Access Control.', '\\uf0a2  Configure Storage Account and Blob container and SAS Token Update.', 'Project-3:', 'Client', 'Role', 'Johnson & Johnson', 'FICO Xpress Insight and Tableau Admin', 'Duration', 'July, 2021 to August, 2021', 'Tools', 'FICO Xpress Insight ,  Tableau Server, Azure VM, Azure SQL', 'Responsibilities:', '\\uf0a2  Admin Tasks of User Creation and providing proper access to users in FICO Xpress Insight', 'application.', '\\uf0a2  Handle User access and permission in Tableau server.', '\\uf0a2  Have been part of End-to-End project from Development to Go-live and managing Admin', 'tasks for it.', '\\uf0a2  Continuous Interaction with Onsite Client and Follow-ups for any issue and clarification.', 'Educational Qualifications:', 'o  B.Tech. (CSE) from Asansol Engineering College with 8.11 DGPA.', 'o  Higher Secondary (Class-12 Board) from Bidhan Chandra Institution with 85.8%', 'o  Secondary (Class-10 Board) from Asansol Ramkrishna Mission with 91.2%', 'Personal Details:', 'Date of Birth     :    14th May, 1998', 'Languages         : English, Hindi, Bengali', 'Extra-Curricular:  Participating in Quiz Competitions', 'Declaration:', 'I hereby confirm that the information given above is true to the best of my knowledge.', 'Date', ':    14/4/2022                                                                                                  Anirban Mandal'], 'company_names': ['Microsoft', 'Azure Admin', 'Tata Consultancy Services', 'Azure Data Engineer'], 'no_of_pages': 3, 'total_experience': 0.0}\n"
     ]
    },
    {
     "name": "stderr",
     "output_type": "stream",
     "text": [
      "C:\\Users\\kambo\\anaconda3\\lib\\site-packages\\spacy\\util.py:275: UserWarning: [W031] Model 'en_training' (0.0.0) requires spaCy v2.1 and is incompatible with the current spaCy version (2.3.5). This may lead to unexpected results or runtime errors. To resolve this, download a newer compatible model or retrain your custom model with the current spaCy version. For more details and available updates, run: python -m spacy validate\n",
      "  warnings.warn(warn_msg)\n"
     ]
    },
    {
     "name": "stdout",
     "output_type": "stream",
     "text": [
      "{'name': 'Ankit Bhor ankit.bhor56@gmail.com', 'email': 'ankit.bhor56@gmail.com', 'mobile_number': '9131871192', 'skills': ['Purchasing', 'Payments', 'Sql', 'Website', 'Java', 'Windows', 'System', 'Design', 'Networking', 'Logistics', 'Communication', 'Intranet', 'Mobile', 'Database', 'Engineering', 'Programming', 'Analysis', 'Servers', 'Jsp', 'Transportation', 'Real estate', 'English', 'Process', 'Vendors', 'Positioning', 'Technical', 'Invoices', 'Testing', 'Coding'], 'college_name': None, 'degree': ['B.E.'], 'designation': ['Software Engineer'], 'experience': [], 'company_names': None, 'no_of_pages': None, 'total_experience': 0.0}\n"
     ]
    },
    {
     "name": "stderr",
     "output_type": "stream",
     "text": [
      "C:\\Users\\kambo\\anaconda3\\lib\\site-packages\\spacy\\util.py:275: UserWarning: [W031] Model 'en_training' (0.0.0) requires spaCy v2.1 and is incompatible with the current spaCy version (2.3.5). This may lead to unexpected results or runtime errors. To resolve this, download a newer compatible model or retrain your custom model with the current spaCy version. For more details and available updates, run: python -m spacy validate\n",
      "  warnings.warn(warn_msg)\n"
     ]
    },
    {
     "name": "stdout",
     "output_type": "stream",
     "text": [
      "{'name': 'ANKITA DAGDIYA                                                   \\n\\nSoftware Engineer', 'email': 'dagdiyaankita1@gmail.com', 'mobile_number': '8669233167', 'skills': ['Rest', 'Java', 'Email', 'Analytical', 'Agile', 'Reporting', 'Communication', 'Web services', 'Database', 'Debugging', 'Engineering', 'Servers', 'Mysql', 'Jsp', 'Jira', 'Strong analytical skills', 'Writing', 'End user', 'Html5', 'Js', 'Try', 'Microsoft office', 'Fulfillment', 'Testing'], 'college_name': None, 'degree': ['Degree'], 'designation': None, 'experience': ['Git, Bitbucket, Postman, Tomcat, Putty,', '●  Having good knowledge Core Java, J2ee, Spring IOC, MVC, AOP, Hibernate.', '●  Good practical knowledge of Collection Framework.', '●  Having awareness about Microservices.', '●  Having awareness about JSP, HTML5, Bootstrap and CSS3, Angular JS.', '●  Having knowledge of writing unit test cases using Junit.', '●  Having knowledge of writing Integration test cases.', '●  Following Agile Methodology and spring life cycle using JIRA and Rally.', '●  Excellent communication, strong analytical skills, problem solving and organizational', 'abilities.', '●  Quick in grasping and always keen to learn new aspects.', 'Skills:', 'Languages', 'Frameworks', 'Frontend', 'Database', 'ORM', 'Java/J2EE (jdk 8),JDK11', 'Collection, Spring IOC ,MVC,AOP , Spring boot', 'HTML5, JSP, CSS3, JSP-Servlet, Angular JS', 'MySQL', 'Hibernate ,JPA', 'Building  Tool  &  Code', 'Repo', 'Maven ,GIT, Bitbucket', 'Servers', 'Tomcat Server, putty, Winscp', 'Methodology', 'Agile', 'IDE', 'Eclips, STS, Intellij', 'Tools & Utilities', 'Intellij ,STS, Eclipse, Maven, Gradle,Microsoft Office, JIRA, Rally', 'Page 1', 'ANKITA DAGDIYA', 'Software Engineer', 'Contact: +91 8669233167', 'Email: dagdiyaankita1@gmail.com', 'Professional Experience:', '1- Infogain India Private Ltd (Pune)          March 2022 to Currently Working', 'Project #1 Sabre Ticketing Agency EMD Issuance', 'Role –contributor Software Systems Engineer', 'Technology Stack – JDK 8, JDK11,Spring IOC, Spring boot, Spring MVC, Liberty TG framework', ',Lombok, Webservices, Maven, Gradle ,BitBucket, Postman, Micro services, SNTE, Putty,', 'Winscp, Jmeter,Plab', 'Description:', '●  This Project main aim to void and issues EMD (Electronic miscellaneous', 'Document).', '●  This Project mainly divided in four services like RFS (Reservation Fulfillment', 'Services), OFS (Operational Fulfillment Services), Hub and Widget.', '●  When End User Try to issues EMD then request first come RFS –OFS-HUB –', 'WIDGET.', '●  Widget passes the respective response to end-user on SNTE. SNTE used as a', 'frontend in that.', 'Responsibilities:', '●  Daily attending Status and Huddle calls and work reporting to TL and Team.', '●  Attending BRD review meeting after sprint release and Client Demo calls.', '●  Analyzing the Requirement and writing the core business logic.', '●  Responsible to writing web services.', '●  Debugging and modifying the code as per requirement.', '●  Deployed the War file to see code work proper or not.', '●  Test Ng with Rest Assured.', '●  Write integration test cases.', '●  Completing the daily tasks.', '●', 'Interaction with Testing Team for issue and risk.', '2- Integrin Technologies (Pune)                         June 2019 to march 2022', 'Project #1: Know Your Customer (KYC)', 'Role – Software Developer', 'Page 2', 'ANKITA DAGDIYA', 'Software Engineer', 'Contact: +91 8669233167', 'Email: dagdiyaankita1@gmail.com', 'Technology Stack – JDK 8, Spring IOC, Spring boot, JPA, Lombok, Rest Webservices, Maven,', 'Git, Postman, Angular JS, Tomcat', 'Description:', '●', 'It’s a monolithic application and It’s a model based project there have mainly', 'three modules Admin, Client and Agent. Agents plays important role in this', 'project, as they are responsible to gather all required information about the', 'client’s organizational activities.', '●  Project mainly designed to provide feedback to the client about their', 'organizational activities.', 'Responsibilities:', '●  Daily attending Status calls and work reporting to Management.', '●  Attending BRD review meeting after sprint release and part of the prod release.', '●  Analyzing the Requirement and writing the core business logic.', '●  Responsible to writing REST web services from the controller to Dao part.', '●  Debugging and modifying the code as per requirement.', '●  Test Ng with Rest Assured', '●  Completing the daily tasks.', '●', 'Interaction with Testing Team for issue and risk.', 'Achievements:', '●  Awarded for “Star Employee: 2020-21” in Integrin Technologies.', '●  Received appreciation form client in client demo calls.', 'Education:', 'Degree', 'University', 'B.E ( Electronic &', 'Telecommunication', 'Engineering)', 'Shri Sant Gajanan Maharaj', 'Collage of Engineering,Shegaon', 'SGBAU, Amravati', 'Year of', 'Passing', 'Score', '2016', 'First Class', 'Page 3'], 'company_names': None, 'no_of_pages': 3, 'total_experience': 2.75}\n"
     ]
    },
    {
     "name": "stderr",
     "output_type": "stream",
     "text": [
      "C:\\Users\\kambo\\anaconda3\\lib\\site-packages\\spacy\\util.py:275: UserWarning: [W031] Model 'en_training' (0.0.0) requires spaCy v2.1 and is incompatible with the current spaCy version (2.3.5). This may lead to unexpected results or runtime errors. To resolve this, download a newer compatible model or retrain your custom model with the current spaCy version. For more details and available updates, run: python -m spacy validate\n",
      "  warnings.warn(warn_msg)\n"
     ]
    },
    {
     "name": "stdout",
     "output_type": "stream",
     "text": [
      "{'name': 'Arava Gnanendhar Reddy', 'email': 'gnanendharreddy.arava@gmail.com', 'mobile_number': '9176345604', 'skills': ['Sql server', 'Sql', 'Shell', 'Docker', 'Yaml', 'Distribution', 'Queries', 'Automation', 'Sap', 'Api', 'Windows', 'Controls', 'Migration', 'Agile', 'Design', 'Networking', 'Conversion', 'Reporting', 'Hadoop', 'Spark', 'Mobile', 'Json', 'Interactive', 'Researching', 'Data analytics', 'C#', 'Architecture', 'Sharepoint', 'Content', 'Database', 'Big data', 'Access', 'Engineering', 'Programming', 'Documentation', 'Analysis', 'Debugging', 'Analytics', 'Scripting', 'Ibm', 'Security', 'Github', 'Salesforce', 'Warehouse', 'Pivot', 'Scala', 'Oracle', 'Workflow', 'Pyspark', 'Jira', 'Reports', 'Process', 'Visual', 'Aws', 'Modeling', 'Writing', 'Saas', 'Workflows', 'Troubleshooting', 'Dns', 'Requests', 'Business intelligence', 'Etl', 'Travel', 'Governance', 'Technical', 'Operations', 'C', 'Cloud', 'Testing', 'Python'], 'college_name': None, 'degree': None, 'designation': ['MSBI Developer'], 'experience': None, 'company_names': ['Oracle', 'oracle', 'Microsoft', 'Path Partner Technologies Pvt Ltd', 'Amazon'], 'no_of_pages': None, 'total_experience': 0}\n"
     ]
    },
    {
     "name": "stderr",
     "output_type": "stream",
     "text": [
      "C:\\Users\\kambo\\anaconda3\\lib\\site-packages\\spacy\\util.py:275: UserWarning: [W031] Model 'en_training' (0.0.0) requires spaCy v2.1 and is incompatible with the current spaCy version (2.3.5). This may lead to unexpected results or runtime errors. To resolve this, download a newer compatible model or retrain your custom model with the current spaCy version. For more details and available updates, run: python -m spacy validate\n",
      "  warnings.warn(warn_msg)\n"
     ]
    },
    {
     "name": "stdout",
     "output_type": "stream",
     "text": [
      "{'name': 'Professional Experience', 'email': 'archana.srikant06@gmail.com', 'mobile_number': '8431855416', 'skills': ['Sql', 'Rest', 'Java', 'Website', 'Windows', 'Analytical', 'Design', 'Healthcare', 'Communication', 'Html', 'Javascript', 'Postgresql', 'Os', 'Web services', 'Ubuntu', 'Correspondence', 'Scheduling', 'Database', 'Training', 'Engineering', 'Programming', 'Mysql', 'English', 'P', 'Reports', 'Electronics', 'Nosql', 'Cms', 'Css', 'Technical', 'Software development life cycle', 'Coding'], 'college_name': None, 'degree': None, 'designation': ['Developer'], 'experience': ['\\uf0e8  Proficiency  in  Java,  J2EE,  Spring  Hibernate MVC,  SpringBoot,  JDBC,  Javascript,  MySql,  NoSql,  Web', 'Services and various tools and technologies.', '\\uf0e8  Worked on various tools/software including Toad, Sql Developer.', '\\uf0e8  Good exposure on Software Development Life Cycle.', '\\uf0e8  Having good programming, analytical & problem solving skills.'], 'company_names': ['Mindpro Technologies Pvt Ltd'], 'no_of_pages': 3, 'total_experience': 0.0}\n"
     ]
    },
    {
     "name": "stderr",
     "output_type": "stream",
     "text": [
      "C:\\Users\\kambo\\anaconda3\\lib\\site-packages\\spacy\\util.py:275: UserWarning: [W031] Model 'en_training' (0.0.0) requires spaCy v2.1 and is incompatible with the current spaCy version (2.3.5). This may lead to unexpected results or runtime errors. To resolve this, download a newer compatible model or retrain your custom model with the current spaCy version. For more details and available updates, run: python -m spacy validate\n",
      "  warnings.warn(warn_msg)\n"
     ]
    },
    {
     "name": "stdout",
     "output_type": "stream",
     "text": [
      "{'name': 'CHAKALI ARUN KUMAR Email', 'email': 'amarunmahiam@gmail.com', 'mobile_number': '7416960469', 'skills': ['Healthcare', 'Java', 'Email', 'English', 'Windows', 'Operations', 'Technical', 'Health', 'Pharmacy', 'Writing', 'Servers', 'Analytics', 'Mysql'], 'college_name': None, 'degree': None, 'designation': None, 'experience': None, 'company_names': None, 'no_of_pages': None, 'total_experience': 0}\n"
     ]
    },
    {
     "name": "stderr",
     "output_type": "stream",
     "text": [
      "C:\\Users\\kambo\\anaconda3\\lib\\site-packages\\spacy\\util.py:275: UserWarning: [W031] Model 'en_training' (0.0.0) requires spaCy v2.1 and is incompatible with the current spaCy version (2.3.5). This may lead to unexpected results or runtime errors. To resolve this, download a newer compatible model or retrain your custom model with the current spaCy version. For more details and available updates, run: python -m spacy validate\n",
      "  warnings.warn(warn_msg)\n"
     ]
    },
    {
     "name": "stdout",
     "output_type": "stream",
     "text": [
      "{'name': 'Arush Agarwal', 'email': 'arush.agarwal405@gmail.com', 'mobile_number': '7088161507', 'skills': ['Javascript', 'Docker', 'Rest', 'Java', 'Os', 'Linux', 'Css', 'English', 'Api', 'Windows', 'Technical', 'Database', 'Engineering', 'Design', 'Cloud', 'Ui', 'Html', 'Coding'], 'college_name': None, 'degree': ['B.Tech'], 'designation': None, 'experience': [], 'company_names': None, 'no_of_pages': 1, 'total_experience': 0.0}\n"
     ]
    },
    {
     "name": "stderr",
     "output_type": "stream",
     "text": [
      "C:\\Users\\kambo\\anaconda3\\lib\\site-packages\\spacy\\util.py:275: UserWarning: [W031] Model 'en_training' (0.0.0) requires spaCy v2.1 and is incompatible with the current spaCy version (2.3.5). This may lead to unexpected results or runtime errors. To resolve this, download a newer compatible model or retrain your custom model with the current spaCy version. For more details and available updates, run: python -m spacy validate\n",
      "  warnings.warn(warn_msg)\n"
     ]
    },
    {
     "name": "stdout",
     "output_type": "stream",
     "text": [
      "{'name': 'Ashutosh Suryawanshi', 'email': 'suryawanshiashutosh02@gmail.com', 'mobile_number': '9322031578', 'skills': ['Technical skills', 'Xml', 'Java', 'Email', 'Api', 'System', 'Agile', 'Design', 'Healthcare', 'Communication', 'Json', 'Database', 'Health', 'Sdlc', 'Programming', 'Mysql', 'Jsp', 'Ecommerce', 'Writing', 'Technical', 'Responses', 'Github', 'Testing'], 'college_name': None, 'degree': None, 'designation': None, 'experience': ['\\uf0d8  Working as Software  Engineer at  IPTech System, Pune  from  June 2020 to till date.', 'EDUCATIONAL QUALIFICATION', '\\uf0d8  B.E with First Class with distinction  from Shivaji University, Maharashtra In 2020.'], 'company_names': None, 'no_of_pages': 2, 'total_experience': 0.0}\n"
     ]
    },
    {
     "name": "stderr",
     "output_type": "stream",
     "text": [
      "C:\\Users\\kambo\\anaconda3\\lib\\site-packages\\spacy\\util.py:275: UserWarning: [W031] Model 'en_training' (0.0.0) requires spaCy v2.1 and is incompatible with the current spaCy version (2.3.5). This may lead to unexpected results or runtime errors. To resolve this, download a newer compatible model or retrain your custom model with the current spaCy version. For more details and available updates, run: python -m spacy validate\n",
      "  warnings.warn(warn_msg)\n"
     ]
    },
    {
     "name": "stdout",
     "output_type": "stream",
     "text": [
      "{'name': 'ASHUTOSH LAXMAN', 'email': 'ashutoshx6@gmail.com', 'mobile_number': '8779524554', 'skills': ['Xml', 'Sql', 'Rest', 'Email', 'Java', 'Windows', 'Certification', 'System', 'Migration', 'Cola', 'Reporting', 'Spark', 'Ui', 'Javascript', 'Mobile', 'Payroll', 'Html', 'Architecture', 'Sharepoint', 'Content', 'Database', 'Health', 'Engineering', 'Analysis', 'Jsp', 'Matlab', 'Github', 'Experiments', 'Scala', 'Oracle', 'Process', 'Reports', 'Visual', 'Soap', 'Forecasting', 'Css', 'Travel', 'Technical', 'Proposal', 'Cloud', 'Testing'], 'college_name': None, 'degree': ['BE in Computer Engineering at S.A.K.E.C'], 'designation': ['Azure Developer'], 'experience': ['2.5 year', '1 yr 3 months', '2.9 yrs'], 'company_names': ['Oracle', 'Microsoft'], 'no_of_pages': 5, 'total_experience': 0.0}\n"
     ]
    },
    {
     "name": "stderr",
     "output_type": "stream",
     "text": [
      "C:\\Users\\kambo\\anaconda3\\lib\\site-packages\\spacy\\util.py:275: UserWarning: [W031] Model 'en_training' (0.0.0) requires spaCy v2.1 and is incompatible with the current spaCy version (2.3.5). This may lead to unexpected results or runtime errors. To resolve this, download a newer compatible model or retrain your custom model with the current spaCy version. For more details and available updates, run: python -m spacy validate\n",
      "  warnings.warn(warn_msg)\n"
     ]
    },
    {
     "name": "stdout",
     "output_type": "stream",
     "text": [
      "{'name': 'Balaji Giridhar', 'email': 'balajig2192@gmail.com', 'mobile_number': '9008478004', 'skills': ['Sql', 'Java', 'Banking', 'Js', 'Invoicing', 'Migration', 'Plan', 'Agile', 'Cloud', 'Ui', 'Testing'], 'college_name': None, 'degree': None, 'designation': ['Java Application Developer'], 'experience': ['Java Application Developer with DevOps (Bengaluru/Amsterdam)', 'Tata Consultancy Services', 'Apr 2018 - Present (4 years +)', 'Development in Spring MVC with an Angular JS based UI', 'Migrated the application to Spring boot with the plan to incorporate it into a dockerized environment', 'Currently working on the application platform migration to Azure', 'Have worked in a T-shaped environment that includes testing and operational responsibilities along with', 'the primary task of development', 'The project mainly entails calculation and processing of provisions for various clients of the bank', 'Worked on-site from Netherlands for 2+ years', 'Java Application Developer (Bergen/Kochi)', 'Tata Consultancy Services', 'Apr 2017 - Mar 2018 (1 year)', 'Maintenance of multiple applications that were programmed mainly in Spring', 'The applications catered multiple areas of the bank including funds management, savings and risk', 'calculators and e-invoicing', 'Worked on-site from Norway', 'Java Application Developer (Bengaluru/Oslo)', 'Tata Consultancy Services', 'Feb 2015 - Mar 2017 (2 years 2 months)', 'Worked on application development with Spring and Hibernate with RESTful web services', 'Also developed front-end screens in Apache Wicket', 'The work mainly catered towards payment solutions'], 'company_names': ['Microsoft'], 'no_of_pages': 1, 'total_experience': 7.67}\n"
     ]
    },
    {
     "name": "stderr",
     "output_type": "stream",
     "text": [
      "C:\\Users\\kambo\\anaconda3\\lib\\site-packages\\spacy\\util.py:275: UserWarning: [W031] Model 'en_training' (0.0.0) requires spaCy v2.1 and is incompatible with the current spaCy version (2.3.5). This may lead to unexpected results or runtime errors. To resolve this, download a newer compatible model or retrain your custom model with the current spaCy version. For more details and available updates, run: python -m spacy validate\n",
      "  warnings.warn(warn_msg)\n"
     ]
    },
    {
     "name": "stdout",
     "output_type": "stream",
     "text": [
      "{'name': 'B Harinadha', 'email': 'Harikrishna4646b@gmail.com', 'mobile_number': '9121070092', 'skills': ['Xml', 'Sql', 'Rest', 'Java', 'Security', 'Json', 'Banking', 'Writing', 'Vendors', 'English', 'Web services', 'Software development life cycle', 'System', 'Jira', 'Agile', 'Programming', 'Servers'], 'college_name': None, 'degree': ['MBA'], 'designation': None, 'experience': ['\\uf0b7   Java Developer at TCS, Bangalore from Novmber 2017 – 30 June 2022.', '\\uf0b7', 'EDUCATIONAL QUALIFICATIONS:', '\\uf0b7  MBA from Sri Venkateswara University with 67% - Full Time.', 'SKILL SET', '●', '●', '●', '●', '●', '●', '●', '●', '●', 'Programming Languages : Java, J2EE.', 'Frameworks : Spring,Spring Boot, Microservices, Hibernate, JDBC, JUnit.', 'Web Services : REST.', 'Databases : SQL Basics.', 'Security Tools : Sonar', 'Development Tool: Eclipse IDE.', 'Others :JSON, XML, WSDL.', 'Servers : Apache Tomcat.', 'Tools  : Git, Maven, Jira', 'Page 1 of 3', 'Project # 1', 'Title', 'Client', 'Environment', 'Role', 'Core Banking system', 'Core Banking system', 'Java,J2EE', 'Java Developer', 'Description -', 'Core  Banking  System  is  a  web  application  which  is  used  by  many  vendors  for  exporting  goods  and', 'importing goods. The complete agreement between importer and exported will be handled by  Core', 'banking system', 'Responsibilities:', '\\uf0b7  Responsible for developing Restful webservices using Java, J2EE, SpringBoot, Spring, JPA,SQL', 'and delivering on time.', '\\uf0b7  Handling Security Issues by using  Sonar Tools.', '\\uf0b7  Writing a test cases using Junit and Mockito.', '\\uf0b7  Maintain the repositories using Git.', '\\uf0b7  Following an agile methodology.', 'PERSONAL PROFILE:', 'Father Name', 'Date of Birth', 'Marital Status', 'Nationality', 'Languages Known', 'B Rajanna', '04 May 1991', 'Married', 'Indian', 'English, Telugu', 'Place: Bangalore                                                                                                                                  Thank You', 'Date:', '(B Harinadha)', 'Page 2 of 3'], 'company_names': ['TCS'], 'no_of_pages': 2, 'total_experience': 0.0}\n"
     ]
    },
    {
     "name": "stderr",
     "output_type": "stream",
     "text": [
      "C:\\Users\\kambo\\anaconda3\\lib\\site-packages\\spacy\\util.py:275: UserWarning: [W031] Model 'en_training' (0.0.0) requires spaCy v2.1 and is incompatible with the current spaCy version (2.3.5). This may lead to unexpected results or runtime errors. To resolve this, download a newer compatible model or retrain your custom model with the current spaCy version. For more details and available updates, run: python -m spacy validate\n",
      "  warnings.warn(warn_msg)\n"
     ]
    },
    {
     "name": "stdout",
     "output_type": "stream",
     "text": [
      "{'name': 'BHAVANA S', 'email': 'bhavana18894@gmail.com', 'mobile_number': '9663366353', 'skills': ['Payments', 'Apis', 'Rest', 'Java', 'Windows', 'Api', 'Analytical', 'System', 'Design', 'Computer science', 'Json', 'Scrum', 'Debugging', 'Engineering', 'Analysis', 'Servers', 'Mysql', 'Ecommerce', 'Github', 'Customer requirements', 'Retail', 'Oracle', 'Technical', 'Cloud', 'Testing'], 'college_name': None, 'degree': ['Bachelor of Engineering in Computer Science'], 'designation': ['Software Engineer'], 'experience': ['●  Involved in Analysis, design and development of Business logic using JAVA.', '●  Strong knowledge on consuming and producing restful web services.', '●  Knowledge on ATG Framework.', 'PROFESSIONAL EXPERIENCE:', 'Software Engineer at Logixal Cloud Solutions LLP, Bangalore.', 'Software Associate at UL India Pvt Ltd, Bangalore.', 'I&I Customer Support Specialist at Bell Fast, Bangalore.', 'Jan 2022 to till date', 'Sep 2019 to Oct 2021', 'Feb 2019 to Aug 2019', 'Support Engineer at Nivansys Technologies Private Limited, Bangalore.', 'Jan 2018 to Feb 2019', 'PROJECT DETAILS:', 'Project Name: BBB (Bed Bath & Beyond).', 'Company: Logixal Cloud Solutions LLP', 'Description: BBB is an American chain of domestic merchandise retail stores and online ecommerce site.', 'Responsibility:', '● Accomplishing Required ATG code changes.', '● Involved in Design and implementing new features.', '● Involved in Scrum meetings and Sprint Planning.', 'Environment: Core Java with ATG and Oracle.', 'Project Name: Internal Dashboard for Financial Transaction Tracking.', 'Company: UL India Pvt Ltd', 'Description:  Dashboard  is  used  to  track  the  financial  status  of  the  customers.  Which  is  used  by  internal', 'teams to track  the details  of invoice, payments  made  by  customers  and  status  of  the  payments.  which also', 'have all the service-related details which customers use.', 'Responsibility:', '● Wrote wrapper layer to consume rest APIs.', '● Build business logic based on the requirements.', '● Develop code using modern approaches to software development.', '● Rest API was used to generate http request and response.', '● Implement Junit test cases.', '● Testing end to end with all the possible scenarios before releasing for user testing.', 'Environment: Core Java, Spring Boot and MySQL.', 'Project Name: Internal Project for HR management', 'Company: UL India Pvt Ltd', 'Description: Internal project for HR management.', 'Responsibility:', '●  Consuming Oracle HCM cloud APIs and parsing JSON response and sending to frontend.', '●  Wrote some business logic to handle data.', '●  Rest API was used to generate http request and response.', '●  Implement Junit test cases.', '●  Testing end to end with all the possible scenarios before releasing for user testing.', 'Environment: Core Java, Servlets, MySQL.', 'EDUCATION:', 'Bachelor of Engineering in Computer Science (2016) from C. Byregowda Institute of Technology, Kolar.', 'Affiliated to Visvesvaraya Technological University.', 'I hereby declare that the above-mentioned information is correct and best of my knowledge.', 'Place: Bangalore', 'Bhavana S'], 'company_names': None, 'no_of_pages': 2, 'total_experience': 3.67}\n"
     ]
    },
    {
     "name": "stderr",
     "output_type": "stream",
     "text": [
      "C:\\Users\\kambo\\anaconda3\\lib\\site-packages\\spacy\\util.py:275: UserWarning: [W031] Model 'en_training' (0.0.0) requires spaCy v2.1 and is incompatible with the current spaCy version (2.3.5). This may lead to unexpected results or runtime errors. To resolve this, download a newer compatible model or retrain your custom model with the current spaCy version. For more details and available updates, run: python -m spacy validate\n",
      "  warnings.warn(warn_msg)\n"
     ]
    },
    {
     "name": "stdout",
     "output_type": "stream",
     "text": [
      "{'name': 'Bhupendra Kumar', 'email': '07kumarbhupendra@gmail.com', 'mobile_number': '7488197194', 'skills': ['Xml', 'Java', 'Windows', 'Analytical', 'Controls', 'System', 'Design', 'Communication', 'Html', 'Json', 'Web services', 'Database', 'Sdlc', 'Mechanical engineering', 'Engineering', 'Analysis', 'Servers', 'Jsp', 'English', 'Process', 'Soap', 'Technical', 'Coding'], 'college_name': None, 'degree': None, 'designation': None, 'experience': ['EDUCATIONAL QUALIFICATIONS.', '• Bachelor of Technology in Mechanical Engineering from Bengal College Of Engineering &', 'Technology in 2019.', 'Intermediate of Science from St. Xavier’s College, Ranchi in 2015.', '•', '• Matriculation from D.A.V. Public School ,Kathara in 2013.'], 'company_names': None, 'no_of_pages': 2, 'total_experience': 0.0}\n"
     ]
    },
    {
     "name": "stderr",
     "output_type": "stream",
     "text": [
      "C:\\Users\\kambo\\anaconda3\\lib\\site-packages\\spacy\\util.py:275: UserWarning: [W031] Model 'en_training' (0.0.0) requires spaCy v2.1 and is incompatible with the current spaCy version (2.3.5). This may lead to unexpected results or runtime errors. To resolve this, download a newer compatible model or retrain your custom model with the current spaCy version. For more details and available updates, run: python -m spacy validate\n",
      "  warnings.warn(warn_msg)\n"
     ]
    },
    {
     "name": "stdout",
     "output_type": "stream",
     "text": [
      "{'name': 'BRIJ MOHAN CHAUHAN', 'email': 'chauhan.brijmohan95@gmail.com', 'mobile_number': '7052880802', 'skills': ['Sql', 'Java', 'Procurement', 'Time management', 'System', 'Migration', 'Agile', 'Ui', 'Html', 'Javascript', 'Banking', 'Database', 'Debugging', 'Engineering', 'Programming', 'Mysql', 'English', 'Oracle', 'Jira', 'Soap', 'Html5', 'Algorithms', 'Css', 'Technical', 'C', 'Testing'], 'college_name': None, 'degree': ['Bachelor of Technology, IT'], 'designation': ['Developer', 'System Engineer', 'ﬂ linkedin.com/in/brij-mohan-chauhan-7b8139103', 'Associate System Engineer'], 'experience': ['Developer', 'Tata Consultancy Services Ltd, Bengaluru', '(cid:17) Nov 2019 – Present', '• Having sound knowledge in JAVA and Spring framework', 'with UI technologies like JavaScript, HTML5 and CSS..', '• Develop modules related to Banking services as per client', 'requirements.', '• Responsible for brainstorming, developing, testing, deliver-', 'ing, iterating products and regularly communicating with the', 'team.', 'Associate System Engineer', 'Tata Consultancy Services Ltd, Bengaluru', '(cid:17) Aug 2018 – Oct 2019'], 'company_names': ['Oracle', 'Tata Consultancy Services Ltd'], 'no_of_pages': 1, 'total_experience': 0.0}\n"
     ]
    },
    {
     "name": "stderr",
     "output_type": "stream",
     "text": [
      "C:\\Users\\kambo\\anaconda3\\lib\\site-packages\\spacy\\util.py:275: UserWarning: [W031] Model 'en_training' (0.0.0) requires spaCy v2.1 and is incompatible with the current spaCy version (2.3.5). This may lead to unexpected results or runtime errors. To resolve this, download a newer compatible model or retrain your custom model with the current spaCy version. For more details and available updates, run: python -m spacy validate\n",
      "  warnings.warn(warn_msg)\n"
     ]
    },
    {
     "name": "stdout",
     "output_type": "stream",
     "text": [
      "{'name': 'CHAKRADHAR    Email', 'email': 'v.chakradhar2010@gmail.com', 'mobile_number': '6303377830', 'skills': ['Technical skills', 'Sql server', 'Sql', 'Email', 'Queries', 'Windows', 'System', 'Reporting', 'Banking', 'Scheduling', 'Database', 'Health', 'Debugging', 'Analysis', 'Security', 'Process', 'Reports', 'Writing', 'Troubleshooting', 'Etl', 'Pharmaceutical', 'Technical', 'Schedule', 'Cloud'], 'college_name': None, 'degree': None, 'designation': ['Azure Engineer'], 'experience': [], 'company_names': None, 'no_of_pages': None, 'total_experience': 0.0}\n"
     ]
    },
    {
     "name": "stderr",
     "output_type": "stream",
     "text": [
      "C:\\Users\\kambo\\anaconda3\\lib\\site-packages\\spacy\\util.py:275: UserWarning: [W031] Model 'en_training' (0.0.0) requires spaCy v2.1 and is incompatible with the current spaCy version (2.3.5). This may lead to unexpected results or runtime errors. To resolve this, download a newer compatible model or retrain your custom model with the current spaCy version. For more details and available updates, run: python -m spacy validate\n",
      "  warnings.warn(warn_msg)\n"
     ]
    },
    {
     "name": "stdout",
     "output_type": "stream",
     "text": [
      "{'name': 'Chandan B', 'email': 'chandansumithra.bs@gmail.com', 'mobile_number': '9611341223', 'skills': ['International', 'Xml', 'Sql', 'Rest', 'Email', 'Java', 'Technical skills', 'Windows', 'System', 'Agile', 'Design', 'Ui', 'Json', 'Web services', 'Banking', 'Database', 'Access', 'Engineering', 'Analysis', 'Specifications', 'Jsp', 'Linux', 'Transactions', 'English', 'Oracle', 'Process', 'Jira', 'Reports', 'Writing', 'Lifecycle', 'Troubleshooting', 'Soap', 'Technical', 'Operations', 'Investigation', 'Schedule', 'Github', 'Testing'], 'college_name': None, 'degree': None, 'designation': None, 'experience': [], 'company_names': None, 'no_of_pages': None, 'total_experience': 0.0}\n"
     ]
    },
    {
     "name": "stderr",
     "output_type": "stream",
     "text": [
      "C:\\Users\\kambo\\anaconda3\\lib\\site-packages\\spacy\\util.py:275: UserWarning: [W031] Model 'en_training' (0.0.0) requires spaCy v2.1 and is incompatible with the current spaCy version (2.3.5). This may lead to unexpected results or runtime errors. To resolve this, download a newer compatible model or retrain your custom model with the current spaCy version. For more details and available updates, run: python -m spacy validate\n",
      "  warnings.warn(warn_msg)\n"
     ]
    },
    {
     "name": "stdout",
     "output_type": "stream",
     "text": [
      "{'name': None, 'email': None, 'mobile_number': None, 'skills': [], 'college_name': None, 'degree': None, 'designation': None, 'experience': None, 'company_names': None, 'no_of_pages': None, 'total_experience': 0}\n"
     ]
    },
    {
     "name": "stderr",
     "output_type": "stream",
     "text": [
      "C:\\Users\\kambo\\anaconda3\\lib\\site-packages\\spacy\\util.py:275: UserWarning: [W031] Model 'en_training' (0.0.0) requires spaCy v2.1 and is incompatible with the current spaCy version (2.3.5). This may lead to unexpected results or runtime errors. To resolve this, download a newer compatible model or retrain your custom model with the current spaCy version. For more details and available updates, run: python -m spacy validate\n",
      "  warnings.warn(warn_msg)\n"
     ]
    },
    {
     "name": "stdout",
     "output_type": "stream",
     "text": [
      "{'name': 'Chandresh Vikram', 'email': 'chandresh.vikram211@gmail.com', 'mobile_number': '8904340838', 'skills': ['Payments', 'Sql', 'Rest', 'Java', 'Email', 'Distribution', 'Windows', 'Api', 'System', 'Agile', 'Ai', 'Design', 'Communication', 'Postgresql', 'Web services', 'Banking', 'Scrum', 'Database', 'Analysis', 'Servers', 'Mysql', 'Jsp', 'Transactions', 'Process', 'Jira', 'Engagement', 'Writing', 'Electronics', 'Marketing', 'Requests', 'Technical', 'Proposal', 'Responses'], 'college_name': None, 'degree': ['B.E. in Electronics & communication'], 'designation': ['Java Developer in Attra Infotech Pvt. Ltd.', 'Software Engineer'], 'experience': [], 'company_names': None, 'no_of_pages': None, 'total_experience': 0.0}\n"
     ]
    },
    {
     "name": "stderr",
     "output_type": "stream",
     "text": [
      "C:\\Users\\kambo\\anaconda3\\lib\\site-packages\\spacy\\util.py:275: UserWarning: [W031] Model 'en_training' (0.0.0) requires spaCy v2.1 and is incompatible with the current spaCy version (2.3.5). This may lead to unexpected results or runtime errors. To resolve this, download a newer compatible model or retrain your custom model with the current spaCy version. For more details and available updates, run: python -m spacy validate\n",
      "  warnings.warn(warn_msg)\n"
     ]
    },
    {
     "name": "stdout",
     "output_type": "stream",
     "text": [
      "{'name': 'CHANDU CHAKALA', 'email': 'rajakachandu405@gmail.com', 'mobile_number': '9010014125', 'skills': ['Java', 'Email', 'Windows', 'System', 'Design', 'Ui', 'Communication', 'Html', 'Javascript', 'Correspondence', 'Database', 'Health', 'Programming', 'Servers', 'Mysql', 'Plan', 'Jira', 'Circuits', 'Css', 'Technical', 'Software development life cycle', 'Parser', 'Testing', 'Coding'], 'college_name': None, 'degree': None, 'designation': ['Java Developer', 'Software Engineer', 'JAVA DEVELOPER'], 'experience': [], 'company_names': ['QUANTYUM TECHNOLOGY SOLUTIONS PRIVATE LIMITED Since MARCH'], 'no_of_pages': None, 'total_experience': 0.0}\n"
     ]
    },
    {
     "name": "stderr",
     "output_type": "stream",
     "text": [
      "C:\\Users\\kambo\\anaconda3\\lib\\site-packages\\spacy\\util.py:275: UserWarning: [W031] Model 'en_training' (0.0.0) requires spaCy v2.1 and is incompatible with the current spaCy version (2.3.5). This may lead to unexpected results or runtime errors. To resolve this, download a newer compatible model or retrain your custom model with the current spaCy version. For more details and available updates, run: python -m spacy validate\n",
      "  warnings.warn(warn_msg)\n"
     ]
    },
    {
     "name": "stdout",
     "output_type": "stream",
     "text": [
      "{'name': 'Chetan M.', 'email': 'chetany1215@gmail.com', 'mobile_number': '7057789881', 'skills': ['Mobile', 'Apis', 'Java', 'Billing', 'Telecom', 'Analyze', 'Technical', 'Physics', 'Database', 'System', 'Debugging', 'Writing', 'Mysql', 'Coding'], 'college_name': None, 'degree': ['B.Sc (Physics)'], 'designation': ['Software Developer'], 'experience': ['industry comprising development and', 'building software applications.', 'Organized and dependable candidate is', 'successful at managing multiple priorities', 'with a positive attitude. willingness to take', 'on added responsibilities to meet team', 'goals.', 'TECHNICAL SKILL SET'], 'company_names': ['Crowd Media Tech Pvt. Ltd.'], 'no_of_pages': 1, 'total_experience': 0.0}\n"
     ]
    },
    {
     "name": "stderr",
     "output_type": "stream",
     "text": [
      "C:\\Users\\kambo\\anaconda3\\lib\\site-packages\\spacy\\util.py:275: UserWarning: [W031] Model 'en_training' (0.0.0) requires spaCy v2.1 and is incompatible with the current spaCy version (2.3.5). This may lead to unexpected results or runtime errors. To resolve this, download a newer compatible model or retrain your custom model with the current spaCy version. For more details and available updates, run: python -m spacy validate\n",
      "  warnings.warn(warn_msg)\n"
     ]
    },
    {
     "name": "stdout",
     "output_type": "stream",
     "text": [
      "{'name': 'Srikanth Adla', 'email': 'srikanth.azure143@g', 'mobile_number': '8341359611', 'skills': ['Sql server', 'Sql', 'Queries', 'Agile', 'Design', 'Reporting', 'Communication', 'Mobile', 'Scheduling', 'Database', 'Documentation', 'Analysis', 'Warehouse', 'English', 'Sales', 'P', 'R', 'Etl', 'Industry experience', 'Finance', 'C', 'Cloud', 'Testing'], 'college_name': None, 'degree': None, 'designation': None, 'experience': ['(ADF), integration (ETL), Azure and reporting on cloud as well as on-', 'premise technologies. Skilled in client communication, requirements', 'gathering and agile methodology. Looking forward to an opportunity', \"where I can leverage my skills, as well as learn new ones for company's\", 'and personal growth.', 'P R O F E S S I O N A L   E X P E R I E N C E', 'Working with Synergist Software Solutions Pvt Ltd From Nov 2018 to', 'Till Date', 'February 2019 – November 2020', 'Programmer Analyst', 'Project – 1:', 'Project Name:  Customer Sales Data Analysis', 'Client:', 'Albertsons Companies, Inc', 'Duration:', 'October 2021 to   Present', 'Role: Data Engineer', 'Client Details:', 'RealNetworks, Inc. is a provider of artificial intelligence and', 'computer vision based products. RealNetworks was a pioneer in', 'Internet streaming media delivery software and services. They are', 'based', '▪', 'in Seattle, Washington, United States. The company also', 'provides subscription-based online entertainment services', 'and mobile entertainment and messaging services', 'Synnex Corporation is an American multinational corporation that', 'provides B2B IT services. It was founded in 1980 by Robert T.', 'Huang and based in Fremont, California. As an information', 'technology supply chain services company, it offers services to', 'original equipment manufacturers, software publishers and', 'reseller customers', 'Albertsons Companies, Inc. is an American grocery company', 'founded and headquartered in Boise, Idaho. With 2,253 stores', 'as of the third quarter of fiscal year 2020 and 270,000', 'employees as of fiscal year 2019, the company is the second-', 'largest supermarket chain in North America after Kroger, which', 'has 2,750 stores', 'L A N G U A G E S :', 'Roles and Responsibilities:', 'English', 'Full Professional Proficiency', 'Telugu', 'Native or Bilingual Proficiency', '•  Created  the  pipeline  from  file  share  to  Azure  Blob', '•', 'Storage.', 'Implemented the pipeline to move data from on-', 'premises to Azure Data Lake. Development of stored', 'procedures in Database', '•  Designing and implementing databases in SQL server', '•  Creating Azure Data Bricks notebook to validate the files', '•  Designing the table configuration in the Azure Storage', 'Expolrer', '•  Creating pipelines in Azure Data Factory to import data', 'from NAS to SQL DW', '•  Used ADF for Data movement and scheduling the', 'pipelines.', '•  Defect Analysis and Fixing.', '•  Documentation-Design Document.', '•  Created ADF pipelines and SQL queries', '#Project 2:', 'Project', 'Duration', 'Role', 'Tool', 'Database, Azure', 'Key Vault', ': AS-400 Data Warehouse', ': Nov 2020 to Sep 2021', ': Data Engineer', ': Azure Data Factory, Data Lake, Azure sql', 'Responsibilities:', 'Coordinate with onsite team and resolved the ongoing issues', 'within SLA.', 'Processed the delta files and historical files using ADF activities', 'into datalakegen2.', 'Processed the data from different on-premises sources into', 'cloud environment using ADF into datalakegen2 using with self-', 'hosted integration runtime.', 'Worked on various ADF activities lookup, Execute, For Each, If,', 'Filter, Metadata, Stored Proc, Mapping Data Flow etc.', 'Created test case documents for unit testing in dev region.', 'Worked on CI/CD pipelines for deployment of code from dev to', 'higher environments.'], 'company_names': None, 'no_of_pages': 2, 'total_experience': 3.75}\n"
     ]
    },
    {
     "name": "stderr",
     "output_type": "stream",
     "text": [
      "C:\\Users\\kambo\\anaconda3\\lib\\site-packages\\spacy\\util.py:275: UserWarning: [W031] Model 'en_training' (0.0.0) requires spaCy v2.1 and is incompatible with the current spaCy version (2.3.5). This may lead to unexpected results or runtime errors. To resolve this, download a newer compatible model or retrain your custom model with the current spaCy version. For more details and available updates, run: python -m spacy validate\n",
      "  warnings.warn(warn_msg)\n"
     ]
    },
    {
     "name": "stdout",
     "output_type": "stream",
     "text": [
      "{'name': None, 'email': None, 'mobile_number': None, 'skills': [], 'college_name': None, 'degree': None, 'designation': None, 'experience': None, 'company_names': None, 'no_of_pages': None, 'total_experience': 0}\n"
     ]
    },
    {
     "name": "stderr",
     "output_type": "stream",
     "text": [
      "C:\\Users\\kambo\\anaconda3\\lib\\site-packages\\spacy\\util.py:275: UserWarning: [W031] Model 'en_training' (0.0.0) requires spaCy v2.1 and is incompatible with the current spaCy version (2.3.5). This may lead to unexpected results or runtime errors. To resolve this, download a newer compatible model or retrain your custom model with the current spaCy version. For more details and available updates, run: python -m spacy validate\n",
      "  warnings.warn(warn_msg)\n"
     ]
    },
    {
     "name": "stdout",
     "output_type": "stream",
     "text": [
      "{'name': 'Debasis Sethy Mobile', 'email': 'debasissethy119@gmail.com', 'mobile_number': '8249860329', 'skills': ['Technical skills', 'Pattern', 'Rest', 'Email', 'Java', 'Queries', 'Sql', 'Api', 'Windows', 'System', 'Agile', 'Design', 'Html', 'Mobile', 'Json', 'Presentation', 'Banking', 'Training', 'Debugging', 'Documentation', 'Access', 'Retention', 'Servers', 'Mysql', 'Specifications', 'Security', 'Transactions', 'Policies', 'Retail', 'Sales', 'Jira', 'Reports', 'Writing', 'Aws', 'Lifecycle', 'Test cases', 'Css', 'Js', 'Technical', 'Cloud', 'Testing', 'Coding'], 'college_name': None, 'degree': None, 'designation': None, 'experience': [], 'company_names': None, 'no_of_pages': None, 'total_experience': 0.0}\n"
     ]
    },
    {
     "name": "stderr",
     "output_type": "stream",
     "text": [
      "C:\\Users\\kambo\\anaconda3\\lib\\site-packages\\spacy\\util.py:275: UserWarning: [W031] Model 'en_training' (0.0.0) requires spaCy v2.1 and is incompatible with the current spaCy version (2.3.5). This may lead to unexpected results or runtime errors. To resolve this, download a newer compatible model or retrain your custom model with the current spaCy version. For more details and available updates, run: python -m spacy validate\n",
      "  warnings.warn(warn_msg)\n"
     ]
    },
    {
     "name": "stdout",
     "output_type": "stream",
     "text": [
      "{'name': 'Bengaluru  \\nSoftware Engineer', 'email': 'prasad.debi015@gmail.com', 'mobile_number': '6372596829', 'skills': ['Technical skills', 'Xml', 'Sql', 'Rest', 'Java', 'Email', 'Api', 'Windows', 'System', 'Agile', 'Design', 'Mobile', 'Architectures', 'Scrum', 'Architecture', 'Database', 'Debugging', 'Analysis', 'Servers', 'Mysql', 'Logging', 'Oracle', 'Jira', 'Writing', 'Technical', 'Testing'], 'college_name': None, 'degree': None, 'designation': None, 'experience': ['Technical Skills:', 'Languages: Java, Spring Boot, SQL', '\\uf0b7', '\\uf0b7  Development  Frameworks:  Hibernate  (Mapping,  HQL,  Cache),  Spring  (Core,  JDBC,  AOP,', 'Transaction, ORM, MVC), RESTful', 'Java Web Services: JAX-RS', '\\uf0b7', '\\uf0b7  XML Technologies: XML', '\\uf0b7  Testing Tools: Postman', '\\uf0b7  Databases: Oracle, MySQL', '\\uf0b7', '\\uf0b7', '\\uf0b7  Build Tools: Maven', '\\uf0b7  Agile Methodologies: Scrum', '\\uf0b7  Project/Bug Tracking Tools: Rally, JIRA', '\\uf0b7  Operating system: Windows', 'Logging Frameworks: Log4j, Slf4j', 'IDEs: Eclipse, STS, Intellij', 'Education:', '\\uf0b7', 'Bachelor of Science from SVM (Auto.) College , Odisha. 2019', 'Professional Experience:', 'De Touche Solutions Pvt. Ltd. Bengaluru', 'Software Engineer', 'Nov 2019 – Present', 'Project: SAOLA', 'Environment:  Java,  Spring  Boot,  REST-WS,  Spring  DataJpa,  Hibernate,  Postman,  Eclipse,  STS,  Maven,', 'JIRA , GIT', 'Responsibilities:', '\\uf0b7', 'As  an  offshore  developer  was  responsible  for  requirements  analysis,  interacting  with  onsite', 'team to validate the understanding and actively involved in the development of the module.', '\\uf0b7  Developed java-based web applications with Java, J2EE web frameworks like Spring Boot, Spring', 'MVC', '\\uf0b7  Designed and developed RESTful API capabilities on Java technologies', '\\uf0b7  Worked on Spring Data JPA.', '\\uf0b7  Enabled logging using Log4J to track application execution flow.', '\\uf0b7  Responsible for writing business logic for retrieving the data from data base.', '\\uf0b7  Written  the  restful  services  to  expose  the  application  to  external  world  using  Spring  Rest', 'integration.', 'Declaration:', 'I hereby declare that all information furnished by me is true to best of my knowledge', 'Date:                                                                                                                           Debi Prasad'], 'company_names': None, 'no_of_pages': 2, 'total_experience': 3.08}\n"
     ]
    },
    {
     "name": "stderr",
     "output_type": "stream",
     "text": [
      "C:\\Users\\kambo\\anaconda3\\lib\\site-packages\\spacy\\util.py:275: UserWarning: [W031] Model 'en_training' (0.0.0) requires spaCy v2.1 and is incompatible with the current spaCy version (2.3.5). This may lead to unexpected results or runtime errors. To resolve this, download a newer compatible model or retrain your custom model with the current spaCy version. For more details and available updates, run: python -m spacy validate\n",
      "  warnings.warn(warn_msg)\n"
     ]
    },
    {
     "name": "stdout",
     "output_type": "stream",
     "text": [
      "{'name': 'Deepti Satpathy', 'email': 'deeptidash6@gmail.com|', 'mobile_number': '7008100560', 'skills': ['Purchasing', 'Docker', 'Apis', 'Java', 'Rest', 'Api', 'Analytical', 'Communication', 'Database', 'Analysis', 'Mysql', 'Transactions', 'English', 'Process', 'Flask', 'Reports', 'Writing', 'End user', 'Electronics', 'Test cases', 'Spyder', 'Try', 'Finance', 'Testing', 'Python'], 'college_name': None, 'degree': ['Secondary Education in Science', 'B. TECH in Electronics and Telecommunication', 'Higher Secondary in Science', 'SECONDARY EDUCATION'], 'designation': None, 'experience': ['Finbit.io (Yodlee)', 'Software Engineer', 'September 2018 – Present', 'Project: FinScore', 'Framework: Java, SpringBoot', 'Database: MySQL', 'Tools: IntelliJ, GIT, Docker', 'Description: Fin-Score is an extended product of Fin360 mainly used to process the credit score of end user using the', 'bank transaction/financial data. In order to calculate the fin score, there are a number of APIs developed in Fin360', 'stack which are used to process those financial data and get the required result. The entire Fin-Score framework is built', 'using Sprint Boot and MySQL for data persistence. All the processed results are being exposed to external client through', 'Rest API.', 'Roles/Responsibilities:', '\\uf0b7  Requirement gathering and analysis from client.', '\\uf0b7  Acting as a module lead and interacting directly with client for continuous requirement gathering.', '\\uf0b7', '\\uf0b7', '\\uf0b7  Bug fixing and post-production maintenance.', 'Framework development Writing test cases and performance unit testing.', 'Production deployment and supporting the application.', 'Deepti Satpathy', 'https://www.linkedin.com/in/deepti-satpathy-9791b7192              deeptidash6@gmail.com| +91-7008100560', 'Developer', 'Project: Categorization', 'Framework: Flask, Python', 'Tools: Spyder, GIT, Docker', 'Description: Categorization is an extended product of Fin360 primarily used to identify the transaction category. The', 'main  intend  of  this  product  is  to  identifying  end  user  purchase  power  and  purchasing  behavior.  This  use-case  is', 'primarily using dictionary based analytical approach to generate the transaction categories. Fin360 product exposes a', 'set of rich APIs which are being used by this project to source the data.', 'Roles/Responsibilities:', '\\uf0b7  Requirement gathering and analysis from client.', '\\uf0b7  Acting as a module lead and interacting directly with client for continuous requirement gathering.', '\\uf0b7', '\\uf0b7  Bug fixing and post-production maintenance.', 'Production deployment and supporting the application.', 'Project: Fin360', 'Framework: Java/J2EE, Spring MVC, Grails', 'Database: MySQL, MongoDB', 'Tools: IntelliJ, GIT, Docker', 'Description:  Fin360 is a financial transaction analytical product primarily developed using Java/J2EE and', 'Groovy/Grails framework. This product is used for generating customer financial insights and produce analytical', 'reports on data collected from client transactions.', 'As this product is primarily focusing on B2B model, we are providing a set of rich APIs which are being used by clients', 'to generate number of analytical reports like fraud analysis reports, expenditure reports, credit rating etc...', 'Roles/Responsibilities:', '\\uf0b7  Requirement gathering and analysis from client.', '\\uf0b7', 'Implement code framework and development.', '\\uf0b7  Writing test cases and performance unit testing.', '\\uf0b7  Bug fixing and post-production maintenance.', '\\uf0b7  Mentoring and guiding junior team members.'], 'company_names': None, 'no_of_pages': 3, 'total_experience': 4.25}\n"
     ]
    },
    {
     "name": "stderr",
     "output_type": "stream",
     "text": [
      "C:\\Users\\kambo\\anaconda3\\lib\\site-packages\\spacy\\util.py:275: UserWarning: [W031] Model 'en_training' (0.0.0) requires spaCy v2.1 and is incompatible with the current spaCy version (2.3.5). This may lead to unexpected results or runtime errors. To resolve this, download a newer compatible model or retrain your custom model with the current spaCy version. For more details and available updates, run: python -m spacy validate\n",
      "  warnings.warn(warn_msg)\n"
     ]
    },
    {
     "name": "stdout",
     "output_type": "stream",
     "text": [
      "{'name': 'Email ID', 'email': 'sabaledeveshri21@gmail.com', 'mobile_number': '9156042755', 'skills': ['Sql', 'Rest', 'Java', 'Email', 'Windows', 'Api', 'Controls', 'Agile', 'Design', 'Logistics', 'Html', 'Operating systems', 'Database', 'Analysis', 'Servers', 'Analytics', 'Mysql', 'English', 'Retail', 'Jira', 'Writing', 'Information technology', 'Testing'], 'college_name': None, 'degree': None, 'designation': None, 'experience': ['\\uf0b7  Having basic knowledge of Microservices.', 'Employment Scan', '\\uf0d8  JAVA Developer in SPARKYNODE ANALYTICS.'], 'company_names': None, 'no_of_pages': 3, 'total_experience': 0.0}\n"
     ]
    },
    {
     "name": "stderr",
     "output_type": "stream",
     "text": [
      "C:\\Users\\kambo\\anaconda3\\lib\\site-packages\\spacy\\util.py:275: UserWarning: [W031] Model 'en_training' (0.0.0) requires spaCy v2.1 and is incompatible with the current spaCy version (2.3.5). This may lead to unexpected results or runtime errors. To resolve this, download a newer compatible model or retrain your custom model with the current spaCy version. For more details and available updates, run: python -m spacy validate\n",
      "  warnings.warn(warn_msg)\n"
     ]
    },
    {
     "name": "stdout",
     "output_type": "stream",
     "text": [
      "{'name': 'Dhanu Mobile', 'email': 'dhanujavadev@gmail.com', 'mobile_number': '9962185453', 'skills': ['Rest', 'Java', 'Queries', 'Api', 'Agile', 'Mortgage', 'Design', 'Mobile', 'Postgresql', 'Json', 'Web services', 'Banking', 'Scrum', 'Analyze', 'Sdlc', 'Threading', 'Specifications', 'Process', 'Writing', 'Technical', 'Finance', 'Github', 'Testing', 'Coding'], 'college_name': None, 'degree': None, 'designation': None, 'experience': ['\\uf0b7  Strong  understanding  and  experienced  with  all  the  phases  of SDLC  and  agile', 'development  methodologies including SCRUM,  involved  in  daily  SCRUM  meetings', 'to keep track of the Ongoing project status.', '\\uf0b7  Having knowledge on Hibernate.', '\\uf0b7  Good  team  member,  positive  attitude  and  result  oriented  Self-motivated,  quick', 'learner, willing to adapt to new challenges & new technologies.', 'Work Experience:', '--------------------', '\\uf0b7  Worked for Attra InfoTech Pvt Ltd from July 2021 to Feb 2022 as a Senior Software Engineer.', '\\uf0b7  Worked  for  Indecomm  Global  Services  from  July  2017  to  June  2020  as  a  Senior  Software', 'Engineer.', 'Academic Qualification:', '---------------------------', '\\uf0d8  MCA from Sri Venkateswara University in 2016.', 'PROJECT PROFILE:', '-----------------------', 'Project #3:', 'Title', 'Domain', 'Team size', 'Client', 'Duration', 'Environment', 'Responsibilities:', ': Enablement API (Ford Credit)', ': Finance', ': 10', ': Ford Motor Company', ':  Mar 2021 to Feb 2022', ': JDK 11, Spring Boot, REST, Gradle, Jenkins, IntelliJ.', '\\uf0b7  Understanding client requirements in terms of user requirements, functional specifications', 'and technical requirements.', '\\uf0b7  Provide High level design and development of module.', '\\uf0b7  Coding and testing for the enhancement of the Application.', '\\uf0b7', '\\uf0b7  Finding check styles and find bugs to ensure bug free code.', '\\uf0b7  Analyzing addition of new features in the existing Application.', 'Involved in writing unit test cases and doing code/design reviews of team members.', 'Project #2:', 'Title', 'Domain', 'Team size', 'Client', 'Duration', 'Environment', 'Description:', ':  Order Management', ':  Banking', ':  04', ':  Freedom Mortgage', ':  July 2018 to June 2020.', ':  Java 1.8, Rabbit-MQ, Spring Boot, Micro Services, Restful.', 'Order management is an integration application. We have a product called Tempo which is', 'used to handle the default loans. This application will act as a mediator between Tempo and client.', 'Role and Responsibilities:', 'Involved in the complete development, testing and maintenance process of the application.', 'Involved in workshop meetings to get the requirements.', 'Involved in estimation, planning and execution of the deliverables.', '\\uf0b7', '\\uf0b7', '\\uf0b7', '\\uf0b7  Had an active participation in client interactions.', '\\uf0b7  Ability to fix issues with lesser turnaround time and also report issues found.', '\\uf0b7', 'Involved in estimation, planning and execution of the deliverables.', 'Project#1:', 'Title', 'Domain', 'Team size', 'Client', 'Duration', 'Environment', 'Description:', ': Web Services Write API', ': Banking', ':  04', ':  Tempo', ': July 2017 to June 2018.', ': Java 1.8, Mule ESB, spring, Restful Web Services, PostgreSQL, JSON.', 'Loan  Dynamics  is  web  application  and  it  will  accept  proper  data  for  upload  in  db.  We  will', 'expose our services to clients and will receive JSON format request data from client Applications and', 'we are validating, preparing queries dynamically and updating in loan dynamically to db and return', 'error codes as response to client.', 'Role and Responsibilities:', '\\uf0b7  Analyze the requirements.', '\\uf0b7', '\\uf0b7  Designing the application based on the requirement.', 'Involved in workshop meetings to get the requirements.'], 'company_names': None, 'no_of_pages': 3, 'total_experience': 4.33}\n"
     ]
    },
    {
     "name": "stderr",
     "output_type": "stream",
     "text": [
      "C:\\Users\\kambo\\anaconda3\\lib\\site-packages\\spacy\\util.py:275: UserWarning: [W031] Model 'en_training' (0.0.0) requires spaCy v2.1 and is incompatible with the current spaCy version (2.3.5). This may lead to unexpected results or runtime errors. To resolve this, download a newer compatible model or retrain your custom model with the current spaCy version. For more details and available updates, run: python -m spacy validate\n",
      "  warnings.warn(warn_msg)\n"
     ]
    },
    {
     "name": "stdout",
     "output_type": "stream",
     "text": [
      "{'name': 'DINESH DEVSARKAR', 'email': 'dinesdevsarkar@gmail.com', 'mobile_number': '9595967275', 'skills': ['Pattern', 'Rest', 'Java', 'Sql', 'Banking', 'English', 'Windows', 'Governance', 'Technical', 'Analytical', 'Oracle', 'Database', 'System', 'Engineering', 'Programming', 'Design', 'Workflows', 'Testing'], 'college_name': None, 'degree': ['Bachelor Of Engineering'], 'designation': None, 'experience': ['Proficient understanding of code versioning tool such as GIT.', 'Involved in complete software development life cycle which include design, development and', 'testing of the application.', 'Ability to handle multiple task both by working independently and in a team.', 'An effective communicator with excellent interpersonal, logical  analytical abilities.', 'EMPLOYMENT  HISTORY', 'Technology Analyst at INFOSYS LIMITED, Pune.', 'Nov 2019 – Till Date', 'Project - Power Generation Equipment Manufacturer of US', 'REST web services', 'Technologies- Java, SQL, Oracle DB, Microsoft Azure.', 'Spring Boot', 'Web Server    -    Apache Tomcat', 'Database       -     Oracle', 'Versioning Tool       -         GIT', 'System     -       Windows', 'Build Tool      -       Maven'], 'company_names': ['Oracle', 'Database       ', 'INFOSYS LIMITED'], 'no_of_pages': 1, 'total_experience': 0.0}\n"
     ]
    },
    {
     "name": "stderr",
     "output_type": "stream",
     "text": [
      "C:\\Users\\kambo\\anaconda3\\lib\\site-packages\\spacy\\util.py:275: UserWarning: [W031] Model 'en_training' (0.0.0) requires spaCy v2.1 and is incompatible with the current spaCy version (2.3.5). This may lead to unexpected results or runtime errors. To resolve this, download a newer compatible model or retrain your custom model with the current spaCy version. For more details and available updates, run: python -m spacy validate\n",
      "  warnings.warn(warn_msg)\n"
     ]
    },
    {
     "name": "stdout",
     "output_type": "stream",
     "text": [
      "{'name': 'Dipali Zendage', 'email': 'dipalizendage94@gmail.com', 'mobile_number': '9322974350', 'skills': ['Pattern', 'Rest', 'Java', 'Queries', 'Api', 'Analytical', 'Legal', 'System', 'Expenses', 'Agile', 'Design', 'Communication', 'Html', 'Excel', 'Presentation', 'Scrum', 'Database', 'Sdlc', 'Engineering', 'Analysis', 'Servers', 'Mysql', 'English', 'Updates', 'Jira', 'P', 'Css', 'Technical', 'Word', 'Software development life cycle', 'Microsoft office', 'Testing', 'Coding'], 'college_name': None, 'degree': None, 'designation': None, 'experience': ['Company: SpadeWorx Software Services, Baner.', 'Designation: Java Developer.', 'Experience: 2.2 Years.', 'Work From: 01 August 2020 to Till Date.', 'Project Details:', '•  Client name- MACIF, France', '•  Project title- Era Plus', '•  Domain – Insurance', 'Project description-', 'It’s also the most fundamental insurance any business wants in their arsenal. General liability insurance', 'protects you and your business against the inherent risks related to your services. Accidents that involve', 'bodily injury or property damage to a third party are covered, as well as any ensuing medical expenses', 'and legal defence fees. It also provides facility to track the information of coverage, premium, nominee', 'details etc.', 'Roles:', '•', '•', '•', '•', '•', '•', '•', '•', '•', 'Serves as the technical expert on development projects.', 'Producing and consuming the restful web services.', 'Requirement analyse, design, coding and testing etc.', 'Bug fixing', 'Analyse the program to identify the code changes as per the business requirements.', 'Involved in knowledge sharing activities with team.', 'Preparing the technical specification document based on existing system and new design changes.', 'Minimizes risk, prepares for risk mitigation, keep the project on track.', 'Manages user requirements; provides timely project updates'], 'company_names': None, 'no_of_pages': 3, 'total_experience': 0.0}\n"
     ]
    },
    {
     "name": "stderr",
     "output_type": "stream",
     "text": [
      "C:\\Users\\kambo\\anaconda3\\lib\\site-packages\\spacy\\util.py:275: UserWarning: [W031] Model 'en_training' (0.0.0) requires spaCy v2.1 and is incompatible with the current spaCy version (2.3.5). This may lead to unexpected results or runtime errors. To resolve this, download a newer compatible model or retrain your custom model with the current spaCy version. For more details and available updates, run: python -m spacy validate\n",
      "  warnings.warn(warn_msg)\n"
     ]
    },
    {
     "name": "stdout",
     "output_type": "stream",
     "text": [
      "{'name': None, 'email': None, 'mobile_number': None, 'skills': [], 'college_name': None, 'degree': None, 'designation': None, 'experience': None, 'company_names': None, 'no_of_pages': 0, 'total_experience': 0}\n"
     ]
    },
    {
     "name": "stderr",
     "output_type": "stream",
     "text": [
      "C:\\Users\\kambo\\anaconda3\\lib\\site-packages\\spacy\\util.py:275: UserWarning: [W031] Model 'en_training' (0.0.0) requires spaCy v2.1 and is incompatible with the current spaCy version (2.3.5). This may lead to unexpected results or runtime errors. To resolve this, download a newer compatible model or retrain your custom model with the current spaCy version. For more details and available updates, run: python -m spacy validate\n",
      "  warnings.warn(warn_msg)\n"
     ]
    },
    {
     "name": "stdout",
     "output_type": "stream",
     "text": [
      "{'name': 'ESHWAR NALAKURTHI', 'email': 'eswarnalakurthi7@gmail.com', 'mobile_number': '9182602595', 'skills': ['Technical skills', 'Xml', 'Sql', 'Docker', 'Java', 'Email', 'Rest', 'Windows', 'System', 'Html', 'Javascript', 'Mobile', 'Web services', 'Analyze', 'Database', 'Programming', 'Jsp', 'Linux', 'Process', 'Jira', 'Writing', 'Soap', 'Css', 'Technical', 'Testing'], 'college_name': None, 'degree': None, 'designation': ['Associate Software Engineer'], 'experience': [], 'company_names': None, 'no_of_pages': None, 'total_experience': 0.0}\n"
     ]
    },
    {
     "name": "stderr",
     "output_type": "stream",
     "text": [
      "C:\\Users\\kambo\\anaconda3\\lib\\site-packages\\spacy\\util.py:275: UserWarning: [W031] Model 'en_training' (0.0.0) requires spaCy v2.1 and is incompatible with the current spaCy version (2.3.5). This may lead to unexpected results or runtime errors. To resolve this, download a newer compatible model or retrain your custom model with the current spaCy version. For more details and available updates, run: python -m spacy validate\n",
      "  warnings.warn(warn_msg)\n"
     ]
    },
    {
     "name": "stdout",
     "output_type": "stream",
     "text": [
      "{'name': 'Hemlata Krushna', 'email': 'hemlata.wagh1995@gmail.com', 'mobile_number': '7841881626', 'skills': ['Rest', 'Java', 'Email', 'Api', 'Windows', 'Analytical', 'Design', 'Communication', 'Html', 'Javascript', 'Mobile', 'Operating systems', 'Excel', 'Os', 'Scrum', 'Database', 'Documentation', 'Programming', 'Scripting', 'Mysql', 'Linux', 'English', 'Process', 'Jira', 'Reports', 'Writing', 'End user', 'Video', 'Html5', 'Css', 'Js', 'Technical', 'Testing', '.net'], 'college_name': None, 'degree': None, 'designation': None, 'experience': ['\\uf076  Currently Working as a Software Devloper in Wayzon Technology Services Pvt. Ltd. from Aug', '2019 to till date.', 'Project Name :', 'MI-Telemedicine App', 'Project type :', 'Web/Mobile App', 'Duration :', '1 year', 'Team Size :', '8', 'Description :', 'MI-Telemedicine is a broad category of application programs and technologies , it is a mobile application', 'used to get online consultation from doctors, with the consideration of covid-19 situation we have', 'provided zoom video calling functionality and also in this we are providing other two type to have', 'appointment with end user , that is end user can connect with Inclinic or Inhouse also.', 'In MI-Telemedicine project we have used authorized .net payment gateway,stripe payment gateway.', 'MI-Telemedicine supports functionalities like email ,sms and notifications.In this we have provided admin', 'panel with dashboard including revenue reports ,appointments reports,charts ,Import excel ,Export excel', 'functionalities and also appointment reminder etc..', 'Project Highlights :', 'This project uses Spring at backend and Angular js as Frontend, HTML5, CSS3,. Data from server side', 'accessed through Spring Rest API.', 'Technology :', 'Core Java, HTML5, CSS, Bootstrap, JavaScript, Postgres, Hibernate, Spring', 'Core, Spring MVC, Spring Boot, Spring Rest API.', 'OS :', 'Windows 10,Linux.', 'Roles And', 'Responsibilities', '❖ Developing code to do different functionalities using Spring MVC and Web', 'API.', '❖ Interacted with product owners for their requirement gathering and created', 'design documents.', '❖ Done peer review and code review within the team and for parallel teams.', '❖ Participated in sprint pre planning meeting, sprint planning meeting and', 'retrospective meeting.', '❖ Analyses requirements and new functionalities given by client.', '❖ Designing and developing the user stories received from business.', '❖ Used JIRA as a project management and issue tracking tool.', '❖ Actively participating in daily scrum meetings.', '❖ Analysing and creating estimates for the stories of the project.', '❖ Creating and maintaining feature branches on Git.', 'Project Title:  SBUT Portal', 'Front End:         HTML 5, CSS, BOOTSTRAP.', 'Technologies:     JAVA, SPRING MVC,  Web API, SPRING BOOT, HIBERNATE', 'JavaScript, JQuery.', 'Database:          MYSQL 8.0.', 'Duration:           August 2019 to December 2020', 'Role :                  Developer', 'Description'], 'company_names': None, 'no_of_pages': 3, 'total_experience': 1.33}\n"
     ]
    },
    {
     "name": "stderr",
     "output_type": "stream",
     "text": [
      "C:\\Users\\kambo\\anaconda3\\lib\\site-packages\\spacy\\util.py:275: UserWarning: [W031] Model 'en_training' (0.0.0) requires spaCy v2.1 and is incompatible with the current spaCy version (2.3.5). This may lead to unexpected results or runtime errors. To resolve this, download a newer compatible model or retrain your custom model with the current spaCy version. For more details and available updates, run: python -m spacy validate\n",
      "  warnings.warn(warn_msg)\n"
     ]
    },
    {
     "name": "stdout",
     "output_type": "stream",
     "text": [
      "{'name': 'pune Email', 'email': 'komalghodeswar77@gmail.com', 'mobile_number': '9834825395', 'skills': ['Pattern', 'Java', 'Email', 'English', 'Database', 'System', 'Jira', 'Debugging', 'Engineering', 'Writing', 'Design', 'Github', 'Testing', 'Mysql', 'Coding'], 'college_name': None, 'degree': None, 'designation': None, 'experience': ['Company', 'Duration', 'Current Designation', ':', ':', ':', 'Intelligic Software Pvt.Ltd. Pune', 'Sep 2019 – till date.', 'Java Developer', 'ACADEMIC PROFILE', 'BE ( IT )  From KDK College of Engineering Nagpur ( RTMNU ) with 6.64CGPA in 2019.', 'Diploma In ETC Form BT  Polytechnic  Mouda  With 68.82% in 2016', 'PROJECT HISTORY', '1.', 'Supply Chain Management System', 'Role-                    Software Developer', 'Team Size-          9', 'Technologies-    Java, Restful Web-Services, SpringBoot, JPA', 'Database-           MySQL', 'Server-                Apache Tomcat', 'Responsibilities:', '●  Developed Component classes using MVC patterns.', '●  Developed Persistence layer using Hibernate framework.', '●  Designing Controller, Service, DAO specific Java Classes.', '●  Created different records in the database as per business requirement.', '●', 'Involved in Review and Unit Testing.', 'PERSONAL DETAILS', '\\uf0d8  Father’s Name:-                        Arun Ghodeswar', '\\uf0d8  Date of Birth:-', '\\uf0d8  Nationality :-', '\\uf0d8  Gender   :-', '\\uf0d8  Marital Status:-', '\\uf0d8  Languages Known:-', '29/08/1995', 'Indian', 'Female', 'Married', 'English, Hindi & Marathi', 'DECLARATION', 'I hereby declare that the above written particulars are best of my knowledge and true.', 'Date:', 'Place:', 'KOMAL GHODESWAR'], 'company_names': None, 'no_of_pages': 2, 'total_experience': 0.0}\n"
     ]
    },
    {
     "name": "stderr",
     "output_type": "stream",
     "text": [
      "C:\\Users\\kambo\\anaconda3\\lib\\site-packages\\spacy\\util.py:275: UserWarning: [W031] Model 'en_training' (0.0.0) requires spaCy v2.1 and is incompatible with the current spaCy version (2.3.5). This may lead to unexpected results or runtime errors. To resolve this, download a newer compatible model or retrain your custom model with the current spaCy version. For more details and available updates, run: python -m spacy validate\n",
      "  warnings.warn(warn_msg)\n"
     ]
    },
    {
     "name": "stdout",
     "output_type": "stream",
     "text": [
      "{'name': 'Konka Karthik', 'email': 'Karthik.bly123@gmail.com', 'mobile_number': '9740523119', 'skills': ['Xml', 'Sql', 'Rest', 'Java', 'Email', 'Pattern', 'Windows', 'Api', 'Controls', 'Design', 'Json', 'Architecture', 'Engineering', 'Servers', 'Mysql', 'Logging', 'Oracle', 'Writing', 'Android', 'Hospital', 'Testing', 'Coding'], 'college_name': None, 'degree': None, 'designation': None, 'experience': ['\\uf0a2  Willing to learn and adapt new technologies.', 'PROFESSIONAL EXPERIENCE:', '\\uf0a2  I worked with  DXC  Technology  India  Pvt  Ltd  as a Software Engineer since Oct-2020 to till', 'date.', 'EDUCATIONAL QUALIFICATION:', '\\uf0a2  BE with 75% from Sri Sairam College of Engineering, 2016, Bangalore.', 'SOFTWARE PROFICIENCY:', 'Operating environments', 'Java Technologies', 'Frameworks', 'Databases', 'Windows.', 'Java', 'Spring, Webservices, spring Boot.', 'MySQL', 'Servers', 'Java Tools', 'Tomcat.', 'Maven, JUnit, LOG4J', 'Data Representation', 'XML, XSD, Json', 'Distributed Technologies', 'Restful Services', 'Design Pattern', 'Singleton, and factory design pattern', 'IDE/Tools', 'STS, Eclipse.'], 'company_names': None, 'no_of_pages': 3, 'total_experience': 0.0}\n"
     ]
    },
    {
     "name": "stderr",
     "output_type": "stream",
     "text": [
      "C:\\Users\\kambo\\anaconda3\\lib\\site-packages\\spacy\\util.py:275: UserWarning: [W031] Model 'en_training' (0.0.0) requires spaCy v2.1 and is incompatible with the current spaCy version (2.3.5). This may lead to unexpected results or runtime errors. To resolve this, download a newer compatible model or retrain your custom model with the current spaCy version. For more details and available updates, run: python -m spacy validate\n",
      "  warnings.warn(warn_msg)\n"
     ]
    },
    {
     "name": "stdout",
     "output_type": "stream",
     "text": [
      "{'name': 'KSHITIJ GUPTA', 'email': 'kshitijgupta139@gmail.com', 'mobile_number': '9890125149', 'skills': ['Sql', 'Email', 'Queries', 'System', 'Spark', 'Mobile', 'C#', 'Analyze', 'Scheduling', 'Engineering', 'Analysis', 'Analytics', 'Mysql', 'Process', 'Pyspark', 'Operations', 'C', 'Cloud', 'Python'], 'college_name': None, 'degree': ['B.E -Information Technology from Sinhgad\\nCollege of Engineering Pune'], 'designation': ['APPLICATION DEVELOPMENT ASSOCIATE'], 'experience': ['APPLICATION DEVELOPMENT ASSOCIATE', 'Accenture Solutions Pvt Ltd, 2020 to Present', 'Translate business requirements into quantitative', 'queries and collect/clean the necessary data.', 'Created Triggers for scheduling jobs in Azure Data', 'Factory(ADF) to process data.', 'Developed Spark applications using Spark-SQL in', 'Databricks for data extraction, transformation, and', 'aggregation from multiple file formats for Analyzing&', 'transforming the data to uncover insights into the', 'customer usage patterns.', 'Designed queries in Google BigQuery, which helped', 'client to analyze the data and improve operations.', 'Developed SQL queries to validate and analyze the', 'data for strategic planning of project activities.'], 'company_names': ['Accenture Solutions Pvt Ltd'], 'no_of_pages': 1, 'total_experience': 0.0}\n"
     ]
    },
    {
     "name": "stderr",
     "output_type": "stream",
     "text": [
      "C:\\Users\\kambo\\anaconda3\\lib\\site-packages\\spacy\\util.py:275: UserWarning: [W031] Model 'en_training' (0.0.0) requires spaCy v2.1 and is incompatible with the current spaCy version (2.3.5). This may lead to unexpected results or runtime errors. To resolve this, download a newer compatible model or retrain your custom model with the current spaCy version. For more details and available updates, run: python -m spacy validate\n",
      "  warnings.warn(warn_msg)\n"
     ]
    },
    {
     "name": "stdout",
     "output_type": "stream",
     "text": [
      "{'name': 'KUMARASWAMY Mobile', 'email': 'swamykumara845@gmail.com', 'mobile_number': '9195427539', 'skills': ['Technical skills', 'Payments', 'Sql', 'Docker', 'Java', 'Computer applications', 'Windows', 'Api', 'System', 'Agile', 'Design', 'Html', 'Mobile', 'Web services', 'Scrum', 'Architecture', 'Database', 'Health', 'Analysis', 'Servers', 'Mysql', 'Jsp', 'Linux', 'Oracle', 'Jira', 'Reports', 'Visual', 'Writing', 'Information technology', 'Html5', 'Test cases', 'Css', 'Etl', 'Js', 'Money', 'Technical', 'Inventory', 'Github', 'Transport', 'Coding'], 'college_name': None, 'degree': None, 'designation': ['Software Engineer'], 'experience': ['\\uf0b7  Participating in Weekly Status Reports & Monthly Status Reports meetings with the clients.\\uf020', '\\uf0b7  Ability to work with business functions to understand business requirements and develop technical', 'specifications.\\uf020', 'Education:', '\\uf0b7  Master of Computer Applications (M.C.A) from Osmania University, Hyderabad.\\uf020', 'Professional Experience:', '\\uf0b7  Working as a Senior Software Engineer HTC Global Services Pvt. Ltd, Hyderabad from Dec 2020 to Aug-2022.', '\\uf0b7  Worked as a Software Engineer in Agon IT Solutions Private Limited,, Hyderabad from Dec-2015 to Nov-2020.', 'Technical Skills:', 'Languages', ': Java, Corejava, SQL, Web Services', 'Frame works', ': Spring, SpringMVC, SpringBoot , Microservices, Hibernate,Struts,,ReactJs.', 'J2EE Technologies', ': Servlets, Jsp, Jdbc.', 'Databases', 'IDE Tools', 'Servers', ': Oracle, My SQL.', ': Eclipse, STS, Visual studio code, Notepad++.', ': Apache Tomcat, Jboss, WebSphere Application Server.', 'Operating System', ': Windows, Linux', 'Web Technologies', ': HTML5, CSS, Java Script.', 'Tools', ': Maven,Junit,Log4j,SQLDeveloper,Git ,GitLab,GitHub,Docker,Jenkins.', 'Project Detailes', 'Project# 1', 'Project Name  :', 'EnTech-P&C Auto/Fire-PMMT', 'Client', 'Role', ':', ':', 'State Farm', 'Senior Software Engineer'], 'company_names': ['Oracle', 'Team Size'], 'no_of_pages': 4, 'total_experience': 0.0}\n"
     ]
    },
    {
     "name": "stderr",
     "output_type": "stream",
     "text": [
      "C:\\Users\\kambo\\anaconda3\\lib\\site-packages\\spacy\\util.py:275: UserWarning: [W031] Model 'en_training' (0.0.0) requires spaCy v2.1 and is incompatible with the current spaCy version (2.3.5). This may lead to unexpected results or runtime errors. To resolve this, download a newer compatible model or retrain your custom model with the current spaCy version. For more details and available updates, run: python -m spacy validate\n",
      "  warnings.warn(warn_msg)\n"
     ]
    },
    {
     "name": "stdout",
     "output_type": "stream",
     "text": [
      "{'name': 'LAKSHMI SRAVANI TADIPARTHI', 'email': 'sravani.yls@gmail.com', 'mobile_number': '8970666831', 'skills': ['Xml', 'Email', 'System', 'Migration', 'Design', 'Communication', 'Html', 'Javascript', 'Json', 'Compliance', 'Architecture', 'Sharepoint', 'Training', 'Sdlc', 'Health', 'Documentation', 'Analysis', 'Specifications', 'Benchmarking', 'Security', 'Safety', 'English', 'Updates', 'Budget', 'Plan', 'Litigation', 'Process', 'Sales', 'Reports', 'Project delivery', 'Lifecycle', 'Risk management', 'Strategy', 'Html5', 'Css', 'Governance', 'Technical', 'Operations', 'It infrastructure', 'Schedule', 'Cloud', 'Testing', 'Coding'], 'college_name': None, 'degree': None, 'designation': None, 'experience': ['proven ability to deliver project objectives within stipulated time, resource and budget constraints, and', 'to align project delivery with the strategy of the organization.', 'Email: sravani.yls@gmail.com                                                                                                                         Phone:+91-8970666831'], 'company_names': ['Wipro'], 'no_of_pages': 2, 'total_experience': 0.0}\n"
     ]
    },
    {
     "name": "stderr",
     "output_type": "stream",
     "text": [
      "C:\\Users\\kambo\\anaconda3\\lib\\site-packages\\spacy\\util.py:275: UserWarning: [W031] Model 'en_training' (0.0.0) requires spaCy v2.1 and is incompatible with the current spaCy version (2.3.5). This may lead to unexpected results or runtime errors. To resolve this, download a newer compatible model or retrain your custom model with the current spaCy version. For more details and available updates, run: python -m spacy validate\n",
      "  warnings.warn(warn_msg)\n"
     ]
    },
    {
     "name": "stdout",
     "output_type": "stream",
     "text": [
      "{'name': 'Azure Data Factory and', 'email': 'lalbudeshaik.s@gmail.com', 'mobile_number': '8297297095', 'skills': ['Mobile', 'Sql', 'Sql server', 'Queries', 'Datasets', 'Database', 'Writing', 'Cloud', 'Testing'], 'college_name': None, 'degree': None, 'designation': ['Database Developer'], 'experience': [], 'company_names': None, 'no_of_pages': None, 'total_experience': 0.0}\n"
     ]
    },
    {
     "name": "stderr",
     "output_type": "stream",
     "text": [
      "C:\\Users\\kambo\\anaconda3\\lib\\site-packages\\spacy\\util.py:275: UserWarning: [W031] Model 'en_training' (0.0.0) requires spaCy v2.1 and is incompatible with the current spaCy version (2.3.5). This may lead to unexpected results or runtime errors. To resolve this, download a newer compatible model or retrain your custom model with the current spaCy version. For more details and available updates, run: python -m spacy validate\n",
      "  warnings.warn(warn_msg)\n"
     ]
    },
    {
     "name": "stdout",
     "output_type": "stream",
     "text": [
      "{'name': 'Madhan D', 'email': 'Madhand528@gmail.com', 'mobile_number': '6369677478', 'skills': ['Docker', 'Rest', 'Java', 'Ordering', 'Windows', 'System', 'Agile', 'Design', 'Ui', 'Html', 'Json', 'Scrum', 'Database', 'Engineering', 'Programming', 'Unix', 'Jsp', 'Security', 'Linux', 'Logging', 'Policies', 'Process', 'Writing', 'Css', 'Administration', 'Testing'], 'college_name': None, 'degree': ['Bachelor of Engineering in Civil [BE.CIVIL] from Vel Tech High Tech'], 'designation': ['Software Engineer'], 'experience': [], 'company_names': None, 'no_of_pages': None, 'total_experience': 0.0}\n"
     ]
    },
    {
     "name": "stderr",
     "output_type": "stream",
     "text": [
      "C:\\Users\\kambo\\anaconda3\\lib\\site-packages\\spacy\\util.py:275: UserWarning: [W031] Model 'en_training' (0.0.0) requires spaCy v2.1 and is incompatible with the current spaCy version (2.3.5). This may lead to unexpected results or runtime errors. To resolve this, download a newer compatible model or retrain your custom model with the current spaCy version. For more details and available updates, run: python -m spacy validate\n",
      "  warnings.warn(warn_msg)\n"
     ]
    },
    {
     "name": "stdout",
     "output_type": "stream",
     "text": [
      "{'name': 'Mahek Pipalia', 'email': 'mahekpipalia1@gmail.com', 'mobile_number': '9038551180', 'skills': ['Sql', 'Rest', 'Java', 'Api', 'System', 'Agile', 'Design', 'Database', 'Sdlc', 'Debugging', 'Engineering', 'Programming', 'English', 'Process', 'Nosql', 'Algorithms', 'Hospital', 'Testing', 'Python'], 'college_name': None, 'degree': ['Bachelor of Technology'], 'designation': ['Software Development', 'Project Engineer'], 'experience': ['optimizing code.', 'Collaborating with peers during entire SDLC process as part', 'of ensuring timely delivery of release cycles.', 'Ensured the developed features are scalable and highly', 'available with no quality concerns.', 'Worked closely with senior engineers for reﬁning the design', 'and implementation.', 'Object Oriented Programming', 'NoSQL', 'Git', 'Maven', 'Agile', 'TDD', 'J2EE', 'JUnit', 'Software Development', 'Unit Testing', 'Successfully completed the ﬁrst phase of the assigned', 'project and actively working on completion of second phase.', 'ACHIEVEMENTS', 'Improved the performance of several processes by 30%.'], 'company_names': ['Wipro Ltd.', 'Unit Testing'], 'no_of_pages': 1, 'total_experience': 0.0}\n"
     ]
    },
    {
     "name": "stderr",
     "output_type": "stream",
     "text": [
      "C:\\Users\\kambo\\anaconda3\\lib\\site-packages\\spacy\\util.py:275: UserWarning: [W031] Model 'en_training' (0.0.0) requires spaCy v2.1 and is incompatible with the current spaCy version (2.3.5). This may lead to unexpected results or runtime errors. To resolve this, download a newer compatible model or retrain your custom model with the current spaCy version. For more details and available updates, run: python -m spacy validate\n",
      "  warnings.warn(warn_msg)\n"
     ]
    },
    {
     "name": "stdout",
     "output_type": "stream",
     "text": [
      "{'name': 'Profile Mahesh', 'email': 'gajulamahesh94405@gmail.com', 'mobile_number': '9440500687', 'skills': ['Xml', 'Docker', 'Rest', 'Java', 'Windows', 'System', 'Design', 'Database', 'Health', 'Programming', 'Analysis', 'Servers', 'Oracle', 'Writing', 'Requests', 'Technical', 'Operations', 'Hospital', 'Cloud', 'Coding'], 'college_name': None, 'degree': None, 'designation': None, 'experience': ['\\uf0b7  Working with Hiyamee Technologies Pvt  Ltd as software developer from Dec 2021 to Sep2022', '\\uf0b7  Working with Oracle Financial software services(OFFS) as Staff Consultant  from 2020 Jan to Aug 2021.', '\\uf0d8  Working with   Florida software Solutions  Pvt Ltd  as software Engineer from', '2018 Oct  to   Nov 2019.', 'ACADEMIC PROFILE :', '\\uf0b7  Post Graduated MBA from  SV University, Tirupathi  in 2015.', '\\uf0b7  Graduated in BSc Computers from YV University, Kadapa in 2013.', 'TECHNICAL PROFILE :', 'Programming Languages', 'Java,', 'Web Technologies', 'XML,  Restful service.', 'Cloud', 'Microsoft Azure., Micro services.', 'Frameworks', 'Database', 'Tools', 'Spring ,Spring Boot, Hibernate.', 'Oracle10g', 'Maven, SVN, GIT', 'Operating system', 'Windows 10.', 'IDE', 'Eclipse, STS', 'PROJECT #1 :', 'Title', 'Client             :   hsbc', ':   Day Trader', 'Role               :   java developer.', 'Team size      :   15 .', 'Environment : Java 1.8, Spring boot  , micro sevice ,Big Query, Gcp.', 'Description:', 'Day Trader is multi-tier application is built around the paradigm of an online stock trading system.', 'Example business operations include login, register, view portfolio, lookup stock quotes, and buy or sell', 'stock. It accepts incoming requests from the browser and delegates them to the Gateway Micro service.', 'The Gateway Micro service in turn redirects the request to the (Accounts Micro service, Portfolios Micro', 'service, or Quotes Micro service; which implements that business operation.', 'Roles & Responsibilities:', '\\uf0fc  Involved in Requirement Analysis', '\\uf0fc  Involved in writing Spring boot Configuration files and Spring Bean classes.', '\\uf0fc  Involved in writing Spring boot implemented Redis Cache.', '\\uf0fc  Involved in coding of Spring Controller classes in Spring MVC.', '\\uf0fc  Responsible for deploying the developed web components on the Apache Tomcat server.', 'PROJECT #2 :', 'Title', ': Health Insurance Tracker(HIT).', 'Client              :Oracle( BNpp).', 'Role               : Software Engineer', 'Environment  : Java , SpringBoot , Hibernate , Oracle.', 'Description:', 'HIT  (Health  Insurance  Tracker)  Application  will  be  implemented  as  a  product  which  will  be  useful  various', 'companies offering Health Insurance .Once Customer takes the Health Insurance ,we can add all information about customer', 'including  personal,  insurance  details  etc  .Customer  premium  details  will  be  stored  in  HIT  and  then  will  be  tracked.  When', 'customer gets the health problem and joined in the hospital, then customer should collect all the bills and submit to Company.', 'Later company people will verify the details whether it is correct or not and then enter the verification details into the HIT.', 'Credit manager verifies and then sanctions the amount for customers.', 'Roles & Responsibilities:', '\\uf0b7', '\\uf0b7', '\\uf0b7', '\\uf0b7', '\\uf0b7', '.Implemented Controller Classes.', '.Implemented Beans and their Validations.', '.Written Spring Service Interfaces and their implementations.', '.Written Spring DAO’s and their implementations With Hibernate.', 'Injected Spring DAO’s into Spring Services.', '\\uf0b7', '.Written Hibernate components..', 'PROJECT #3 :', 'Title          : Health Insurance Provider', 'Client                :  Apollo', 'Role                  : Java Developer', 'Team size        : 12', 'Environment : Java , Spring Core, Spring MVC, Hibernate,', 'Oracle, Tomcat, GIT,Maven.', 'Description:', 'Health Insurance Provider Application will be implemented as a product which will be useful various companies', 'offering Health Insurance. Once Customer takes the Health Insurance, we can add all information about customer', 'including personal, insurance details etc. Customer premium details will be stored in HIP and then will be tracked.', 'When customer gets the health problem and joined in the hospital, then customer should collect all the bills and', 'submit to Company. Later company people will verify the details whether it is correct or not and then enter the', 'verification details into the HIP. Credit manager verifies and then sanctions the amount for customers.', 'Roles & Responsibilities:', '\\uf0fc', '\\uf0fc', 'Involved in Client interaction on regular basis to understand the Business of the Client.', 'Involved in the Analysis, Design, Coding, modification and implementation of user requirements in the', 'application.', 'Involved in coding of Spring Controller classes in Spring MVC.', '\\uf0fc  Preparing and updating the necessary technical documents before, during and after coding.', '\\uf0fc', '\\uf0fc  Written Persistence tier components & their implementations with Hibernate.', '\\uf0fc', '\\uf0fc  Written well-designed, efficient and testable code.', 'Implemented Beans and their Validations.', 'Declaration:', 'I do hereby declare that the above-mentioned information is correct to the best of', 'my knowledge and belief.', 'Place: Bangalore', 'Mahesh.G'], 'company_names': None, 'no_of_pages': 4, 'total_experience': 0.0}\n"
     ]
    },
    {
     "name": "stderr",
     "output_type": "stream",
     "text": [
      "C:\\Users\\kambo\\anaconda3\\lib\\site-packages\\spacy\\util.py:275: UserWarning: [W031] Model 'en_training' (0.0.0) requires spaCy v2.1 and is incompatible with the current spaCy version (2.3.5). This may lead to unexpected results or runtime errors. To resolve this, download a newer compatible model or retrain your custom model with the current spaCy version. For more details and available updates, run: python -m spacy validate\n",
      "  warnings.warn(warn_msg)\n"
     ]
    },
    {
     "name": "stdout",
     "output_type": "stream",
     "text": [
      "{'name': 'Mallikarjuna Narravula', 'email': 'mallikarjuna.java18@gmail.com', 'mobile_number': '6364591557', 'skills': ['Sql', 'Rest', 'Java', 'Ordering', 'Telecom', 'Api', 'Reporting', 'Html', 'Mobile', 'Analyze', 'Database', 'Sdlc', 'Access', 'Servers', 'Logging', 'Oracle', 'Plan', 'Jira', 'Reports', 'Lifecycle', 'Technical', 'Software development life cycle', 'Inventory', 'Staffing', 'Administration', 'Coding'], 'college_name': None, 'degree': None, 'designation': ['Java Developer', 'Associate Software Engineer'], 'experience': ['Collections,  and  frameworks  like  Hibernate,  Spring  JDBC  and  Web  MVC  including', 'Spring Boot with RESTful API/Services and Microservices.', '\\uf0b7  Knowledge on all stages of Software Development Life Cycle (SDLC).', '\\uf0b7  Good at gathering and understanding requirements.', '\\uf0b7  A motivated individual to take independent responsibility as well as ability to contribute and', 'be a productive team player.', '\\uf0b7  Capable of adopting to work on new Technologies and Environments easily.', 'Professional Experience:', '\\uf0b7  Working  as  a  Software  Engineer  for  Tech  Mahindra,  Bangalore  from  Apr  2021  to  June', '2022.', '\\uf0b7  Worked as an Associate Software Engineer for TCS, Bangalore from Nov 2019 to Mar 2021.', 'Educational Qualification:', '\\uf0b7  M.Sc. from Periyar University, Salem', 'Technical Skill set:', ': JAVA/J2SE, SQL and PL/SQL', 'Languages', 'Web Technologies             : html', 'Database Technologies', 'Frameworks', 'Web Servers', 'Web Services', 'Tool’s & IDE’s', ': Oracle 11G, 12C', ': Hibernate, Spring and Spring Boot', ': Apache Tomcat', ': RESTful', ': Eclipse, STS, Log4J2, Maven, SQL PLUS, Jira and Git', 'Project Summary:', 'Project #2', 'Title', 'Client', 'Role', 'Environment', 'Description:', ': Traffic Reporting (TR2)', ': Verizon', ': Java Developer', ': Java 8, Spring Boot, JDBC, Maven, Tomcat 9, Oracle 19C', 'Traffic Reporting is the web application developed for staffing requirements. Use  TR2 to'], 'company_names': None, 'no_of_pages': 2, 'total_experience': 1.33}\n"
     ]
    },
    {
     "name": "stderr",
     "output_type": "stream",
     "text": [
      "C:\\Users\\kambo\\anaconda3\\lib\\site-packages\\spacy\\util.py:275: UserWarning: [W031] Model 'en_training' (0.0.0) requires spaCy v2.1 and is incompatible with the current spaCy version (2.3.5). This may lead to unexpected results or runtime errors. To resolve this, download a newer compatible model or retrain your custom model with the current spaCy version. For more details and available updates, run: python -m spacy validate\n",
      "  warnings.warn(warn_msg)\n"
     ]
    },
    {
     "name": "stdout",
     "output_type": "stream",
     "text": [
      "{'name': 'Manasi Aitwade', 'email': 'manasi.aitwade17@gmail.com', 'mobile_number': '8867146469', 'skills': ['Sql', 'Rest', 'Java', 'Queries', 'Telecom', 'Api', 'Design', 'Ui', 'Mobile', 'Engineering', 'Sports', 'Documentation', 'Programming', 'Servers', 'Mysql', 'Billing', 'Soap', 'Technical', 'Metrics', 'Testing'], 'college_name': None, 'degree': ['Bachelor of Engineering (ECE)'], 'designation': ['SOFTWARE DEVELOPER', 'SOFTWARE ENGINEER'], 'experience': ['Programming Language:- Java', 'SOFTWARE DEVELOPER', 'Frameworks  :- Spring, Spring Boot,', 'Hibernate, Spring Data JPA, Spring', 'Data Cassandra, SOAP and RESTful', 'webservices frameworks,', 'UI Framework :- Angular', 'Application Servers :- JBoss 7.0,', 'Apache TomCat', 'Databases:-Oracle,MYSQL,Cassandra', 'Tata Consultancy Services, Ahmedabad, Gujrat', \"TCS' HOBS (Revenue Management)   | 2019 - Present\", '- Developed RESTful Web Services using Spring boot framework to provide API for', 'functionalities like Invoice Reversal, Interim Bill Generation, Installment and others', '- Involved in developing Bulk Processing Framework using Spring Batch for Mass Billing,', 'Payment Reprocessing, Charge Event Generation, QA Billing, Last Bill Generation', '- Enhanced SOAP based web services for Interim Bill Generation, Make Payment', '- Performance testing for various components of RMS using Glowroot and DataDog tools,', 'evaluation of metrics and improve performance of the application by optimization', 'of the queries and Service calls.', '- Integrated services of the RMS module with UI using Angular framework with', 'NgRx store module', 'Tools :- Eclipse, VS-Code,', 'SQL developer, Heidi-SQL,', 'SOAP UI,POSTMAN Rest client', 'Methodology :-Agile', 'RESPONSIBILITIES', \"TCS' HOBS (Revenue Management)  | 2019 - Present\", '- Primary Owner of Collection module and Spring Batches(Design and Implementation).', '- Interacting with CE teams for new requirements and led a team of 3 members for providing', 'effective       solutions.', '- Provided active support in Demo activities for new customers.'], 'company_names': None, 'no_of_pages': 1, 'total_experience': 0.0}\n"
     ]
    },
    {
     "name": "stderr",
     "output_type": "stream",
     "text": [
      "C:\\Users\\kambo\\anaconda3\\lib\\site-packages\\spacy\\util.py:275: UserWarning: [W031] Model 'en_training' (0.0.0) requires spaCy v2.1 and is incompatible with the current spaCy version (2.3.5). This may lead to unexpected results or runtime errors. To resolve this, download a newer compatible model or retrain your custom model with the current spaCy version. For more details and available updates, run: python -m spacy validate\n",
      "  warnings.warn(warn_msg)\n"
     ]
    },
    {
     "name": "stdout",
     "output_type": "stream",
     "text": [
      "{'name': 'Core Java', 'email': 'MANIMANICSE11@GMAIL.COM', 'mobile_number': '8296877554', 'skills': ['Sql server', 'Sql', 'Java', 'System', 'Spark', 'Html', 'Javascript', 'Json', 'Hive', 'Architecture', 'Database', 'Health', 'Mysql', 'Jsp', 'Datasets', 'Process', 'Workflow', 'Visual', 'Css', 'Auditing', 'Js', 'Technical', 'Asset management'], 'college_name': None, 'degree': None, 'designation': ['Software Engineer'], 'experience': ['UST GLOBAL PVT LTD', 'Apr 22 - sep22', 'Software Engineer', 'FORAY SOFTWARE PVT LTD', \"May'21-April 22(11 months)\", 'Software Engineer', 'RCS TECHNOLOGIES, BANGALORE', 'Dec’17 – Apr’21(3.5years)', 'Software Engineer'], 'company_names': ['RCS TECHNOLOGIES'], 'no_of_pages': 4, 'total_experience': 0.0}\n"
     ]
    },
    {
     "name": "stderr",
     "output_type": "stream",
     "text": [
      "C:\\Users\\kambo\\anaconda3\\lib\\site-packages\\spacy\\util.py:275: UserWarning: [W031] Model 'en_training' (0.0.0) requires spaCy v2.1 and is incompatible with the current spaCy version (2.3.5). This may lead to unexpected results or runtime errors. To resolve this, download a newer compatible model or retrain your custom model with the current spaCy version. For more details and available updates, run: python -m spacy validate\n",
      "  warnings.warn(warn_msg)\n"
     ]
    },
    {
     "name": "stdout",
     "output_type": "stream",
     "text": [
      "{'name': 'E R', 'email': 'manisha.abdar07@gmail.com', 'mobile_number': '559 3097', 'skills': ['Rest', 'Java', 'Api', 'Agile', 'Design', 'Ui', 'Html', 'Javascript', 'Mobile', 'Excel', 'Presentation', 'Database', 'Sdlc', 'Continuous improvement', 'Debugging', 'Analysis', 'Programming', 'Servers', 'Improvement', 'Mysql', 'Specifications', 'Jsp', 'English', 'Oracle', 'Jira', 'P', 'Writing', 'R', 'Lifecycle', 'Requests', 'Information technology', 'Html5', 'Css', 'Word', 'Project management', 'C', 'Testing', 'Coding'], 'college_name': None, 'degree': None, 'designation': ['Java Developer'], 'experience': ['o', 'o  Java backend development experience.', 'I used Git as a version control tool while working on the project.', 'T E C H N I C A L   S K I L L S', 'o  Languages', 'o  Core Java', 'o  Web Technologies', 'o  Databases', 'o  Frameworks', 'o  Version Control Tool', 'o  Agile Tools', 'o  Servers', 'o', 'IDE’s', 'o  Microsoft Office', 'o  Another tool', ': Java 8, JavaScript', ': HashMap, Collection Framework, String Class', ': JavaScript, HTML5, CSS3, Angular6', ': MySQL5, Oracle 11g', ': Spring MVC 4.x, Hibernate 4.x, Spring Boot 2.x', ': Git, SVN.', ': JIRA', ': Apache Tomcat 9.x', ': Eclipse, STS-4, VS Code', ': Excel, Power Point Presentation, Word.', ': Postman', 'P R O J E C T   D E T A I L S', 'o  Project Name: Corlio', 'o  Client Name: Inditex, Spain', 'o  Domain: E-commerce domain', 'o  Project Description:', 'o  Corlio is a portal which allows merchants in developing more counters to advertise and sell', 'their products. This would permit rural Communities to make their wares available to the rest'], 'company_names': ['Oracle', 'E X P E R I E N'], 'no_of_pages': 3, 'total_experience': 0.0}\n"
     ]
    },
    {
     "name": "stderr",
     "output_type": "stream",
     "text": [
      "C:\\Users\\kambo\\anaconda3\\lib\\site-packages\\spacy\\util.py:275: UserWarning: [W031] Model 'en_training' (0.0.0) requires spaCy v2.1 and is incompatible with the current spaCy version (2.3.5). This may lead to unexpected results or runtime errors. To resolve this, download a newer compatible model or retrain your custom model with the current spaCy version. For more details and available updates, run: python -m spacy validate\n",
      "  warnings.warn(warn_msg)\n"
     ]
    },
    {
     "name": "stdout",
     "output_type": "stream",
     "text": [
      "{'name': 'MP M', 'email': 'MARUTHIPRASADM96@GMAIL.COM', 'mobile_number': '9666788755', 'skills': ['Jsp', 'Sql', 'Java', 'Billing', 'Scrum', 'Pharmaceutical', 'Updates', 'Testing', 'Operations', 'Design', 'Jira', 'Access', 'Agile', 'Writing', 'Aws', 'Regulatory', 'Mysql'], 'college_name': None, 'degree': ['DEGREE • 2014', 'B.com'], 'designation': ['Java developer'], 'experience': ['Spring, Spring Boot & JPA', 'frameworks.', 'SOFTWARE ENGINEER• GENPACT • MAR 2018 – TO TILL DATE', 'Used Java Technologies to develop web applications for client', 'server environments and add functionalities to existing', 'applications.', 'Play a Vital role as a part of agile scrum team accountable,', 'developing new applications using Spring Boot & Micro-Services.'], 'company_names': None, 'no_of_pages': 3, 'total_experience': 0.0}\n"
     ]
    },
    {
     "name": "stderr",
     "output_type": "stream",
     "text": [
      "C:\\Users\\kambo\\anaconda3\\lib\\site-packages\\spacy\\util.py:275: UserWarning: [W031] Model 'en_training' (0.0.0) requires spaCy v2.1 and is incompatible with the current spaCy version (2.3.5). This may lead to unexpected results or runtime errors. To resolve this, download a newer compatible model or retrain your custom model with the current spaCy version. For more details and available updates, run: python -m spacy validate\n",
      "  warnings.warn(warn_msg)\n"
     ]
    },
    {
     "name": "stdout",
     "output_type": "stream",
     "text": [
      "{'name': 'Tamil Nadu', 'email': 'India+91-8760855125mukeshvignesh1558@gmail.comCERTIFICATION1.', 'mobile_number': '8760855125', 'skills': ['Sql', 'Website', 'Java', 'Rest', 'Pattern', 'Api', 'Agile', 'Design', 'Html', 'Javascript', 'Json', 'Database', 'Access', 'Crm', 'Programming', 'Mysql', 'Jsp', 'Security', 'Process', 'Jira', 'Visual', 'Aws', 'Html5', 'Css', 'Selenium', 'Salesforce', 'Testing', 'Front-end'], 'college_name': None, 'degree': None, 'designation': None, 'experience': [], 'company_names': None, 'no_of_pages': 2, 'total_experience': 0.0}\n"
     ]
    },
    {
     "name": "stderr",
     "output_type": "stream",
     "text": [
      "C:\\Users\\kambo\\anaconda3\\lib\\site-packages\\spacy\\util.py:275: UserWarning: [W031] Model 'en_training' (0.0.0) requires spaCy v2.1 and is incompatible with the current spaCy version (2.3.5). This may lead to unexpected results or runtime errors. To resolve this, download a newer compatible model or retrain your custom model with the current spaCy version. For more details and available updates, run: python -m spacy validate\n",
      "  warnings.warn(warn_msg)\n"
     ]
    },
    {
     "name": "stdout",
     "output_type": "stream",
     "text": [
      "{'name': 'Mukta Joshi', 'email': 'muktasj07@gmail.com', 'mobile_number': '9075940443', 'skills': ['Xml', 'Java', 'Email', 'Api', 'Analytical', 'Agile', 'Design', 'Html', 'Javascript', 'Mobile', 'Json', 'Database', 'Engineering', 'Mysql', 'Jsp', 'Process', 'Sales', 'R', 'Marketing', 'Strategy', 'Css', 'Inventory', 'Pdf', 'Product design', 'Advertising', 'Testing'], 'college_name': None, 'degree': None, 'designation': None, 'experience': ['\\uf0b7  Testing WebServices using postman', '\\uf0b7  Generating pdf document using API', '\\uf0b7  Integrating email sending services', '\\uf0b7  Configuring application. properties file'], 'company_names': None, 'no_of_pages': 2, 'total_experience': 0.0}\n"
     ]
    },
    {
     "name": "stderr",
     "output_type": "stream",
     "text": [
      "C:\\Users\\kambo\\anaconda3\\lib\\site-packages\\spacy\\util.py:275: UserWarning: [W031] Model 'en_training' (0.0.0) requires spaCy v2.1 and is incompatible with the current spaCy version (2.3.5). This may lead to unexpected results or runtime errors. To resolve this, download a newer compatible model or retrain your custom model with the current spaCy version. For more details and available updates, run: python -m spacy validate\n",
      "  warnings.warn(warn_msg)\n"
     ]
    },
    {
     "name": "stdout",
     "output_type": "stream",
     "text": [
      "{'name': 'NAG ARJUN', 'email': 'nagarjuna.m34@outlook.com', 'mobile_number': '9491654117', 'skills': ['Xml', 'Email', 'Java', 'Windows', 'Analytical', 'Controls', 'Design', 'Ui', 'Html', 'Mobile', 'Architecture', 'Database', 'Sdlc', 'Engineering', 'Programming', 'Analysis', 'Servers', 'Mysql', 'Jsp', 'Visio', 'English', 'Research', 'Oracle', 'Jira', 'Writing', 'Modeling', 'Requests', 'Css', 'Operations', 'Technical', 'Software development life cycle', 'Microsoft visio', 'Testing'], 'college_name': None, 'degree': None, 'designation': None, 'experience': ['Working as a Software Engineer with Niranth Technologies  from Mar-2018 to till date', 'Technical Skills:', 'Java Technologies        :            Java, JSP', 'Databases                     :            MySQL', 'Web/App Servers        :            Tomcat', 'IDE                                  :            Eclipse, My Eclipse and STS', 'Operating Systems      :            Windows family', 'Frameworks                  :            Spring, Hibernate', 'Tools                              :            Maven, Gradle, Git, Log4j, JIRA', 'Educational Qualification:', 'B.Tech [IT] from Sir C. R. Reddy College of Engineering, Eluru.', 'PROJECT DETAILS:', 'Project # 1:', 'Name                      : CANJEAR', 'Duration                 : Feb 2020 to till date.', 'Environment         : Java, JSP, Spring, Spring Boot, Hibernate and Oracle', 'Role                         : Developer', 'Description:', 'It’s a buy or exchange shopping cart in that we provide array of services to our customers', 'helping them in buying or selling products and exchange the products to them. We provide', 'services like exchange the product with other items in the store and also provide classifieds', 'for the customer to buy the products.', 'Responsibilities:', '\\uf0b7', 'Involved  in  development  of  Web  Forms,  classes using  JAVA  that  incorporates both', 'N- Tier Architecture, and Database Connectivity', '\\uf0b7  Developed Web Forms using JSP,HTML and CSS', '\\uf0b7  Developed Component classes using MVC patterns', '\\uf0b7  Developed Persistence layer using Hibernate framework', '\\uf0b7  Created server controls using Spring Controller classes', '\\uf0b7  Used AJAX to send asynchronous requests to server', '\\uf0b7', 'Involved in code review', '\\uf0b7', 'Involved in the Unit test and Integration testing', '\\uf0b7  Supported for SIT and UAT phases for defects fixing', 'Project # 2:', 'Name                                    :            Navikarana Fresh Mart', 'Role                                       :            Developer', 'Duration                               :            June-2019 to Jan-2020.', 'Environment                       :            Java, JSP, Hibernate, AJAX, and MySQL.', 'Description', 'It’s an online shopping cart in that I have worked developing and processing the backend.', 'Collecting the business data and writing services to store the data in database. And retrieving', 'the products from database and rendering on View cart .I have worked on admin portal for', 'that project', 'Responsibilities', '\\uf0b7', '\\uf0b7', 'Involved in gathering the requirements, analysis, design & development of the project.', 'Involved  in  development  of  Web  Forms,  classes using  JAVA  that  incorporates both', 'N- Tier Architecture, and Database Connectivity', '\\uf0b7  Developed UI using JSP, HTML and CSS', '\\uf0b7  Developed classes using MVC patterns', '\\uf0b7  Developed Persistence layer using Hibernate framework', 'Personal Details:', 'Name', 'S/O', 'D.O.B', 'Gender', 'Languages Known : English and Telugu.', 'Marital Status', ': NAGARJUNA MUSHINI', ': M. Nageswara Rao', ': 4th Dec 1992', ': Male', ': Single', 'PLACE: Kothapeta', 'DATE: 07-10-2022', '[NAGARJUNA]'], 'company_names': None, 'no_of_pages': 2, 'total_experience': 0.0}\n"
     ]
    },
    {
     "name": "stderr",
     "output_type": "stream",
     "text": [
      "C:\\Users\\kambo\\anaconda3\\lib\\site-packages\\spacy\\util.py:275: UserWarning: [W031] Model 'en_training' (0.0.0) requires spaCy v2.1 and is incompatible with the current spaCy version (2.3.5). This may lead to unexpected results or runtime errors. To resolve this, download a newer compatible model or retrain your custom model with the current spaCy version. For more details and available updates, run: python -m spacy validate\n",
      "  warnings.warn(warn_msg)\n"
     ]
    },
    {
     "name": "stdout",
     "output_type": "stream",
     "text": [
      "{'name': 'NAGABABU BATTHULA', 'email': 'nagababu.bathula123@gmail.com', 'mobile_number': '6302871380', 'skills': ['Technical skills', 'Payments', 'Pattern', 'Java', 'Api', 'Design', 'Communication', 'Mobile', 'Database', 'Debugging', 'Programming', 'Mysql', 'Security', 'Oracle', 'Workflow', 'Merchant', 'Writing', 'Requests', 'Technical', 'Administration'], 'college_name': None, 'degree': None, 'designation': None, 'experience': ['\\uf06c  Good team member, positive attitude and result oriented Self-', 'motivated, quick learner, willing to adapt to new challenges & new', 'technologies.', 'TECHNICAL SKILLS:', 'Programming', 'Languages', '•', '•  JEE Technologies', '•', 'Web/Application', 'Server', '•  Development Tools', '•  Frameworks', ':', ':', ':', ':', ':', 'Java, J2EE', 'Servlets, JDBC.', 'Apache Tomcat', 'Eclipse', 'Hibernate, Spring.', '•  Database', ':', 'Oracle,MySQL', 'Public', 'Project', 'Experience:', 'Project #1                     :    :            IDPAY', 'Environment', ':', 'Java, J2EE, Spring, Hibernate,', 'Apache Tomcat 7.0, Oracle 10g, Eclipse', 'Description: A payment gateway is a merchant service provided by an e-', 'commerce  application  service  provider  that  authorizes  credit  card  or', 'direct payments processing for e-businesses, online retailers.', 'Roles & Responsibilities:', '\\uf0b7  Understanding the functional and technical specification.', '\\uf0b7  Responsible for writing the Domain Classes of Hibernate.', '\\uf0b7  Implemented the application using Spring MVC Framework which is', 'based on Model View Controller design pattern', '\\uf0b7  Writing Controller classes for handling requests, processing form', 'submissions.', '\\uf0b7  Used Spring Hibernate DAO Support to communicate With Hibernate.', '\\uf0b7  Developed Persistence layer using Hibernate API.', 'Project #2                  :', ':            DOCUMENTUM', 'Environment', ':', 'Apache Tomcat 7.0, Eclipse', 'Java, J2EE, Spring, Hibernate,', 'Description:  Documentum  is  Document  Management  software,  which', 'means that  it provides a  vault in  which  to  store  your documents.  Rather', 'than keeping their important files on a fileserver, companies put them in', 'Document Management systems.', 'Key Features :', '\\uf0b7  Security', '\\uf0b7  Versin controlling', '\\uf0b7  Search engine', 'Roles & Responsibilities:', 'Public', '\\uf0b7  Understanding the workflow and technical specification.', '\\uf0b7  Responsible for writing the Domain Classes in documentum .', '\\uf0b7  Implemented the application using Spring MVC Framework which is', 'based on Model View Controller design pattern', '\\uf0b7  Writing Controller classes for handling requests, processing form', 'submissions.', '\\uf0b7  Used Spring Hibernate DAO Support to communicate With Hibernate.', '\\uf0b7  Developed Persistence layer using Hibernate API.', 'PERSONAL SKILLS:', '\\uf0b7  Self-confidence and Time maintenance.', '\\uf0b7  Hard working with a quest and zeal to learn new concepts'], 'company_names': None, 'no_of_pages': 3, 'total_experience': 0.0}\n"
     ]
    },
    {
     "name": "stderr",
     "output_type": "stream",
     "text": [
      "C:\\Users\\kambo\\anaconda3\\lib\\site-packages\\spacy\\util.py:275: UserWarning: [W031] Model 'en_training' (0.0.0) requires spaCy v2.1 and is incompatible with the current spaCy version (2.3.5). This may lead to unexpected results or runtime errors. To resolve this, download a newer compatible model or retrain your custom model with the current spaCy version. For more details and available updates, run: python -m spacy validate\n",
      "  warnings.warn(warn_msg)\n"
     ]
    },
    {
     "name": "stdout",
     "output_type": "stream",
     "text": [
      "{'name': 'NagarjunaAtla                                                                     ', 'email': 'Email:atlanagarjuna008@gmail.com', 'mobile_number': '9441547225', 'skills': ['Sql', 'Java', 'Queries', 'Windows', 'Api', 'Analytical', 'System', 'Agile', 'Statistics', 'Design', 'Conversion', 'Reporting', 'Ui', 'Html', 'Mobile', 'Presentation', 'Database', 'Access', 'Engineering', 'Programming', 'Documentation', 'Sports', 'Servers', 'Analysis', 'Ibm', 'Jsp', 'Linux', 'Transportation', 'Transactions', 'Logging', 'English', 'Retail', 'Oracle', 'Process', 'Regulations', 'Jira', 'Reports', 'Development activities', 'Financing', 'Js', 'Money', 'Technical', 'Pdf', 'Testing', 'Coding'], 'college_name': None, 'degree': None, 'designation': ['Email:atlanagarjuna008@gmail.com', 'Senior Engineer', 'Lead Engineer'], 'experience': [], 'company_names': None, 'no_of_pages': None, 'total_experience': 0.0}\n"
     ]
    },
    {
     "name": "stderr",
     "output_type": "stream",
     "text": [
      "C:\\Users\\kambo\\anaconda3\\lib\\site-packages\\spacy\\util.py:275: UserWarning: [W031] Model 'en_training' (0.0.0) requires spaCy v2.1 and is incompatible with the current spaCy version (2.3.5). This may lead to unexpected results or runtime errors. To resolve this, download a newer compatible model or retrain your custom model with the current spaCy version. For more details and available updates, run: python -m spacy validate\n",
      "  warnings.warn(warn_msg)\n"
     ]
    },
    {
     "name": "stdout",
     "output_type": "stream",
     "text": [
      "{'name': 'CONTACT Bangalore', 'email': 'nanditha.vivek09@gmail.com', 'mobile_number': '7829508044', 'skills': ['Wordpress', 'Website', 'Email', 'Computer applications', 'C++', 'Schedules', 'Editing', 'Design', 'Communication', 'Html', 'Javascript', 'Mobile', 'Operating systems', 'Photoshop', 'Content', 'Engineering', 'Programming', 'Internal stakeholders', 'Adobe creative suite', 'Oracle', 'Workflow', 'Writing', 'Adobe', 'Marketing', 'Test cases', 'Css', 'Operations', 'Technical', 'C', 'Cloud', 'Testing', 'Coding'], 'college_name': None, 'degree': ['BCA (Bachelor Of Computer Applications) – RPA Association  \\ncollege', 'Master Of Computer Applications) – AMC Engineering  \\nCollege', 'MCA'], 'designation': ['Associate Software Engineer'], 'experience': ['programming applications.', '- Dedicated team player; ability to thrive in a fast-paced environment;', 'solid ability in both written and verbal communication knowledge of', 'programming language and technical terminology; able to develop', 'ideas and processes and clearly express them; able to solve complex', 'problems.'], 'company_names': None, 'no_of_pages': 2, 'total_experience': 0.0}\n"
     ]
    },
    {
     "name": "stderr",
     "output_type": "stream",
     "text": [
      "C:\\Users\\kambo\\anaconda3\\lib\\site-packages\\spacy\\util.py:275: UserWarning: [W031] Model 'en_training' (0.0.0) requires spaCy v2.1 and is incompatible with the current spaCy version (2.3.5). This may lead to unexpected results or runtime errors. To resolve this, download a newer compatible model or retrain your custom model with the current spaCy version. For more details and available updates, run: python -m spacy validate\n",
      "  warnings.warn(warn_msg)\n"
     ]
    },
    {
     "name": "stdout",
     "output_type": "stream",
     "text": [
      "{'name': 'Microsoft Certified', 'email': 'adc1612@hotmail.com', 'mobile_number': '9100946308', 'skills': ['Sql server', 'Sql', 'Email', 'Api', 'System', 'Design', 'Healthcare', 'Reporting', 'Spark', 'Excel', 'Banking', 'Kpis', 'Analyze', 'Content', 'Database', 'Training', 'Engineering', 'Analysis', 'Analytics', 'English', 'Retail', 'Oracle', 'Sales', 'Reports', 'Modeling', 'Etl', 'Technical'], 'college_name': None, 'degree': None, 'designation': None, 'experience': ['.', 'Contributions:', 'Fractal Analytics  Aug 2018-Nov', 'feasibility analysis of the same', '2021', '•  Gathered business requirements from customer & did', '•  Extracted raw data from Oracle Database marts and excel', 'files', '•  Performed data modeling using Joins/mappings & QVDs', 'creation for faster data reload to QlikView applications', '•  Designed & developed QlikView apps using various', 'objects/charts', '•  Provided custom functionality to each object using Set', 'Analysis', '•  Developed dashboard provides KPIs like Average', 'transaction, Average Transaction per Customer, Average', 'Sales, Average Sales per Customer', 'Infosys Pvt Ltd', '2019', 'Jan 2015-July', '2018', 'Educational Details', 'Bachelor of', 'Engineering', '(2010-2014)', 'Rajiv Gandhi', 'Technical', 'University', '10+2 (2010)', 'CBSE', '10 (2008)', 'CBSE'], 'company_names': None, 'no_of_pages': 2, 'total_experience': 0.0}\n"
     ]
    },
    {
     "name": "stderr",
     "output_type": "stream",
     "text": [
      "C:\\Users\\kambo\\anaconda3\\lib\\site-packages\\spacy\\util.py:275: UserWarning: [W031] Model 'en_training' (0.0.0) requires spaCy v2.1 and is incompatible with the current spaCy version (2.3.5). This may lead to unexpected results or runtime errors. To resolve this, download a newer compatible model or retrain your custom model with the current spaCy version. For more details and available updates, run: python -m spacy validate\n",
      "  warnings.warn(warn_msg)\n"
     ]
    },
    {
     "name": "stdout",
     "output_type": "stream",
     "text": [
      "{'name': None, 'email': None, 'mobile_number': None, 'skills': [], 'college_name': None, 'degree': None, 'designation': None, 'experience': None, 'company_names': None, 'no_of_pages': None, 'total_experience': 0}\n"
     ]
    },
    {
     "name": "stderr",
     "output_type": "stream",
     "text": [
      "C:\\Users\\kambo\\anaconda3\\lib\\site-packages\\spacy\\util.py:275: UserWarning: [W031] Model 'en_training' (0.0.0) requires spaCy v2.1 and is incompatible with the current spaCy version (2.3.5). This may lead to unexpected results or runtime errors. To resolve this, download a newer compatible model or retrain your custom model with the current spaCy version. For more details and available updates, run: python -m spacy validate\n",
      "  warnings.warn(warn_msg)\n"
     ]
    },
    {
     "name": "stdout",
     "output_type": "stream",
     "text": [
      "{'name': 'Akshata D', 'email': 'asnaikode@gmail.com', 'mobile_number': '8669362485', 'skills': ['Sql server', 'Sql', 'Shell', 'Email', 'Telecom', 'Certification', 'System', 'Agile', 'Communication', 'Payroll', 'Presentation', 'Scrum', 'Database', 'Sdlc', 'Construction', 'Engineering', 'Analysis', 'Ibm', 'Unix', 'Crm', 'Scripting', 'Access', 'Tv', 'Billing', 'Warehouse', 'English', 'Retail', 'Oracle', 'Sales', 'Reports', 'Hp alm', 'Mining', 'Test cases', 'Technical', 'Testing'], 'college_name': None, 'degree': None, 'designation': ['Senior software Engineer'], 'experience': [], 'company_names': ['Microsoft'], 'no_of_pages': None, 'total_experience': 0.0}\n"
     ]
    },
    {
     "name": "stderr",
     "output_type": "stream",
     "text": [
      "C:\\Users\\kambo\\anaconda3\\lib\\site-packages\\spacy\\util.py:275: UserWarning: [W031] Model 'en_training' (0.0.0) requires spaCy v2.1 and is incompatible with the current spaCy version (2.3.5). This may lead to unexpected results or runtime errors. To resolve this, download a newer compatible model or retrain your custom model with the current spaCy version. For more details and available updates, run: python -m spacy validate\n",
      "  warnings.warn(warn_msg)\n"
     ]
    },
    {
     "name": "stdout",
     "output_type": "stream",
     "text": [
      "{'name': None, 'email': None, 'mobile_number': None, 'skills': [], 'college_name': None, 'degree': None, 'designation': None, 'experience': None, 'company_names': None, 'no_of_pages': None, 'total_experience': 0}\n"
     ]
    },
    {
     "name": "stderr",
     "output_type": "stream",
     "text": [
      "C:\\Users\\kambo\\anaconda3\\lib\\site-packages\\spacy\\util.py:275: UserWarning: [W031] Model 'en_training' (0.0.0) requires spaCy v2.1 and is incompatible with the current spaCy version (2.3.5). This may lead to unexpected results or runtime errors. To resolve this, download a newer compatible model or retrain your custom model with the current spaCy version. For more details and available updates, run: python -m spacy validate\n",
      "  warnings.warn(warn_msg)\n"
     ]
    },
    {
     "name": "stdout",
     "output_type": "stream",
     "text": [
      "{'name': 'ANIRBAN GHOSH', 'email': 'AnirbanGhoshaz@gmail.com', 'mobile_number': '8722122007', 'skills': ['Sql server', 'Sql', 'Email', 'Java', 'Automation', 'Analytical', 'Migration', 'Design', 'Conversion', 'Reporting', 'Spark', 'Interactive', 'Analyze', 'Brand', 'Database', 'Sdlc', 'Engineering', 'Analytics', 'Instrumentation', 'Warehouse', 'Customer requirements', 'Budget', 'Pyspark', 'Plan', 'Reports', 'Matrix', 'Itil', 'Etl', 'Selenium', 'Cloud', 'Tableau'], 'college_name': None, 'degree': ['Playing Badminton', 'B. Tech in Instrumentation Engineering'], 'designation': ['Automation Quality Engineer', 'Senior Quality Engineer', 'Senior Software Engineer', 'Azure Data Engineer'], 'experience': ['Extracted data from sources and transformed the data using different transformations like data', 'conversion, Derived columns, look up, Conditional Split, Aggregate, Union all, merge join and multi', 'cast transformations.', 'Analyze the DAX query to properly calculate the data.', 'As per requirements developed the reports in the form of Matrix, Table and Chart using SQL Server', '2012 Reporting Services.', 'Senior Quality Engineer                                                                            Feb 2014 – Jan 2018', 'Client - CondeNast Digital                                                                                           Bangalore, India', 'Project Role -Worked as a ETL and Selenium Java Quality Engineer', 'Senior Quality Engineer                                                                            Mar 2012 – Jan 2014', 'Client – P&G                                                                                                               Bangalore, India', 'Project Role -Worked as an Automation Quality Engineer', 'Senior Quality Engineer                                                                            Mar 2010 – Feb 2012', 'Client – LTGICL                                                                                                         Mumbai, India', 'Project Role -Worked as an Automation Quality Engineer', 'CERTIFICATES', '➢  Microsoft Azure Data Engineer -DP-203', '➢  Microsoft Azure Data Fundamentals -DP-900', '➢  Microsoft Azure Fundamentals-AZ-900', '➢  DevOps Certified -CP DOF', '➢  Alteryx Designer Core Certified'], 'company_names': ['Description- Broadridge Financial Solutions', 'Microsoft', 'AnirbanGhoshaz@gmail.com', 'Azure Logic'], 'no_of_pages': 3, 'total_experience': 7.67}\n"
     ]
    },
    {
     "name": "stderr",
     "output_type": "stream",
     "text": [
      "C:\\Users\\kambo\\anaconda3\\lib\\site-packages\\spacy\\util.py:275: UserWarning: [W031] Model 'en_training' (0.0.0) requires spaCy v2.1 and is incompatible with the current spaCy version (2.3.5). This may lead to unexpected results or runtime errors. To resolve this, download a newer compatible model or retrain your custom model with the current spaCy version. For more details and available updates, run: python -m spacy validate\n",
      "  warnings.warn(warn_msg)\n"
     ]
    },
    {
     "name": "stdout",
     "output_type": "stream",
     "text": [
      "{'name': 'Ankit Kumar', 'email': 'ankit.krsaha@gmail.com', 'mobile_number': '9779045472', 'skills': ['Sql server', 'Sql', 'Business process', 'Email', 'Queries', 'Automation', 'Sap', 'Certification', 'Api', 'System', 'Migration', 'Ms excel', 'Ai', 'Design', 'Reporting', 'Mobile', 'Excel', 'Json', 'Data analytics', 'Architecture', 'Sharepoint', 'Database', 'Health', 'Training', 'Engineering', 'Analysis', 'Analytics', 'Scripting', 'Security', 'Warehouse', 'English', 'Process', 'Pyspark', 'Jira', 'Reports', 'Sales', 'Plan', 'Visual', 'Marketing', 'Etl', 'Technical', 'Finance', 'Metrics', 'Cloud', 'Testing', 'Python'], 'college_name': None, 'degree': ['Bachelor of Technology-ECE \\n\\n EDUCATION  \\n\\nSKILLS'], 'designation': ['Cloud Data Engineer', 'Data Analyst Associate'], 'experience': ['KPMG', 'Cloud Data Engineer', 'JOB Responsibilities: -', 'Gurugram, Haryana', 'Oct 2021 – Present', '●  Spearheaded Engagements for multiple key accounts, leading team of 4 people and generating  1.2+ Crore in revenue', 'annually.', 'Increased efficiency by 30% via automating business Process by using Python, ADF, Logic Apps.', 'Integration of GCP with Azure for Vertex AI model Training.', '●  Conceptualized & developed 10+ automation solution using python/Databricks for finance and Renewable Energy client.', '●', '●', '●  Automation of Model Training, Price Forecast Batch Prediction automation on GCP using Cloud Function.', '●  Development of ADF pipelines for extracting data from heterogenous Sources including SAP BW.'], 'company_names': ['Microsoft', 'LOVELY PROFESSIONAL UNIVERSITY', 'Power Trading Automation'], 'no_of_pages': 3, 'total_experience': 1.17}\n"
     ]
    },
    {
     "name": "stderr",
     "output_type": "stream",
     "text": [
      "C:\\Users\\kambo\\anaconda3\\lib\\site-packages\\spacy\\util.py:275: UserWarning: [W031] Model 'en_training' (0.0.0) requires spaCy v2.1 and is incompatible with the current spaCy version (2.3.5). This may lead to unexpected results or runtime errors. To resolve this, download a newer compatible model or retrain your custom model with the current spaCy version. For more details and available updates, run: python -m spacy validate\n",
      "  warnings.warn(warn_msg)\n"
     ]
    },
    {
     "name": "stdout",
     "output_type": "stream",
     "text": [
      "{'name': 'Anwarullah Raza', 'email': 'anwarullahraza@outlook.com', 'mobile_number': '9798660638', 'skills': ['Sql', 'Queries', 'Certification', 'Analytical', 'System', 'Design', 'Reporting', 'Communication', 'Spark', 'Computer science', 'Mobile', 'Database', 'Documentation', 'Analysis', 'Unix', 'Data analysis', 'Specifications', 'Warehouse', 'Affiliate', 'English', 'Workflow', 'Reports', 'Engagement', 'Writing', 'Modeling', 'Technical issues', 'Workflows', 'Troubleshooting', 'Requests', 'Mining', 'Information technology', 'Algorithms', 'Etl', 'Technical', 'Operations', 'Cloud', 'Python'], 'college_name': None, 'degree': ['B-tech (Computer Science and Information Technology)'], 'designation': ['Software Engineer', 'SQL Analyst Associate- Databricks', 'Associate Software engineer'], 'experience': ['Total IT Experience: 2 Years and 9 months  as  Software Engineer with Tech Mahindra Ltd Noida', 'PROJECT 2: ENTERPRISE DATA WAREHOUSE BIDW', 'Tech Mahindra Ltd', 'AT&T', 'Software Engineer', 'September  2020 – Present', 'Noida (India)', 'Organization:', 'Client:', 'Role:', 'Duration:', 'Location:', 'The EDW consolidates business information from multiple regional and affiliate operational sources to be used', 'for decision-making. The data stored in the EDW is often historical in nature which gives users the ability to', \"perform data mining to look for trends that can help to improve operations of AT&T's Business Units. The\", 'project involved developing and supporting enhancement tasks for all the batch jobs in the form of workflows', 'that run on Azure Cloud  and store data in Azure Datalake and Snowflake .', 'Technical Responsibilities:', '\\uf0b7  Requirements Gathering – Requirement Refinement and understanding.', '\\uf0b7  Algorithm writing and Physical Data modelling .', '\\uf0b7  Development & Implementation of custom jobs on Azure Data factory and Databricks.', '\\uf0b7  Writing custom scripts for load/export of data from time to time for adhoc requirements using', 'Databricks  and Spark utilities as per requirement .', '\\uf0b7  Performance tuning, bug fixing and error handling of the queries used in scripts .', '\\uf0b7  Creating/modifying Tables, Views, Stored Procedures and different type of Indexes in', 'Snowflake  datawarehouse.', '\\uf0b7  Data cleansing  and exploratory data analysis.', '\\uf0b7  Developing & designing ETL/ELT  logic by  import / export  and load data from different source systems.', '\\uf0b7  Working with different tier teams for various daily issues .', 'PROJECT 1 : ORDER MANAGEMENT SYSTEM', 'Organization:', 'Client:', 'Role:', 'Duration:', 'Location:', 'Tech Mahindra Ltd', 'AT&T', 'Associate Software engineer', 'Aug 2019 to August  2020', 'Noida  (India)', 'OMS stores data from the source system OMS to provide customer, trouble case and interaction data for', 'reporting and metric purposes. The application was designed to receive and load 86 source files 6 times', 'daily from the OMS source system. All of the OMS source files arrive at the UNIX platform and then the', 'load ready files gets loaded to Teradata tables. The entire system is further used to develop reports and', 'generate trends.', 'Technical Responsibilities:', '\\uf0b7  Analyzed the business requirements and functional specifications.', '\\uf0b7  Prepared various JCLs to load the data into different  Staging and Target tables.', '\\uf0b7  Loading data on adhoc requests through mload and fastload scripts', '\\uf0b7  Tuning queries failing because of spool errors, space issue or table entry issues.', '\\uf0b7  Addressing  technical  issues  pertaining  to  database  performance,  hang,  database  restart, individual', 'SQL performance bottlenecks.', '\\uf0b7  Tuning Informatica  workflow manager  and  designer  properties  for  increasing  the  throughput  of  the', 'sessions .', '\\uf0b7  Handling regular failures on mainframe due to table lock, key violation and data issues .', '\\uf0b7  Collaborating  with  different  teams/unit  for  resolving  production  issues,  performing  live  analysis  of', 'production as well development environment pertaining to database system performance.', 'PERSONAL DETAILS', 'Present address', 'Marital Status', 'Nationality', 'Language Known', ': Dhanbad, Jharkhand', ': Unmarried', ': Indian', ': English, Urdu and Hindi', 'I hereby declare that the above stated details are true to the best of my knowledge.'], 'company_names': ['Tech Mahindra Ltd'], 'no_of_pages': 3, 'total_experience': 0.0}\n"
     ]
    },
    {
     "name": "stderr",
     "output_type": "stream",
     "text": [
      "C:\\Users\\kambo\\anaconda3\\lib\\site-packages\\spacy\\util.py:275: UserWarning: [W031] Model 'en_training' (0.0.0) requires spaCy v2.1 and is incompatible with the current spaCy version (2.3.5). This may lead to unexpected results or runtime errors. To resolve this, download a newer compatible model or retrain your custom model with the current spaCy version. For more details and available updates, run: python -m spacy validate\n",
      "  warnings.warn(warn_msg)\n"
     ]
    },
    {
     "name": "stdout",
     "output_type": "stream",
     "text": [
      "{'name': None, 'email': None, 'mobile_number': None, 'skills': [], 'college_name': None, 'degree': None, 'designation': None, 'experience': None, 'company_names': None, 'no_of_pages': None, 'total_experience': 0}\n"
     ]
    },
    {
     "name": "stderr",
     "output_type": "stream",
     "text": [
      "C:\\Users\\kambo\\anaconda3\\lib\\site-packages\\spacy\\util.py:275: UserWarning: [W031] Model 'en_training' (0.0.0) requires spaCy v2.1 and is incompatible with the current spaCy version (2.3.5). This may lead to unexpected results or runtime errors. To resolve this, download a newer compatible model or retrain your custom model with the current spaCy version. For more details and available updates, run: python -m spacy validate\n",
      "  warnings.warn(warn_msg)\n"
     ]
    },
    {
     "name": "stdout",
     "output_type": "stream",
     "text": [
      "{'name': None, 'email': None, 'mobile_number': None, 'skills': [], 'college_name': None, 'degree': None, 'designation': None, 'experience': None, 'company_names': None, 'no_of_pages': None, 'total_experience': 0}\n"
     ]
    },
    {
     "name": "stderr",
     "output_type": "stream",
     "text": [
      "C:\\Users\\kambo\\anaconda3\\lib\\site-packages\\spacy\\util.py:275: UserWarning: [W031] Model 'en_training' (0.0.0) requires spaCy v2.1 and is incompatible with the current spaCy version (2.3.5). This may lead to unexpected results or runtime errors. To resolve this, download a newer compatible model or retrain your custom model with the current spaCy version. For more details and available updates, run: python -m spacy validate\n",
      "  warnings.warn(warn_msg)\n"
     ]
    },
    {
     "name": "stdout",
     "output_type": "stream",
     "text": [
      "{'name': 'BHARATH MERUGU', 'email': 'bharathmerugu@gmail.com', 'mobile_number': '8317635169', 'skills': ['Sql server', 'Sql', 'Shell', 'Db2', 'Profiling', 'Sap', 'Application support', 'Certification', 'Analytical', 'System', 'Migration', 'Agile', 'Design', 'Healthcare', 'Ux', 'Spark', 'Hadoop', 'Reporting', 'Excel', 'Scrum', 'Hive', 'Data analytics', 'Architecture', 'Process improvements', 'Scheduling', 'Health', 'Engineering', 'Documentation', 'Ibm', 'Unix', 'Analysis', 'Analytics', 'Scripting', 'Mock', 'Benchmarking', 'Visio', 'Linux', 'Github', 'Warehouse', 'Research', 'Oracle', 'Process', 'Pyspark', 'Engagement', 'Electronics', 'Workflows', 'Test cases', 'Forecasting', 'Etl', 'Technical', 'Word', 'Ruby', 'Schedule', 'Cloud', 'Testing', 'Python'], 'college_name': None, 'degree': None, 'designation': ['Data Engineering Consultant', 'Team Lead'], 'experience': [], 'company_names': ['Oracle', 'Optum'], 'no_of_pages': None, 'total_experience': 0.0}\n"
     ]
    },
    {
     "name": "stderr",
     "output_type": "stream",
     "text": [
      "C:\\Users\\kambo\\anaconda3\\lib\\site-packages\\spacy\\util.py:275: UserWarning: [W031] Model 'en_training' (0.0.0) requires spaCy v2.1 and is incompatible with the current spaCy version (2.3.5). This may lead to unexpected results or runtime errors. To resolve this, download a newer compatible model or retrain your custom model with the current spaCy version. For more details and available updates, run: python -m spacy validate\n",
      "  warnings.warn(warn_msg)\n"
     ]
    },
    {
     "name": "stdout",
     "output_type": "stream",
     "text": [
      "{'name': 'Bhumitra Bhardwaj', 'email': 'bhumitrabhardwaj@gmail.com', 'mobile_number': '9259544545', 'skills': ['Sql', 'Shell', 'Automation', 'Migration', 'Perl', 'Spark', 'Json', 'Engineering', 'Scripting', 'Linux', 'Logging', 'Datasets', 'English', 'Process', 'Pyspark', 'Workflow', 'Reports', 'Pandas', 'Etl', 'Technical', 'Selenium', 'Cloud', 'Testing', 'Python', 'Coding'], 'college_name': None, 'degree': ['Bachelor of science', 'Master of Computer Applications'], 'designation': ['Python Developer', 'SENIOR SOFTWARE ENGINEER', 'bhumitrabhardwaj@gmail.com', 'Azure Data Engineer'], 'experience': ['NTT Data', 'Azure Data Engineer', '11/2019 – present  |  Noida, India', 'Worked on Microsoft Azure Databricks and Azure Data Factory to extract, transform and visualize the data using python with', 'spark.', 'Developed code for data transformations & Aggregation using Pyspark/Python in Azure Databricks Notebook.', 'Worked on Delta lake and created delta tables on top of data lake raw data (structured and semi-structured i.e. JSON).', 'To process raw data, performed multiple activities in Azure Databricks such as – Schema drift/evolution, Schema Enforcement,', 'Upsert/Merge operation, Versioning or history check for delta tables, and logging in metastore.', 'Applied data cleansing and data qualities (DQ) rules in Databricks after data extraction from raw.', 'Created different business layers i.e., bronze, silver, and gold in ADLS Gen 2 to store the data in the form of delta tables.', 'Scheduled Jobs in Databricks to automate the ETL process by using Databricks Job clusters.', 'Deployed ADB Notebooks in different environments through CI/CD pipelines in Azure DevOps.', 'Tata Consultancy Services', 'Python Developer', '07/2014 – 10/2019  |  Noida, India', 'Created various scripts in python to transfer the data from source to sink along with analyzing the quality of data across the', 'various systems.', 'Worked on automation of manual workflow, Parameterization of scripts, creation of plans and components to get the reports of', 'bad datasets, highlight discrepant data in the final report by using Business rules with the help of ETL tool named Ataccama.', 'Responsible to gather business requirements,  and project objectives, via feedback sessions and customer meetings to', 'understand the ongoing issues and deliver the best solution.', 'Responsible for project deployments in customer production organization by creating and deploying changesets.', 'Worked on shell scripting languages (Python, Perl, and Linux) for bug fixing and developed new scripts as per the requirements', 'and  Provided efforts estimation for implementation/ Development/ Support of various applications and bug fixing.', 'Worked on code integration and migration from one to another platform (Perl to Python).', 'Testing of pre-developed python Scripts by using Selenium with python.', 'Organisations', 'NTT Data', 'SYSTEMS INTEGRATION SENIOR SPECIALIST', 'Tata Consultancy Services', 'SENIOR SOFTWARE ENGINEER'], 'company_names': ['Azure functions', 'Tata Consultancy Services', 'NTT Data\\nAzure Data Engineer', 'Microsoft', 'Azure Data Factory', 'Azure Delta Lake'], 'no_of_pages': 2, 'total_experience': 0.0}\n"
     ]
    },
    {
     "name": "stderr",
     "output_type": "stream",
     "text": [
      "C:\\Users\\kambo\\anaconda3\\lib\\site-packages\\spacy\\util.py:275: UserWarning: [W031] Model 'en_training' (0.0.0) requires spaCy v2.1 and is incompatible with the current spaCy version (2.3.5). This may lead to unexpected results or runtime errors. To resolve this, download a newer compatible model or retrain your custom model with the current spaCy version. For more details and available updates, run: python -m spacy validate\n",
      "  warnings.warn(warn_msg)\n"
     ]
    },
    {
     "name": "stdout",
     "output_type": "stream",
     "text": [
      "{'name': 'KIRANMAI CH', 'email': 'chkiranmai.1990@gmail.com', 'mobile_number': '8688012187', 'skills': ['Sql server', 'Sql', 'Email', 'Queries', 'Telecom', 'Analytical', 'Controls', 'Reporting', 'Spark', 'Hive', 'Database', 'Analysis', 'Servers', 'Analytics', 'Oracle', 'Pyspark', 'Technical', 'Operations', 'Cloud', 'Python', 'Coding'], 'college_name': None, 'degree': ['Degree College under Acharya Nagarjuna University Guntur'], 'designation': ['Data Engineer'], 'experience': None, 'company_names': ['Oracle', 'Microsoft', 'Deltra soft technologies private .ltd May 2017'], 'no_of_pages': None, 'total_experience': 0}\n"
     ]
    },
    {
     "name": "stderr",
     "output_type": "stream",
     "text": [
      "C:\\Users\\kambo\\anaconda3\\lib\\site-packages\\spacy\\util.py:275: UserWarning: [W031] Model 'en_training' (0.0.0) requires spaCy v2.1 and is incompatible with the current spaCy version (2.3.5). This may lead to unexpected results or runtime errors. To resolve this, download a newer compatible model or retrain your custom model with the current spaCy version. For more details and available updates, run: python -m spacy validate\n",
      "  warnings.warn(warn_msg)\n"
     ]
    },
    {
     "name": "stdout",
     "output_type": "stream",
     "text": [
      "{'name': 'D   ASHOKREDDY Email', 'email': 'ashokreddy7975@gmail.com', 'mobile_number': '7975450390', 'skills': ['Shell', 'Sql', 'Email', 'Queries', 'Automation', 'Windows', 'Certification', 'System', 'Migration', 'Design', 'Hadoop', 'Spark', 'Mobile', 'Access', 'Analytics', 'Linux', 'Datasets', 'Warehouse', 'Process', 'Pyspark', 'Reports', 'Writing', 'Etl', 'Cloud', 'Python'], 'college_name': None, 'degree': None, 'designation': ['Associate Consultant'], 'experience': [], 'company_names': None, 'no_of_pages': None, 'total_experience': 0.0}\n"
     ]
    },
    {
     "name": "stderr",
     "output_type": "stream",
     "text": [
      "C:\\Users\\kambo\\anaconda3\\lib\\site-packages\\spacy\\util.py:275: UserWarning: [W031] Model 'en_training' (0.0.0) requires spaCy v2.1 and is incompatible with the current spaCy version (2.3.5). This may lead to unexpected results or runtime errors. To resolve this, download a newer compatible model or retrain your custom model with the current spaCy version. For more details and available updates, run: python -m spacy validate\n",
      "  warnings.warn(warn_msg)\n"
     ]
    },
    {
     "name": "stdout",
     "output_type": "stream",
     "text": [
      "{'name': 'Deep Shikha', 'email': 'dshikha26@gmail.com', 'mobile_number': '8939601820', 'skills': ['Sql', 'Email', 'Queries', 'Certification', 'Schedules', 'System', 'Business analysis', 'Agile', 'Design', 'Data quality', 'Communication', 'Spark', 'Hadoop', 'Computer science', 'Mobile', 'Banking', 'Hive', 'Analyze', 'Big data', 'Engineering', 'Analysis', 'Transactions', 'Hbase', 'Process', 'Reports', 'Technical', 'Falcon', 'Cloud', 'Coding'], 'college_name': None, 'degree': ['Bachlor of Engineering, Computer Science: MVJ College of Engineering'], 'designation': ['Senior Associate Data Engineering', 'Data Engineer', 'Hadoop developer'], 'experience': ['IT Analyst where in I had worked on various Bigdata/Hadoop tools like Spark, Kafka, Hive, Hbase,'], 'company_names': ['Microsoft'], 'no_of_pages': 2, 'total_experience': 0.0}\n"
     ]
    },
    {
     "name": "stderr",
     "output_type": "stream",
     "text": [
      "C:\\Users\\kambo\\anaconda3\\lib\\site-packages\\spacy\\util.py:275: UserWarning: [W031] Model 'en_training' (0.0.0) requires spaCy v2.1 and is incompatible with the current spaCy version (2.3.5). This may lead to unexpected results or runtime errors. To resolve this, download a newer compatible model or retrain your custom model with the current spaCy version. For more details and available updates, run: python -m spacy validate\n",
      "  warnings.warn(warn_msg)\n"
     ]
    },
    {
     "name": "stdout",
     "output_type": "stream",
     "text": [
      "{'name': 'DINESH KAUSHAL', 'email': 'dineshkaushal0704@gmail.com', 'mobile_number': '6239109928', 'skills': ['Sql', 'Sap', 'System', 'Agile', 'Spark', 'Analyze', 'Database', 'Debugging', 'Engineering', 'English', 'Scala', 'Pyspark', 'Jira', 'Vendors', 'Etl', 'Schedule', 'Supply chain', 'Cloud', 'Testing', 'Python'], 'college_name': None, 'degree': ['B.E. in Cloud computing'], 'designation': ['Associate Consultant', 'Senior Analyst'], 'experience': ['Associate Consultant', 'Capgemini India', 'Pune', 'integration', 'March 2022 - current', '· Developed 30+ high-performance data pipelines to support complex data', '· Lead a team of 8 and was responsible for assigning Jira stories to', '· Expanded and optimised Scala , SQL and pyspark notebooks which helped', '· Analysed 20+ critical production Issues and provided a solution to it.', 'developers before start of the sprint.', 'in increasing eﬃciency by 25%', 'Senior Analyst', 'Capgemini India', 'October 2020 - Feb 2022', '· Azure DataBricks Developer: Created 70+ data bricks Notebooks in Scala', 'and spark-SQL to transform the raw data from Azure Data Lake into', 'structured data to be stored in Azure Database.', 'Bangalore', 'manual workload by 29% monthly', '· Automated ETL processes across billions of rows of data, which reduced', '· Worked in a collaborative Agile environment ,handled 50+ client incidents', 'and improved the code to satisfy the requirements of clients'], 'company_names': ['Unilever', 'Capgemini India'], 'no_of_pages': 1, 'total_experience': 1.33}\n"
     ]
    },
    {
     "name": "stderr",
     "output_type": "stream",
     "text": [
      "C:\\Users\\kambo\\anaconda3\\lib\\site-packages\\spacy\\util.py:275: UserWarning: [W031] Model 'en_training' (0.0.0) requires spaCy v2.1 and is incompatible with the current spaCy version (2.3.5). This may lead to unexpected results or runtime errors. To resolve this, download a newer compatible model or retrain your custom model with the current spaCy version. For more details and available updates, run: python -m spacy validate\n",
      "  warnings.warn(warn_msg)\n"
     ]
    },
    {
     "name": "stdout",
     "output_type": "stream",
     "text": [
      "{'name': 'Durgesh Kulkarni', 'email': 'durgeshk122@gmail.com', 'mobile_number': '0750784498', 'skills': ['Pycharm', 'Sql', 'Distribution', 'Certification', 'Agile', 'Spark', 'Hadoop', 'Postgresql', 'Banking', 'Database', 'Engineering', 'Machine learning', 'Research', 'Process', 'Pyspark', 'Workflow', 'Data collection', 'Algorithms', 'Spyder', 'Metrics', 'Cloud', 'Python'], 'college_name': None, 'degree': ['B.Tech in Mechanical Engineering'], 'designation': ['Developer', 'Data Engineer', 'Azure Data Engineer'], 'experience': ['the customers of a banking client and thereby', 'helped in achieving insights to the bank', 'Developed a model in Python to classify', 'the tickets to various distribution lists.', 'Initially the tickets were assigned', 'manually to respective teams. We have', 'created a model to automate this process', 'Worked on Data collection, Feature', 'Engineering, Data modelling and', 'Deployment.', '\\uf0b7  Education\\uf020', '2010 -- 2011', 'SSC', 'NPS – Nanded', 'Passed with 100%\\uf020', '2011 -- 2013', 'HSC', 'Yeshwant Mahavidyalaya - Nanded', 'Passed with 85.67%\\uf020', '2013 -- 2017', 'B.Tech in Mechanical Engineering', 'SGGSIE&T – Nanded and Passed with 8.7', 'cgpa'], 'company_names': ['TCS', 'Microsoft'], 'no_of_pages': 1, 'total_experience': 0.0}\n"
     ]
    },
    {
     "name": "stderr",
     "output_type": "stream",
     "text": [
      "C:\\Users\\kambo\\anaconda3\\lib\\site-packages\\spacy\\util.py:275: UserWarning: [W031] Model 'en_training' (0.0.0) requires spaCy v2.1 and is incompatible with the current spaCy version (2.3.5). This may lead to unexpected results or runtime errors. To resolve this, download a newer compatible model or retrain your custom model with the current spaCy version. For more details and available updates, run: python -m spacy validate\n",
      "  warnings.warn(warn_msg)\n"
     ]
    },
    {
     "name": "stdout",
     "output_type": "stream",
     "text": [
      "{'name': 'Edukondalu Gosula', 'email': 'edukondalugosul531@gmail.com', 'mobile_number': '8143313825', 'skills': ['Sql server', 'Sql', 'Email', 'Analytical', 'System', 'Design', 'Communication', 'Scrum', 'Scheduling', 'Database', 'Engineering', 'Analysis', 'Transactions', 'Warehouse', 'Sales', 'Plan', 'Reports', 'Workflows', 'Etl', 'Operations', 'Cloud', 'Testing'], 'college_name': None, 'degree': None, 'designation': None, 'experience': ['Database Management Systems, including Normalization, Stored Procedures, Triggers, Functions, Views,', 'Cursors, Constraints, Querying, Joins, Keys, Indexes.', 'Technologies & Tools', '\\uf0b7  SQL server', '\\uf0b7  T-SQL', '\\uf0b7  Azure SQL', '\\uf0b7  Azure Data Factory', '\\uf0b7  Azure Data Lake', '\\uf0b7  Data Bricks', '\\uf0b7  SSIS & SSMS'], 'company_names': None, 'no_of_pages': 3, 'total_experience': 0.0}\n"
     ]
    },
    {
     "name": "stderr",
     "output_type": "stream",
     "text": [
      "C:\\Users\\kambo\\anaconda3\\lib\\site-packages\\spacy\\util.py:275: UserWarning: [W031] Model 'en_training' (0.0.0) requires spaCy v2.1 and is incompatible with the current spaCy version (2.3.5). This may lead to unexpected results or runtime errors. To resolve this, download a newer compatible model or retrain your custom model with the current spaCy version. For more details and available updates, run: python -m spacy validate\n",
      "  warnings.warn(warn_msg)\n"
     ]
    },
    {
     "name": "stdout",
     "output_type": "stream",
     "text": [
      "{'name': 'GAMYA GUNTUR', 'email': 'gamyagunturu@gmail.com', 'mobile_number': '9177802121', 'skills': ['Technical skills', 'Sql server', 'Sql', 'Email', 'Queries', 'Analytical', 'Agile', 'Reporting', 'Spark', 'Erp', 'Hive', 'Training', 'Engineering', 'Analysis', 'English', 'Updates', 'Scala', 'Oracle', 'Reports', 'Aws', 'Etl', 'Technical', 'Salesforce', 'Testing', 'Python'], 'college_name': None, 'degree': None, 'designation': ['Systems Engineer Trainee'], 'experience': ['Role', 'Big Data Developer   - Cummins Inc', 'Description', '\\uf0fc', '\\uf0fc  Worked for Enterprise Business Intelligence- Big Data Development Track.', '\\uf0fc', 'It aims in Ingesting Data from Different Sources in to ADLS, whereas this data is been', 'used by down streamers for different analysis and reports purposes.', 'It includes the development of different ETL frameworks using Spark-Scala for', 'ensuring the data ingestion and transformation from various sources to ADLS.', '- 1 -', 'GAMYA GUNTUR', 'Systems Engineer', 'Bangalore, India', 'Roles and Responsibilities', 'Ingesting Data into ADLS efficiently.', '\\uf0b7', '\\uf0b7  Requirement gathering and Code Development as per the client requirements.', '\\uf0b7  Analysis of data and designing data flow.', '\\uf0b7', '\\uf0b7', '\\uf0b7  Testing of code functionality using testing environment', '\\uf0b7  Ensuring on time delivery to meet SLA’s.', '\\uf0b7  Worked against strict deadlines and high-pressure situation without compromising the quality.', 'Interaction with client on regular basis and provided the status update on daily basis.', 'Involved in developing crisp and efficient code.', 'Key Achievements & Certifications:', '\\uf0d8  Received client appreciations for the commitment and dedication towards flawless Production deployments.', '\\uf0d8  Got Certified from Databricks for DEVELOPER FOUNDATIONS AND DEVELOPER ESSENTIALS.', '\\uf0d8', '\\uf0d8', 'Infosys Certified Software Programmer', 'Infosys Global Agile Developer'], 'company_names': ['Infosys Ltd.', 'GAMYA GUNTUR \\n '], 'no_of_pages': 2, 'total_experience': 0.0}\n"
     ]
    },
    {
     "name": "stderr",
     "output_type": "stream",
     "text": [
      "C:\\Users\\kambo\\anaconda3\\lib\\site-packages\\spacy\\util.py:275: UserWarning: [W031] Model 'en_training' (0.0.0) requires spaCy v2.1 and is incompatible with the current spaCy version (2.3.5). This may lead to unexpected results or runtime errors. To resolve this, download a newer compatible model or retrain your custom model with the current spaCy version. For more details and available updates, run: python -m spacy validate\n",
      "  warnings.warn(warn_msg)\n"
     ]
    },
    {
     "name": "stdout",
     "output_type": "stream",
     "text": [
      "{'name': 'PROFILE Dynamic', 'email': 'gargicset@gmail.com', 'mobile_number': '9051820787', 'skills': ['Sql server', 'Sql', 'Api', 'System', 'Migration', 'Agile', 'Design', 'Reporting', 'Communication', 'Spark', 'Json', 'Compliance', 'Scrum', 'C#', 'Architecture', 'Sdlc', 'Big data', 'Audit', 'Documentation', 'Analysis', 'Analytics', 'Security', 'Visio', 'Warehouse', 'Logging', 'Oracle', 'Process', 'Plan', 'Workflow', 'Pyspark', 'Peoplesoft', 'Etl', 'Money', 'Technical', 'Microsoft visio', 'C', 'Metrics', 'Cloud', 'Python'], 'college_name': None, 'degree': ['B. Tech'], 'designation': ['Software Development Senior Analyst', 'Team lead', 'Azure Data Engineer'], 'experience': ['Accenture  [March 2020- Present]', 'Application Development Team Lead', 'Client: Walgreens', 'Location: Kolkata, India', 'Project: Data and Analytics Azure Replatforming', 'This poject is about Data Modernization for a Large Pharma Client in US. Deals with', 'Petabyte scale migration to Azure cloud. Azure Replatforming consists of rewriting', 'ETL pipeline in Azure Data factory and Azure Databricks from on prem ETL tools - Ab', 'initio, Data stage. This also includes converting the data warehouse solution from', 'Teradata to snowflake).', 'Roles and responsibilities', '•  Designing ADF pipeline for data ingestion using ADLS Gen2 as big data store', 'and Snowflake as sink. Handeled Parquet, delimited data formats.', 'Used Azure logic apps as part of functionality implementation.', '•', '•  Used Azure Databricks for transforming the data as a part of ETL process.', '•  Worked for a brief period of time in data architecture team to create', '•', '•', '•', 'lineage document and data flow diagrams of the on premise system tables.', 'Lead an ETL POD of 10 team members. Helped /mentored junior team', 'members in technical perspective, to achieve project targets and maintain', 'organizational standards', 'Cross trained 50+ team members on spark , Databricks and Azure', 'technologies during project kick off.', 'Followed all organizational guidelines for Cost monitoring standards,', 'Naming and Branching Standards. Followed branching/merging strategies,', 'packaging/documentation practices. Helped the project creating naming', 'conventions for azure objects.', 'Software Development Senior Analyst', 'Client: AMBG', 'Location: Kolkata, India', 'Project: D&I Innovations – New Data Supply Chain', 'NDSC is a shared service team responsible for providing Azure components as a', 'service for the entire organization. It provides Accelerator for Data Supply Chain,', 'collection of Azure DevOps based ELT models and standards that ensure consistent and accelerated delivery of Azure Big Data', 'Supply Chains using Azure Cloud Native services.', 'Roles and responsibilities', '•  Designing ADF pipeline for data ingestion using various data stores to handle big data as source and sink, i,e, Azure SQL,', 'Synapse Analytics, Azure Storage Accounts(BLOB), Azure Datalake, On premise Sql Server and File Share(using self hosted', 'integration runtime) as a part of ELT process.', '•  Handeled Parquet, Avro, JSON and CSV data formats. Used Azure logic apps and Function apps as part of functionality', 'implementation.', '•  Used Azure Databricks for transforming the data as a part of ETL process. Created Spark clusters using Python.', '•  Responsible for implementing CI/CD processes as a part of Azure Devops, created Build and Release Pipelines. Deployment', '•', '•', '•', 'using Azure Devops, Powershell, ARM template and Portal Deployment.', 'Security configuration using Azure Active Directory and Azure Key Vault. Created Test scripts in Dot net and Azure', 'Powershell.', 'Logging and monitoring configuration using Azure Monitor and Log Analytics.', 'Followed all organizational guidelines for Cost monitoring standards, Naming and Branching Standards. Followed', 'branching/merging strategies, packaging/documentation practices.', '•  As a Team lead, helped/mentored junior team members in technical perspective, to achieve project targets and maintain', 'organizational standards.', 'Cognizant Technology Solutions [November 2013 - March 2020]', 'Associate/Azure SME/Dot Net Developer/Team Lead', 'Client: Leading US Bank', 'Location: Kolkata, India', 'Cloud Migration of CHAMP Rewrite', 'Migration of A compliance tracking tool functionalities to Azure Cloud Services.', '•  Role – Team Lead/ Developer', '•', 'Technology Used – Azure Web app, Logic App, Azure Data factory Gen 2, Azure Storage Services (BLOB/File), Function App,', 'Data Lake (Hierarchical Namespace), Azure SQL DB, On Premise Oracle DB(using self hosted integration runtime), Synapse', 'analytics, Log Analytics, Microsoft Visio for Design Documents', 'CHAMP Rewrite', 'A rewrite project for a customer service desk application (Peoplesoft application), responsible for capturing customer interactions,', 'creating Cases, leads and referrals in order to capture the day-to-day activities of a bank call center/help center.', '•  Role – Team Lead/ Developer', '•', 'Technology Used – Web API, C#, Oracle 19c, Splunk for Logging, Microsoft Visio for Design Documents', 'Compliance Matter Escalation Tool', 'The COMET application is a centralized tool to manage and track compliance matters, facilitate referrals, enhance transparency', 'across oversight and supervision landscape and provide a workflow environment to capture information, evidence of work and track', 'items through their lifecycles.', '•  Role – Module Lead/ Developer', '•', 'Technology Used – WCF, C#, Oracle 12c, PL/SQL, Oracle Stored Procedures, Splunk for Logging, Microsoft Visio for Design', 'Documents', 'Money Market funds/ Anti-Money Laundering Enhancement/ Contact Center Application'], 'company_names': ['Oracle', 'Microsoft', 'Accenture'], 'no_of_pages': 3, 'total_experience': 9.08}\n"
     ]
    },
    {
     "name": "stderr",
     "output_type": "stream",
     "text": [
      "C:\\Users\\kambo\\anaconda3\\lib\\site-packages\\spacy\\util.py:275: UserWarning: [W031] Model 'en_training' (0.0.0) requires spaCy v2.1 and is incompatible with the current spaCy version (2.3.5). This may lead to unexpected results or runtime errors. To resolve this, download a newer compatible model or retrain your custom model with the current spaCy version. For more details and available updates, run: python -m spacy validate\n",
      "  warnings.warn(warn_msg)\n"
     ]
    },
    {
     "name": "stdout",
     "output_type": "stream",
     "text": [
      "{'name': 'MATTA Data', 'email': 'mgunasekhar777@gmail.com', 'mobile_number': '9179957925', 'skills': ['Sql', 'Rest', 'Email', 'Sap', 'Api', 'System', 'Migration', 'Reporting', 'Spark', 'Publishing', 'Database', 'Crm', 'Analytics', 'Improvement', 'Warehouse', 'Logging', 'English', 'Oracle', 'Pyspark', 'Reports', 'Writing', 'Modeling', 'Video', 'Algorithms', 'Etl', 'Python'], 'college_name': None, 'degree': None, 'designation': ['DATA ENGINEER', 'Data Engineer'], 'experience': ['\\uf0b7  Reducing Video Stream Bit rate using High Efficiency Video', 'Encoding Machine Learning Unsupervised Algorithms.', '\\uf0b7  Fluent in English.'], 'company_names': ['AZURE SYNAPSE'], 'no_of_pages': 2, 'total_experience': 0.0}\n"
     ]
    },
    {
     "name": "stderr",
     "output_type": "stream",
     "text": [
      "C:\\Users\\kambo\\anaconda3\\lib\\site-packages\\spacy\\util.py:275: UserWarning: [W031] Model 'en_training' (0.0.0) requires spaCy v2.1 and is incompatible with the current spaCy version (2.3.5). This may lead to unexpected results or runtime errors. To resolve this, download a newer compatible model or retrain your custom model with the current spaCy version. For more details and available updates, run: python -m spacy validate\n",
      "  warnings.warn(warn_msg)\n"
     ]
    },
    {
     "name": "stdout",
     "output_type": "stream",
     "text": [
      "{'name': 'Irfan Ahmad', 'email': 'Email:ahmad.irfan2080@gmail.com', 'mobile_number': '9181239709', 'skills': ['Sql', 'Docker', 'Apis', 'Shell', 'Sap', 'Scikit-learn', 'Analytical', 'System', 'Chemicals', 'Design', 'Reporting', 'Ui', 'Communication', 'Mobile', 'Presentation', 'Architecture', 'Health', 'Training', 'Engineering', 'Programming', 'Analysis', 'Crm', 'Analytics', 'Mysql', 'Matlab', 'Tensorflow', 'Warehouse', 'Diesel', 'Keras', 'Research', 'Updates', 'German', 'Process', 'Pyspark', 'Flask', 'Reports', 'Sales', 'Matrix', 'Plan', 'Pandas', 'Nosql', 'Algorithms', 'Gensim', 'Word', 'Inventory', 'Pdf', 'Nltk', 'Cloud', 'Tableau', 'Testing', 'Python'], 'college_name': None, 'degree': None, 'designation': ['Email:ahmad.irfan2080@gmail.com Data Engineer', 'Data Analyst'], 'experience': [], 'company_names': None, 'no_of_pages': None, 'total_experience': 0.0}\n"
     ]
    },
    {
     "name": "stderr",
     "output_type": "stream",
     "text": [
      "C:\\Users\\kambo\\anaconda3\\lib\\site-packages\\spacy\\util.py:275: UserWarning: [W031] Model 'en_training' (0.0.0) requires spaCy v2.1 and is incompatible with the current spaCy version (2.3.5). This may lead to unexpected results or runtime errors. To resolve this, download a newer compatible model or retrain your custom model with the current spaCy version. For more details and available updates, run: python -m spacy validate\n",
      "  warnings.warn(warn_msg)\n"
     ]
    },
    {
     "name": "stdout",
     "output_type": "stream",
     "text": [
      "{'name': None, 'email': None, 'mobile_number': None, 'skills': [], 'college_name': None, 'degree': None, 'designation': None, 'experience': None, 'company_names': None, 'no_of_pages': None, 'total_experience': 0}\n"
     ]
    },
    {
     "name": "stderr",
     "output_type": "stream",
     "text": [
      "C:\\Users\\kambo\\anaconda3\\lib\\site-packages\\spacy\\util.py:275: UserWarning: [W031] Model 'en_training' (0.0.0) requires spaCy v2.1 and is incompatible with the current spaCy version (2.3.5). This may lead to unexpected results or runtime errors. To resolve this, download a newer compatible model or retrain your custom model with the current spaCy version. For more details and available updates, run: python -m spacy validate\n",
      "  warnings.warn(warn_msg)\n"
     ]
    },
    {
     "name": "stdout",
     "output_type": "stream",
     "text": [
      "{'name': 'Kamini Singh', 'email': 'Kamini02071993@gmail.com', 'mobile_number': '0207199', 'skills': ['Sql', 'Queries', 'Schedules', 'System', 'Ai', 'Design', 'Healthcare', 'Communication', 'Excel', 'Architecture', 'Scheduling', 'Database', 'Health', 'Access', 'Analysis', 'Data analysis', 'Analytics', 'Microsoft excel', 'Quality assurance', 'Reports', 'Etl', 'Operations', 'Technical', 'Schedule', 'C', 'Quality standards', 'Testing'], 'college_name': None, 'degree': None, 'designation': None, 'experience': [], 'company_names': ['Microsoft', 'Amazon'], 'no_of_pages': None, 'total_experience': 0.0}\n"
     ]
    },
    {
     "name": "stderr",
     "output_type": "stream",
     "text": [
      "C:\\Users\\kambo\\anaconda3\\lib\\site-packages\\spacy\\util.py:275: UserWarning: [W031] Model 'en_training' (0.0.0) requires spaCy v2.1 and is incompatible with the current spaCy version (2.3.5). This may lead to unexpected results or runtime errors. To resolve this, download a newer compatible model or retrain your custom model with the current spaCy version. For more details and available updates, run: python -m spacy validate\n",
      "  warnings.warn(warn_msg)\n"
     ]
    },
    {
     "name": "stdout",
     "output_type": "stream",
     "text": [
      "{'name': 'KhadarMohiddin Shaik', 'email': 'khadarsm27@gmail.com', 'mobile_number': '6302069654', 'skills': ['Sql server', 'Sql', 'Distribution', 'Queries', 'Pl/sql', 'Sap', 'System', 'Migration', 'Agile', 'Design', 'Reporting', 'Communication', 'Excel', 'Scrum', 'Architecture', 'Process improvements', 'Process improvement', 'Database', 'Training', 'Change management', 'Standardization', 'Recruitment', 'Access', 'Programming', 'Analysis', 'Documentation', 'Analytics', 'Improvement', 'Mysql', 'Coaching', 'Business stakeholders', 'Security', 'Kpi', 'Pivot', 'Warehouse', 'Product development', 'Policies', 'Oracle', 'Process', 'Workflow', 'Jira', 'Reports', 'Modeling', 'Strategy', 'Business intelligence', 'Etl', 'Operations', 'Technical', 'Schedule', 'Cloud', 'Click', 'Python'], 'college_name': None, 'degree': None, 'designation': ['Data Engineer', 'Associate Consultant'], 'experience': [], 'company_names': ['Oracle', 'Microsoft'], 'no_of_pages': None, 'total_experience': 0.0}\n"
     ]
    },
    {
     "name": "stderr",
     "output_type": "stream",
     "text": [
      "C:\\Users\\kambo\\anaconda3\\lib\\site-packages\\spacy\\util.py:275: UserWarning: [W031] Model 'en_training' (0.0.0) requires spaCy v2.1 and is incompatible with the current spaCy version (2.3.5). This may lead to unexpected results or runtime errors. To resolve this, download a newer compatible model or retrain your custom model with the current spaCy version. For more details and available updates, run: python -m spacy validate\n",
      "  warnings.warn(warn_msg)\n"
     ]
    },
    {
     "name": "stdout",
     "output_type": "stream",
     "text": [
      "{'name': 'Kiran Lata', 'email': 'latakiran80@gmail.com', 'mobile_number': '9691239085', 'skills': ['Numpy', 'Sql', 'Rest', 'Shell', 'Xml', 'Queries', 'Api', 'System', 'Migration', 'Design', 'Data quality', 'Spark', 'Hadoop', 'Json', 'Hive', 'Database', 'Documentation', 'Programming', 'Analysis', 'Unix', 'Engineering', 'Scripting', 'Mysql', 'Specifications', 'Linux', 'Logging', 'Warehouse', 'Oracle', 'Process', 'Pyspark', 'Writing', 'Pandas', 'Workflows', 'Installation', 'Etl', 'Technical', 'Cloud', 'Testing', 'Python'], 'college_name': None, 'degree': ['BACHELOR OF ENGINEERING \\nRGPV, Bhopal'], 'designation': ['Developer'], 'experience': ['Developer, Tata Consultancy Services, ABN AMBRO, December 2020-Current Pune, India', 'Working in managed consuming team responsible for EDC Lineage development and management in Azure', 'Cloud Platform.', 'Have been working on Azure components like Blob, ADLS, Azure Data Factory. Developed a Python Code', 'to ingest data from zipped files and applying business checks and then ingest into synapse', 'Developed a python Program to validate the data migration from teradata to synapse using hashcode.', 'Created lineage in EDC.', 'Written a code to load data to edc using REST API and added logging method to check data quality of json', 'files.', 'Created a Azure CI/CD pipeline to create lineage in EDC.', 'Created CI pipeline to pass sonarcube and fortify testing of python code. Developed a code to', 'log data in azure application insights.', 'Worked on ADF pipeline using pyspark and spark SQL for data extraction, transformation, and aggregation', 'from multiple csv files for analyzing and transforming the data.', 'Developed an ADF pipeline to load data from blob storage to Azure sql using databricks. Developed an ADF', 'Pipeline to load data from teradata extract to Synapse.', 'Migrated data from files to Azure DB tables using copy activity. Deployment of ADF Pipeline using CI/CD', 'Pipeline.', 'Installation and configuration of Python libraries and EDC application on Azure VM for platform readiness.', 'Developed Shell scripts to call the python scripts and logging. Developed Shell Scripts', 'for automations.', 'Developer, Tata Consultancy Services, Asian Bank, May 2019-December 2020 Pune, India', 'Developed ETL scripts in Python to get data from Mysql database and then insert and update the resultant data', 'to another database table.', 'Worked with NumPy, Pandas and Matplotib for data/Numerical analysis and report creation.', 'Wrote Python scripts to parse XML documents and JSON files and load the data in database.', 'Written Sqoop in Linux Script to load data from Mysql to Hadoop. Created Hive', 'Schema/Tables and Data Loading and managing.', 'Developer, Tata Consultancy Services, NIKE, August 2016-April 2019 Pune,', 'India', 'Worked on Informatica Power Center tool - Source Analyzer, Data warehousing designer, Mapping , Mapplet', 'designer and Transformation Designer.', 'Extracted data from Oracle / Teradata system to Staging Area and loaded the data to the target database by', 'ETL process using Informatica Power Center.', 'Develop the mappings using needed transformation in Informatica tool according to technical specifications.', 'Created UNIX shell scripting to runs the Informatica workflows and controlling the ETL flow. Completed end', 'to end datawarehouse stages understanding Data mart, change data capture, SCD, fact, dimension, star,', 'snowflake design.', 'Writing complex Sql queries for different mapping and aggregation result/ mapping. Preparing technical', 'Documentation for Data Mappings and Data flows.', 'Continuous Customer interaction for issues resolution.', 'CORE', 'QUALIFICATIONS'], 'company_names': ['Oracle'], 'no_of_pages': 2, 'total_experience': 4.25}\n"
     ]
    },
    {
     "name": "stderr",
     "output_type": "stream",
     "text": [
      "C:\\Users\\kambo\\anaconda3\\lib\\site-packages\\spacy\\util.py:275: UserWarning: [W031] Model 'en_training' (0.0.0) requires spaCy v2.1 and is incompatible with the current spaCy version (2.3.5). This may lead to unexpected results or runtime errors. To resolve this, download a newer compatible model or retrain your custom model with the current spaCy version. For more details and available updates, run: python -m spacy validate\n",
      "  warnings.warn(warn_msg)\n"
     ]
    },
    {
     "name": "stdout",
     "output_type": "stream",
     "text": [
      "{'name': 'KIRUTHIGA SANKARASUBBU', 'email': 'kiruthigasankarasubbu1993@gmail.com', 'mobile_number': '9080572806', 'skills': ['Sql', 'Queries', 'Certification', 'System', 'Agile', 'Design', 'Reporting', 'Excel', 'Analyze', 'Scheduling', 'Database', 'Sdlc', 'Engineering', 'Analysis', 'Analytics', 'Scripting', 'Root cause', 'Electrical', 'Warehouse', 'Process', 'Reports', 'P', 'Writing', 'R', 'Electronics', 'Etl', 'Software development life cycle', 'C', 'Testing', 'Python'], 'college_name': None, 'degree': ['Bachelor of Engineering in Electrical and Electronics Engineering under Anna University Chennai during 2010-\\n2014'], 'designation': ['Senior Associate', 'Data Engineer'], 'experience': ['Cambionix - Chennai, Period: Jan 2018 to Jan 2019 As in Consultant role', 'P R O J E C T S  W O R K E D  O N', ':', 'CLIENT: BNP PARIBBAS', 'KIYA.AI', 'MAY 2020 T O TILL DATE', 'Responsibilities', 'Analyze, design and build Modern data solutions using Azure PaaS service to support visualization of data. Understand', 'current Production state of application and determine the impact of new implementation on existing business processes', 'Extract Transform and Load data from Sources Systems to Azure Data Storage services using a combination of Azure Data', 'Factory and T-SQL Azure Data Lake Analytics. Data Ingestion to one or more Azure Services - (Azure Data Lake, Azure', 'Storage, Azure SQL, Azure DW) and processing the data in Azure Data bricks', 'Create pipelines in ADF using linked service/Dataset to Extract, transform and load the data from different source like', 'Azure SQL, Blob storage, Azure SQL Data warehouse, write back tool and backwards.', 'Migrating BO reports and Excel dashboards to Power BI', 'Working directly with stake holder for requirements gathering and developing various decision making dashboards.', 'Developed complex Stored Procedures, Recursive CTE and Views to generate various reports using SSRS and Power BI.', 'Based on user’s requirement created reports using SSRS & Power BI. Explore data in a variety of ways and across multiple', 'visualizations (Custom Visuals) using Power BI. Managing Issues for the production environment of Power BI & SSRS reports', 'based on user feedback.', 'CAMBIONIX', 'JAN 2018 to JAN 2019', 'Responsibilities', 'Published Power BI Reports in the required originations and Made Power BI Dashboards available in power bi report    server.', 'Created, Maintained & scheduled various reports in Power BI like Tabular Reports.', 'Explore data in a variety of ways and across multiple visualizations using Power BI', 'Integrated custom visuals based on business requirement using power BI desktop.', 'Worked on all types of transformations that are available in Power bi query editor.', 'Developed  analysis  reports  and  visualization  using  DAX  functions  like  table  function,  aggregation  function  and  iteration', 'functions.', 'Created reports using time intelligence calculations and functions.', 'Responsible for Scheduling reports to run daily, weekly and monthly basis using Report Manager.', 'Investigates problems through to resolution or root cause/raises by puling data from multiple sources to develop report.', 'Created joins and sub-queries for complex queries involving multiple tables.', 'Responsible to create sql dataset for power bi and Ad-hoc reports.', 'Experienced on creating CTE, sub queries, join.', 'C E R T I F I C A T I O N S  D O N E:', 'Exam Code  Certification Name', 'Vendor', '70-778', 'Analysing and Visualizing Data with Microsoft Power BI  Microsoft', 'DP-203', 'Data Engineer on Microsoft Azure', 'Microsoft'], 'company_names': ['Microsoft', 'E X P E R I E N C E', 'P R O J E C T', 'Microsoft Azure'], 'no_of_pages': 2, 'total_experience': 2.0}\n"
     ]
    },
    {
     "name": "stderr",
     "output_type": "stream",
     "text": [
      "C:\\Users\\kambo\\anaconda3\\lib\\site-packages\\spacy\\util.py:275: UserWarning: [W031] Model 'en_training' (0.0.0) requires spaCy v2.1 and is incompatible with the current spaCy version (2.3.5). This may lead to unexpected results or runtime errors. To resolve this, download a newer compatible model or retrain your custom model with the current spaCy version. For more details and available updates, run: python -m spacy validate\n",
      "  warnings.warn(warn_msg)\n"
     ]
    },
    {
     "name": "stdout",
     "output_type": "stream",
     "text": [
      "{'name': 'Kunal Kr', 'email': 'kunal.pcea@gmail.com', 'mobile_number': '9552352100', 'skills': ['Sql server', 'Sql', 'Email', 'Sap', 'Api', 'Certification', 'System', 'Migration', 'Agile', 'Design', 'Reporting', 'Healthcare', 'Spark', 'Hive', 'Architecture', 'Sdlc', 'Engineering', 'Analytics', 'Mysql', 'Logging', 'Warehouse', 'Retail', 'Sales', 'Process', 'Jira', 'Reports', 'Project delivery', 'Jupyter', 'Marketing', 'Regulatory', 'Acquisition', 'Governance', 'Technical', 'Software development life cycle', 'Regulations', 'Supply chain', 'Cloud', 'Testing', 'Python'], 'college_name': None, 'degree': None, 'designation': None, 'experience': ['and maintaining products with high business impact for Retail, Supply Chain, Management and Financial services.', 'Professional Synopsis', '•  Developed reusable spark code & Azure data pipelines to solve complex functional requirement in regulatory reporting.', '•', 'Sharing observations to firms which provide insight on their framework which helps to make their system more robust so', 'that the firms comply with the regulations of the regulatory body and avoid financial losses/fines.', '•  Designing and developing solutions for dynamic data-ingestion using cloud native services like Azure Data Factory,', 'Databricks, Azure Data Lake Store, Azure DevOps, and Azure SQL.', 'Excellent Understanding of Spark architecture, Spark SQL.', '•', '•  Good understanding on Software Development Life Cycle (SDLC). Participated in all SDLC phases including design,', 'development, unit/system testing and Client support.', 'Experienced in leading team to deliver the solutions in Agile methodology.', '•', 'Core', 'Cloud (Azure)', 'Databases', 'Tools & Tech.', 'Big Data', 'Microsoft Azure, Spark, SQL, Python', 'Azure Data Factory, Azure Data Lake, Databricks, Azure key vault, Azure Storage, Azure SQL & Azure DevOps', 'MySQL, Hive, Azure SQL', 'Python, Eclipse, VirtualBox, Putty, WinSCP, HUE, VSTS, Git, Jira, Jupyter Notebook, Postman', 'HDFS, Spark, Hive, Sqoop', 'Skill Set'], 'company_names': None, 'no_of_pages': 2, 'total_experience': 0.0}\n"
     ]
    },
    {
     "name": "stderr",
     "output_type": "stream",
     "text": [
      "C:\\Users\\kambo\\anaconda3\\lib\\site-packages\\spacy\\util.py:275: UserWarning: [W031] Model 'en_training' (0.0.0) requires spaCy v2.1 and is incompatible with the current spaCy version (2.3.5). This may lead to unexpected results or runtime errors. To resolve this, download a newer compatible model or retrain your custom model with the current spaCy version. For more details and available updates, run: python -m spacy validate\n",
      "  warnings.warn(warn_msg)\n"
     ]
    },
    {
     "name": "stdout",
     "output_type": "stream",
     "text": [
      "{'name': 'M. Durga Naga Prasad AZURE DATA ENGINEER  Phone 9010100156 Email', 'email': 'Mamidisetti011@gmail.com', 'mobile_number': '9010100156', 'skills': ['Purchasing', 'Sql server', 'Sql', 'Email', 'Windows', 'Analytical', 'System', 'Operating systems', 'Brand', 'Scheduling', 'Debugging', 'Analytics', 'Warehouse', 'Datasets', 'Process', 'Strong analytical skills', 'Writing', 'Modeling', 'Etl', 'Technical', 'Schedule', 'Cloud'], 'college_name': None, 'degree': ['B. Tech'], 'designation': ['support Engineer', 'Azure Data Engineer'], 'experience': [], 'company_names': None, 'no_of_pages': None, 'total_experience': 0.0}\n"
     ]
    },
    {
     "name": "stderr",
     "output_type": "stream",
     "text": [
      "C:\\Users\\kambo\\anaconda3\\lib\\site-packages\\spacy\\util.py:275: UserWarning: [W031] Model 'en_training' (0.0.0) requires spaCy v2.1 and is incompatible with the current spaCy version (2.3.5). This may lead to unexpected results or runtime errors. To resolve this, download a newer compatible model or retrain your custom model with the current spaCy version. For more details and available updates, run: python -m spacy validate\n",
      "  warnings.warn(warn_msg)\n"
     ]
    },
    {
     "name": "stdout",
     "output_type": "stream",
     "text": [
      "{'name': 'Manesh Manohar', 'email': 'maneshmanohar4@gmail.com', 'mobile_number': '7012963323', 'skills': ['Pycharm', 'Sql', 'Automation', 'Reporting', 'Logistics', 'Computer science', 'Kpis', 'Scheduling', 'Training', 'Engineering', 'Analysis', 'Warehouse', 'English', 'Process', 'Pyspark', 'Flask', 'P', 'Reports', 'R', 'Workflows', 'Android', 'Technical', 'C', 'Cloud', 'Python'], 'college_name': None, 'degree': None, 'designation': None, 'experience': ['framework.', 'E D U C A T I O N', '❖ Bachelor of Technology', 'Marian Engineering College, Trivandrum', '2015 - 2019', 'Stream', 'University', 'CGPA', ': Computer Science and Engineering', ': APJ Abdul Kalam Technological University', ': 8.02'], 'company_names': ['Infosys', 'Infosys Limited'], 'no_of_pages': 2, 'total_experience': 0.0}\n"
     ]
    },
    {
     "name": "stderr",
     "output_type": "stream",
     "text": [
      "C:\\Users\\kambo\\anaconda3\\lib\\site-packages\\spacy\\util.py:275: UserWarning: [W031] Model 'en_training' (0.0.0) requires spaCy v2.1 and is incompatible with the current spaCy version (2.3.5). This may lead to unexpected results or runtime errors. To resolve this, download a newer compatible model or retrain your custom model with the current spaCy version. For more details and available updates, run: python -m spacy validate\n",
      "  warnings.warn(warn_msg)\n"
     ]
    },
    {
     "name": "stdout",
     "output_type": "stream",
     "text": [
      "{'name': 'MANOJ KUMAR REDDY MIGADA', 'email': 'manojkumarreddy384@gmail.com', 'mobile_number': '8523819419', 'skills': ['Sql', 'Email', 'Queries', 'Sas', 'Automation', 'Api', 'System', 'Agile', 'Design', 'Reporting', 'Mobile', 'Json', 'Scrum', 'Architecture', 'Scheduling', 'Database', 'Debugging', 'Access', 'Analysis', 'Analytics', 'Specifications', 'Security', 'Warehouse', 'Datasets', 'Reports', 'Writing', 'Visual', 'Tfs', 'Troubleshooting', 'Schedule', 'Cloud', 'Testing'], 'college_name': None, 'degree': None, 'designation': ['System Associate', 'Azure Developer'], 'experience': ['•  Working as Associate at Cognizant Technology Solutions, Bangalore from May 2021 to till date.', '•  Worked as Software Engineer at Accurate Labtech private limited from May 2018 to till April 2021'], 'company_names': ['Microsoft', 'Azure Security Services [Azure Active Directory, RBAC', 'Zurich A&H Insurance', 'ECO LAB'], 'no_of_pages': 5, 'total_experience': 0.0}\n"
     ]
    },
    {
     "name": "stderr",
     "output_type": "stream",
     "text": [
      "C:\\Users\\kambo\\anaconda3\\lib\\site-packages\\spacy\\util.py:275: UserWarning: [W031] Model 'en_training' (0.0.0) requires spaCy v2.1 and is incompatible with the current spaCy version (2.3.5). This may lead to unexpected results or runtime errors. To resolve this, download a newer compatible model or retrain your custom model with the current spaCy version. For more details and available updates, run: python -m spacy validate\n",
      "  warnings.warn(warn_msg)\n"
     ]
    },
    {
     "name": "stdout",
     "output_type": "stream",
     "text": [
      "{'name': 'CURRICULUM VITAE', 'email': 'mayurahirrao59@gmail.com', 'mobile_number': '7620459396', 'skills': ['Sql server', 'Sql', 'Email', 'Queries', 'Sap', 'Certification', 'Analytical', 'Ai', 'Reporting', 'Communication', 'Computer science', 'Mobile', 'Excel', 'Database', 'Documentation', 'Engineering', 'Analytics', 'Oracle', 'Jira', 'Tfs', 'Troubleshooting', 'Business intelligence', 'Etl', 'Schedule', 'Testing'], 'college_name': None, 'degree': None, 'designation': None, 'experience': ['requirement about report.', '•  Worked on TFS (Team foundation server) and Jira Platform.', 'SKILLS:', '•  Azure Data Factory', '•  Azure Synapse Analytics, ADLS, Blob Storage', '•  SQL', '•  SSIS, SSMS', '•  ETL', '•  Power BI', 'CERTIFICATION:', '•  DP-203: Microsoft Azure Data Engineer Associate', '•  DP-900: Azure Data Fundamentals', '•  AZ-900: Azure Fundamentals', '•  AI-900: Microsoft Azure AI Fundamentals', 'EDUCATION:', '•  Bachelor of Engineering (B.E), Computer Science & Engineering', '(2016 - 2020)', 'Maharashtra Institute of Technology, Pune', 'First Year CGPA: 8.06/10', '•  XII (Senior Secondary), Science', 'Year of Completion: 2016', 'HSC Board (KTHM College, Nashik)', 'Percentage: 81.85%', '•  X (Secondary)', 'Year of Completion: 2014', 'SSC Board (LSB Waje Vidyalaya, Sinnar)', 'Percentage:93.4%', 'HOBBIES:', '•  Drawing', '•  Trekking', '•  Enjoy outdoor activities', '•  Cricket'], 'company_names': None, 'no_of_pages': 3, 'total_experience': 0.0}\n"
     ]
    },
    {
     "name": "stderr",
     "output_type": "stream",
     "text": [
      "C:\\Users\\kambo\\anaconda3\\lib\\site-packages\\spacy\\util.py:275: UserWarning: [W031] Model 'en_training' (0.0.0) requires spaCy v2.1 and is incompatible with the current spaCy version (2.3.5). This may lead to unexpected results or runtime errors. To resolve this, download a newer compatible model or retrain your custom model with the current spaCy version. For more details and available updates, run: python -m spacy validate\n",
      "  warnings.warn(warn_msg)\n"
     ]
    },
    {
     "name": "stdout",
     "output_type": "stream",
     "text": [
      "{'name': None, 'email': None, 'mobile_number': None, 'skills': [], 'college_name': None, 'degree': None, 'designation': None, 'experience': None, 'company_names': None, 'no_of_pages': None, 'total_experience': 0}\n"
     ]
    },
    {
     "name": "stderr",
     "output_type": "stream",
     "text": [
      "C:\\Users\\kambo\\anaconda3\\lib\\site-packages\\spacy\\util.py:275: UserWarning: [W031] Model 'en_training' (0.0.0) requires spaCy v2.1 and is incompatible with the current spaCy version (2.3.5). This may lead to unexpected results or runtime errors. To resolve this, download a newer compatible model or retrain your custom model with the current spaCy version. For more details and available updates, run: python -m spacy validate\n",
      "  warnings.warn(warn_msg)\n"
     ]
    },
    {
     "name": "stdout",
     "output_type": "stream",
     "text": [
      "{'name': 'Mujthaba S', 'email': 'mujthabaadf@gmail.com', 'mobile_number': '6302993201', 'skills': ['Sql server', 'Sql', 'Shell', 'Pl/sql', 'Sap', 'Windows', 'Analytical', 'System', 'Agile', 'Design', 'Hadoop', 'Spark', 'Mobile', 'Hive', 'Architecture', 'Scheduling', 'Database', 'Ibm', 'Unix', 'Analytics', 'Scripting', 'Linux', 'Pivot', 'English', 'Oracle', 'Sales', 'Pyspark', 'Plan', 'P', 'Reports', 'Jira', 'Aws', 'R', 'Marketing', 'Etl', 'Technical', 'Schedule', 'C', 'Cloud', 'Python'], 'college_name': None, 'degree': None, 'designation': ['Software Engineer', 'Data Engineer'], 'experience': ['IBM DataStage ,BODS , Oracle , Netezza , SQL Server.'], 'company_names': ['Oracle', 'TCS India.'], 'no_of_pages': 2, 'total_experience': 0.0}\n"
     ]
    },
    {
     "name": "stderr",
     "output_type": "stream",
     "text": [
      "C:\\Users\\kambo\\anaconda3\\lib\\site-packages\\spacy\\util.py:275: UserWarning: [W031] Model 'en_training' (0.0.0) requires spaCy v2.1 and is incompatible with the current spaCy version (2.3.5). This may lead to unexpected results or runtime errors. To resolve this, download a newer compatible model or retrain your custom model with the current spaCy version. For more details and available updates, run: python -m spacy validate\n",
      "  warnings.warn(warn_msg)\n"
     ]
    },
    {
     "name": "stdout",
     "output_type": "stream",
     "text": [
      "{'name': None, 'email': None, 'mobile_number': None, 'skills': [], 'college_name': None, 'degree': None, 'designation': None, 'experience': None, 'company_names': None, 'no_of_pages': None, 'total_experience': 0}\n"
     ]
    },
    {
     "name": "stderr",
     "output_type": "stream",
     "text": [
      "C:\\Users\\kambo\\anaconda3\\lib\\site-packages\\spacy\\util.py:275: UserWarning: [W031] Model 'en_training' (0.0.0) requires spaCy v2.1 and is incompatible with the current spaCy version (2.3.5). This may lead to unexpected results or runtime errors. To resolve this, download a newer compatible model or retrain your custom model with the current spaCy version. For more details and available updates, run: python -m spacy validate\n",
      "  warnings.warn(warn_msg)\n"
     ]
    },
    {
     "name": "stdout",
     "output_type": "stream",
     "text": [
      "{'name': 'NEHA SINGH Azure Data Engineer Phone', 'email': 'nehasingh269@gmail.com', 'mobile_number': '8971675376', 'skills': ['Payments', 'Sql', 'Email', 'System', 'Migration', 'Tax', 'Agile', 'Reporting', 'Communication', 'Ui', 'Banking', 'Scheduling', 'Database', 'Audit', 'Debugging', 'Access', 'Programming', 'Analytics', 'Security', 'Reports', 'Writing', 'Requests', 'Information technology', 'Etl', 'Tableau', 'Regulatory'], 'college_name': None, 'degree': ['B.Tech in Information Technology'], 'designation': ['Data Engineer Associate'], 'experience': None, 'company_names': ['Microsoft'], 'no_of_pages': None, 'total_experience': 0}\n"
     ]
    },
    {
     "name": "stderr",
     "output_type": "stream",
     "text": [
      "C:\\Users\\kambo\\anaconda3\\lib\\site-packages\\spacy\\util.py:275: UserWarning: [W031] Model 'en_training' (0.0.0) requires spaCy v2.1 and is incompatible with the current spaCy version (2.3.5). This may lead to unexpected results or runtime errors. To resolve this, download a newer compatible model or retrain your custom model with the current spaCy version. For more details and available updates, run: python -m spacy validate\n",
      "  warnings.warn(warn_msg)\n"
     ]
    },
    {
     "name": "stdout",
     "output_type": "stream",
     "text": [
      "{'name': 'Nethaji Rangasamy', 'email': 'nethaji122@gmail.com', 'mobile_number': '8904869633', 'skills': ['Xml', 'Sql', 'Distribution', 'Analytical', 'System', 'Ai', 'Design', 'Spark', 'Scrum', 'Data analytics', 'Analyze', 'Scheduling', 'Database', 'Sdlc', 'Analysis', 'Ibm', 'Analytics', 'Machine learning', 'Process', 'Plan', 'Pyspark', 'Reports', 'Pip', 'Marketing', 'Troubleshooting', 'Information technology', 'Etl', 'Technical', 'Cloud', 'Python'], 'college_name': None, 'degree': None, 'designation': ['Present Lead Data Engineer', 'Azure Data Engineer', 'Senior Consultant', 'Technical Lead', 'System Engineer', 'Data Engineer'], 'experience': [], 'company_names': ['Wipro Ltd.'], 'no_of_pages': None, 'total_experience': 0.0}\n"
     ]
    },
    {
     "name": "stderr",
     "output_type": "stream",
     "text": [
      "C:\\Users\\kambo\\anaconda3\\lib\\site-packages\\spacy\\util.py:275: UserWarning: [W031] Model 'en_training' (0.0.0) requires spaCy v2.1 and is incompatible with the current spaCy version (2.3.5). This may lead to unexpected results or runtime errors. To resolve this, download a newer compatible model or retrain your custom model with the current spaCy version. For more details and available updates, run: python -m spacy validate\n",
      "  warnings.warn(warn_msg)\n"
     ]
    },
    {
     "name": "stdout",
     "output_type": "stream",
     "text": [
      "{'name': 'www.linkedin.com/in/niveditaprakash1990 prakash.nivedita1@gmail.com', 'email': 'prakash.nivedita1@gmail.com', 'mobile_number': '9990677609', 'skills': ['Xml', 'Sql', 'Shell', 'Java', 'Queries', 'Apis', 'Rest', 'Api', 'Analytical', 'System', 'Expenses', 'Design', 'Ui', 'Spark', 'Supervisor', 'Javascript', 'Json', 'Business issues', 'Hive', 'Database', 'Health', 'Access', 'Engineering', 'Programming', 'Analysis', 'Scripting', 'Analytics', 'Mysql', 'Jsp', 'Kpi', 'Hbase', 'Research', 'Oracle', 'Workflow', 'Process', 'Jira', 'Photography', 'Nosql', 'Etl', 'Governance', 'Technical', 'Operations', 'Parser', 'Cloud', 'Testing', 'Python'], 'college_name': None, 'degree': ['B. Tech in Information and Technology  \\nJune'], 'designation': ['Data Engineer Associate certified', 'Software engineer', 'Associate software engineer', 'Senior Software Engineer', 'Senior Associate Data Engineer'], 'experience': ['Senior Associate Data Engineer', 'Publics Sapient, Gurgaon Unit1', 'Jun 2021 – Present', '\\uf0b7  Gathering Marcadese-benz web site (Worldwide) data for different', 'options selected by user in google analytics system.', '\\uf0b7  Consuming whole row data from GA to delta tables.', '\\uf0b7  Build data validation framework using Great Expectations python', '\\uf0b7', 'Library', 'Integrated Microsoft teams to get notification and alerts using', 'Webhook connector.', '\\uf0b7  Build Azure Data Factory pipeline for orchestration.', '\\uf0b7  Used Azure databricks for processing google analytics data.', 'Transforming and categorizing based upon different key parameter', 'identified.', 'Storing transformed data to Azure data lake directory', '\\uf0b7', '\\uf0b7  Utilizing these directories to visualize KPI data on power BI tool.', '\\uf0b7  Work closely with data scientists to design and maintain scalable', 'data models and pipelines.', 'Senior Software Engineer', 'Optum, Building 6, DLF SEZ, Cyber city, Gurgaon, Haryana', 'Jul 2015 – May 2021', 'CHARACTRISTICS', 'Excellent listener', 'Friendly, courteous, and service oriented', 'Poised under pressure', 'Quality Assurance', 'Solid written and verbal communicator'], 'company_names': None, 'no_of_pages': 2, 'total_experience': 7.33}\n"
     ]
    },
    {
     "name": "stderr",
     "output_type": "stream",
     "text": [
      "C:\\Users\\kambo\\anaconda3\\lib\\site-packages\\spacy\\util.py:275: UserWarning: [W031] Model 'en_training' (0.0.0) requires spaCy v2.1 and is incompatible with the current spaCy version (2.3.5). This may lead to unexpected results or runtime errors. To resolve this, download a newer compatible model or retrain your custom model with the current spaCy version. For more details and available updates, run: python -m spacy validate\n",
      "  warnings.warn(warn_msg)\n"
     ]
    },
    {
     "name": "stdout",
     "output_type": "stream",
     "text": [
      "{'name': 'Ashok Venkata', 'email': 'pujariavs@gmail.com', 'mobile_number': '9182678854', 'skills': ['Sql', 'Excel', 'Etl', 'English', 'C++', 'Electronics', 'Database', 'Workflow', 'Spark', 'Pyspark', 'C', 'Engineering', 'Programming', 'Aws', 'Cloud', 'Analytics', 'Python'], 'college_name': None, 'degree': ['B.TECH iN ELECTRONiCS AND COMMUNiCATiONS ENGiNEERiNG'], 'designation': ['SOFTWWARE DEVELOPER', 'SOFTWARE ENGiNEER'], 'experience': ['• Develop/implement delta tables for facts, dimensions of SCD type1 and type2 as per the business requirements.', '•', 'Improve the Data quality and stability(bug fixes) of the existing spark jobs and optimize pipeline flows.', 'SamrtFactory', 'SOFTWARE ENGiNEER', 'Bengaluru', 'Oct. 2020 ‑ Feb. 2021', '• Worked as Backend developer to implement IoT Solution to collect, route and processing of Data from mutiple IoT Devices', '• Get familiar with kafka, IoT and stream processing services in Azure, Provision and connect sensors, IoT devices to azure', '• Use Azure stream Analytics, Azure Functions to perform aggregations and directing the data to Storage/database for final consumption', 'Smart Refrigerator', 'SOFTWWARE DEVELOPER', 'Bengaluru', 'Jan. 2020 ‑ May. 2020', '• Created and developed a custom skill for Alexa to track food‑contents', '• Develop a lambda function using the AVS SDK package to define logic for speech/response processing for the custom skill'], 'company_names': ['Sri Shaanti Niketan Vidyalayam'], 'no_of_pages': 1, 'total_experience': 0.0}\n"
     ]
    },
    {
     "name": "stderr",
     "output_type": "stream",
     "text": [
      "C:\\Users\\kambo\\anaconda3\\lib\\site-packages\\spacy\\util.py:275: UserWarning: [W031] Model 'en_training' (0.0.0) requires spaCy v2.1 and is incompatible with the current spaCy version (2.3.5). This may lead to unexpected results or runtime errors. To resolve this, download a newer compatible model or retrain your custom model with the current spaCy version. For more details and available updates, run: python -m spacy validate\n",
      "  warnings.warn(warn_msg)\n"
     ]
    },
    {
     "name": "stdout",
     "output_type": "stream",
     "text": [
      "{'name': 'PRADEEP CHOUDHARY', 'email': 'pradeepchoudhary135@gmail.com', 'mobile_number': '8553074272', 'skills': ['Sql server', 'Sql', 'Rest', 'Api', 'Certification', 'System', 'Agile', 'Reporting', 'Architecture', 'Sharepoint', 'Analysis', 'Analytics', 'Transactions', 'Warehouse', 'Electrical', 'Retail', 'Oracle', 'Sales', 'Pyspark', 'Visual', 'Electronics', 'Algorithms', 'Etl', 'Testing', 'Python'], 'college_name': None, 'degree': None, 'designation': ['Data Engineer'], 'experience': ['CERTIFICATION', 'Microsoft certified: Azure Data Engineer associate (DP 203)'], 'company_names': ['TCS'], 'no_of_pages': 1, 'total_experience': 0.0}\n"
     ]
    },
    {
     "name": "stderr",
     "output_type": "stream",
     "text": [
      "C:\\Users\\kambo\\anaconda3\\lib\\site-packages\\spacy\\util.py:275: UserWarning: [W031] Model 'en_training' (0.0.0) requires spaCy v2.1 and is incompatible with the current spaCy version (2.3.5). This may lead to unexpected results or runtime errors. To resolve this, download a newer compatible model or retrain your custom model with the current spaCy version. For more details and available updates, run: python -m spacy validate\n",
      "  warnings.warn(warn_msg)\n"
     ]
    },
    {
     "name": "stdout",
     "output_type": "stream",
     "text": [
      "{'name': 'Rajasekhar Peta', 'email': 'sekhar10007@gmail.com', 'mobile_number': '9182388381', 'skills': ['Xml', 'Sql', 'Queries', 'Api', 'Analytical', 'System', 'Design', 'Reporting', 'Communication', 'Hadoop', 'Spark', 'Banking', 'Hive', 'Scheduling', 'Crm', 'Programming', 'Accounting', 'Analysis', 'Analytics', 'Root cause', 'Scala', 'Retail', 'Process', 'Pyspark', 'Adobe', 'Vendors', 'Technical', 'Cloud', 'Testing', 'Python', 'Coding'], 'college_name': None, 'degree': None, 'designation': ['Data Platform Modernization', 'Associate Big Data at Celebal \\nTechnologies Pvt Ltd.', 'Data Engineer', 'Associate Data Engineer & Production Support Engineer'], 'experience': ['Associate Big Data at Celebal', 'Technologies Pvt Ltd.', 'July 2020 - Present    @ Jaipur, India', 'Big Data Researcher at Tech', 'Mahindra Ltd.', 'Jan 2020 – May 2020 @ Hyderabad,', 'India'], 'company_names': ['PySpark Developer'], 'no_of_pages': 1, 'total_experience': 2.75}\n"
     ]
    },
    {
     "name": "stderr",
     "output_type": "stream",
     "text": [
      "C:\\Users\\kambo\\anaconda3\\lib\\site-packages\\spacy\\util.py:275: UserWarning: [W031] Model 'en_training' (0.0.0) requires spaCy v2.1 and is incompatible with the current spaCy version (2.3.5). This may lead to unexpected results or runtime errors. To resolve this, download a newer compatible model or retrain your custom model with the current spaCy version. For more details and available updates, run: python -m spacy validate\n",
      "  warnings.warn(warn_msg)\n"
     ]
    },
    {
     "name": "stdout",
     "output_type": "stream",
     "text": [
      "{'name': None, 'email': None, 'mobile_number': None, 'skills': [], 'college_name': None, 'degree': None, 'designation': None, 'experience': None, 'company_names': None, 'no_of_pages': None, 'total_experience': 0}\n"
     ]
    },
    {
     "name": "stderr",
     "output_type": "stream",
     "text": [
      "C:\\Users\\kambo\\anaconda3\\lib\\site-packages\\spacy\\util.py:275: UserWarning: [W031] Model 'en_training' (0.0.0) requires spaCy v2.1 and is incompatible with the current spaCy version (2.3.5). This may lead to unexpected results or runtime errors. To resolve this, download a newer compatible model or retrain your custom model with the current spaCy version. For more details and available updates, run: python -m spacy validate\n",
      "  warnings.warn(warn_msg)\n"
     ]
    },
    {
     "name": "stdout",
     "output_type": "stream",
     "text": [
      "{'name': 'SANDHYA  Azure Data Engineer', 'email': 'ksandy7335@gmail.com', 'mobile_number': '9492700133', 'skills': ['Technical skills', 'Sql', 'Email', 'Queries', 'Db2', 'Java', 'Windows', 'Legal', 'System', 'Controls', 'Agile', 'Cola', 'Communication', 'Spark', 'Mobile', 'Excel', 'Scrum', 'Brand', 'Scheduling', 'Database', 'Analysis', 'Servers', 'Quality assurance', 'Linux', 'Datasets', 'Updates', 'Process', 'Sales', 'Reports', 'Writing', 'Aws', 'Etl', 'Beverage', 'Technical', 'Operations', 'Schedule', 'Administration', 'Cloud', 'Testing', 'Python'], 'college_name': None, 'degree': None, 'designation': ['Azure Data Engineer in Crown Solutions India Private Limited(Client'], 'experience': None, 'company_names': None, 'no_of_pages': None, 'total_experience': 0}\n"
     ]
    },
    {
     "name": "stderr",
     "output_type": "stream",
     "text": [
      "C:\\Users\\kambo\\anaconda3\\lib\\site-packages\\spacy\\util.py:275: UserWarning: [W031] Model 'en_training' (0.0.0) requires spaCy v2.1 and is incompatible with the current spaCy version (2.3.5). This may lead to unexpected results or runtime errors. To resolve this, download a newer compatible model or retrain your custom model with the current spaCy version. For more details and available updates, run: python -m spacy validate\n",
      "  warnings.warn(warn_msg)\n"
     ]
    },
    {
     "name": "stdout",
     "output_type": "stream",
     "text": [
      "{'name': 'Sandipan Roy', 'email': 'sandyrc.2010@gmail.com', 'mobile_number': '8961613115', 'skills': ['Sql server', 'Sql', 'Api', 'Spark', 'Json', 'Database', 'Engineering', 'Analysis', 'Analytics', 'English', 'Pyspark', 'Reports', 'Photography', 'Writing', 'Pandas', 'Fitness', 'Marketing', 'Etl', 'Operations', 'Finance', 'Cloud', 'Python', 'Coding'], 'college_name': None, 'degree': ['Computer Science\\nEngineering', 'Bachelor in Technology \\nGuru Nanak Institute of Technology'], 'designation': ['Cloud Data Engineer', 'Associate Consultant'], 'experience': ['Associate Consultant', 'Capgemini', '08/2018 - 12/2021,', 'Achievements/Tasks'], 'company_names': ['Azure Data Lake', 'ARM templates', 'Azure Function App', 'Azure Logic App', 'Microsoft', 'Azure Data Factory', 'Microsoft Certiﬁed Azure Data Engineer', 'Azure Stream Analytics', 'Azure Synapse Analytics'], 'no_of_pages': 1, 'total_experience': 0.0}\n"
     ]
    },
    {
     "name": "stderr",
     "output_type": "stream",
     "text": [
      "C:\\Users\\kambo\\anaconda3\\lib\\site-packages\\spacy\\util.py:275: UserWarning: [W031] Model 'en_training' (0.0.0) requires spaCy v2.1 and is incompatible with the current spaCy version (2.3.5). This may lead to unexpected results or runtime errors. To resolve this, download a newer compatible model or retrain your custom model with the current spaCy version. For more details and available updates, run: python -m spacy validate\n",
      "  warnings.warn(warn_msg)\n"
     ]
    },
    {
     "name": "stdout",
     "output_type": "stream",
     "text": [
      "{'name': 'Shamshad alam Mobile', 'email': 'ashamshad44@gmail.com', 'mobile_number': '8920662456', 'skills': ['Sql server', 'Sql', 'Queries', 'Automation', 'Computer software', 'Schedules', 'System', 'Migration', 'Design', 'Communication', 'Spark', 'Mobile', 'Math', 'Excel', 'Architecture', 'Content', 'Process improvements', 'Process improvement', 'Database', 'Training', 'Health', 'Wheel', 'Standardization', 'Access', 'Crm', 'Documentation', 'Unix', 'Servers', 'Scripting', 'Analytics', 'Improvement', 'Kpi', 'Pivot', 'Warehouse', 'English', 'Process', 'Pyspark', 'Sales', 'Reports', 'Plan', 'Engagement', 'Adobe', 'Marketing', 'Etl', 'Mis', 'Technical', 'Operations', 'Pdf', 'Github', 'Click', 'Testing', 'Python'], 'college_name': None, 'degree': None, 'designation': ['technology Consultant'], 'experience': [], 'company_names': None, 'no_of_pages': None, 'total_experience': 0.0}\n"
     ]
    },
    {
     "name": "stderr",
     "output_type": "stream",
     "text": [
      "C:\\Users\\kambo\\anaconda3\\lib\\site-packages\\spacy\\util.py:275: UserWarning: [W031] Model 'en_training' (0.0.0) requires spaCy v2.1 and is incompatible with the current spaCy version (2.3.5). This may lead to unexpected results or runtime errors. To resolve this, download a newer compatible model or retrain your custom model with the current spaCy version. For more details and available updates, run: python -m spacy validate\n",
      "  warnings.warn(warn_msg)\n"
     ]
    },
    {
     "name": "stdout",
     "output_type": "stream",
     "text": [
      "{'name': 'SHAURYA RATHI', 'email': None, 'mobile_number': None, 'skills': ['Sql', 'Analytical', 'System', 'Design', 'Architecture', 'Scheduling', 'Debugging', 'Analysis', 'Ibm', 'Linux', 'English', 'Oracle', 'Process', 'Pyspark', 'R', 'Troubleshooting', 'Requests', 'Technical', 'Schedule', 'Administration', 'Python'], 'college_name': None, 'degree': ['B.Tech (Information Technology)'], 'designation': ['IBM INDIA –', 'Data Engineer', 'AZURE DATA ENGINEER', 'Data Engineer Associate.  \\n\\nAZ-900 –'], 'experience': ['IBM INDIA –  AZURE DATA ENGINEER (02/2021 – Till date)', 'Roles and Responsibilities:', '•  Developed dynamic and optimized ELT pipelines to load data from on-', 'premise to Azure and vice -versa using Azure Data Factory and Databricks.', '•  Worked on Data Factory Activities (Copy, Web, Get Metadata, Foreach,', 'Lookup, Data flow, Databricks Notebook, Etc)', '•  Understands and interprets data to derive meaningful conclusions and', 'insights.', '•  Debugging the data pipelines and resolving issues.', '•  Scheduling pipelines using triggers such as Event Trigger, Schedule Trigger', 'in Azure Data Factory (ADF)', '•  Creating Data Flows to create transformation logic. The course covers all of', 'the transformation steps such as Source, Filter, Select, Lookup, Conditional', 'Split, Derived Column, Aggregate, Join and Sink transformation.', '•  Basic Knowledge of HDFS, BIG DATA', '•  Used PySpark code for data extraction, transformation, and aggregation', 'from different file formats for analyzing & transforming the data to', 'uncover insights into the customer usage patterns.'], 'company_names': ['Oracle', 'Microsoft'], 'no_of_pages': 2, 'total_experience': 0.0}\n"
     ]
    },
    {
     "name": "stderr",
     "output_type": "stream",
     "text": [
      "C:\\Users\\kambo\\anaconda3\\lib\\site-packages\\spacy\\util.py:275: UserWarning: [W031] Model 'en_training' (0.0.0) requires spaCy v2.1 and is incompatible with the current spaCy version (2.3.5). This may lead to unexpected results or runtime errors. To resolve this, download a newer compatible model or retrain your custom model with the current spaCy version. For more details and available updates, run: python -m spacy validate\n",
      "  warnings.warn(warn_msg)\n"
     ]
    },
    {
     "name": "stdout",
     "output_type": "stream",
     "text": [
      "{'name': 'Shekhar Nalawade', 'email': 'shekhar.nalawade@gmail.com', 'mobile_number': '9503051575', 'skills': ['International', 'Sql', 'Java', 'Yaml', 'Queries', 'Automation', 'Certification', 'Analytical', 'Schedules', 'Migration', 'Agile', 'Life cycle', 'Healthcare', 'Reporting', 'Mobile', 'Excel', 'Json', 'Banking', 'Scrum', 'Architecture', 'Database', 'Health', 'Training', 'Big data', 'Engineering', 'Analysis', 'Unix', 'Ibm', 'Programming', 'Scripting', 'Data analysis', 'Warehouse', 'English', 'Retail', 'Oracle', 'Workflow', 'Pyspark', 'Jira', 'Test cases', 'Etl', 'Technical', 'Operations', 'Finance', 'Schedule', 'Cloud', 'Testing', 'Python'], 'college_name': None, 'degree': None, 'designation': ['Senior Associate', 'Azure Data Engineer Associate DP-203'], 'experience': [': ING Bank Belgium', 'Client', ': Migration on Azure Cloud', 'Project', ': Data Engineer', 'Role', ': 2020 – till date', 'Timeline'], 'company_names': ['Oracle', 'Vivekanand College', 'Rewards & Recognition', 'ING Bank'], 'no_of_pages': 4, 'total_experience': 0.0}\n"
     ]
    },
    {
     "name": "stderr",
     "output_type": "stream",
     "text": [
      "C:\\Users\\kambo\\anaconda3\\lib\\site-packages\\spacy\\util.py:275: UserWarning: [W031] Model 'en_training' (0.0.0) requires spaCy v2.1 and is incompatible with the current spaCy version (2.3.5). This may lead to unexpected results or runtime errors. To resolve this, download a newer compatible model or retrain your custom model with the current spaCy version. For more details and available updates, run: python -m spacy validate\n",
      "  warnings.warn(warn_msg)\n"
     ]
    },
    {
     "name": "stdout",
     "output_type": "stream",
     "text": [
      "{'name': 'Shivakumar Aiyadurai', 'email': 'Shivakumar.aiyadurai@yahoo.com', 'mobile_number': '9884447537', 'skills': ['International', 'Sql server', 'Sql', 'Usability', 'Queries', 'Pl/sql', 'Windows', 'Certification', 'Analytical', 'Apex', 'System', 'Agile', 'Design', 'Reporting', 'Ui', 'Spark', 'Html', 'Javascript', 'Mobile', 'Interactive', 'Erp', 'Kpis', 'Analyze', 'Architecture', 'Database', 'Sdlc', 'Data management', 'Construction', 'Engineering', 'Analysis', 'Unix', 'Documentation', 'Servers', 'Analytics', 'Improvement', 'Data analysis', 'Billing', 'Github', 'Salesforce', 'Kpi', 'Warehouse', 'Research', 'Oracle', 'Process', 'Pyspark', 'Jira', 'Reports', 'Plan', 'Budget', 'Writing', 'Aws', 'Modeling', 'Electronics', 'Saas', 'Requests', 'Css', 'Etl', 'Governance', 'Technical', 'Operations', 'Inventory', 'Finance', 'Investigation', 'Cloud', 'Testing', 'Coding'], 'college_name': None, 'degree': ['B.E.) in Electronics and communications'], 'designation': ['System Analyst      ', 'Software Engineer'], 'experience': None, 'company_names': ['Oracle', 'Microsoft', 'Doyen Systems Pvt. Ltd'], 'no_of_pages': None, 'total_experience': 0}\n"
     ]
    },
    {
     "name": "stderr",
     "output_type": "stream",
     "text": [
      "C:\\Users\\kambo\\anaconda3\\lib\\site-packages\\spacy\\util.py:275: UserWarning: [W031] Model 'en_training' (0.0.0) requires spaCy v2.1 and is incompatible with the current spaCy version (2.3.5). This may lead to unexpected results or runtime errors. To resolve this, download a newer compatible model or retrain your custom model with the current spaCy version. For more details and available updates, run: python -m spacy validate\n",
      "  warnings.warn(warn_msg)\n"
     ]
    },
    {
     "name": "stdout",
     "output_type": "stream",
     "text": [
      "{'name': 'P SHRAVAN KUMAR', 'email': 'Shravan.mca13@gmail.com', 'mobile_number': '9494393450', 'skills': ['Numpy', 'Sql', 'Email', 'Queries', 'Computer applications', 'Automation', 'Api', 'Controls', 'System', 'Migration', 'Design', 'Reporting', 'Healthcare', 'Communication', 'Mobile', 'Analyze', 'Database', 'Training', 'Engineering', 'Analysis', 'Programming', 'Data analysis', 'Analytics', 'Datasets', 'English', 'Policies', 'Research', 'Pyspark', 'P', 'Reports', 'Engagement', 'Pandas', 'R', 'Acquisition', 'Algorithms', 'Project management', 'Metrics', 'Cloud', 'Python'], 'college_name': None, 'degree': None, 'designation': ['Tech Lead in Tech Mahindra Ltd', 'Tech Lead in Tech Mahindra Limited', 'Associate Consultant', 'Senior Software Engineer'], 'experience': [], 'company_names': ['ATMECS Technologies Pvt Ltd'], 'no_of_pages': None, 'total_experience': 0.0}\n"
     ]
    },
    {
     "name": "stderr",
     "output_type": "stream",
     "text": [
      "C:\\Users\\kambo\\anaconda3\\lib\\site-packages\\spacy\\util.py:275: UserWarning: [W031] Model 'en_training' (0.0.0) requires spaCy v2.1 and is incompatible with the current spaCy version (2.3.5). This may lead to unexpected results or runtime errors. To resolve this, download a newer compatible model or retrain your custom model with the current spaCy version. For more details and available updates, run: python -m spacy validate\n",
      "  warnings.warn(warn_msg)\n"
     ]
    },
    {
     "name": "stdout",
     "output_type": "stream",
     "text": [
      "{'name': 'Siddharth KR', 'email': 'kr.siddhu@gmail.com', 'mobile_number': '9486585224', 'skills': ['Sql', 'Queries', 'Automation', 'Tax', 'System', 'Conversion', 'Spark', 'Json', 'Hive', 'Architecture', 'Logging', 'English', 'Pyspark', 'Modeling', 'Tfs', 'Etl', 'Schedule', 'Orange', 'Python', 'Coding'], 'college_name': None, 'degree': None, 'designation': ['Microsoft'], 'experience': [], 'company_names': ['Microsoft', '★ Logic'], 'no_of_pages': None, 'total_experience': 0.0}\n"
     ]
    },
    {
     "name": "stderr",
     "output_type": "stream",
     "text": [
      "C:\\Users\\kambo\\anaconda3\\lib\\site-packages\\spacy\\util.py:275: UserWarning: [W031] Model 'en_training' (0.0.0) requires spaCy v2.1 and is incompatible with the current spaCy version (2.3.5). This may lead to unexpected results or runtime errors. To resolve this, download a newer compatible model or retrain your custom model with the current spaCy version. For more details and available updates, run: python -m spacy validate\n",
      "  warnings.warn(warn_msg)\n"
     ]
    },
    {
     "name": "stdout",
     "output_type": "stream",
     "text": [
      "{'name': 'PAYYAZHI SRUTHI', 'email': 'sruthipayyazhi@gmail.com', 'mobile_number': '9392139169', 'skills': ['Technical skills', 'Sql', 'Ordering', 'Email', 'Windows', 'Analytical', 'System', 'Design', 'Reporting', 'Html', 'Payroll', 'Excel', 'Database', 'Training', 'Programming', 'Retention', 'Analytics', 'Mysql', 'Coaching', 'Warehouse', 'Logging', 'Retail', 'Process', 'P', 'Acquisition', 'Auditing', 'Etl', 'Technical', 'Operations', 'Cloud', 'Testing', 'Python'], 'college_name': None, 'degree': ['B.Tech'], 'designation': ['Process Trainer', 'Database Developer', 'Azure Data Engineer', 'Application Development Senior Analyst in EHS Infotech Solutions Pvt Ltd.'], 'experience': ['✓  Familiarity working with HTML, SQL', '✓  Good analytical abilities, quick grasping power and zeal for learning new things with can do attitude', 'TECHNICAL SKILLS:', 'Operating Systems', 'ETL Tools', 'Programming', 'DBMS/RDBMS', 'Optional Knowledge', ':', ':', ':', ':', ':', 'Windows 2000/XP/2008.', 'Azure Data Factory, Azure Data Bricks, Azure Data lake Analytics', 'Python', 'MySQL, AZURE DW', 'Microsoft Excel.', 'EDUCATIONAL QUALIFICATIONS:', '•', 'B.Tech from JNTU Kakinada, Guntur in 2017 with 70%.', 'WORK EXPERIENCE: EHS Infotech Solutions Pvt Ltd.', '06 Dec 2017 – 07 April 2022', '• Worked as Application Development Senior Analyst in EHS Infotech Solutions Pvt Ltd. From 13 May 2019 to 11 April', '2022.', '• Worked as Database Developer from 6 December 2017 to 8 May 2019.', 'PROJECT DETAILS:', 'Project #1', 'Client: FITBIT INC.', 'Period: From 13 May 2019 to 07 April 2022', 'Role: Azure Data Engineer', 'Team Size: 7', 'The main aim of the project is to implement the data warehousing solutions on FITBIT Management system. In existing', 'web-based interface through implementation of Smart Watches Ordering / Warranty / Pre-Sale and Retail. Serving a dual', 'purpose of Convenience & Online support, this interface provides a  complete integration of services with technology.', 'Providing with various facilities and features such as online of Ordering / /Warranty / Free Services / Pre-Sale and Retail', 'information is available to the Company on daily basis', 'Roles & Responsibilities:', '✓  Created Linked Services for multiple source system (i.e.: Azure SQL Server, ADLS, BLOB).', '✓  Created Pipeline’s to extract data from on premises source systems to azure cloud data lake storage; Extensively', 'worked on copy activities and implemented the copy behavior’s such as flatten hierarchy, preserve hierarchy and', 'Merge hierarchy; Implemented Error Handling concept through copy activity.', '✓  Exposure on Azure Data Factory activities such as Lookups, Stored procedures, if condition, for each, Set Variable,', 'Append Variable, Get Metadata, Filter and wait.', '✓  Configured the logic apps to handle email notification to the end users and key shareholders with the help of', 'web  services  activity;  create  dynamic  pipeline  to  handle  multiple  source  extracting  to  multiple  targets;', 'extensively used azure key vaults to configure the connections in linked services.', '✓  Configured  and  implemented  the  Azure  Data  Factory  Triggers  and  scheduled  the  Pipelines;  monitored  the', 'scheduled Azure Data Factory pipelines and configured the alerts to get notification of failure pipelines.', '✓  Extensively worked on Azure Data Lake Analytics with the help of Azure Data bricks to implement SCD-1, SCD-2', 'approaches.', '✓  Created Azure Stream Analytics Jobs to replication the real time data to load to Azure SQL Data warehouse.', '✓', 'Implemented delta logic extractions for various sources with the help of control table; implemented the Data', 'Frameworks to handle the deadlocks, recovery, logging the data of pipelines.', '✓  Deployed the codes to multiple environments with the help of CI/CD process and worked on code defect during', 'the SIT and UAT testing and provide supports to data loads for testing; Implemented reusable components to', 'reduce manual interventions', 'PROJECT DETAILS:', 'Project #2', 'Period: From 06 Dec 2017 to 08 April 2019', 'Role: Database Developer', '✓  Provide guidance and support to Application Developers', '✓  Assist with schema design, code review, SQL query tuning', '✓', 'Install, tune, implement and upgrade DBMS installations', '✓  Write and deploy SQL patches', '✓  Upgrade and improve application schema and data upgrades', '✓  Process work accurately and in a timely manner', '✓  Pay attention to detail at all times', '✓  Proactively and regularly make recommendations for system improvements', '✓  Collate, prepare and present statistical information for internal and external use', 'Organization: Digicall Tele Services Pvt. Ltd.', '5 Feb 2016 –17 Aug 2017', 'Designation: Process Trainer', '✓  Learn and become an expert in all Teleperformance and client-required training materials and processes that', 'are required for new hire training.', '✓  Managing my trainers coaching and development.', '✓  Ensuring all performance and retention goals for each class are met for trainers and training.', '✓  Managing all aspects of the training environment, including reporting requirements and infrastructure.', '✓', 'Identifying improvements to training curriculum and provide recommendations to Teleperformance and client'], 'company_names': ['EHS Infotech Solutions Pvt Ltd.', 'Digicall Tele Services Pvt. Ltd.'], 'no_of_pages': 3, 'total_experience': 0.0}\n"
     ]
    },
    {
     "name": "stderr",
     "output_type": "stream",
     "text": [
      "C:\\Users\\kambo\\anaconda3\\lib\\site-packages\\spacy\\util.py:275: UserWarning: [W031] Model 'en_training' (0.0.0) requires spaCy v2.1 and is incompatible with the current spaCy version (2.3.5). This may lead to unexpected results or runtime errors. To resolve this, download a newer compatible model or retrain your custom model with the current spaCy version. For more details and available updates, run: python -m spacy validate\n",
      "  warnings.warn(warn_msg)\n"
     ]
    },
    {
     "name": "stdout",
     "output_type": "stream",
     "text": [
      "{'name': 'Subhendusonu1@gmail.com Subhendu', 'email': 'Subhendusonu1@gmail.com', 'mobile_number': '7328878708', 'skills': ['Pycharm', 'Sql', 'Xml', 'Rest', 'Queries', 'Pl/sql', 'Api', 'Apex', 'Migration', 'Agile', 'Design', 'Conversion', 'Ui', 'Communication', 'Reporting', 'Json', 'Excel', 'Database', 'Training', 'Access', 'Analytics', 'Instrumentation', 'Warehouse', 'Datasets', 'English', 'Research', 'Retail', 'Oracle', 'Process', 'Pyspark', 'Jira', 'Reports', 'Plan', 'Modeling', 'Electronics', 'Lifecycle', 'Mining', 'Soap', 'Acquisition', 'Etl', 'Financing', 'Technical', 'Metrics', 'Github', 'Python', 'Coding'], 'college_name': None, 'degree': None, 'designation': ['Technical Consultant'], 'experience': ['Tata Consultancy Services', 'June 2012  – Present', 'Project', 'Tenure', 'Roles & Responsibilities', 'Azure Data Engineer Lead', 'July 2016  – Present', 'Asset Financing Bank, South', 'Africa', 'Tools Used', '•  Azure Portal', '•  Toad', '•  PL/SQL', 'Developer', '•  PyCharm', '•  Postman', '•  SSMS', '•  Power BI', '2', '•', 'Involved in entire product lifecycle development', 'from requirement gathering through', 'implementation in production.', '•  Created Pipelines in Azure Data Factory using', 'Linked Services/Datasets  to Extract, Transform', 'and load data from different sources like Azure', 'SQL, Blob storage, Azure SQL Data warehouse.', 'Involved in migration of SQL database to Azure', 'data Lake Gen2.', '•', '•  Controlling and granting database access to Azure', 'SQL Database and Azure SQL Data warehouse.', '•  Worked on streaming data metrics of IOT devices', 'using Azure Events Hub and Azure Stream', 'Analytics.', '•  Worked on Git to maintain source code in Git and', 'GitHub repositories.', '•  Worked on Azure Databricks to create, clone and', 'edit clusters of complex data using Pyspark.', '•  Development of Oracle Forms and Reports and', \"PL/SQL packages to interact with API's through\", 'JSON/XML payloads using UTL_HTTP.', '•  Created Python access and Database Connections', 'to Oracle Database using cx_Oracle module.', 'Corporate Investment Bank,', 'South Africa', 'May 2015  - July 2016', 'Tools Used', '•  SSIS', '•  SSRS', '•  Toad', '•  SSMS', '•  Power BI', 'Apr 2014  - May 2015', 'Mining and Refinery', 'Company, Saudi Arabia', 'Tools Used', '•  Oracle Forms', '•  Reports', '•  Toad', 'Jun 2013  - April 2014', 'Petrochemicals and Energy', 'Company, Saudi Arabia', 'Tools Used', 'Retail and Commercial Bank,', 'USA', '•  Forms/Apex', '•  Toad', '•  PL/SQL', 'Nov 2012  - June 2013', 'Informatica', 'Tools Used', '•', '•  Toad', '•  PL/SQL', 'Aug 2012  - Nov 2012', 'Corporate Investment Bank,', 'USA', 'Tools Used', '•  Toad', '•  Data Loader', '•  PL/SQL', 'Microsoft BI and Oracle Developer', '•  Designing of SSIS Packages for integrating data', 'using OLE DB connection from heterogeneous', 'sources like (Excel, CSV, Oracle, flat file, Text', 'Format Data) by using multiple transformations', 'provided by SSIS such as Data Conversion,', 'Conditional Split, Bulk Insert, Merge and union', 'all.', '•  Developed dashboard reports using SQL Server', 'Reporting Services (SSRS), Power BI, Report', 'Model and ad-hoc reporting using Report Builder.', '•  Developed PL/SQL Packages to consume REST', 'Web Services for data communication between', 'remote systems.', '•  Responsible for SQL/PLSQL package', 'development, tuning and optimization of the', 'already existing code.', 'Oracle Technical Consultant', '•  Development of Oracle Forms which includes the', 'functionality of submitting a report Oracle', 'Reports using PL/SQL coding.', '•  Used PL/SQL and SQL*Loader to create ETL', 'packages for flat file loading and error capturing', 'into log tables.', '•  Created Data Loader templates for bulk creation', 'of formulas in Oracle Form.', 'Oracle Technical Consultant', '•  Development of customized Oracle reports and', 'Oracle Forms using PL/SQL Coding.', '•  Developed many Custom Oracle Core-HRMS', 'module reports and customized forms for the', 'same.', '•  Prepared Technical Documents by analyzing', \"client's requirement.\", 'Oracle Technical Consultant', '•  Developed application by retrieving the logic', 'from informatica.', '•  Tuning of the SQL queries, which takes long time', 'to process the request using Explain Plan, Hints to', 'reduce the response time.', '•  Prepare the design document, Migration', 'document and maintaining the repository as well.', 'Oracle Technical Consultant', '•  Developed Advance PL/SQL packages,', 'procedures, triggers, functions, Indexes to', 'implement business logic using Toad and PLSQL', 'Developer.', '•  Prepared technical design documents for report', 'customizations.', '•  Prepared test cases and provided Go-Live', 'Warranty support.', 'ILP Training', 'June 2012  - Aug 2012', 'Initial Learning Program- TCS Training', '3'], 'company_names': ['TCS', 'Oracle', 'Microsoft'], 'no_of_pages': 4, 'total_experience': 21.0}\n"
     ]
    },
    {
     "name": "stderr",
     "output_type": "stream",
     "text": [
      "C:\\Users\\kambo\\anaconda3\\lib\\site-packages\\spacy\\util.py:275: UserWarning: [W031] Model 'en_training' (0.0.0) requires spaCy v2.1 and is incompatible with the current spaCy version (2.3.5). This may lead to unexpected results or runtime errors. To resolve this, download a newer compatible model or retrain your custom model with the current spaCy version. For more details and available updates, run: python -m spacy validate\n",
      "  warnings.warn(warn_msg)\n"
     ]
    },
    {
     "name": "stdout",
     "output_type": "stream",
     "text": [
      "{'name': None, 'email': None, 'mobile_number': None, 'skills': [], 'college_name': None, 'degree': None, 'designation': None, 'experience': None, 'company_names': None, 'no_of_pages': None, 'total_experience': 0}\n"
     ]
    },
    {
     "name": "stderr",
     "output_type": "stream",
     "text": [
      "C:\\Users\\kambo\\anaconda3\\lib\\site-packages\\spacy\\util.py:275: UserWarning: [W031] Model 'en_training' (0.0.0) requires spaCy v2.1 and is incompatible with the current spaCy version (2.3.5). This may lead to unexpected results or runtime errors. To resolve this, download a newer compatible model or retrain your custom model with the current spaCy version. For more details and available updates, run: python -m spacy validate\n",
      "  warnings.warn(warn_msg)\n"
     ]
    },
    {
     "name": "stdout",
     "output_type": "stream",
     "text": [
      "{'name': 'SUDALAI MARI', 'email': 'sudalaimariece17@gmail.com', 'mobile_number': '8925344552', 'skills': ['Sql', 'Agile', 'Etl', 'Analyze', 'Database', 'System', 'Pyspark', 'Engineering', 'Analysis', 'Design', 'Communication', 'Electronics', 'Computer science', 'Testing', 'Coding'], 'college_name': None, 'degree': None, 'designation': ['Azure Date Engineer and ASP.NET Technology; \\nmainly involved in analysis and development of application. \\nAdept in end-to-end development of software products from \\nrequirement analysis to system study, designing, coding, \\ntesting, de-bugging, implementation.', 'EDUCATION BACKGROUND', 'Azure Data Engineer'], 'experience': [], 'company_names': ['University of Minnesota', 'Capgemini Technology Services Pvt Ltd', 'Sierra ODC Pvt Ltd'], 'no_of_pages': 1, 'total_experience': 0.0}\n"
     ]
    },
    {
     "name": "stderr",
     "output_type": "stream",
     "text": [
      "C:\\Users\\kambo\\anaconda3\\lib\\site-packages\\spacy\\util.py:275: UserWarning: [W031] Model 'en_training' (0.0.0) requires spaCy v2.1 and is incompatible with the current spaCy version (2.3.5). This may lead to unexpected results or runtime errors. To resolve this, download a newer compatible model or retrain your custom model with the current spaCy version. For more details and available updates, run: python -m spacy validate\n",
      "  warnings.warn(warn_msg)\n"
     ]
    },
    {
     "name": "stdout",
     "output_type": "stream",
     "text": [
      "{'name': 'Sudhakar Email', 'email': 'nsudhacar.it@gmail.com', 'mobile_number': '7675973049', 'skills': ['Xml', 'Sql', 'Shell', 'Email', 'Queries', 'Java', 'Openstack', 'Docker', 'Telecom', 'Automation', 'Application support', 'Windows', 'Api', 'System', 'Migration', 'Agile', 'Design', 'Networking', 'Communication', 'Spark', 'Html', 'Json', 'Business issues', 'Scrum', 'Hive', 'Ubuntu', 'Dhcp', 'Analyze', 'Content', 'Sharepoint', 'Database', 'Health', 'Debugging', 'Programming', 'Analysis', 'Servers', 'Scripting', 'Analytics', 'Improvement', 'Hardware', 'Jsp', 'Active directory', 'Security', 'Linux', 'Sql server', 'Updates', 'Oracle', 'Process', 'Reports', 'Visual', 'Workflows', 'Tfs', 'Troubleshooting', 'Dns', 'Installation', 'Broadcast', 'Etl', 'Technical', 'Operations', 'Software development life cycle', 'Invoices', 'Administration', 'Parser', 'Cloud', 'Testing', 'Python', '.net'], 'college_name': None, 'degree': None, 'designation': ['System Administrator', 'Technical Consultant'], 'experience': [], 'company_names': ['Microsoft'], 'no_of_pages': None, 'total_experience': 0.0}\n"
     ]
    },
    {
     "name": "stderr",
     "output_type": "stream",
     "text": [
      "C:\\Users\\kambo\\anaconda3\\lib\\site-packages\\spacy\\util.py:275: UserWarning: [W031] Model 'en_training' (0.0.0) requires spaCy v2.1 and is incompatible with the current spaCy version (2.3.5). This may lead to unexpected results or runtime errors. To resolve this, download a newer compatible model or retrain your custom model with the current spaCy version. For more details and available updates, run: python -m spacy validate\n",
      "  warnings.warn(warn_msg)\n"
     ]
    },
    {
     "name": "stdout",
     "output_type": "stream",
     "text": [
      "{'name': 'Sudheer Maddu      ', 'email': 'sudheer.499vits@gmail.com', 'mobile_number': '9500567051', 'skills': ['International', 'Sql server', 'Sql', 'Email', 'Queries', 'Sap', 'Windows', 'Api', 'Analytical', 'System', 'Migration', 'Ai', 'Design', 'Reporting', 'Healthcare', 'Hadoop', 'Spark', 'Mobile', 'Json', 'Excel', 'Cloud', 'Hive', 'Scheduling', 'Database', 'Health', 'Audit', 'Debugging', 'Engineering', 'Programming', 'Ibm', 'Documentation', 'Config', 'Analytics', 'Access', 'Warehouse', 'Datasets', 'Retail', 'Oracle', 'Matrix', 'Pyspark', 'Workflow', 'Reports', 'Jira', 'Process', 'Writing', 'Modeling', 'Pharmacy', 'Workflows', 'Tfs', 'Etl', 'Technical', 'Operations', 'Finance', 'Metrics', 'Salesforce', 'Python'], 'college_name': None, 'degree': ['Bachelor of Technology (ECE)'], 'designation': ['Senior Tech Lead', 'Senior Systems Engineer', 'Senior technology specialist'], 'experience': None, 'company_names': ['Oracle', 'Microsoft', 'Infosys'], 'no_of_pages': None, 'total_experience': 0}\n"
     ]
    },
    {
     "name": "stderr",
     "output_type": "stream",
     "text": [
      "C:\\Users\\kambo\\anaconda3\\lib\\site-packages\\spacy\\util.py:275: UserWarning: [W031] Model 'en_training' (0.0.0) requires spaCy v2.1 and is incompatible with the current spaCy version (2.3.5). This may lead to unexpected results or runtime errors. To resolve this, download a newer compatible model or retrain your custom model with the current spaCy version. For more details and available updates, run: python -m spacy validate\n",
      "  warnings.warn(warn_msg)\n"
     ]
    },
    {
     "name": "stdout",
     "output_type": "stream",
     "text": [
      "{'name': 'Sumit Bhattar', 'email': 'sumit.ssipmt@gmail.com', 'mobile_number': '9019358480', 'skills': ['Sql server', 'Sql', 'Email', 'Migration', 'Design', 'Conversion', 'Reporting', 'Communication', 'Spark', 'Computer science', 'Json', 'Excel', 'Scheduling', 'Database', 'Health', 'Access', 'Engineering', 'Analysis', 'Programming', 'Analytics', 'Machine learning', 'Warehouse', 'Datasets', 'Scala', 'Process', 'Pyspark', 'Reports', 'Statistical analysis', 'Lifecycle', 'Strategy', 'Business intelligence', 'Etl', 'Operations', 'Technical', 'Cloud', 'Python'], 'college_name': None, 'degree': None, 'designation': ['Data Engineer                                @ Emids technologies', 'Data Engineer Associate'], 'experience': [], 'company_names': None, 'no_of_pages': None, 'total_experience': 0.0}\n"
     ]
    },
    {
     "name": "stderr",
     "output_type": "stream",
     "text": [
      "C:\\Users\\kambo\\anaconda3\\lib\\site-packages\\spacy\\util.py:275: UserWarning: [W031] Model 'en_training' (0.0.0) requires spaCy v2.1 and is incompatible with the current spaCy version (2.3.5). This may lead to unexpected results or runtime errors. To resolve this, download a newer compatible model or retrain your custom model with the current spaCy version. For more details and available updates, run: python -m spacy validate\n",
      "  warnings.warn(warn_msg)\n"
     ]
    },
    {
     "name": "stdout",
     "output_type": "stream",
     "text": [
      "{'name': 'Sumit Agarwal Address', 'email': 'sumitagrawal1995@gmail.com', 'mobile_number': '9498003386', 'skills': ['Numpy', 'Sql', 'Pycharm', 'Queries', 'Analytical', 'System', 'Ms excel', 'Agile', 'Reporting', 'Mobile', 'Excel', 'Presentation', 'Scrum', 'Architecture', 'Brand', 'Database', 'Health', 'Training', 'Audit', 'Engineering', 'Programming', 'Servers', 'Analytics', 'Mysql', 'Protocols', 'Matlab', 'Electrical', 'Datasets', 'Transport', 'Retail', 'Matrix', 'Process', 'Jira', 'Engagement', 'Writing', 'Pandas', 'Aws', 'Jupyter', 'Modeling', 'Electronics', 'Matplotlib', 'Itil', 'Forecasting', 'Operations', 'Technical', 'C', 'Cloud', 'Tableau', 'Testing', 'Python'], 'college_name': None, 'degree': None, 'designation': ['Data Analyst Domain: Life Sciences', 'System Engineer Client Engagement 03 (June 2020 – July 2021)         Role: Data Analyst Domain: Life Sciences  Responsible for accomplishing the following tasks:   Developing the code using Python and it’s libraries: NumPy, Pandas, SciKit Learn, MatplotLib  Developing the forecasting models predicting the future utilizations of different servers, to     reduce/increase the number of servers associated with the application, using MA, ARIMA,     SARIMA modeling methods.  To create the dashboards for different datasets using Power BI tool to visualize the graphical      orientations of the data.   Creation and presentation of status report in Scrum meetings  Tech Stack: Python, Scikit Learn, MatplotLib, NumPy, Power BI Client Engagement 02 (April', 'System Lead for a Non GxP mobile application hosted on AWS cloud'], 'experience': [], 'company_names': ['Microsoft'], 'no_of_pages': None, 'total_experience': 0.0}\n"
     ]
    },
    {
     "name": "stderr",
     "output_type": "stream",
     "text": [
      "C:\\Users\\kambo\\anaconda3\\lib\\site-packages\\spacy\\util.py:275: UserWarning: [W031] Model 'en_training' (0.0.0) requires spaCy v2.1 and is incompatible with the current spaCy version (2.3.5). This may lead to unexpected results or runtime errors. To resolve this, download a newer compatible model or retrain your custom model with the current spaCy version. For more details and available updates, run: python -m spacy validate\n",
      "  warnings.warn(warn_msg)\n"
     ]
    },
    {
     "name": "stdout",
     "output_type": "stream",
     "text": [
      "{'name': 'Tanjeet Singh', 'email': 'tanjeetsajmani@gmail.com', 'mobile_number': '7697629476', 'skills': ['Programming', 'Python', 'Java', 'Scripting', 'Hive', 'Warehouse', 'Etl', 'Hbase', 'Research', 'Technical', 'Oracle', 'Analytics', 'Engineering', 'Analysis', 'Unix', 'Cloud', 'Reporting', 'Spark'], 'college_name': None, 'degree': ['Bachelor of Engineering'], 'designation': ['Software Developer', 'Data Engineer', 'Azure Data Engineer'], 'experience': ['Azure Data Engineer', 'Publicis Sapient', '02/2021 - Present,', 'Achievements/Tasks', 'Created Enterprise Data Lake by migrating data from', 'multiple On Premises server to Azure cloud platform by', 'building complex ETL pipelines. Further, built Data', 'Warehouse (Azure Synapse) by upgrading the original', 'business logic into big data capacity for reporting and', 'analysis purposes.', 'Implemented business logic in Azure Databricks for', 'transforming the data .', 'Worked on creating Data Pipelines in Azure Logic App', 'and Azure Data Factory to automate ﬂow of data from', 'diﬀerent systems.', 'Worked to various Azure cloud services and also got', 'certiﬁed as an Azure Data Engineer -Associate.', 'Data Engineer', 'Cognizant', '02/2019 - 02/2021,', 'Achievements/Tasks', 'Worked as a Big Data Engineer in Customer Data Hub', 'team for one of the USA life-science project.', 'Developed, tested and deployed Big Data data hub to', 'ingest, store, validate and ready for consumer framework', 'for structured and semi-structured data, completely', 'metadata driven project.', 'Prepared metadata table using Apache Phoenix on the', 'top of HBase for OLTP.', 'Prepared and executed Unix script to pick the ﬁle from', 'landing zone and load it into HDFS after pre-cleaning and', 'metadata check. Developed Spark programs to parse the', 'raw data, populate staging Hive tables and store the', 'reﬁned data in partitioned tables.', 'Software Developer', 'Xenon Nation', '10/2017 - 01/2019,', 'Achievements/Tasks', 'Indore', 'Work as a part of a team, to designed Big Data analytics', 'platform for one of the Insurance company.', 'Integrated Spark into traditional ETL, accelerating the', 'extraction, transformation, and loading of massive', 'structured data.', 'Ingested batch data into a HDFS from multiple data', 'sources such as Data Warehouses (present in Oracle) with', 'the help of Sqoop and ﬁles.', 'Execute data validations (business and technical', 'validations) and store the raw data in to Hive tables, ORC', 'table (for optimization) and GZIP ﬁle (for consumers) in', 'Spark.', 'Orchestrator', 'Azure DataFactory, Azure Logic App, Apache Airﬂow, Ctrl-M', 'Pune', 'Courses', 'Computer Science', 'Engineering'], 'company_names': ['Oracle'], 'no_of_pages': 1, 'total_experience': 0.0}\n"
     ]
    },
    {
     "name": "stderr",
     "output_type": "stream",
     "text": [
      "C:\\Users\\kambo\\anaconda3\\lib\\site-packages\\spacy\\util.py:275: UserWarning: [W031] Model 'en_training' (0.0.0) requires spaCy v2.1 and is incompatible with the current spaCy version (2.3.5). This may lead to unexpected results or runtime errors. To resolve this, download a newer compatible model or retrain your custom model with the current spaCy version. For more details and available updates, run: python -m spacy validate\n",
      "  warnings.warn(warn_msg)\n"
     ]
    },
    {
     "name": "stdout",
     "output_type": "stream",
     "text": [
      "{'name': 'BANERJEE Azure', 'email': 'btanmoy713103@gmail.com', 'mobile_number': '9378017703', 'skills': ['Sql', 'Strategy', 'Compliance', 'Js', 'Policies', 'Testing', 'Analytical', 'Pyspark', 'Engineering', 'Analysis', 'Design', 'Cloud', 'Saas', 'Regulatory', 'Python'], 'college_name': None, 'degree': ['Master of Computer Application', 'Bachelor of Science'], 'designation': ['Node Js', 'Virtual machine', 'Azure Data Engineer'], 'experience': ['Kolkata, West Bengal', 'components', '· Engineering governed, batch and near real time data pipelines using Azure', 'native technologies like ADF, Databricks, ADLS, App service, Logic Apps', '· Designing and implementing serverless data engineering workloads using', 'Azure ecosystem , taking inputs from ADLS, Blob and other cloud based', 'sources (ex: SaaS data) , applying business transformations using', 'distributed compute (ex : Databricks, PySpark, Python etc. ) and persisting', 'insights in the target store (ex: Blob, ADLS, Azure SQL)', '· Collaborate with the data consumption teams to understand the', 'requirements', '· Identify and create use case driven logical data pipeline', '· Support foundational deployment, conﬁguration and Azure Infra setup', '· Trained and managed over 50 junior developers to keep up with the', 'project requirements', 'Power BI Developer', 'Tata Consultancy Services (TCS)', 'Kolkata, West Bengal', 'Apr 2019 - Mar 2020', '· Conducted 5 complex business problem analyses to reduce', \"manufacturing risk as part of the client's compliance strategy\", '· Applied regulatory standards and policies in procedural data analysis', '· Developed 85% custom Microsoft Power BI dashboards, visualizations,', 'and custom web interface to deliver meaningful and actionable insights', '· Hosted 10+ various visualizations and dashboards in Azure', '· Delivered 100% assigned tasks within the agreed timeline', 'Backend Developer', 'Tata Consultancy Services (TCS)', 'March 2018 - March 2019', '· Backend developer of multitenancy manufacturing release ﬂow design', 'Kolkata, West Bengal', 'web application that automate the product testing pipeline', '· Used Node Js and Express framework to design the backend of the', 'functional nodes that can perform independent functional entities', '· Used Azure SQL DB, service bus, virtual machine', 'beamjobs.com'], 'company_names': ['Tata Consultancy Services (TCS)'], 'no_of_pages': 1, 'total_experience': 1.92}\n"
     ]
    },
    {
     "name": "stderr",
     "output_type": "stream",
     "text": [
      "C:\\Users\\kambo\\anaconda3\\lib\\site-packages\\spacy\\util.py:275: UserWarning: [W031] Model 'en_training' (0.0.0) requires spaCy v2.1 and is incompatible with the current spaCy version (2.3.5). This may lead to unexpected results or runtime errors. To resolve this, download a newer compatible model or retrain your custom model with the current spaCy version. For more details and available updates, run: python -m spacy validate\n",
      "  warnings.warn(warn_msg)\n"
     ]
    },
    {
     "name": "stdout",
     "output_type": "stream",
     "text": [
      "{'name': 'Vediya Raghuvanshi', 'email': 'vediyar@gmail.com', 'mobile_number': '7219004704', 'skills': ['Sql', 'Presentation', 'Email', 'Warehouse', 'English', 'Certification', 'Technical', 'Engineering', 'Design', 'Electronics', 'Communication', 'Python', 'Lifecycle'], 'college_name': None, 'degree': None, 'designation': ['Data Engineer', 'Data Engineer Associate'], 'experience': ['2016-11 - PRESENT', 'Data Engineer', 'Sirsonite Solutions Pvt. Ltd., Pune (MH)', '➢ Build Data Pipelines to transform raw data into meaningful data.', '➢ Working on Python and Data Engineering (Microsoft Azure) technologies.', '➢ Working on Azure Data Factory, Azure Data Lake, Azure Key-vault, Azure Databricks, Azure', 'Functions, Azure SQL DB from last one year.'], 'company_names': ['Microsoft', 'Sirsonite Solutions Pvt. Ltd.'], 'no_of_pages': 2, 'total_experience': 0.0}\n"
     ]
    },
    {
     "name": "stderr",
     "output_type": "stream",
     "text": [
      "C:\\Users\\kambo\\anaconda3\\lib\\site-packages\\spacy\\util.py:275: UserWarning: [W031] Model 'en_training' (0.0.0) requires spaCy v2.1 and is incompatible with the current spaCy version (2.3.5). This may lead to unexpected results or runtime errors. To resolve this, download a newer compatible model or retrain your custom model with the current spaCy version. For more details and available updates, run: python -m spacy validate\n",
      "  warnings.warn(warn_msg)\n"
     ]
    },
    {
     "name": "stdout",
     "output_type": "stream",
     "text": [
      "{'name': 'Venu Gopal', 'email': 'venugopal4a0@gmail.com', 'mobile_number': '0807499266', 'skills': ['Sql server', 'Sql', 'Rest', 'Java', 'Python', 'Datasets', 'Sap', 'Etl', 'Api', 'English', 'Process', 'Pyspark', 'Mysql', 'Aws', 'Spark'], 'college_name': None, 'degree': ['Bachelor of Technology \\nSree Venkateswara College Of Eng. and Technology. \\n'], 'designation': ['Java Developer'], 'experience': [], 'company_names': ['Azure Data Factory', 'Mindtree Ltd'], 'no_of_pages': 1, 'total_experience': 0.0}\n"
     ]
    },
    {
     "name": "stderr",
     "output_type": "stream",
     "text": [
      "C:\\Users\\kambo\\anaconda3\\lib\\site-packages\\spacy\\util.py:275: UserWarning: [W031] Model 'en_training' (0.0.0) requires spaCy v2.1 and is incompatible with the current spaCy version (2.3.5). This may lead to unexpected results or runtime errors. To resolve this, download a newer compatible model or retrain your custom model with the current spaCy version. For more details and available updates, run: python -m spacy validate\n",
      "  warnings.warn(warn_msg)\n"
     ]
    },
    {
     "name": "stdout",
     "output_type": "stream",
     "text": [
      "{'name': None, 'email': None, 'mobile_number': None, 'skills': [], 'college_name': None, 'degree': None, 'designation': None, 'experience': None, 'company_names': None, 'no_of_pages': 0, 'total_experience': 0}\n"
     ]
    },
    {
     "name": "stderr",
     "output_type": "stream",
     "text": [
      "C:\\Users\\kambo\\anaconda3\\lib\\site-packages\\spacy\\util.py:275: UserWarning: [W031] Model 'en_training' (0.0.0) requires spaCy v2.1 and is incompatible with the current spaCy version (2.3.5). This may lead to unexpected results or runtime errors. To resolve this, download a newer compatible model or retrain your custom model with the current spaCy version. For more details and available updates, run: python -m spacy validate\n",
      "  warnings.warn(warn_msg)\n"
     ]
    },
    {
     "name": "stdout",
     "output_type": "stream",
     "text": [
      "{'name': 'Vishnuvardhan Reddy', 'email': 'vardhanreddy7777@gmail.com', 'mobile_number': '9666432150', 'skills': ['Sql server', 'Sql', 'Email', 'Warehouse', 'Certification', 'Electronics', 'Scheduling', 'Database', 'Migration', 'Pyspark', 'Magic', 'Cloud', 'Analytics', 'Communication'], 'college_name': None, 'degree': ['Bachelor of Technology : Electronics and Communication'], 'designation': ['Data Engineer'], 'experience': ['⋅ Have implemented Always on Availability Groups.', '⋅ Worked on SSIS for data transformation and to report generation.'], 'company_names': ['Accenture'], 'no_of_pages': 2, 'total_experience': 0.0}\n"
     ]
    },
    {
     "name": "stderr",
     "output_type": "stream",
     "text": [
      "C:\\Users\\kambo\\anaconda3\\lib\\site-packages\\spacy\\util.py:275: UserWarning: [W031] Model 'en_training' (0.0.0) requires spaCy v2.1 and is incompatible with the current spaCy version (2.3.5). This may lead to unexpected results or runtime errors. To resolve this, download a newer compatible model or retrain your custom model with the current spaCy version. For more details and available updates, run: python -m spacy validate\n",
      "  warnings.warn(warn_msg)\n"
     ]
    },
    {
     "name": "stdout",
     "output_type": "stream",
     "text": [
      "{'name': 'Yatish Mobile:9959875287 Email', 'email': 'jyatish3@gmail.com', 'mobile_number': '9959875287', 'skills': ['Technical skills', 'Xml', 'Sql', 'Sql server', 'Email', 'Windows', 'Analytical', 'System', 'Migration', 'Design', 'Data quality', 'Communication', 'Hadoop', 'Spark', 'Case management', 'Architecture', 'Scheduling', 'Publishing', 'Crm', 'Analytics', 'Security', 'Github', 'Datasets', 'Logging', 'Hbase', 'Warehouse', 'Retail', 'Oracle', 'Process', 'Pyspark', 'Jira', 'Workflow', 'Reports', 'Visual', 'Aws', 'Etl', 'Technical', 'Cloud', 'Python', '.net'], 'college_name': None, 'degree': None, 'designation': None, 'experience': None, 'company_names': ['Microsoft'], 'no_of_pages': None, 'total_experience': 0}\n"
     ]
    },
    {
     "name": "stderr",
     "output_type": "stream",
     "text": [
      "C:\\Users\\kambo\\anaconda3\\lib\\site-packages\\spacy\\util.py:275: UserWarning: [W031] Model 'en_training' (0.0.0) requires spaCy v2.1 and is incompatible with the current spaCy version (2.3.5). This may lead to unexpected results or runtime errors. To resolve this, download a newer compatible model or retrain your custom model with the current spaCy version. For more details and available updates, run: python -m spacy validate\n",
      "  warnings.warn(warn_msg)\n"
     ]
    },
    {
     "name": "stdout",
     "output_type": "stream",
     "text": [
      "{'name': 'Neelu Aggarwal', 'email': 'neelu.aggarwal94@gmail.com', 'mobile_number': '7042138228', 'skills': ['Sql', 'Rest', 'Java', 'Writing', 'Safety', 'Agile', 'English', 'Api', 'C++', 'Architecture', 'Documentation', 'Health', 'C', 'Access', 'Engineering', 'Analysis', 'Design', 'Protocols'], 'college_name': None, 'degree': ['MCA'], 'designation': ['Software Engineer', 'Software Developer'], 'experience': ['Software Developer', 'Capgemini Engineering', '11/2019 - Present,', 'Achievements/Tasks'], 'company_names': ['Capgemini Engineering'], 'no_of_pages': 1, 'total_experience': 0.0}\n"
     ]
    },
    {
     "name": "stderr",
     "output_type": "stream",
     "text": [
      "C:\\Users\\kambo\\anaconda3\\lib\\site-packages\\spacy\\util.py:275: UserWarning: [W031] Model 'en_training' (0.0.0) requires spaCy v2.1 and is incompatible with the current spaCy version (2.3.5). This may lead to unexpected results or runtime errors. To resolve this, download a newer compatible model or retrain your custom model with the current spaCy version. For more details and available updates, run: python -m spacy validate\n",
      "  warnings.warn(warn_msg)\n"
     ]
    },
    {
     "name": "stdout",
     "output_type": "stream",
     "text": [
      "{'name': 'Ganesh Gaikwad', 'email': 'ganesh.gaikwad5692@gmail.com', 'mobile_number': '9699321345', 'skills': ['Rest', 'Java', 'Website', 'Computer applications', 'Api', 'Windows', 'Agile', 'Design', 'Html', 'Javascript', 'Excel', 'Web services', 'Banking', 'Analyze', 'Brand', 'Sdlc', 'Mysql', 'Ecommerce', 'English', 'Sci', 'Plan', 'Jira', 'Writing', 'Lifecycle', 'Css', 'Technical', 'Word', 'Software development life cycle', 'Testing', 'Coding'], 'college_name': None, 'degree': ['Bachelors of Computer Applications (BCA) from Ahmednagar collage, \\nAhmednagar.'], 'designation': ['Software Developer'], 'experience': [], 'company_names': None, 'no_of_pages': 3, 'total_experience': 0.0}\n"
     ]
    },
    {
     "name": "stderr",
     "output_type": "stream",
     "text": [
      "C:\\Users\\kambo\\anaconda3\\lib\\site-packages\\spacy\\util.py:275: UserWarning: [W031] Model 'en_training' (0.0.0) requires spaCy v2.1 and is incompatible with the current spaCy version (2.3.5). This may lead to unexpected results or runtime errors. To resolve this, download a newer compatible model or retrain your custom model with the current spaCy version. For more details and available updates, run: python -m spacy validate\n",
      "  warnings.warn(warn_msg)\n"
     ]
    },
    {
     "name": "stdout",
     "output_type": "stream",
     "text": [
      "{'name': 'Nikhath Ameena nikhatameena27@gmail.com', 'email': 'nikhatameena27@gmail.com', 'mobile_number': '9945908141', 'skills': ['Sql server', 'Sql', 'Certification', 'Agile', 'Communication', 'Mobile', 'Excel', 'Erp', 'Scrum', 'Sharepoint', 'Scheduling', 'Database', 'Training', 'Engineering', 'Programming', 'Unix', 'Analytics', 'Oracle', 'Sales', 'Reports', 'Lifecycle', 'Radar', 'Etl', 'Powerpoint', 'Word', 'Supply chain', 'Cloud', 'Testing', 'Python'], 'college_name': None, 'degree': ['B .E(Electronics &Communication Engineering'], 'designation': ['Senior Systems Engineer'], 'experience': [], 'company_names': ['Oracle', 'Infosys', 'Microsoft'], 'no_of_pages': None, 'total_experience': 0.0}\n"
     ]
    },
    {
     "name": "stderr",
     "output_type": "stream",
     "text": [
      "C:\\Users\\kambo\\anaconda3\\lib\\site-packages\\spacy\\util.py:275: UserWarning: [W031] Model 'en_training' (0.0.0) requires spaCy v2.1 and is incompatible with the current spaCy version (2.3.5). This may lead to unexpected results or runtime errors. To resolve this, download a newer compatible model or retrain your custom model with the current spaCy version. For more details and available updates, run: python -m spacy validate\n",
      "  warnings.warn(warn_msg)\n"
     ]
    },
    {
     "name": "stdout",
     "output_type": "stream",
     "text": [
      "{'name': 'Nishant Kodathi', 'email': 'kodatinishant12345@gmail.com', 'mobile_number': '9705120540', 'skills': ['Sql', 'Website', 'Java', 'Queries', 'Apis', 'Automation', 'Design', 'Reporting', 'Spark', 'C#', 'Architecture', 'Database', 'Debugging', 'Access', 'Analysis', 'Engineering', 'Threading', 'Data analysis', 'Analytics', 'Scripting', 'Active directory', 'Warehouse', 'Process', 'Visual', 'Aws', 'Project management skills', 'Auditing', 'Technical', 'C', 'Cloud', 'Python'], 'college_name': None, 'degree': ['Computer Science and Engineering in B.Tech'], 'designation': ['Software Engineer'], 'experience': ['SSAS and Power BI.', 'Developed Azure function apps using C# and added instant trigger functionalities based on user actions on', 'website.', 'Developed an auditing tool named Access Checker. Its a\\xa0 desktop application using C# to get user access', 'details across Microsoft products from Azure APIs.'], 'company_names': ['Microsoft'], 'no_of_pages': 2, 'total_experience': 0.0}\n"
     ]
    },
    {
     "name": "stderr",
     "output_type": "stream",
     "text": [
      "C:\\Users\\kambo\\anaconda3\\lib\\site-packages\\spacy\\util.py:275: UserWarning: [W031] Model 'en_training' (0.0.0) requires spaCy v2.1 and is incompatible with the current spaCy version (2.3.5). This may lead to unexpected results or runtime errors. To resolve this, download a newer compatible model or retrain your custom model with the current spaCy version. For more details and available updates, run: python -m spacy validate\n",
      "  warnings.warn(warn_msg)\n"
     ]
    },
    {
     "name": "stdout",
     "output_type": "stream",
     "text": [
      "{'name': 'NITHIN R', 'email': 'nithin93reghu@gmail.com', 'mobile_number': '8848346291', 'skills': ['Rest', 'Java', 'Api', 'Time management', 'Agile', 'Design', 'Communication', 'Html', 'Mobile', 'Postgresql', 'Excel', 'Web services', 'Sdlc', 'Engineering', 'Analysis', 'Improvement', 'Research', 'Oracle', 'Jira', 'R', 'Electronics', 'Technical', 'Project management', 'Pdf', 'Github', 'Testing'], 'college_name': None, 'degree': ['B.Tech in Electronics and Communication Engineering'], 'designation': ['Software Engineer', 'SOFTWARE ENGINEER'], 'experience': ['applications.', 'Responsibility:', 'Developed  multiple  microservices  for  applications  including  Policy,  Proﬁle,  Delete  &  History  Batch  which', 'would retrieve or update the details from/into DB based on the business requirement.', 'Developed batch for multiple applications to read the user records from excel based on the scheduler and', 'save into the respective DBs after successful validation.', 'Developed batch to read the history details from DB and export to CSV file.', 'Technology Used:', 'Java 8, Spring Boot, JPA, REST, Gradle, Junit, Oracle', 'POLICY REVIEW IMPROVEMENT', 'PRI  application  is  decoupled  into  2  components;  COV  to  obtain  the  coverage  information  from  multiple', 'sources such as DB, web services, channel API; and COVRPT to design the pdf template.', 'Responsibility:', 'Created  a  spring  boot  application  which  would  retrieve  the  details  from  multiple  sources  as  per  the', 'business requirement.', 'Updated  the  existing  coverage  information  pdf  by  adding  new  sections  and  modifying  the  alignment  for', 'the existing sections.', 'Created new pdfs for the new retirement products in the existing application.', 'Created HLD, LLD and UTC documents.', 'Technology Used:', 'Java 8, Spring Boot, JPA, REST, Maven, Junit, Oracle, ReportCafe tool, HTML'], 'company_names': ['Oracle', 'About me', 'Vettukulanji Vadakkathil'], 'no_of_pages': 2, 'total_experience': 0.0}\n"
     ]
    },
    {
     "name": "stderr",
     "output_type": "stream",
     "text": [
      "C:\\Users\\kambo\\anaconda3\\lib\\site-packages\\spacy\\util.py:275: UserWarning: [W031] Model 'en_training' (0.0.0) requires spaCy v2.1 and is incompatible with the current spaCy version (2.3.5). This may lead to unexpected results or runtime errors. To resolve this, download a newer compatible model or retrain your custom model with the current spaCy version. For more details and available updates, run: python -m spacy validate\n",
      "  warnings.warn(warn_msg)\n"
     ]
    },
    {
     "name": "stdout",
     "output_type": "stream",
     "text": [
      "{'name': 'NITISH PANDEY', 'email': 'pandeynitish22@gmail.com', 'mobile_number': '9125314129', 'skills': ['International', 'Sql', 'Rest', 'Java', 'Windows', 'System', 'Agile', 'Conversion', 'Communication', 'Operating systems', 'Web services', 'Architecture', 'Database', 'Debugging', 'Documentation', 'Servers', 'Oracle', 'Jira', 'Electronics', 'Operations', 'Finance', 'Testing'], 'college_name': None, 'degree': None, 'designation': None, 'experience': ['and QA defects.', 'Operating Systems', 'WINDOWS', 'Software Engineer (Client: Sanoﬁ )', 'Cognizant', '04/2018 - 08/2021,', 'Working as a full-stack Developer for Sanoﬁ and JOHNSON and JOHNSONS', 'Bangalore', 'Achievements/Tasks', 'Development activities and periodic enhancement in the application.', 'Making the required code changes and unit testing.', 'Delivering renewed code on expected date.', 'Tracking defects in the JIRA', 'A core resource to provide suggestions and solutions to client service (L2)', 'team and the customers on reported escalations.', 'Skilled in usage of Eclipse as IDE in developing and MAVEN for builds and', 'deployment of project WARs'], 'company_names': None, 'no_of_pages': 1, 'total_experience': 0.0}\n"
     ]
    },
    {
     "name": "stderr",
     "output_type": "stream",
     "text": [
      "C:\\Users\\kambo\\anaconda3\\lib\\site-packages\\spacy\\util.py:275: UserWarning: [W031] Model 'en_training' (0.0.0) requires spaCy v2.1 and is incompatible with the current spaCy version (2.3.5). This may lead to unexpected results or runtime errors. To resolve this, download a newer compatible model or retrain your custom model with the current spaCy version. For more details and available updates, run: python -m spacy validate\n",
      "  warnings.warn(warn_msg)\n"
     ]
    },
    {
     "name": "stdout",
     "output_type": "stream",
     "text": [
      "{'name': 'Java Developer', 'email': 'nogeshhalmare.official@gmail.com', 'mobile_number': '9172247748', 'skills': ['Xml', 'Sql', 'Rest', 'Java', 'Api', 'Windows', 'System', 'Design', 'Javascript', 'Json', 'Os', 'Database', 'Health', 'Sdlc', 'Access', 'Debugging', 'Analysis', 'Documentation', 'Servers', 'Jsp', 'Security', 'Linux', 'Logging', 'English', 'Research', 'Oracle', 'Jira', 'Writing', 'Lifecycle', 'Technical', 'Coding'], 'college_name': None, 'degree': None, 'designation': ['Application Developer'], 'experience': ['integration, and implementation.'], 'company_names': ['Unified Softech Pvt Ltd'], 'no_of_pages': 3, 'total_experience': 0.0}\n"
     ]
    },
    {
     "name": "stderr",
     "output_type": "stream",
     "text": [
      "C:\\Users\\kambo\\anaconda3\\lib\\site-packages\\spacy\\util.py:275: UserWarning: [W031] Model 'en_training' (0.0.0) requires spaCy v2.1 and is incompatible with the current spaCy version (2.3.5). This may lead to unexpected results or runtime errors. To resolve this, download a newer compatible model or retrain your custom model with the current spaCy version. For more details and available updates, run: python -m spacy validate\n",
      "  warnings.warn(warn_msg)\n"
     ]
    },
    {
     "name": "stdout",
     "output_type": "stream",
     "text": [
      "{'name': 'Om Gawande', 'email': 'gawandeom03@gmail.com', 'mobile_number': '7350614031', 'skills': ['Rest', 'Java', 'Queries', 'Website', 'Api', 'System', 'Agile', 'Design', 'Reporting', 'Communication', 'Javascript', 'Excel', 'Presentation', 'E-commerce', 'Debugging', 'Engineering', 'Programming', 'Analysis', 'Servers', 'Scripting', 'Improvement', 'Mysql', 'Jsp', 'English', 'Process', 'Sales', 'Jira', 'Gmail', 'Writing', 'Requests', 'Information technology', 'Html5', 'Technical', 'Word', 'Testing', 'Coding'], 'college_name': None, 'degree': None, 'designation': None, 'experience': ['\\uf0b7  During the project development phase, I used Git for version control.', '\\uf0b7  Very  good  team  player  with  excellent  communication,  presentation  and', 'reporting skill.', '\\uf0b7  Ability to work on pom.xml file to add Maven dependency.', 'PROJECT', 'Project Name      :  Allmart', 'Client                    :  REI, USA', 'Domain                :  E-Commerce', 'Description :', 'The  business-to-consumer  aspect  of  online  shopping  (e-commerce)  is  the', 'most  visible  business  use  of  the  World  Wide  Web.  The  primary  goal  of  an  e-', 'commerce site is to sell goods and services online. This project deals with developing', 'an e-commerce website for sales of goods and services. It provides the user with a', 'catalog of different goods available for purchase in the store. In order to facilitate', 'online purchase a shopping cart is provided to the user. The system is implemented', 'using a 3-tier approach information.', 'ROLES AND RESPONSIBILITY :', '\\uf0b7  Responsible for developing modules.', '\\uf0b7  Identified designing and involved in development.', '\\uf0b7  Writing well designed, efficient and testable code.', '\\uf0b7  Active participation in weekly/daily status calls with the client.', '\\uf0b7  Developing Server-side scripting.'], 'company_names': None, 'no_of_pages': 3, 'total_experience': 0.0}\n"
     ]
    },
    {
     "name": "stderr",
     "output_type": "stream",
     "text": [
      "C:\\Users\\kambo\\anaconda3\\lib\\site-packages\\spacy\\util.py:275: UserWarning: [W031] Model 'en_training' (0.0.0) requires spaCy v2.1 and is incompatible with the current spaCy version (2.3.5). This may lead to unexpected results or runtime errors. To resolve this, download a newer compatible model or retrain your custom model with the current spaCy version. For more details and available updates, run: python -m spacy validate\n",
      "  warnings.warn(warn_msg)\n"
     ]
    },
    {
     "name": "stdout",
     "output_type": "stream",
     "text": [
      "{'name': 'OMKAR GHUGARE', 'email': 'omkar.ghugare992@gmail.com', 'mobile_number': '9175123965', 'skills': ['Technical skills', 'Xml', 'Sql', 'Rest', 'Java', 'Windows', 'C++', 'System', 'Design', 'Networking', 'Ui', 'Communication', 'Html', 'Cloud', 'Programming', 'Servers', 'Mysql', 'Security', 'Linux', 'English', 'Oracle', 'Visual', 'Workflows', 'Saas', 'Css', 'Technical', 'C', 'Github', 'Testing'], 'college_name': None, 'degree': None, 'designation': ['Software Developer'], 'experience': ['\\uf0a7  Hibernate, servlets and spring framework.', '\\uf0a7  Knowledge of web servers like Tomcat.', '\\uf0a7  Knowledge on the Object Oriented Programming concepts.', '\\uf0a7  Knowledge of Design patterns like MVC, Singleton, DAO.', '\\uf0a7  Hands on with Restful services development using Spring Boot.', '\\uf0a7  Extensively knowledge of UI Technology like HTML, CSS, XML.', 'Technical Skills:', '•  Programming Languages: C, C++, JAVA', '•  Basic knowledge: Angularjs', '•  Technology and Framework: Core Java, , Webservice and SpringBoot, Spring, Spring mvc,', 'Spring security , Spring boot JPA , GIT , Maven', '•  Development Environment and tools: Visual Studio 2017, Eclipse IDE', '•  RDBMS/DBMS: MYSQL, MSSQL', '•  Build Tools: Jenkins, Teamcity , Rally', '•  Operating System : Windows, Linux', 'Work History:', 'Software Developer, HCL Technology Pvt Ltd, Pune', 'October2020 - Present', 'Projects:', '•', '•', 'Project Name: Nimsoft Monitoring Solution', 'Role: Software Developer', 'Duration: 1 year 11 months (HCL Technologies)', 'Tools/Platform:  C, JAVA, Spring Boot REST, Linux, Windows, Visual Studio, Eclipse,', 'Jenkins, GITHUB', 'Description:', 'Nimsoft Monitoring Solution (NMS) is an IT management platform that provides scalable,', 'resilient,  and  reliable  monitoring  capabilities,  allowing  organizations  to  proactively', 'manage critical IT resources from the data center to the cloud. NMS enables organizations', 'to monitor servers, applications, databases, networking services, network devices, SaaS,', 'IaaS, PaaS, and private and public clouds', 'Responsibilities:', '\\uf0a7  Feature Development.', '\\uf0a7  Merging various release.', '\\uf0a7  Bug fixing and unit testing.', '\\uf0a7  Mentoring new Joiners', '•', '•', 'CDAC (Academic)Project Name: GAADI.COM', 'Role: Software Developer', 'Duration: 6 months', 'Tools/Platform:  JAVA, Spring Boot REST, Windows, Angularjs, Eclipse, Visual studio code', 'Description:', 'There are many people who want to buy a vehicle (used/new) but cannot spend time', 'searching for that. There many people or companies who want to sell their vehicles but', 'finds it difficult to reach the customers. Gaadi.com web- based application provides a', 'common  platform  for  vehicle  owners, vehicle  companies  and  buyers.  Gaadi.com  provides   a', 'communication platform for buyers, owners and vehicle companies.', 'Education:', '\\uf0b7  CDAC (PG-DAC) Pune(2020)', '\\uf0b7  B.E, Pune (Pune University)', 'A + Grade', '67.86% (2018)', 'Personal Details:', '\\uf0b7  Permanent address: S/N28 Sai Shankar Soc. Chaitanya Nagar, Dhankwadi, Pune-43.', '\\uf0b7  Date of Birth: 25th November, 1996', '\\uf0b7  Marital Status: Unmarried', '\\uf0b7  Languages: English, Marathi, Hindi', 'I hereby declare that above mentioned information is correct up to my knowledge.'], 'company_names': ['HCL Technology Limited', 'HCL Technology Pvt Ltd'], 'no_of_pages': 3, 'total_experience': 0.0}\n"
     ]
    },
    {
     "name": "stderr",
     "output_type": "stream",
     "text": [
      "C:\\Users\\kambo\\anaconda3\\lib\\site-packages\\spacy\\util.py:275: UserWarning: [W031] Model 'en_training' (0.0.0) requires spaCy v2.1 and is incompatible with the current spaCy version (2.3.5). This may lead to unexpected results or runtime errors. To resolve this, download a newer compatible model or retrain your custom model with the current spaCy version. For more details and available updates, run: python -m spacy validate\n",
      "  warnings.warn(warn_msg)\n"
     ]
    },
    {
     "name": "stdout",
     "output_type": "stream",
     "text": [
      "{'name': 'India P', 'email': 'palash.patidar.2011@gmail.com', 'mobile_number': '9198872575', 'skills': ['Sql server', 'Sql', 'Queries', 'Certification', 'Migration', 'Agile', 'Computer science', 'Communication', 'Programming', 'Analysis', 'Servers', 'Workflow', 'Sales', 'Reports', 'P', 'Visual', 'R', 'Nosql', 'Operations', 'C', 'Python'], 'college_name': None, 'degree': ['B.Tech in Computer Science [ 7.4 CGPA]'], 'designation': ['Data Engineer', 'Data Engineer Associate'], 'experience': ['Microsoft Certified Azure Data Engineer [DP-203]', 'Experienced in working in an agile and CI/CD environments.', 'Expertise in Azure, SQL and NOSQL Databases.', 'Infosys Certified Bigdata and Python Developer.', 'Certified Agile Developer, comfortable with modern agile and traditional waterfall methodologies.', 'Capable and enthusiastic about picking up new technologies and new tools with little supervision.'], 'company_names': ['Microsoft', 'Infosys Technologies Pvt. Ltd.', 'Infosys Global', 'E X P E R I E N C E'], 'no_of_pages': 3, 'total_experience': 0.0}\n"
     ]
    },
    {
     "name": "stderr",
     "output_type": "stream",
     "text": [
      "C:\\Users\\kambo\\anaconda3\\lib\\site-packages\\spacy\\util.py:275: UserWarning: [W031] Model 'en_training' (0.0.0) requires spaCy v2.1 and is incompatible with the current spaCy version (2.3.5). This may lead to unexpected results or runtime errors. To resolve this, download a newer compatible model or retrain your custom model with the current spaCy version. For more details and available updates, run: python -m spacy validate\n",
      "  warnings.warn(warn_msg)\n"
     ]
    },
    {
     "name": "stdout",
     "output_type": "stream",
     "text": [
      "{'name': 'Paleti Bhanu', 'email': 'paletibanujava0830@gmail.com', 'mobile_number': '9581150605', 'skills': ['Xml', 'Sql', 'Payments', 'Java', 'Email', 'Rest', 'Queries', 'Apis', 'Api', 'Analytical', 'System', 'Healthcare', 'Reporting', 'Html', 'Javascript', 'Json', 'Presentation', 'Web services', 'Cloud', 'Architecture', 'Database', 'Health', 'Access', 'Analysis', 'Specifications', 'Security', 'Linux', 'Logging', 'Policies', 'Oracle', 'Process', 'Jira', 'Saas', 'Routing', 'Css', 'Technical', 'Regulations', 'Administration', 'Github', 'Filing', 'Testing'], 'college_name': None, 'degree': None, 'designation': None, 'experience': ['the applications developed'], 'company_names': None, 'no_of_pages': 4, 'total_experience': 0.0}\n"
     ]
    },
    {
     "name": "stderr",
     "output_type": "stream",
     "text": [
      "C:\\Users\\kambo\\anaconda3\\lib\\site-packages\\spacy\\util.py:275: UserWarning: [W031] Model 'en_training' (0.0.0) requires spaCy v2.1 and is incompatible with the current spaCy version (2.3.5). This may lead to unexpected results or runtime errors. To resolve this, download a newer compatible model or retrain your custom model with the current spaCy version. For more details and available updates, run: python -m spacy validate\n",
      "  warnings.warn(warn_msg)\n"
     ]
    },
    {
     "name": "stdout",
     "output_type": "stream",
     "text": [
      "{'name': 'Name   ', 'email': 'pareshpk.tech@gmail.com', 'mobile_number': '9699075841', 'skills': ['Sql server', 'Pattern', 'Sql', 'Java', 'Windows', 'Api', 'Analytical', 'System', 'Agile', 'Design', 'Logistics', 'Reporting', 'Html', 'Operating systems', 'Json', 'Scrum', 'Architecture', 'Database', 'Documentation', 'Analysis', 'Programming', 'Mysql', 'Jsp', 'Github', 'Electrical', 'Transactions', 'Warehouse', 'English', 'Research', 'Oracle', 'Process', 'Jira', 'Reports', 'Writing', 'Aws', 'Modeling', 'Requests', 'Information technology', 'Algorithms', 'Css', 'Cad', 'Money', 'C', 'Cloud', 'Testing', 'Transport', 'Coding'], 'college_name': None, 'degree': ['Bachelor of Science in Information Technology from'], 'designation': ['Sr. Developer', 'Sr. Software Engineer', 'Support Engineer'], 'experience': None, 'company_names': ['Oracle', 'Trimatic Solutions Pvt. Ltd.', 'Aymeric Tech Solutions Pvt. Ltd'], 'no_of_pages': None, 'total_experience': 0}\n"
     ]
    },
    {
     "name": "stderr",
     "output_type": "stream",
     "text": [
      "C:\\Users\\kambo\\anaconda3\\lib\\site-packages\\spacy\\util.py:275: UserWarning: [W031] Model 'en_training' (0.0.0) requires spaCy v2.1 and is incompatible with the current spaCy version (2.3.5). This may lead to unexpected results or runtime errors. To resolve this, download a newer compatible model or retrain your custom model with the current spaCy version. For more details and available updates, run: python -m spacy validate\n",
      "  warnings.warn(warn_msg)\n"
     ]
    },
    {
     "name": "stdout",
     "output_type": "stream",
     "text": [
      "{'name': 'PRABHAT RAWAT', 'email': 'ragvenderrawat@gmail.com', 'mobile_number': '8076764455', 'skills': ['Pycharm', 'Sql', 'Website', 'Sql server', 'Automation', 'Migration', 'Agile', 'Reporting', 'Computer science', 'Interactive', 'Scrum', 'Database', 'Health', 'Engineering', 'Programming', 'Analysis', 'Analytics', 'Machine learning', 'Warehouse', 'Updates', 'Jupyter', 'Anaconda', 'Etl', 'Spyder', 'Technical', 'Cloud', 'Python'], 'college_name': None, 'degree': None, 'designation': ['Data Engineer', 'Cloud Data Engineer'], 'experience': ['Data Engineer', 'Hanu Softwares', 'January 2021 - current / Greater Noida, UP', 'Project :  Clinicient No-show Predictive Analytics', '•  Regular client interaction for analyzing the requirements and', 'project scope discussions.', '•  Crafted Azure Data Factory pipelines to perform the data', 'ingestion treating on-premises SQL Server as a Source, ADLS', 'Gen2 as a stage and Azure SQL as sink have daily incremental', 'data.', '•  Designed a well interactive Power BI Report having navigation', 'pane and drill down capabilities that also helps in analyzing next', 'day potential no-shows.', 'Travelling', 'Vintage Music', 'Project :  Spravo Health Data Ingestion', '•  Regular client interaction for analyzing the requirements and', 'project scope discussions.', '•  Crafted quite complex Data Factory dynamic pipelines, grabs', 'source schema to create dynamic sink schema for almost 100', 'tables.', '•  Crafted ingestion based on multiple different scenarios like', 'schema drift, ingesting join result set data, etc. all with daily', 'incremental updates.', '•  Used advance configuration Lookup tables to ensure low', 'intervention as possible.'], 'company_names': None, 'no_of_pages': 2, 'total_experience': 0.0}\n"
     ]
    },
    {
     "name": "stderr",
     "output_type": "stream",
     "text": [
      "C:\\Users\\kambo\\anaconda3\\lib\\site-packages\\spacy\\util.py:275: UserWarning: [W031] Model 'en_training' (0.0.0) requires spaCy v2.1 and is incompatible with the current spaCy version (2.3.5). This may lead to unexpected results or runtime errors. To resolve this, download a newer compatible model or retrain your custom model with the current spaCy version. For more details and available updates, run: python -m spacy validate\n",
      "  warnings.warn(warn_msg)\n"
     ]
    },
    {
     "name": "stdout",
     "output_type": "stream",
     "text": [
      "{'name': 'Prakash D', 'email': 'tech.prakash94@gmail.com', 'mobile_number': '9392491948', 'skills': ['Xml', 'Pattern', 'Rest', 'Java', 'Email', 'Apis', 'Api', 'Agile', 'Design', 'Reporting', 'Html', 'Json', 'Web services', 'Documentation', 'Programming', 'Servers', 'Mysql', 'Process', 'Strategy', 'Soap', 'Information technology', 'Technical', 'C'], 'college_name': None, 'degree': None, 'designation': ['Software Developer'], 'experience': ['\\uf0d8  Good working  Knowledge in XSD, XML, SAX, DOM, JAXB, JSON, YML.\\uf020', '\\uf0d8  Experienced with IDEs STS, Eclipse.\\uf020', '\\uf0d8  Working knowledge on Maven, Git,Log4J.\\uf020', 'Professional Experience:', '\\uf0d8  Currently working at  Wipro as Software-Engineer from May 2019 to till date.\\uf020', '\\uf020', 'Educational Qualification:', '\\uf0d8  MCA with 85% from Dravidian University, Kuppam(AP).\\uf020', 'Technical Skills:', '\\uf0d8  Programming Languages', '\\uf0d8  Frameworks                                    :  Spring (Core, JDBC, AOP, Transaction Management,', ':  Java', 'Data JPA). Spring Boot, Hibernate.', '\\uf0d8  Distributed  Technologies               :  SOAP and Restful services', '\\uf0d8  Markup Languages', '\\uf0d8  Databases', '\\uf0d8  Servers', '\\uf0d8  IDEs', '\\uf0d8  Tools', ':   HTML, XML', ':   MYSQL', ':   Tomcat, Wildfly', ':    Eclipse, STS', ':    Maven, Junit, Log4J,GIT', 'Project Details:', 'Projects: 1', 'Online Grocery Mart and E-Commerce Web Applications', 'Client', 'Role', 'Ameriprise Financial – Minneapolis, MN', 'Software Developer', 'Environment', 'Java, Spring MVC, web services, Hibernate JDK 1.8, Maven and Git.', 'Team Size', '10', 'Duration', 'May 2019 to Till Date.', 'Roles & Responsibilities:-', '\\uf0d8  Involved in development of Controllers and validations by using the Spring MVC along with', 'Java Bean Validator API .', '\\uf0d8   Implemented cache design pattern.', '\\uf0d8  Involved in the development of Business and Transaction logic in service layer and', 'persistency logic in DAO layer using hibernate.', '\\uf0d8  Participated in the daily stand up meetings as part of agile process for reporting the', 'day to  day developments of the work done.', '\\uf0d8  Implemented Rest APIs endpoints.', '\\uf0d8  Implemented both configuration and annotation driven approach.', '\\uf0d8  Involved in development Hibernate Entities,Hibernate Mapping files and', 'Configuration files', 'Declaration:', 'I do hereby declare that that above information is correct to the best of my knowledge.', 'Prakash'], 'company_names': ['Wipro'], 'no_of_pages': 3, 'total_experience': 0.0}\n"
     ]
    },
    {
     "name": "stderr",
     "output_type": "stream",
     "text": [
      "C:\\Users\\kambo\\anaconda3\\lib\\site-packages\\spacy\\util.py:275: UserWarning: [W031] Model 'en_training' (0.0.0) requires spaCy v2.1 and is incompatible with the current spaCy version (2.3.5). This may lead to unexpected results or runtime errors. To resolve this, download a newer compatible model or retrain your custom model with the current spaCy version. For more details and available updates, run: python -m spacy validate\n",
      "  warnings.warn(warn_msg)\n"
     ]
    },
    {
     "name": "stdout",
     "output_type": "stream",
     "text": [
      "{'name': 'Prathap R', 'email': 'prathapram17@gmail.com', 'mobile_number': '9597721923', 'skills': ['Java', 'Procurement', 'Automation', 'Windows', 'Inventory management', 'Analytical', 'Controls', 'System', 'Communication', 'Html', 'Mobile', 'Compliance', 'Banking', 'Brand', 'Database', 'Programming', 'Iso', 'Analysis', 'Servers', 'Mysql', 'Jsp', 'English', 'Customer requirements', 'Retail', 'Oracle', 'Process', 'R', 'Css', 'Technical', 'Operations', 'Inventory', 'Consulting', 'Falcon', 'Cloud', 'Coding'], 'college_name': None, 'degree': ['●  MCA'], 'designation': ['Software Engineer'], 'experience': ['●  Worked as a Software Engineer in Virtusa Consulting Services Private Limited', 'from Aug 2021 to till now.'], 'company_names': ['oracle', 'Oracle', 'Virtusa Consulting Services Private Limited'], 'no_of_pages': 4, 'total_experience': 0.0}\n"
     ]
    },
    {
     "name": "stderr",
     "output_type": "stream",
     "text": [
      "C:\\Users\\kambo\\anaconda3\\lib\\site-packages\\spacy\\util.py:275: UserWarning: [W031] Model 'en_training' (0.0.0) requires spaCy v2.1 and is incompatible with the current spaCy version (2.3.5). This may lead to unexpected results or runtime errors. To resolve this, download a newer compatible model or retrain your custom model with the current spaCy version. For more details and available updates, run: python -m spacy validate\n",
      "  warnings.warn(warn_msg)\n"
     ]
    },
    {
     "name": "stdout",
     "output_type": "stream",
     "text": [
      "{'name': 'Curriculum Vitae', 'email': 'psiddhu.tech@outlook.com', 'mobile_number': '8355826194', 'skills': ['Xml', 'Sql', 'Rest', 'Java', 'Email', 'Pattern', 'Apis', 'Sql server', 'Pl/sql', 'Api', 'System', 'Agile', 'Design', 'Ui', 'Communication', 'Html', 'Underwriting', 'Javascript', 'Mobile', 'Postgresql', 'Json', 'Web services', 'Scrum', 'Architecture', 'Database', 'Health', 'Sdlc', 'Debugging', 'Documentation', 'Analysis', 'Ibm', 'Programming', 'Servers', 'Unix', 'Engineering', 'Mysql', 'Access', 'Jsp', 'Security', 'Logging', 'English', 'Policies', 'Oracle', 'Process', 'Workflow', 'Reports', 'Writing', 'Strategy', 'Soap', 'Installation', 'Css', 'Technical', 'Operations', 'Help desk', 'Resource management', 'Parser', 'Testing', 'Coding'], 'college_name': None, 'degree': None, 'designation': ['Software Engineer'], 'experience': [], 'company_names': ['Oracle', 'Mphasis Ltd'], 'no_of_pages': None, 'total_experience': 0.0}\n"
     ]
    },
    {
     "name": "stderr",
     "output_type": "stream",
     "text": [
      "C:\\Users\\kambo\\anaconda3\\lib\\site-packages\\spacy\\util.py:275: UserWarning: [W031] Model 'en_training' (0.0.0) requires spaCy v2.1 and is incompatible with the current spaCy version (2.3.5). This may lead to unexpected results or runtime errors. To resolve this, download a newer compatible model or retrain your custom model with the current spaCy version. For more details and available updates, run: python -m spacy validate\n",
      "  warnings.warn(warn_msg)\n"
     ]
    },
    {
     "name": "stdout",
     "output_type": "stream",
     "text": [
      "{'name': 'Software Skills', 'email': 'rachayitapatro337741@gmail.com', 'mobile_number': '7205221783', 'skills': ['Purchasing', 'Java', 'Email', 'Windows', 'Api', 'Design', 'Html', 'Javascript', 'Banking', 'Database', 'Access', 'Programming', 'Mysql', 'Security', 'Oracle', 'Budget', 'Plan', 'Jira', 'Sales', 'End user', 'Cloud', 'Testing'], 'college_name': None, 'degree': None, 'designation': None, 'experience': ['Good knowledge about MySQL', 'Experienced in front-end Technologies like Html,JavaScript, Angular .', 'A result-oriented team contributor with excellent problem-solving skill.', 'Ability to learn and adapt new Technologies in short time.', 'University, Degree:', 'Degree                University', 'B.Tech                 BPUT', 'Professional Experience:', 'Organization: Genpact     Designation: Software Engineer', 'PROJECT:', 'Domain:', 'Client:', 'Technology and', 'Software Tools:', 'Role:', 'Responsibilities:', 'DNA', 'Banking', 'Team SIZE:', '10', 'Java 8, Spring Boot,', 'Hibernate, RESTful, Ag-', 'Grid, Angular 8, Maven,', 'GIT, Jira, Eclipse', 'Team Member', '●', '●', '●', '●', '●', '●', '●', '●', '●', 'Understanding business requirements and implementing project using Java8', 'Responsible for managing the service layer of the application.', 'Integrating GUI to Backend using restful webservice.', 'Got the idea of Library way Project Development', 'Whole API development using spring boot', 'Bug Fixing and Defect Fixing', 'Designing and developing the data access layer code using hibernate ORM Tool', 'Involved Committing code in Git', 'Testing the application using Junit.', 'Description:', 'Specification'], 'company_names': None, 'no_of_pages': 3, 'total_experience': 0.0}\n"
     ]
    },
    {
     "name": "stderr",
     "output_type": "stream",
     "text": [
      "C:\\Users\\kambo\\anaconda3\\lib\\site-packages\\spacy\\util.py:275: UserWarning: [W031] Model 'en_training' (0.0.0) requires spaCy v2.1 and is incompatible with the current spaCy version (2.3.5). This may lead to unexpected results or runtime errors. To resolve this, download a newer compatible model or retrain your custom model with the current spaCy version. For more details and available updates, run: python -m spacy validate\n",
      "  warnings.warn(warn_msg)\n"
     ]
    },
    {
     "name": "stdout",
     "output_type": "stream",
     "text": [
      "{'name': 'Dell Customer Communication', 'email': 'tech.rahulsahu876@gmail.com', 'mobile_number': '9376407674', 'skills': ['Apis', 'Rest', 'Java', 'Email', 'Automation', 'Windows', 'Api', 'Analytical', 'System', 'Agile', 'Ui', 'Communication', 'Html', 'Database', 'Access', 'Programming', 'Servers', 'Mysql', 'Jsp', 'Linux', 'Logging', 'Warehouse', 'Oracle', 'Jira', 'Writing', 'Marketing', 'Css', 'Vendors', 'Technical', 'Testing'], 'college_name': None, 'degree': ['BCA', 'e-commerce application. To understand and propose a standard solution for marketing and selling products by automating the processes involved such that it is easy for anyone to operate and maximum customers can be reached by spreading the roots of company worldwide. It is important to communicate'], 'designation': None, 'experience': [], 'company_names': None, 'no_of_pages': None, 'total_experience': 0.0}\n"
     ]
    },
    {
     "name": "stderr",
     "output_type": "stream",
     "text": [
      "C:\\Users\\kambo\\anaconda3\\lib\\site-packages\\spacy\\util.py:275: UserWarning: [W031] Model 'en_training' (0.0.0) requires spaCy v2.1 and is incompatible with the current spaCy version (2.3.5). This may lead to unexpected results or runtime errors. To resolve this, download a newer compatible model or retrain your custom model with the current spaCy version. For more details and available updates, run: python -m spacy validate\n",
      "  warnings.warn(warn_msg)\n"
     ]
    },
    {
     "name": "stdout",
     "output_type": "stream",
     "text": [
      "{'name': 'Rajeev Ranjan', 'email': 'E-mail:rajeev.p.ranjan0307@gmail.com', 'mobile_number': None, 'skills': ['International', 'Purchasing', 'Sql', 'Website', 'Java', 'Db2', 'Telecom', 'Queries', 'Solicitation', 'Distribution', 'Email', 'Windows', 'System', 'Design', 'Html', 'Intranet', 'Javascript', 'Payroll', 'Mobile', 'Presentation', 'Database', 'Debugging', 'Documentation', 'Access', 'Unix', 'Ibm', 'Servers', 'Mysql', 'Jsp', 'Billing', 'Transportation', 'English', 'Retail', 'Oracle', 'Workflow', 'Plan', 'Litigation', 'Flex', 'Writing', 'Marketing', 'Hospital', 'Github', 'Fulfillment', 'Testing'], 'college_name': None, 'degree': None, 'designation': None, 'experience': None, 'company_names': ['DTDC Courier & Cargo Ltd.', 'Accenture Services Pvt Ltd'], 'no_of_pages': None, 'total_experience': 0}\n"
     ]
    },
    {
     "name": "stderr",
     "output_type": "stream",
     "text": [
      "C:\\Users\\kambo\\anaconda3\\lib\\site-packages\\spacy\\util.py:275: UserWarning: [W031] Model 'en_training' (0.0.0) requires spaCy v2.1 and is incompatible with the current spaCy version (2.3.5). This may lead to unexpected results or runtime errors. To resolve this, download a newer compatible model or retrain your custom model with the current spaCy version. For more details and available updates, run: python -m spacy validate\n",
      "  warnings.warn(warn_msg)\n"
     ]
    },
    {
     "name": "stdout",
     "output_type": "stream",
     "text": [
      "{'name': 'Rajkumar Mallik', 'email': 'Email:tech.rajkumar04@gmail.com', 'mobile_number': '9172261689', 'skills': ['International', 'Xml', 'Pattern', 'Sql', 'Java', 'Technical skills', 'Api', 'Windows', 'Analytical', 'Schedules', 'System', 'Agile', 'Design', 'Healthcare', 'Html', 'Javascript', 'Payroll', 'Web services', 'Architecture', 'Scheduling', 'Database', 'Health', 'Sdlc', 'Engineering', 'Programming', 'Accounting', 'Analysis', 'Servers', 'Jsp', 'General ledger', 'Business planning', 'Linux', 'Logging', 'Oracle', 'Jira', 'Reports', 'Writing', 'Financial management', 'Test cases', 'Technical', 'Software development life cycle', 'Inventory', 'Finance', 'Resource management', 'Schedule', 'Hospital', 'Administration', 'Falcon', 'Testing', 'Coding'], 'college_name': None, 'degree': ['Bachelors in Engineering from ITER college(SOA University)'], 'designation': None, 'experience': ['Project Name-FMS(Financial Management System)', 'April 20 – till date', 'Role: JAVA/J2EE Developer', 'Team Size:7', 'Description :', 'FMS is a web application, which can be used by the organization to manage their financial', 'accounting. This project has been developed by taking all the present requirement into consideration. This', 'architecture is based on client-server technology. There three main modules in this application (Finance Director,', 'Manager & Accountant).  Finance Director who  set up the rules and limits for any financial transaction and view', 'the balance sheet. Managers have the control of approving credit and debit limits set by the finance director.', 'Accountants can key crucial financial data by making transaction entries as per predefined setup rules and limit.'], 'company_names': ['Oracle'], 'no_of_pages': 4, 'total_experience': 0.0}\n"
     ]
    },
    {
     "name": "stderr",
     "output_type": "stream",
     "text": [
      "C:\\Users\\kambo\\anaconda3\\lib\\site-packages\\spacy\\util.py:275: UserWarning: [W031] Model 'en_training' (0.0.0) requires spaCy v2.1 and is incompatible with the current spaCy version (2.3.5). This may lead to unexpected results or runtime errors. To resolve this, download a newer compatible model or retrain your custom model with the current spaCy version. For more details and available updates, run: python -m spacy validate\n",
      "  warnings.warn(warn_msg)\n"
     ]
    },
    {
     "name": "stdout",
     "output_type": "stream",
     "text": [
      "{'name': 'RAJSHEKAR N', 'email': 'raj.shekar09726@gmail.com', 'mobile_number': '9972009757', 'skills': ['Sql', 'Rest', 'Java', 'Apis', 'Computer applications', 'Api', 'System', 'Agile', 'Design', 'Scrum', 'Health', 'Sdlc', 'Programming', 'Servers', 'Mysql', 'English', 'Updates', 'Jira', 'Reports', 'Testing'], 'college_name': None, 'degree': None, 'designation': None, 'experience': ['TATA Consultancy Services', 'Java Developer', 'Oct, 2018 – Aug.2021', 'Client – Aviva, UK', 'Project – Aviva', 'Responsibilities –', '\\uf0b7', 'Take part in daily scrum calls for updates and to discuss', 'about blockers.', '\\uf0b7  Communicate with clients, Business Analyst, Product owners', 'and Designers to understand the business requirements.', '\\uf0b7  Develop applications based on requirements within a sprint', 'and deploy the same in servers.', '\\uf0b7  Perform unit testing using Junit, Mockito and integration', 'testing as and when the build is ready.', '\\uf0b7  Hand over developed application to production team by', 'providing design and code walkthrough before deploying', 'it to production.', '\\uf0b7  Fixing the bugs which are raised by production team post', 'deployment of application during warranty period.', '\\uf0b7  Creating System Description Document (SDD) of', 'developed applications for future reference.'], 'company_names': None, 'no_of_pages': 2, 'total_experience': 0.0}\n"
     ]
    },
    {
     "name": "stderr",
     "output_type": "stream",
     "text": [
      "C:\\Users\\kambo\\anaconda3\\lib\\site-packages\\spacy\\util.py:275: UserWarning: [W031] Model 'en_training' (0.0.0) requires spaCy v2.1 and is incompatible with the current spaCy version (2.3.5). This may lead to unexpected results or runtime errors. To resolve this, download a newer compatible model or retrain your custom model with the current spaCy version. For more details and available updates, run: python -m spacy validate\n",
      "  warnings.warn(warn_msg)\n"
     ]
    },
    {
     "name": "stdout",
     "output_type": "stream",
     "text": [
      "{'name': 'Rakesh Kolhe Male', 'email': 'rakeshkolhe392@gmail.com', 'mobile_number': '9398415872', 'skills': ['Technical skills', 'Xml', 'Sql', 'Rest', 'Java', 'Email', 'Pattern', 'Api', 'Windows', 'System', 'Design', 'Javascript', 'Mobile', 'Postgresql', 'Json', 'Presentation', 'Scrum', 'Architecture', 'Database', 'Access', 'Programming', 'Paste', 'Servers', 'Oracle', 'Process', 'Reports', 'Writing', 'Html5', 'Test cases', 'Css', 'Technical', 'Schedule', 'Click', 'Testing'], 'college_name': None, 'degree': None, 'designation': ['Java Developer', 'Software Engineer'], 'experience': [], 'company_names': ['Oracle'], 'no_of_pages': None, 'total_experience': 0.0}\n"
     ]
    },
    {
     "name": "stderr",
     "output_type": "stream",
     "text": [
      "C:\\Users\\kambo\\anaconda3\\lib\\site-packages\\spacy\\util.py:275: UserWarning: [W031] Model 'en_training' (0.0.0) requires spaCy v2.1 and is incompatible with the current spaCy version (2.3.5). This may lead to unexpected results or runtime errors. To resolve this, download a newer compatible model or retrain your custom model with the current spaCy version. For more details and available updates, run: python -m spacy validate\n",
      "  warnings.warn(warn_msg)\n"
     ]
    },
    {
     "name": "stdout",
     "output_type": "stream",
     "text": [
      "{'name': 'RAUSHAN KUMAR', 'email': 'raushanpaswan194@gmail.com', 'mobile_number': '9666872033', 'skills': ['Rest', 'Java', 'Email', 'Api', 'Design', 'Html', 'Javascript', 'Database', 'Health', 'Sdlc', 'Engineering', 'Programming', 'Analysis', 'Servers', 'Mysql', 'English', 'Oracle', 'Writing', 'Css', 'Hospitality', 'Technical', 'Software development life cycle', 'Cloud', 'Testing'], 'college_name': None, 'degree': None, 'designation': None, 'experience': None, 'company_names': None, 'no_of_pages': None, 'total_experience': 0}\n"
     ]
    },
    {
     "name": "stderr",
     "output_type": "stream",
     "text": [
      "C:\\Users\\kambo\\anaconda3\\lib\\site-packages\\spacy\\util.py:275: UserWarning: [W031] Model 'en_training' (0.0.0) requires spaCy v2.1 and is incompatible with the current spaCy version (2.3.5). This may lead to unexpected results or runtime errors. To resolve this, download a newer compatible model or retrain your custom model with the current spaCy version. For more details and available updates, run: python -m spacy validate\n",
      "  warnings.warn(warn_msg)\n"
     ]
    },
    {
     "name": "stdout",
     "output_type": "stream",
     "text": [
      "{'name': 'Ravi Kumar', 'email': 'ravipandey6748@gmail.com', 'mobile_number': '7004815539', 'skills': ['Technical skills', 'Sql', 'Rest', 'Java', 'Email', 'Apis', 'Computer applications', 'Api', 'System', 'Agile', 'Html', 'Interactive', 'Web services', 'Database', 'Debugging', 'Programming', 'Servers', 'Mysql', 'Jsp', 'English', 'Process', 'Technical', 'Operations', 'Pdf', 'Testing'], 'college_name': None, 'degree': None, 'designation': None, 'experience': ['•  Total Experience: Jan 2021-till date Experience.', '•  Company Name : Mphasis.', '•  Designation        : Java Developer.', 'EDUCATIONAL DETAILS', \"•  Completed MCA (Masters of Computer Applications) from Siksha 'O' Anusandhan University,\", 'Odisha with Aggregate CGPA  9.12.', 'PROJECT', '•  Project Name  : Commercia 6.8', '•  Technology     : Core java, Html, JSP, Hibernate JPA, Spring Boot, Web Services,', 'Etc.', '•  Duration           : 1.3 years.', '•  Team Size        : 8', '•  Tools Used      : STS 4.7.2 , MySQL Workbench and MySQL, Postman etc.', '•  Process Type  : Agile.', '•  Project Description :', 'Commercia  6.8  is  a  technology  for  managing  all  company  relationships  and', 'interactions  with  customers  and  prospects.  The  goal  is  simple:  improve  business', 'relationships.  This  system  helps  businesses  stay  connected  with  their  customers,', 'streamline processes, and improve profitability.', '•  Roles and Responsibilities:', 'Installing MySQL Database and Creating a Schema.', '•', '•  Developing Entity classes.', '•  Developing repositories to perform database operations in spring boot.', '•  Configuring application properties files.', '•  Developing Controllers in Spring boot to interact with view and service layer.', '•  Developing views layer using HTML, JSP and JSTL tags.', '•  Fixing defects communicating by the testers.', '•', 'Implementing web services using restful.', '•  Developing applications based on micro services concepts.', '•  Exposing Web Services as well as consuming web services.', '•  Testing web services using postman.', '•  Generating PDF documents using API.', 'Integrating email sending services.', '•', 'PERSONAL DETAILS', 'Father’s Name     : Suraj Bhushan Pandey', 'Date of Birth        : 07/10/1999', 'Home Town', 'Current Address :BTM 2nd stage, Bangalore.', 'Nationality', 'Languages          : English ,Hindi', ': Gumla ,Jharkhand.', ': Indian.', 'Place: Bangalore.                                                                                         Ravi Kumar Pandey', '(All the information mentioned hereby is true)'], 'company_names': None, 'no_of_pages': 2, 'total_experience': 0.0}\n"
     ]
    },
    {
     "name": "stderr",
     "output_type": "stream",
     "text": [
      "C:\\Users\\kambo\\anaconda3\\lib\\site-packages\\spacy\\util.py:275: UserWarning: [W031] Model 'en_training' (0.0.0) requires spaCy v2.1 and is incompatible with the current spaCy version (2.3.5). This may lead to unexpected results or runtime errors. To resolve this, download a newer compatible model or retrain your custom model with the current spaCy version. For more details and available updates, run: python -m spacy validate\n",
      "  warnings.warn(warn_msg)\n"
     ]
    },
    {
     "name": "stdout",
     "output_type": "stream",
     "text": [
      "{'name': 'PROFILE Skilled', 'email': 'JiteshHingorani585@gmail.com', 'mobile_number': '7976742460', 'skills': ['Sql server', 'Sql', 'Email', 'Queries', 'Automation', 'Contracts', 'System', 'Reporting', 'Communication', 'Excel', 'Erp', 'Json', 'Engineering', 'Analysis', 'Analytics', 'Security', 'Research', 'Oracle', 'Sales', 'Process', 'Plan', 'Reports', 'Modeling', 'Electronics', 'Etl', 'Technical', 'Staffing', 'Metrics', 'Cloud'], 'college_name': None, 'degree': ['Bachelor of Technology | Electronics & Communication'], 'designation': None, 'experience': ['LinkedIn'], 'company_names': None, 'no_of_pages': 2, 'total_experience': 0.0}\n"
     ]
    },
    {
     "name": "stderr",
     "output_type": "stream",
     "text": [
      "C:\\Users\\kambo\\anaconda3\\lib\\site-packages\\spacy\\util.py:275: UserWarning: [W031] Model 'en_training' (0.0.0) requires spaCy v2.1 and is incompatible with the current spaCy version (2.3.5). This may lead to unexpected results or runtime errors. To resolve this, download a newer compatible model or retrain your custom model with the current spaCy version. For more details and available updates, run: python -m spacy validate\n",
      "  warnings.warn(warn_msg)\n"
     ]
    },
    {
     "name": "stdout",
     "output_type": "stream",
     "text": [
      "{'name': 'YAMINI GUPTA', 'email': 'yaminigupta.1308@gmail.com', 'mobile_number': '9871399355', 'skills': ['Apis', 'Rest', 'Java', 'Sql', 'Queries', 'Automation', 'System', 'Agile', 'Design', 'Html', 'Presentation', 'Database', 'Analysis', 'Mysql', 'Electronics', 'Android', 'Css', 'Technical', 'Metrics'], 'college_name': None, 'degree': None, 'designation': ['Java Developer', 'Senior System Engineer'], 'experience': [], 'company_names': ['Infosys Limited'], 'no_of_pages': 2, 'total_experience': 0.0}\n"
     ]
    },
    {
     "name": "stderr",
     "output_type": "stream",
     "text": [
      "C:\\Users\\kambo\\anaconda3\\lib\\site-packages\\spacy\\util.py:275: UserWarning: [W031] Model 'en_training' (0.0.0) requires spaCy v2.1 and is incompatible with the current spaCy version (2.3.5). This may lead to unexpected results or runtime errors. To resolve this, download a newer compatible model or retrain your custom model with the current spaCy version. For more details and available updates, run: python -m spacy validate\n",
      "  warnings.warn(warn_msg)\n"
     ]
    },
    {
     "name": "stdout",
     "output_type": "stream",
     "text": [
      "{'name': 'Princy Jaiswal', 'email': 'Princy1993j@gmail.com', 'mobile_number': '8602033383', 'skills': ['Technical skills', 'Sql', 'Email', 'Queries', 'Sap', 'Api', 'System', 'Migration', 'Reporting', 'Spark', 'Scheduling', 'Database', 'Config', 'Analysis', 'Specifications', 'Mysql', 'Datasets', 'Oracle', 'Process', 'Plan', 'Pyspark', 'Reports', 'Aws', 'Test cases', 'Etl', 'Technical', 'Operations', 'Schedule', 'Cloud', 'Tableau', 'Testing'], 'college_name': None, 'degree': None, 'designation': ['Azure Data Engineer                                                                 Email: Princy1993j@gmail.com    Phone Number: 8602033383      Technical Skills     ETL Tools : Azure Data Factory, Azure Sql, Azure data lake storage, Azure Databricks, SAP BODS, SSIS'], 'experience': [], 'company_names': None, 'no_of_pages': None, 'total_experience': 0.0}\n"
     ]
    },
    {
     "name": "stderr",
     "output_type": "stream",
     "text": [
      "C:\\Users\\kambo\\anaconda3\\lib\\site-packages\\spacy\\util.py:275: UserWarning: [W031] Model 'en_training' (0.0.0) requires spaCy v2.1 and is incompatible with the current spaCy version (2.3.5). This may lead to unexpected results or runtime errors. To resolve this, download a newer compatible model or retrain your custom model with the current spaCy version. For more details and available updates, run: python -m spacy validate\n",
      "  warnings.warn(warn_msg)\n"
     ]
    },
    {
     "name": "stdout",
     "output_type": "stream",
     "text": [
      "{'name': 'Sai Sankar', 'email': 'saisankar274@gmail.com', 'mobile_number': '9000821605', 'skills': ['Technical skills', 'Numpy', 'Sql', 'Queries', 'Sap', 'Certification', 'Reporting', 'Communication', 'Spark', 'Computer science', 'Engineering', 'Analysis', 'Analytics', 'Billing', 'English', 'Pyspark', 'Reports', 'Pandas', 'Workflows', 'Matplotlib', 'Etl', 'Beverage', 'Operations', 'Technical', 'Cloud', 'Python'], 'college_name': None, 'degree': ['Bachelor of Technology, Computer Science and Engineering  \\n\\n September 2020'], 'designation': ['Software Engineer', 'Guntur'], 'experience': ['Capgemini Technology Services', 'Bengaluru, KA', 'Software Engineer – Cloud and Data Platform', 'March 2021 - Present', '•  Assisted in migrating SAP hana databases to Snowflake.', '•  Played  a  key  role  in  migrating  data  driven  workflows  from  SAP  Data  Services  to  Azure  Data', 'Factory.', '•  Designed and implemented more than 20 data driven workflows which are essential for a multi-', 'national beverage company.', '•  Developed more than 10 data feeds for a multi-national beverage company which are crucial in', 'reporting and analytics.', '•  Addressed key issues and engineered in solving those issues which maximized throughput up', 'to an extent.', '•  Actively  participated  and  contributed  to  the  internal  BW  development  team  in  their  daily', 'operations.', '•  Contributed to the support activities in internal cloud resource provision and billing management', 'team.'], 'company_names': ['Capgemini Technology Services'], 'no_of_pages': 2, 'total_experience': 1.75}\n"
     ]
    },
    {
     "name": "stderr",
     "output_type": "stream",
     "text": [
      "C:\\Users\\kambo\\anaconda3\\lib\\site-packages\\spacy\\util.py:275: UserWarning: [W031] Model 'en_training' (0.0.0) requires spaCy v2.1 and is incompatible with the current spaCy version (2.3.5). This may lead to unexpected results or runtime errors. To resolve this, download a newer compatible model or retrain your custom model with the current spaCy version. For more details and available updates, run: python -m spacy validate\n",
      "  warnings.warn(warn_msg)\n"
     ]
    },
    {
     "name": "stdout",
     "output_type": "stream",
     "text": [
      "{'name': 'RESUME Email', 'email': 'vjsajimol@gmail.com', 'mobile_number': '9497425149', 'skills': ['Sql', 'Rest', 'Java', 'Email', 'Queries', 'Pattern', 'Windows', 'System', 'Agile', 'Design', 'Reporting', 'Mobile', 'Operating systems', 'Web services', 'Architecture', 'Database', 'Analysis', 'Programming', 'Jsp', 'Oracle', 'Process', 'Writing', 'Recruit', 'Testing'], 'college_name': None, 'degree': None, 'designation': None, 'experience': ['\\uf0d8  Working as Java Developer in Digimetrix Technologies Pvt Ltd from Aug-2020 to till date.', 'Educational Qualification', '\\uf0d8  Master of Technology in VLSI and Embedded Systems from ER & DCI IT, Vellayambalam in', '2014.', 'Project Details', 'Project:', 'Title : HRMS', 'Role : Developer.', 'Environment : Java 1.8, Spring-mvc, Restful webservices, Hibernate, Oracle.', 'Platform : Windows', 'Project Description:', '\\uf0b7  Currently, I am working on project HRMS which is called Human Resource Management', 'System.', '\\uf0b7  The main purpose of project is to recruit, manage and store the employee data which includes', 'their personal information including their roles, designations, department and salaries.', '\\uf0b7  The project mainly consists of 3 Modules such as Admin, Manager, and User.', '\\uf0b7  The project is to develop the Web Application', 'Admin, User -> Web Application', 'Manager->Web Application', '\\uf0b7  Every organization has their own human resources in order to perform the internal and external', 'human resource activities.', 'Roles and Responsibilities:', '\\uf0b7  Getting Requirements and analysis &Implemented Rest Applications.', '\\uf0b7', 'Implementing functionalities using design pattern oriented architecture includes Controller,', 'Service and DAO layers.', '\\uf0b7  Developed bean Classes and Controller Classes.', '\\uf0b7  Written Spring Service Interfaces and their implementations.', '\\uf0b7', 'Injected Spring Services into Controller classes.', '\\uf0b7  Using JPA &Hibernate in the DAO, DTO Design patterns.', '\\uf0b7', '\\uf0b7', 'Involved in unit testing.', 'Interaction with client side coordinator for clarifications and status reporting.', 'Place: Bangalore', 'Sajimol V J', 'Signature'], 'company_names': None, 'no_of_pages': 2, 'total_experience': 0.0}\n"
     ]
    },
    {
     "name": "stderr",
     "output_type": "stream",
     "text": [
      "C:\\Users\\kambo\\anaconda3\\lib\\site-packages\\spacy\\util.py:275: UserWarning: [W031] Model 'en_training' (0.0.0) requires spaCy v2.1 and is incompatible with the current spaCy version (2.3.5). This may lead to unexpected results or runtime errors. To resolve this, download a newer compatible model or retrain your custom model with the current spaCy version. For more details and available updates, run: python -m spacy validate\n",
      "  warnings.warn(warn_msg)\n"
     ]
    },
    {
     "name": "stdout",
     "output_type": "stream",
     "text": [
      "{'name': 'TEENA AGRAWAL', 'email': 'teenaagrawal459@gmail.com', 'mobile_number': '8619426130', 'skills': ['Sql', 'Teaching', 'Windows', 'C++', 'Certification', 'System', 'Migration', 'Design', 'Networking', 'Html', 'Excel', 'Hive', 'Architecture', 'Database', 'Engineering', 'Programming', 'Analytics', 'Security', 'Datasets', 'Research', 'Workflow', 'Php', 'Etl', 'Technical', 'Word', 'Schedule', 'C', 'Resource management', 'Cloud', 'Python', '.net'], 'college_name': None, 'degree': None, 'designation': ['Senior Analyst'], 'experience': ['Project:', '\\uf0b7', '\\uf0b7', '\\uf0b7', '\\uf0b7', '\\uf0b7', '\\uf0b7', '\\uf0b7', '\\uf0b7', '\\uf0b7', '\\uf0b7', '\\uf0b7', '\\uf0b7', '\\uf0b7', '\\uf0b7', '\\uf0b7', '\\uf0b7', '\\uf0b7', '\\uf0b7', '\\uf0b7', '\\uf0b7', '\\uf0b7', 'Design architecture for migrating data from different sources to azure platform and implement the solutions using', 'ADF, data bricks and azure data lake.', 'Configure self-hosted IR on VM for Azure Data Factory connectivity.', 'Design workflow using logic app for Synapse cost management.', 'Data onboarding from On-Premises server to azure platform using Azure data factory.', 'Working on Data migration from data lake to Synapse DW project using ETL tools.', 'Worked on Snowflake for data processing from Azure platform to snowflake using azure stream analytics, eventhub,', 'data lake.', 'Azure environment infrastructure setup for moving data from SQL & hive to Microsoft Azure cloud 2.0 using azure', 'DevOps & Terraform.', 'Design interfaces for Data processing and schedule them with the control-M.', 'Processed Data from source to destination with ETL and transformation using Azure data factory and data bricks on', 'Azure.', 'Design ETL jobs using informatica power center and Talend for data processing from different', 'environment.', 'Design Autosys jobs for Data processing.', 'Design and developed dashboard for data visualization using QlikView, Qlik sense & PowerBI.', 'Build Azure end to end pipeline on different environment for moving data from source to destination with transformation', 'using ADF, Data bricks, data explorer.', 'Design & develop Azure Data Factory pipeline for data transformation.', 'Create dataflow & Datasets for different activities inside azure data factory.', 'Infrastructure deployment & resource setup on azure platform as per project requirement like : Azure data factory,', 'Azure Databricks, Data lake, eventhub', 'Working as AD administrator and security contributor on azure platform.', 'Worked on real time data handling from different sources and onboard data using EventHub and stream analytics', 'job.', 'Working on Data migration from data lake to Synapse DW project using ADF tools.', 'Azure environment infrastructure setup for moving data from SQL & hive to Azure.', 'Design Python code for converting column to row and row to column & onboard data on Azure using Notebook', 'Certificate & Other Achievement:', '\\uf0b7', '\\uf0b7', '\\uf0b7', '\\uf0b7', '\\uf0b7', '\\uf0b7', 'Completed AZ-900 Azure Fundamentals certification issued by Microsoft.', 'Completed DP-203 Data Engineering On Microsoft Azure certification issued by Microsoft.', 'Working Knowledge of MS-Excel, Word & Power Point', 'Participated in BICON 2013, 2014, 2015', 'Second Runner Up of Debate Competition at School Level', 'Secured 1st position in Sanskriti Gyan Pariksha 2007', 'Other Skills:', '\\uf0b7', '\\uf0b7', '\\uf0b7', '\\uf0b7', '\\uf0b7', 'Communicating proficiently', 'Resource Management and Resolving problems', 'Good decisions maker', 'Ambitious and enthusiastic'], 'company_names': ['Microsoft', 'EY Global Delivery Services India LLP'], 'no_of_pages': 2, 'total_experience': 0.0}\n"
     ]
    },
    {
     "name": "stderr",
     "output_type": "stream",
     "text": [
      "C:\\Users\\kambo\\anaconda3\\lib\\site-packages\\spacy\\util.py:275: UserWarning: [W031] Model 'en_training' (0.0.0) requires spaCy v2.1 and is incompatible with the current spaCy version (2.3.5). This may lead to unexpected results or runtime errors. To resolve this, download a newer compatible model or retrain your custom model with the current spaCy version. For more details and available updates, run: python -m spacy validate\n",
      "  warnings.warn(warn_msg)\n"
     ]
    },
    {
     "name": "stdout",
     "output_type": "stream",
     "text": [
      "{'name': 'VITAE Rohini', 'email': 'rohinimali245@gmail.com', 'mobile_number': '9198902699', 'skills': ['Rest', 'Java', 'Email', 'Api', 'Windows', 'Agile', 'Design', 'Reporting', 'Communication', 'Budgeting', 'Html', 'Javascript', 'Mobile', 'Operating systems', 'Excel', 'Presentation', 'Web services', 'Analyze', 'Debugging', 'Documentation', 'Programming', 'Unix', 'Servers', 'Mysql', 'Jsp', 'Linux', 'English', 'Updates', 'Project planning', 'Plan', 'Jira', 'Css', 'Technical', 'Word', 'Testing', 'Coding'], 'college_name': None, 'degree': ['B.E.'], 'designation': None, 'experience': ['PROJECT: -', 'Project Name', 'Domain', 'Client', 'Description:', ': Corlio', ': E-commerce domain', ': Inditex, Spain', 'Corlio is a portal which allows merchants in developing more counters to advertise and sell their products.'], 'company_names': None, 'no_of_pages': 3, 'total_experience': 0.0}\n"
     ]
    },
    {
     "name": "stderr",
     "output_type": "stream",
     "text": [
      "C:\\Users\\kambo\\anaconda3\\lib\\site-packages\\spacy\\util.py:275: UserWarning: [W031] Model 'en_training' (0.0.0) requires spaCy v2.1 and is incompatible with the current spaCy version (2.3.5). This may lead to unexpected results or runtime errors. To resolve this, download a newer compatible model or retrain your custom model with the current spaCy version. For more details and available updates, run: python -m spacy validate\n",
      "  warnings.warn(warn_msg)\n"
     ]
    },
    {
     "name": "stdout",
     "output_type": "stream",
     "text": [
      "{'name': 'ROJALINI SAHOO', 'email': 'sahoorojalin67@gmail.com', 'mobile_number': '7978748886', 'skills': ['Jsp', 'Writing', 'Java', 'English', 'Certification', 'Technical', 'Visual', 'Database', 'Oracle', 'Process', 'Chemicals', 'Jira', 'Engineering', 'Programming', 'Analysis', 'Testing', 'Mysql'], 'college_name': None, 'degree': ['Secondary Education (10th)', 'Problem Solver', 'Bachelor of Technology'], 'designation': ['Software Engineer', 'Discipline: Computer Science Engineering (CSE)', 'Team Player'], 'experience': ['May 2021 – Till Date  Mindtree Ltd', 'Software Engineer', 'Skills: Java, Spring Boot, Hibernate, Tomcat, MySQL, Maven, Eclipse, Git, Postman, Jenkins', 'Roles & Responsibilities:', '\\uf0a8  Played Java Developer role.', '\\uf0a8  Actively contributed to requirement analysis and development process.', '\\uf0a8  Contribution in writing Junit test cases to have maximum coverage for each module.', '\\uf0a8  Participated in defect fixing.', '\\uf0a8  Performed sanity / smoke testing before every release.', '\\uf0a8  Contribution in fixing sonar issues.'], 'company_names': ['Oracle', 'Mindtree Ltd'], 'no_of_pages': 2, 'total_experience': 0.0}\n"
     ]
    },
    {
     "name": "stderr",
     "output_type": "stream",
     "text": [
      "C:\\Users\\kambo\\anaconda3\\lib\\site-packages\\spacy\\util.py:275: UserWarning: [W031] Model 'en_training' (0.0.0) requires spaCy v2.1 and is incompatible with the current spaCy version (2.3.5). This may lead to unexpected results or runtime errors. To resolve this, download a newer compatible model or retrain your custom model with the current spaCy version. For more details and available updates, run: python -m spacy validate\n",
      "  warnings.warn(warn_msg)\n"
     ]
    },
    {
     "name": "stdout",
     "output_type": "stream",
     "text": [
      "{'name': 'SANTOSH SAHOO', 'email': '–tech.santoshsahoo@gmail.com', 'mobile_number': '6364283343', 'skills': ['Xml', 'Pattern', 'Java', 'Email', 'Api', 'Windows', 'System', 'Expenses', 'Tax', 'Design', 'Json', 'Health', 'Mechanical engineering', 'Engineering', 'Mysql', 'Oracle', 'Jira', 'Writing', 'Technical'], 'college_name': None, 'degree': None, 'designation': None, 'experience': ['Clarifications, Business flows, Test Data etc. through Emails, Communicator calls.', 'PROFFESIONAL EXPERIENCE: -', '\\uf0b7  Working  as a Software  Engineer at Dimensions  Infotech pvt  ltd. ( Client  company Legato', 'Health Technology) from August 2019 to  till date.', 'EDUCATION:-', \"\\uf0b7  B.Tech in Mechanical Engineering from Siksha 'o' Anusandhan University ,Odisha.\", 'PROJECT SUMMARY:-', 'Project #1       : Health Insurance', 'Client', ': Anthem, US', 'Team Size      :7', 'Role               : Software Engineer', 'Duration        : August 2019 to till date.', 'Environment  : Windows, Spring Boot , MongoDB, Eclipse, STS,', 'Technologies  :  Java1.8,SpringMVC,SpringBoot,Microservices,  SpringData,  XML,  JSON,', 'YML, JUNIT, Mockito, Maven, GIT, BitBucket, JIRA', 'DESCRIPTION:-', '\\uf0b7  Health  insurance  is  a  type  of  insurance  coverage  that  pays  for  medical  and  surgical', 'expenses incurred by the insured. Health insurance can reimburse the insured for expenses', 'incurred  from  illness or  injury,  or pay  the care provider directly.  It  is  often  included  in', 'employer benefit packages as a means of enticing quality employees. The cost of health', 'insurance  premiums  is  deductible  to  the  payer,  and  benefits  received  are  tax-free.  This', 'project is mainly subdivided into two separate parts, which consists of different modules', 'in  it.  First  Part  is  the  Business  to  customer  and  another  part  consists  of  Business  to', 'Business.', 'Responsibilities:-', '\\uf0b7', '\\uf0b7', 'Involve in various phases of requirement gathering from BSA,  Code Development.', 'Involve in developing SpringBoot Application by following microservice design Principle,', 'and  writing Spring MVC Controller by annotation Approach.', 'Involved in Developing Service layer and DAO layer by using Spring Framework and Spring', 'Data.', '\\uf0b7', '\\uf0b7  Participating in Code review meeting and Architectural meeting with Architect and BSA.', '\\uf0b7', 'Implemented Core/J2EE Design Patterns to resolve application related issues.', 'Santosh'], 'company_names': None, 'no_of_pages': 2, 'total_experience': 0.0}\n"
     ]
    },
    {
     "name": "stderr",
     "output_type": "stream",
     "text": [
      "C:\\Users\\kambo\\anaconda3\\lib\\site-packages\\spacy\\util.py:275: UserWarning: [W031] Model 'en_training' (0.0.0) requires spaCy v2.1 and is incompatible with the current spaCy version (2.3.5). This may lead to unexpected results or runtime errors. To resolve this, download a newer compatible model or retrain your custom model with the current spaCy version. For more details and available updates, run: python -m spacy validate\n",
      "  warnings.warn(warn_msg)\n"
     ]
    },
    {
     "name": "stdout",
     "output_type": "stream",
     "text": [
      "{'name': 'Designation Email', 'email': 'shridharchougule597@gmail.com', 'mobile_number': '9740625597', 'skills': ['Rest', 'Java', 'Email', 'Website', 'Api', 'Windows', 'System', 'Agile', 'Design', 'Reporting', 'Communication', 'Html', 'Computer science', 'Excel', 'Presentation', 'Web services', 'Analyze', 'Database', 'Continuous improvement', 'Debugging', 'Programming', 'Servers', 'Improvement', 'Mysql', 'Specifications', 'Jsp', 'English', 'Process', 'Workflow', 'Jira', 'Css', 'Technical', 'Word', 'Testing', 'Coding'], 'college_name': None, 'degree': None, 'designation': None, 'experience': [':  2.5 Years', '➢  Duration', ': Till Present', 'PROJECT', 'Project Name', ': Vera', 'Domain', 'Client', 'Description:', ': Insurance Domain', ': Equitable Life, United States', 'Insurance Management system is state of art online integrated tool that helps registered', 'customers to buy insurance online. It integrates and manages customer login, processes credit', 'cards, shipping information, shopping sessions and various views of products and services up for', 'sale. The complete system was divided into two modules, a website that manages customer login', 'details  and  an  Insurance  management  system  that  fulfils  purchase  order.  The  Insurance', 'management system uses message driven beans to process workflow.', 'Roles And Responsibilities:', '➢ Requirement analyze, design, coding and testing.', '➢ Producing the restful web services.', '➢ Ensuring designs comply with specifications', '➢ Bug fixing', '➢ Preparing and producing releases of software components.', '➢ Transforming requirements into stipulations.', '➢ Analyze the program to identify the code changes as per the business requirements.', '➢ Involved in knowledge sharing activities with team.', '➢ Preparing and maintaining entire documents for projects.', '➢ Support continuous improvement.', '➢ Investigating alternatives and technologies.', '➢ Presenting for architectural review.', '➢ Environment :', 'Core JAVA, Spring Boot, Exception Handling, Hibernate Framework, Git, rest API, Hibernate mapping,', 'Spring MVC, Spring , JDBC, MYSQL etc.', '2', 'Technical Skill', '➢ Programming Language', '➢ Frameworks', '➢ Operating System', '➢ Database', '➢ Web Technologies', '➢ Project Management Tool', '➢ Version Control Tool', '➢ IDS’s', '➢ Servers', '➢ Others Tool', '➢ Microsoft Office', ': Java 1.8', ': Spring Boot 3.1, Hibernate 3.1, Spring MVC', ': Windows', ': MySQL - 8.0', ': HTML 5, CSS, JSP', ': JIRA-8.13', ': Git-2.31.0', ': Eclipse-Photon-4.8.0, Spring Tool Suit (STS)-4.9.0', ': Apache Tomcat – 9.0', ': Postman – 8.0.6', ': Excel, Power Point Presentation, Word'], 'company_names': None, 'no_of_pages': 3, 'total_experience': 0.0}\n"
     ]
    },
    {
     "name": "stderr",
     "output_type": "stream",
     "text": [
      "C:\\Users\\kambo\\anaconda3\\lib\\site-packages\\spacy\\util.py:275: UserWarning: [W031] Model 'en_training' (0.0.0) requires spaCy v2.1 and is incompatible with the current spaCy version (2.3.5). This may lead to unexpected results or runtime errors. To resolve this, download a newer compatible model or retrain your custom model with the current spaCy version. For more details and available updates, run: python -m spacy validate\n",
      "  warnings.warn(warn_msg)\n"
     ]
    },
    {
     "name": "stdout",
     "output_type": "stream",
     "text": [
      "{'name': 'SHUBHAM VERMA', 'email': 'skverma1121@gmail.com', 'mobile_number': '8217607599', 'skills': ['Postgresql', 'Sql', 'Rest', 'Java', 'Json', 'Jsp', 'English', 'Api', 'Sanitize', 'C++', 'Js', 'Oracle', 'System', 'Reports', 'C', 'Mortgage', 'Design', 'Mysql'], 'college_name': None, 'degree': ['Master of Computer Application (MCA)', 'B.Sc'], 'designation': ['SKILLS & TOOLS', 'Software Engineer', 'Project Trainee', 'SQL Developer'], 'experience': [], 'company_names': ['Tavant Technologies', 'Oracle'], 'no_of_pages': 1, 'total_experience': 0.0}\n"
     ]
    },
    {
     "name": "stderr",
     "output_type": "stream",
     "text": [
      "C:\\Users\\kambo\\anaconda3\\lib\\site-packages\\spacy\\util.py:275: UserWarning: [W031] Model 'en_training' (0.0.0) requires spaCy v2.1 and is incompatible with the current spaCy version (2.3.5). This may lead to unexpected results or runtime errors. To resolve this, download a newer compatible model or retrain your custom model with the current spaCy version. For more details and available updates, run: python -m spacy validate\n",
      "  warnings.warn(warn_msg)\n"
     ]
    },
    {
     "name": "stdout",
     "output_type": "stream",
     "text": [
      "{'name': 'SHWETA SINGH', 'email': 'sta4326@gmail.com', 'mobile_number': '9199023951', 'skills': ['Apis', 'Rest', 'Docker', 'Website', 'Django', 'Api', 'Windows', 'Analytical', 'Vmware', 'System', 'Agile', 'Design', 'Communication', 'Mobile', 'Web services', 'Architecture', 'Content', 'Database', 'Sdlc', 'Analytical skills', 'Access', 'Engineering', 'Programming', 'Mysql', 'Security', 'Linux', 'Oracle', 'Plan', 'Jira', 'Pytest', 'Engagement', 'Writing', 'Pandas', 'Aws', 'Troubleshooting', 'Information technology', 'Algorithms', 'Project management', 'Metrics', 'Product design', 'Cisco', 'Testing', 'Python'], 'college_name': None, 'degree': None, 'designation': None, 'experience': ['TOOLS AND TECHNOLOGIES', 'Programming Languages: Python', 'Devops Tools: Jenkins, CI/CD pipeline', 'Virtualization Tools: VMware vSphere, Oracle Virtual box, Docker', 'DataBases: MySQL, MongoDB', 'Testing Tools: Jmeter', 'Operating Systems: Red Hat Enterprise Linux, CentOS, Windows', 'Version control and Project Management: GIT, Bitbucket, JIRA'], 'company_names': None, 'no_of_pages': 3, 'total_experience': 0.0}\n"
     ]
    },
    {
     "name": "stderr",
     "output_type": "stream",
     "text": [
      "C:\\Users\\kambo\\anaconda3\\lib\\site-packages\\spacy\\util.py:275: UserWarning: [W031] Model 'en_training' (0.0.0) requires spaCy v2.1 and is incompatible with the current spaCy version (2.3.5). This may lead to unexpected results or runtime errors. To resolve this, download a newer compatible model or retrain your custom model with the current spaCy version. For more details and available updates, run: python -m spacy validate\n",
      "  warnings.warn(warn_msg)\n"
     ]
    },
    {
     "name": "stdout",
     "output_type": "stream",
     "text": [
      "{'name': 'Shweta Singh', 'email': 'tomarshweta880@gmail.com', 'mobile_number': '7389042740', 'skills': ['Sql', 'Shell', 'Java', 'Email', 'Certification', 'System', 'Agile', 'Design', 'Ui', 'Html', 'Health', 'Training', 'Sports', 'Analysis', 'Programming', 'Engineering', 'Improvement', 'Specifications', 'Electrical', 'Plan', 'P', 'Css', 'Technical', 'Inventory', 'Project management', 'Testing'], 'college_name': None, 'degree': ['Bachelor of Engineering'], 'designation': None, 'experience': ['Project Name:  CPW, For a large electrical and telecommunications retailer and service client.', '•  Used Java/J2EE technologies to develop web applications for client server environment and add functionality for existing', 'applications.', '•  Developed java code design to get SSL certification expiry date via application health check daily mail to notify expiry date', '•', 'in advance for certain applications to ensure application availability.', 'Prepared multiple small improvement plan (SIP) for generating critical details using SQL, Java & Shell script and presenting', 'to client.', '•  Developed and enhanced code for generating email triggers every day to get alerts on application performance status.', '•', 'Involved in design development end-to-end testing and postproduction support of the different modules.', '•  Mentored new team members on effective usage of blend of Java and Spring.', 'Accenture Greenfield Training:', '•  Developed a project on “Inventory Management System” as Case Study using java micro-services, web', 'applications & git platform', '•  Applied Agile methodology for project management along with team members.', 'Viscus Infotech (from Mar 2019 to Sept 2019)', '•  Performed designing and developing UI functionality of “Sports Fantasy Projects” using HTML, CSS and ReactJS.', '•', 'Interacted with business analyst, specialist and technical support to determine project specifications.', 'Academic Qualification', 'Degree', 'Year', 'Institute', 'University/Board', 'Result', 'Bachelor of Engineering', '2018  Malwa Institute of Technology, Indore', 'RGTU, Bhopal', '8.35 CGPA', 'Higher Secondary', '2014  Kendriya Vidhyalaya, Narmada Nagar', 'High School', '2012  Kendriya Vidhyalaya, Narmada Nagar', 'CBSE', 'CBSE', '79.40%', '8.4 CGPA', '1 | P a g e'], 'company_names': None, 'no_of_pages': 1, 'total_experience': 0.5}\n"
     ]
    },
    {
     "name": "stderr",
     "output_type": "stream",
     "text": [
      "C:\\Users\\kambo\\anaconda3\\lib\\site-packages\\spacy\\util.py:275: UserWarning: [W031] Model 'en_training' (0.0.0) requires spaCy v2.1 and is incompatible with the current spaCy version (2.3.5). This may lead to unexpected results or runtime errors. To resolve this, download a newer compatible model or retrain your custom model with the current spaCy version. For more details and available updates, run: python -m spacy validate\n",
      "  warnings.warn(warn_msg)\n"
     ]
    },
    {
     "name": "stdout",
     "output_type": "stream",
     "text": [
      "{'name': 'Software Engineer', 'email': 'email:-pandasimran321@gmail.com', 'mobile_number': '9535483501', 'skills': ['Purchasing', 'Xml', 'Sql', 'Rest', 'Java', 'Db2', 'Sql server', 'Technical skills', 'Procurement', 'Windows', 'Inventory management', 'Analytical', 'System', 'Migration', 'Design', 'Logistics', 'Communication', 'Html', 'Payroll', 'Javascript', 'Mobile', 'Json', 'Interactive', 'Web services', 'Architecture', 'E-commerce', 'Scheduling', 'Database', 'Health', 'Training', 'Sdlc', 'Debugging', 'Documentation', 'Analysis', 'Ibm', 'Servers', 'Mysql', 'Specifications', 'Sourcing', 'Protocols', 'Jsp', 'Transportation', 'Logging', 'English', 'Oracle', 'Process', 'Jira', 'Visual', 'Troubleshooting', 'Soap', 'Android', 'Css', 'Vendors', 'Pharmaceutical', 'Js', 'Technical', 'Inventory', 'Cloud', 'Testing'], 'college_name': None, 'degree': None, 'designation': None, 'experience': [], 'company_names': None, 'no_of_pages': 4, 'total_experience': 0.0}\n"
     ]
    },
    {
     "name": "stderr",
     "output_type": "stream",
     "text": [
      "C:\\Users\\kambo\\anaconda3\\lib\\site-packages\\spacy\\util.py:275: UserWarning: [W031] Model 'en_training' (0.0.0) requires spaCy v2.1 and is incompatible with the current spaCy version (2.3.5). This may lead to unexpected results or runtime errors. To resolve this, download a newer compatible model or retrain your custom model with the current spaCy version. For more details and available updates, run: python -m spacy validate\n",
      "  warnings.warn(warn_msg)\n"
     ]
    },
    {
     "name": "stdout",
     "output_type": "stream",
     "text": [
      "{'name': 'SIVAPRIYA K', 'email': 'Sivapriya.karuna@gmail.com', 'mobile_number': '899-8906', 'skills': ['Sql server', 'Sql', 'Certification', 'Analytical', 'System', 'Migration', 'Agile', 'Design', 'Conversion', 'Reporting', 'Communication', 'Json', 'Analyze', 'Scheduling', 'Database', 'Health', 'Datasets', 'Warehouse', 'English', 'Process', 'Reports', 'Modeling', 'Tfs', 'Etl', 'Administration', 'Cloud', 'Testing', 'Coding'], 'college_name': None, 'degree': None, 'designation': ['Assistant Manager'], 'experience': ['Organization: UST Global, Chennai', 'Duration: Mar 2012 – Mar 2020 (8 years)', 'Designation: Senior System Analyst', 'Project: Global Transfer Pricing', 'Database & Tool: SQL Server, SSIS, TFS.', 'Client: KPMG', 'Profile:', '\\uf0aa  Active participant in the planning and grooming sessions by', 'Interacting with the Users for system study, requirement gathering', 'and estimation.', '\\uf0aa  Structural designing and coding for developing new application -', 'dimension, fact tables and designed the data warehouse using star', 'schema', '\\uf0aa  Worked in Temporal Tables, In Memory Optimization, Compress and', 'Decompress, Partitioning, Column Store Indexes.', '\\uf0aa  Performed Code Review, Unit Testing and Integration Testing.', '\\uf0aa  Participated in the complete range of project activities, starting from', 'conceptualization, testing and maintenance of the project.', 'Client: H&R Block', 'Database & Tool: SQL Server, SSRS, TFS, TeamCity.', 'Profile:', '\\uf0aa  To work with the business users to analyze the requirement and', 'provide estimation.', '\\uf0aa  To Design, Code and develop the application with SQL Server.', 'Create, Deploy and Scheduling SSRS reports.', 'PERSONAL DETAILS', 'Sex:                Female', 'Nationality:  Indian', 'Language:     English, Tamil', 'Organization: Cognizant Technology Solutions', 'Duration: May 2006 – Mar 2012 – 5.10 Years'], 'company_names': None, 'no_of_pages': 4, 'total_experience': 13.83}\n"
     ]
    },
    {
     "name": "stderr",
     "output_type": "stream",
     "text": [
      "C:\\Users\\kambo\\anaconda3\\lib\\site-packages\\spacy\\util.py:275: UserWarning: [W031] Model 'en_training' (0.0.0) requires spaCy v2.1 and is incompatible with the current spaCy version (2.3.5). This may lead to unexpected results or runtime errors. To resolve this, download a newer compatible model or retrain your custom model with the current spaCy version. For more details and available updates, run: python -m spacy validate\n",
      "  warnings.warn(warn_msg)\n"
     ]
    },
    {
     "name": "stdout",
     "output_type": "stream",
     "text": [
      "{'name': 'Career Summary', 'email': 'sivaramakrishnalchjava@gmail.com', 'mobile_number': '9182549741', 'skills': ['International', 'Sql', 'Shell', 'Java', 'Db2', 'Queries', 'Windows', 'System', 'Migration', 'Agile', 'Mobile', 'Banking', 'Analyze', 'Scheduling', 'Database', 'Training', 'Documentation', 'Unix', 'Servers', 'Linux', 'Oracle', 'Process', 'Reports', 'Operations', 'Technical'], 'college_name': None, 'degree': None, 'designation': None, 'experience': ['•  Working in Agile Methodology based Projects.'], 'company_names': None, 'no_of_pages': 3, 'total_experience': 0.0}\n"
     ]
    },
    {
     "name": "stderr",
     "output_type": "stream",
     "text": [
      "C:\\Users\\kambo\\anaconda3\\lib\\site-packages\\spacy\\util.py:275: UserWarning: [W031] Model 'en_training' (0.0.0) requires spaCy v2.1 and is incompatible with the current spaCy version (2.3.5). This may lead to unexpected results or runtime errors. To resolve this, download a newer compatible model or retrain your custom model with the current spaCy version. For more details and available updates, run: python -m spacy validate\n",
      "  warnings.warn(warn_msg)\n"
     ]
    },
    {
     "name": "stdout",
     "output_type": "stream",
     "text": [
      "{'name': 'Siva Subrahmanyam Beesabattuni', 'email': 'subbubeesabattuni123@gmail.com', 'mobile_number': '8919072345', 'skills': ['Sql', 'Queries', 'Sentry', 'Certification', 'Design', 'Computer science', 'Communication', 'Analyze', 'Architecture', 'Database', 'Debugging', 'Documentation', 'Analysis', 'Engineering', 'Analytics', 'Process', 'Writing', 'Etl', 'Testing', 'Technical', 'C', 'Regulatory'], 'college_name': None, 'degree': ['Bachelor of \\nComputer \\nScience'], 'designation': ['Software Design Engineer'], 'experience': ['Client: Gilead Sciences Inc., CA', 'Project: Gilead Sentry CDM Replication Project', 'Role: Junior ADF Developer', 'Description: Extract data from different sources like Teradata, ADLS and transform the data based on', 'business requirement and load it to Azure Synapse through Azure Data Factory and ADLS, DataBricks.', 'Technologies used: Teradata, Azure Data Factory, Azure Synapse Analytics, ADLS(Gen2)', 'Responsibilities:', '·  Analyze the data from Teradata tables, ADLS files(.CSV) and calculations of Business requirements.', '·  Creating the connections in ADF for Source and Target systems', '·  Copying data in files into Synapse Tables using Azure Databricks as we can’t get record Counts of', 'files in ADF Copy Activity', '·  Developing mappings for tables and applying various transformations to the mappings with respect to', 'business requirements', '·  Creating Initial load, Delta load and full load mappings', '·  Creating Tables Dynamically in Synapse', '·  Creating Views based on Loaded Tables dynamically based on Metadata', '·  Applying data quality checks and Unit testing for the data in different stages of Architecture.', '·  Working with ADLS', '·  Good understanding about design, architecture, and implementation of ADF Pipelines to load  data', 'from various sources using Activities in ADF', '·  Monitoring Loads on Azure Data Factory pipelines', '·  Requirement gathering, Analysis, Design, Development, Testing and Documentation along with Client', 'Communication and Knowledge Transfer activities', 'Client: Elanco', 'Project: Elanco Regulatory Data Warehousing Project', 'Role: Junior ADF Developer', 'Description: Extract data from Multiple Sources and transform the data based on  business requirement', 'and load it to Azure SQL Database through Azure Data Factory and ADLS, Databricks, Synapse.', 'Technologies used:  Azure Data Factory, SQL, Azure Synapse Analytics, ADLS(Gen2), Databricks', 'Responsibilities:', '·  Analyze the data from Multiple Sources and moving them to ADLS in .csv format.', '·  Creating the connections in ADF for Source and Target systems', '·  Requirement gathering, Analysis, Design, Development, Testing and Documentation along with Client', 'Communication and Knowledge Transfer activities', '·  Copying data in files into Synapse Tables using Azure Databricks as we can’t get record Counts of', 'files in ADF Copy Activity', '·  Validating the data like NOT NULL, Primary Key, Active Column Checks', '·  Applying data quality checks and Unit testing for the data in different stages of Architecture', '·  Creating External Tables based on Metadata tables created Manually', '·  Implemented SCD Logic to keep track of records in Azure Synapse and Loading Active records to', 'Azure SQL Database (DataMart)', '·  Creating Mappings between DWH and DataMart Tables', '·  Good understanding about design, architecture, and implementation of ADF Pipelines to load  data', 'from various sources using Activities in ADF', '·  Monitoring Loads on Azure Data Factory pipelines'], 'company_names': ['SCD Logic', 'Azure SQL Database (DataMart)'], 'no_of_pages': 3, 'total_experience': 0.0}\n"
     ]
    },
    {
     "name": "stderr",
     "output_type": "stream",
     "text": [
      "C:\\Users\\kambo\\anaconda3\\lib\\site-packages\\spacy\\util.py:275: UserWarning: [W031] Model 'en_training' (0.0.0) requires spaCy v2.1 and is incompatible with the current spaCy version (2.3.5). This may lead to unexpected results or runtime errors. To resolve this, download a newer compatible model or retrain your custom model with the current spaCy version. For more details and available updates, run: python -m spacy validate\n",
      "  warnings.warn(warn_msg)\n"
     ]
    },
    {
     "name": "stdout",
     "output_type": "stream",
     "text": [
      "{'name': 'Software Pvt', 'email': 'snehaldhok211@gmail.com', 'mobile_number': '9191680015', 'skills': ['International', 'Xml', 'Pattern', 'Rest', 'Java', 'Queries', 'Api', 'System', 'Agile', 'Design', 'Communication', 'Html', 'Javascript', 'Mobile', 'Excel', 'Presentation', 'Scrum', 'Analyze', 'Architecture', 'Database', 'Engineering', 'Analysis', 'Servers', 'Mysql', 'Safety', 'Updates', 'Jira', 'Electronics', 'Html5', 'Css', 'Technical', 'Word', 'Microsoft office', 'Testing', 'Coding'], 'college_name': None, 'degree': ['Bachelor of Engineering from R.T.M.N.U   \\n\\nTechnical Expertise \\n\\n•  Languages \\n\\n: Java 8'], 'designation': None, 'experience': [], 'company_names': ['Microsoft'], 'no_of_pages': 4, 'total_experience': 0.0}\n"
     ]
    },
    {
     "name": "stderr",
     "output_type": "stream",
     "text": [
      "C:\\Users\\kambo\\anaconda3\\lib\\site-packages\\spacy\\util.py:275: UserWarning: [W031] Model 'en_training' (0.0.0) requires spaCy v2.1 and is incompatible with the current spaCy version (2.3.5). This may lead to unexpected results or runtime errors. To resolve this, download a newer compatible model or retrain your custom model with the current spaCy version. For more details and available updates, run: python -m spacy validate\n",
      "  warnings.warn(warn_msg)\n"
     ]
    },
    {
     "name": "stdout",
     "output_type": "stream",
     "text": [
      "{'name': 'Snehal Kamble', 'email': 'snehal9712@gmail.com', 'mobile_number': '8605810369', 'skills': ['Sql', 'Certification', 'Presentations', 'Ai', 'Design', 'Compliance', 'Architectures', 'Architecture', 'Database', 'Documentation', 'Analysis', 'Analytics', 'Security', 'Datasets', 'English', 'Policies', 'Sales', 'Reports', 'Etl', 'Technical', 'Cloud'], 'college_name': None, 'degree': ['Bachelors of Engineer (Computer)', 'MBA in Data Science'], 'designation': ['Technical Sales Professional', 'Data Engineer Associate'], 'experience': [], 'company_names': ['Microsoft', 'Microsoft Power Platform Fundamental'], 'no_of_pages': 1, 'total_experience': 0.0}\n"
     ]
    },
    {
     "name": "stderr",
     "output_type": "stream",
     "text": [
      "C:\\Users\\kambo\\anaconda3\\lib\\site-packages\\spacy\\util.py:275: UserWarning: [W031] Model 'en_training' (0.0.0) requires spaCy v2.1 and is incompatible with the current spaCy version (2.3.5). This may lead to unexpected results or runtime errors. To resolve this, download a newer compatible model or retrain your custom model with the current spaCy version. For more details and available updates, run: python -m spacy validate\n",
      "  warnings.warn(warn_msg)\n"
     ]
    },
    {
     "name": "stdout",
     "output_type": "stream",
     "text": [
      "{'name': 'Sonu Prakash', 'email': 'sonuprakashbta@gmail.com', 'mobile_number': '9780571597', 'skills': ['Payroll', 'Mobile', 'Javascript', 'Rest', 'Java', 'Email', 'Interactive', 'Js', 'Technical', 'Operations', 'Ai', 'Html'], 'college_name': None, 'degree': None, 'designation': ['Associate Software Engineer'], 'experience': ['Associate Software Engineer', 'Capgemini ~ 5th May 2021 - Present', 'Project 1 :  Paypal Credit Web Application', 'Email:', 'sonuprakashbta@gmail.com', 'A Web based project credit card application which involves desktop and', 'mobile platforms.  It allows users interaction through different modules', 'like onetime payment, autopay, profile management.', 'Address:', 'Whitefield, Bangalore'], 'company_names': ['Profile Summary'], 'no_of_pages': 1, 'total_experience': 1.58}\n"
     ]
    },
    {
     "name": "stderr",
     "output_type": "stream",
     "text": [
      "C:\\Users\\kambo\\anaconda3\\lib\\site-packages\\spacy\\util.py:275: UserWarning: [W031] Model 'en_training' (0.0.0) requires spaCy v2.1 and is incompatible with the current spaCy version (2.3.5). This may lead to unexpected results or runtime errors. To resolve this, download a newer compatible model or retrain your custom model with the current spaCy version. For more details and available updates, run: python -m spacy validate\n",
      "  warnings.warn(warn_msg)\n"
     ]
    },
    {
     "name": "stdout",
     "output_type": "stream",
     "text": [
      "{'name': 'Email:sreepatnam82977@gmail.com Career', 'email': 'Email:sreepatnam82977@gmail.com', 'mobile_number': '8297780283', 'skills': ['Sql', 'Apis', 'Java', 'Ordering', 'Windows', 'Analytical', 'System', 'Communication', 'Html', 'Web services', 'Programming', 'Scripting', 'Mysql', 'Jsp', 'Linux', 'Oracle', 'Workflow', 'P', 'Visual', 'Writing', 'Requests', 'Css', 'Technical', 'Testing', 'Coding'], 'college_name': None, 'degree': None, 'designation': None, 'experience': ['Engineer.', '•  Estimating, coding, code review, unit testing, Integration testing.', '•  worked on functionality of restriction on user accessing the system.', '.', 'Environment:', 'Java, SQL, Jboss, SVN, GIT, JBoss and IntelliJ Communication Edition, Jenkin ,', 'Service Now, SQL'], 'company_names': None, 'no_of_pages': 3, 'total_experience': 0.0}\n"
     ]
    },
    {
     "name": "stderr",
     "output_type": "stream",
     "text": [
      "C:\\Users\\kambo\\anaconda3\\lib\\site-packages\\spacy\\util.py:275: UserWarning: [W031] Model 'en_training' (0.0.0) requires spaCy v2.1 and is incompatible with the current spaCy version (2.3.5). This may lead to unexpected results or runtime errors. To resolve this, download a newer compatible model or retrain your custom model with the current spaCy version. For more details and available updates, run: python -m spacy validate\n",
      "  warnings.warn(warn_msg)\n"
     ]
    },
    {
     "name": "stdout",
     "output_type": "stream",
     "text": [
      "{'name': 'Subbareddy  \\n\\n     ', 'email': 'subbareddy9195@gmail.com', 'mobile_number': '9391474507', 'skills': ['Mobile', 'Sql', 'Rest', 'Java', 'Email', 'Scrum', 'English', 'Windows', 'Technical', 'System', 'Sales', 'Plan', 'Engineering', 'Servers', 'Analytics', 'Communication', 'Coding'], 'college_name': None, 'degree': None, 'designation': None, 'experience': ['\\uf076  Working  with  Cognizant  as  contract  employee,  Bangalore  as  Junior  Software', 'Engineer from OCT 2019.'], 'company_names': None, 'no_of_pages': 3, 'total_experience': 0.0}\n"
     ]
    },
    {
     "name": "stderr",
     "output_type": "stream",
     "text": [
      "C:\\Users\\kambo\\anaconda3\\lib\\site-packages\\spacy\\util.py:275: UserWarning: [W031] Model 'en_training' (0.0.0) requires spaCy v2.1 and is incompatible with the current spaCy version (2.3.5). This may lead to unexpected results or runtime errors. To resolve this, download a newer compatible model or retrain your custom model with the current spaCy version. For more details and available updates, run: python -m spacy validate\n",
      "  warnings.warn(warn_msg)\n"
     ]
    },
    {
     "name": "stdout",
     "output_type": "stream",
     "text": [
      "{'name': 'Sujeet Kumar', 'email': 'sujeetray96@gmail.com', 'mobile_number': '8858715612', 'skills': ['Apis', 'Rest', 'Java', 'Prototyping', 'Api', 'System', 'Design', 'Html', 'Postgresql', 'Engineering', 'Analysis', 'Programming', 'Mysql', 'Machine learning', 'Retail', 'Oracle', 'Process', 'Android', 'Algorithms', 'Css', 'Test cases', 'Js', 'Testing'], 'college_name': None, 'degree': ['Bachelor of Technology in Computer Science & Engineering'], 'designation': None, 'experience': [], 'company_names': None, 'no_of_pages': 1, 'total_experience': 0.0}\n"
     ]
    },
    {
     "name": "stderr",
     "output_type": "stream",
     "text": [
      "C:\\Users\\kambo\\anaconda3\\lib\\site-packages\\spacy\\util.py:275: UserWarning: [W031] Model 'en_training' (0.0.0) requires spaCy v2.1 and is incompatible with the current spaCy version (2.3.5). This may lead to unexpected results or runtime errors. To resolve this, download a newer compatible model or retrain your custom model with the current spaCy version. For more details and available updates, run: python -m spacy validate\n",
      "  warnings.warn(warn_msg)\n"
     ]
    },
    {
     "name": "stdout",
     "output_type": "stream",
     "text": [
      "{'name': 'SUMANTH Email', 'email': 'sumanthit846@gmail.com', 'mobile_number': '8867115581', 'skills': ['Technical skills', 'Sql', 'Website', 'Java', 'Email', 'Automation', 'Windows', 'System', 'Design', 'Html', 'Javascript', 'Mobile', 'Analyze', 'Database', 'Access', 'Programming', 'Servers', 'Hotels', 'Jsp', 'Linux', 'Ecommerce', 'Process', 'Writing', 'Soap', 'Requests', 'Css', 'Travel', 'Governance', 'Technical', 'Testing'], 'college_name': None, 'degree': None, 'designation': None, 'experience': [], 'company_names': None, 'no_of_pages': None, 'total_experience': 0.0}\n"
     ]
    },
    {
     "name": "stderr",
     "output_type": "stream",
     "text": [
      "C:\\Users\\kambo\\anaconda3\\lib\\site-packages\\spacy\\util.py:275: UserWarning: [W031] Model 'en_training' (0.0.0) requires spaCy v2.1 and is incompatible with the current spaCy version (2.3.5). This may lead to unexpected results or runtime errors. To resolve this, download a newer compatible model or retrain your custom model with the current spaCy version. For more details and available updates, run: python -m spacy validate\n",
      "  warnings.warn(warn_msg)\n"
     ]
    },
    {
     "name": "stdout",
     "output_type": "stream",
     "text": [
      "{'name': 'Sumit Kumar', 'email': 'sumitsuman451@gmail.com', 'mobile_number': '7978294991', 'skills': ['Business stakeholders', 'Security', 'Java', 'Algorithms', 'Visual', 'Database', 'Troubleshooting', 'Jira', 'Engineering', 'Administration', 'Design', 'Analysis', 'Servers', 'Computer science', 'Communication', 'Mysql', 'Lifecycle'], 'college_name': None, 'degree': ['Bachelor of Technology Computer Science And Engineering'], 'designation': ['Software Developer'], 'experience': ['\\uf0b7', 'Great problem solving and Analytic skills. Ability to choose the relevant data structures,', 'algorithms considering Time & Space Complexity', '\\uf0b7  Ability to write clean, modular, bug-free, and loosely coupled code. Passion for developing', 'highly scalable systems.', '\\uf0b7  Proficiency with Java, Spring Framework, familiarity with database technology such as', 'MySQL'], 'company_names': None, 'no_of_pages': 1, 'total_experience': 0.0}\n"
     ]
    },
    {
     "name": "stderr",
     "output_type": "stream",
     "text": [
      "C:\\Users\\kambo\\anaconda3\\lib\\site-packages\\spacy\\util.py:275: UserWarning: [W031] Model 'en_training' (0.0.0) requires spaCy v2.1 and is incompatible with the current spaCy version (2.3.5). This may lead to unexpected results or runtime errors. To resolve this, download a newer compatible model or retrain your custom model with the current spaCy version. For more details and available updates, run: python -m spacy validate\n",
      "  warnings.warn(warn_msg)\n"
     ]
    },
    {
     "name": "stdout",
     "output_type": "stream",
     "text": [
      "{'name': 'Sunitha J', 'email': 'sunithajayanna@gmail.com.com', 'mobile_number': '9110808387', 'skills': ['Sql', 'Email', 'Java', 'Sap', 'Automation', 'System', 'Design', 'Reporting', 'Computer science', 'Spark', 'Mobile', 'Json', 'Scheduling', 'Health', 'Engineering', 'Programming', 'Analysis', 'Analytics', 'Mysql', 'Warehouse', 'Sales', 'Pyspark', 'Reports', 'Writing', 'Requests', 'Etl', 'Technical', 'Schedule', 'Metrics', 'Cloud', 'Python'], 'college_name': None, 'degree': ['BACHELOR OF ENGINEERING in Computer science, SSIT, Tumkur in year of 2016.'], 'designation': ['Support Engineer', 'System Engineer', 'Business Analyst'], 'experience': ['technologies, monitoring the pipelines based on the scheduled trigger through mail alert notification.', 'Worked with IT service management and other groups and make sure that all events, incidents, and', 'problems are resolved as per the SLA. I am passionate to work in a dynamic organization that where i can', 'add value to the organization with the help of my adaptability and grasping power and make use of my'], 'company_names': ['Microsoft', 'UNILEVER', 'Unilever'], 'no_of_pages': 3, 'total_experience': 0.0}\n"
     ]
    },
    {
     "name": "stderr",
     "output_type": "stream",
     "text": [
      "C:\\Users\\kambo\\anaconda3\\lib\\site-packages\\spacy\\util.py:275: UserWarning: [W031] Model 'en_training' (0.0.0) requires spaCy v2.1 and is incompatible with the current spaCy version (2.3.5). This may lead to unexpected results or runtime errors. To resolve this, download a newer compatible model or retrain your custom model with the current spaCy version. For more details and available updates, run: python -m spacy validate\n",
      "  warnings.warn(warn_msg)\n"
     ]
    },
    {
     "name": "stdout",
     "output_type": "stream",
     "text": [
      "{'name': 'SURAJ SHELKIKAR', 'email': 'Surajshelkikar1996@gmail.com', 'mobile_number': '8149992748', 'skills': ['Technical skills', 'Xml', 'Sql', 'Rest', 'Java', 'Queries', 'Pattern', 'Api', 'Analytical', 'System', 'Agile', 'Design', 'Html', 'Javascript', 'Excel', 'Interactive', 'Presentation', 'Architecture', 'Database', 'Sdlc', 'Engineering', 'Servers', 'Mysql', 'Jsp', 'English', 'Updates', 'Jira', 'Writing', 'Html5', 'Css', 'Technical', 'Word', 'Software development life cycle', 'Microsoft office', 'Coding'], 'college_name': None, 'degree': ['Batchelor of Engineering  \\n Computer Engineering \\n '], 'designation': ['Java Developer'], 'experience': ['Spring Core, Spring MVC, Hibernate, Hibernate Mapping and', 'Hibernate Cache.', '\\uf0b7  Detailed knowledge to work in Agile Methodology.', '\\uf0b7  Proficient in Rest API Services for applications.', '\\uf0b7  Configuring the data source in hibernate configuration file', '\\uf0b7', 'Implementing MVC architecture using hibernate value objects', 'and mapping XML files.'], 'company_names': ['Microsoft', 'Reflexis Systems'], 'no_of_pages': 2, 'total_experience': 0.0}\n"
     ]
    },
    {
     "name": "stderr",
     "output_type": "stream",
     "text": [
      "C:\\Users\\kambo\\anaconda3\\lib\\site-packages\\spacy\\util.py:275: UserWarning: [W031] Model 'en_training' (0.0.0) requires spaCy v2.1 and is incompatible with the current spaCy version (2.3.5). This may lead to unexpected results or runtime errors. To resolve this, download a newer compatible model or retrain your custom model with the current spaCy version. For more details and available updates, run: python -m spacy validate\n",
      "  warnings.warn(warn_msg)\n"
     ]
    },
    {
     "name": "stdout",
     "output_type": "stream",
     "text": [
      "{'name': 'Suresh Nalla', 'email': 'sureshnalla1787@gmail.com', 'mobile_number': '9966448355', 'skills': ['Xml', 'Sql', 'Rest', 'Java', 'Automation', 'Api', 'Windows', 'System', 'Agile', 'Design', 'Ui', 'Communication', 'Html', 'Javascript', 'Mobile', 'Operating systems', 'Interactive', 'Database', 'Access', 'Programming', 'Servers', 'Mysql', 'Specifications', 'Jsp', 'Billing', 'Oracle', 'Workflow', 'Engagement', 'Css', 'Governance', 'Technical', 'Finance', 'Administration', 'Salesforce', 'Testing', 'Coding'], 'college_name': None, 'degree': None, 'designation': ['Java Developer', 'JAVA Developer'], 'experience': None, 'company_names': None, 'no_of_pages': None, 'total_experience': 0}\n"
     ]
    },
    {
     "name": "stderr",
     "output_type": "stream",
     "text": [
      "C:\\Users\\kambo\\anaconda3\\lib\\site-packages\\spacy\\util.py:275: UserWarning: [W031] Model 'en_training' (0.0.0) requires spaCy v2.1 and is incompatible with the current spaCy version (2.3.5). This may lead to unexpected results or runtime errors. To resolve this, download a newer compatible model or retrain your custom model with the current spaCy version. For more details and available updates, run: python -m spacy validate\n",
      "  warnings.warn(warn_msg)\n"
     ]
    },
    {
     "name": "stdout",
     "output_type": "stream",
     "text": [
      "{'name': 'Surya Kumar', 'email': 'uskcse@gmail.com', 'mobile_number': '9677481090', 'skills': ['Sql', 'Queries', 'Certification', 'System', 'Migration', 'Design', 'Audio', 'Reporting', 'Computer science', 'Hadoop', 'Excel', 'Engineering', 'Analysis', 'Analytics', 'Kpi', 'Process', 'Pyspark', 'Sales', 'Visual', 'Modeling', 'Jupyter', 'Etl', 'Technical', 'Python'], 'college_name': None, 'degree': ['Bachelor of Engineering'], 'designation': None, 'experience': ['Organization: Cognizant Technology Solutions', 'Client: Life Sciences', 'Role: Machine Learning Engineer', 'Tools: Jupiter, airflow, git, GCS, data procs, Pyspark, python', 'Team Size: 12', 'Duration: Jul 2019 – Jul 2020', 'Roles and Responsibilities:', '\\uf0b7', '\\uf0b7', '\\uf0b7', '\\uf0b7', 'Engage with clients and engineers to understand the data and problem.', 'Analyzing the data and finding the anomalies, trends and understanding the features.', 'Preparing the data for the modeling', 'Build the model and fine tuning the model', 'Organization: Cognizant Technology Solutions', 'Client: Life Sciences', 'Role: Azure Data Engineer', 'Tools: SSMS, ADF, ADLS, Data Bricks, Git, ADLS, Python, PBI.', 'Team Size: 13', 'Duration: Jul 2020 – Sept 2021', 'Roles and Responsibilities:', '\\uf0b7', '\\uf0b7', '\\uf0b7', '\\uf0b7', '\\uf0b7', '\\uf0b7', 'Engage with team members in defining data migration requirements.', 'Identify, document, and validate data migration requirements, technology and IT infrastructure requirements and', 'expectations.', 'Create workplan and test data migration procedures in UAT environment.', 'Create complex queries by joining multiple tables for various sources and using various functions and stored procedures to', 'extract data as per requirement.', 'Perform trial data migrations into staging.', 'Execute validation procedures to measure success of the moving data to target area.', '1', '\\uf0b7', '\\uf0b7', 'Perform data migration into dev environment.', 'Create Pipelines to create a flow between data source to prepare data for reporting purpose.', 'Organization: Fractal Analytics', 'Client: Mondelez India Foods Private Limited', 'Role: Machine Learning Engineer', 'Tools: GCP, Data Proc, Airflow, Pyspark, Git.', 'Team Size: 15', 'Duration: Oct 2021 – Present', 'Roles and Responsibilities:', '\\uf0b7', '\\uf0b7', '\\uf0b7', '\\uf0b7', '\\uf0b7', '\\uf0b7', 'Extract data from client system to GCP Storage.', 'Preparing Technical Design Document.', 'Engage with team mates to preprocess, transform and load daily sales data into structured flat files based on KPI’s.', 'Create Pipelines to create a flow between data source to prepare data for Suggested Order Machine Learning model.', 'Performing exploratory data analysis.', 'Building a machine learning model which will generate recommendations for customer’s order.'], 'company_names': None, 'no_of_pages': 2, 'total_experience': 3.33}\n"
     ]
    },
    {
     "name": "stderr",
     "output_type": "stream",
     "text": [
      "C:\\Users\\kambo\\anaconda3\\lib\\site-packages\\spacy\\util.py:275: UserWarning: [W031] Model 'en_training' (0.0.0) requires spaCy v2.1 and is incompatible with the current spaCy version (2.3.5). This may lead to unexpected results or runtime errors. To resolve this, download a newer compatible model or retrain your custom model with the current spaCy version. For more details and available updates, run: python -m spacy validate\n",
      "  warnings.warn(warn_msg)\n"
     ]
    },
    {
     "name": "stdout",
     "output_type": "stream",
     "text": [
      "{'name': 'Name:', 'email': 'swapnathatikonda25@gmail.com', 'mobile_number': '7672078293', 'skills': ['Sql server', 'Sql', 'Email', 'Queries', 'System', 'Migration', 'Design', 'Reporting', 'Scrum', 'Architecture', 'Database', 'Access', 'Analysis', 'Analytics', 'Kpi', 'Pivot', 'Datasets', 'Warehouse', 'Process', 'Reports', 'Modeling', 'Strategy', 'Business intelligence', 'Etl', 'Technical', 'Operations', 'Schedule', 'Cloud', 'Click'], 'college_name': None, 'degree': ['Degree'], 'designation': ['Data Engineer'], 'experience': None, 'company_names': None, 'no_of_pages': None, 'total_experience': 0}\n"
     ]
    },
    {
     "name": "stderr",
     "output_type": "stream",
     "text": [
      "C:\\Users\\kambo\\anaconda3\\lib\\site-packages\\spacy\\util.py:275: UserWarning: [W031] Model 'en_training' (0.0.0) requires spaCy v2.1 and is incompatible with the current spaCy version (2.3.5). This may lead to unexpected results or runtime errors. To resolve this, download a newer compatible model or retrain your custom model with the current spaCy version. For more details and available updates, run: python -m spacy validate\n",
      "  warnings.warn(warn_msg)\n"
     ]
    },
    {
     "name": "stdout",
     "output_type": "stream",
     "text": [
      "{'name': 'Taran Kapoor Guda', 'email': 'tarankapoor2100@gmail.com', 'mobile_number': '9131808715', 'skills': ['Xml', 'Pattern', 'Rest', 'Java', 'Email', 'Apis', 'Windows', 'Api', 'Analytical', 'Design', 'Html', 'Javascript', 'Mobile', 'Json', 'Web services', 'Database', 'Debugging', 'Programming', 'Servers', 'Mysql', 'Jsp', 'Marketing', 'Technical'], 'college_name': None, 'degree': None, 'designation': None, 'experience': [], 'company_names': None, 'no_of_pages': None, 'total_experience': 0.0}\n"
     ]
    },
    {
     "name": "stderr",
     "output_type": "stream",
     "text": [
      "C:\\Users\\kambo\\anaconda3\\lib\\site-packages\\spacy\\util.py:275: UserWarning: [W031] Model 'en_training' (0.0.0) requires spaCy v2.1 and is incompatible with the current spaCy version (2.3.5). This may lead to unexpected results or runtime errors. To resolve this, download a newer compatible model or retrain your custom model with the current spaCy version. For more details and available updates, run: python -m spacy validate\n",
      "  warnings.warn(warn_msg)\n"
     ]
    },
    {
     "name": "stdout",
     "output_type": "stream",
     "text": [
      "{'name': 'Utkarsh Mishra', 'email': 'mishrautkarsh894@gmail.com', 'mobile_number': '7088660646', 'skills': ['Sql', 'Docker', 'Java', 'Rest', 'Api', 'C++', 'System', 'Healthcare', 'Communication', 'Html', 'Json', 'Training', 'Engineering', 'Mathematics', 'Mysql', 'Ios', 'English', 'Spanish', 'Writing', 'Nosql', 'Android', 'Algorithms', 'Css', 'C', 'Testing'], 'college_name': None, 'degree': ['B.Tech(C.S.E.)'], 'designation': ['Software Engineer', 'Backend Developer', 'Software Enginner'], 'experience': ['Java Devloper', 'Inspironlabs Pvt. Ltd', '07/2021 - Present,', 'Backend Developer', 'JAVA(Core And Advanced ) (07/2019 - 10/2019)', 'Spring And Hibernate (Including SpringBoot) by Udemy', 'Courses (11/2020 - 04/2021)', 'Bangalore', \"Worked On Live project For Writing API's and Developer\", 'Testing Using Java, Spring, Hibernate ,MySQL and JSON', 'LANGUAGES', 'Software Enginner', 'Healthcare', 'Recover Your Liabilities (RYL) is an end-to-end solution to ensure', 'accurate, timely action is taken across all necessary third party Liability', 'activities', 'Achievements/Tasks', 'Technology Stack -Java, Spring boot , Hibernate With JPA,', 'Rest API ,Gradle, Postgres ,MongoDB.', 'Attending Meetings With BA to gather Requirements', 'Hindi', 'Native or Bilingual Proﬁciency', 'English', 'Full Professional Proﬁciency', 'Spanish', 'Professional Working Proﬁciency', 'Swedish', 'Professional Working Proﬁciency'], 'company_names': None, 'no_of_pages': 1, 'total_experience': 0.0}\n"
     ]
    },
    {
     "name": "stderr",
     "output_type": "stream",
     "text": [
      "C:\\Users\\kambo\\anaconda3\\lib\\site-packages\\spacy\\util.py:275: UserWarning: [W031] Model 'en_training' (0.0.0) requires spaCy v2.1 and is incompatible with the current spaCy version (2.3.5). This may lead to unexpected results or runtime errors. To resolve this, download a newer compatible model or retrain your custom model with the current spaCy version. For more details and available updates, run: python -m spacy validate\n",
      "  warnings.warn(warn_msg)\n"
     ]
    },
    {
     "name": "stdout",
     "output_type": "stream",
     "text": [
      "{'name': 'BhanukumarVadla    Email', 'email': 'vadlabhanukumar21@gmail.com', 'mobile_number': '8790320836', 'skills': ['Technical skills', 'Payments', 'Pattern', 'Rest', 'Email', 'Java', 'Aviation', 'Sql', 'Teaching', 'Windows', 'System', 'Agile', 'Design', 'Communication', 'Mobile', 'Web services', 'Banking', 'Scrum', 'Architecture', 'Database', 'Health', 'Mechanical engineering', 'Construction', 'Engineering', 'Programming', 'Analysis', 'Servers', 'Mysql', 'Research', 'Retail', 'Process', 'Reports', 'Real-time', 'Marketing', 'Journalism', 'Travel', 'Technical', 'Testing'], 'college_name': None, 'degree': ['Degree in Mechanical Engineering from JNTUH'], 'designation': ['Software Engineer'], 'experience': [], 'company_names': None, 'no_of_pages': None, 'total_experience': 0.0}\n"
     ]
    },
    {
     "name": "stderr",
     "output_type": "stream",
     "text": [
      "C:\\Users\\kambo\\anaconda3\\lib\\site-packages\\spacy\\util.py:275: UserWarning: [W031] Model 'en_training' (0.0.0) requires spaCy v2.1 and is incompatible with the current spaCy version (2.3.5). This may lead to unexpected results or runtime errors. To resolve this, download a newer compatible model or retrain your custom model with the current spaCy version. For more details and available updates, run: python -m spacy validate\n",
      "  warnings.warn(warn_msg)\n"
     ]
    },
    {
     "name": "stdout",
     "output_type": "stream",
     "text": [
      "{'name': 'Cognizant Technology', 'email': None, 'mobile_number': None, 'skills': ['Website', 'Java', 'Usability', 'Html', 'Javascript', 'Web services', 'User experience', 'Analyze', 'Database', 'Retention', 'Mysql', 'Jsp', 'Security', 'Sales', 'Php', 'Reports', 'Marketing', 'Lifecycle', 'Css', 'Technical', 'Operations', 'Cloud', 'Testing'], 'college_name': None, 'degree': None, 'designation': None, 'experience': ['•  Found and fixed over some of the bugs, increasing security and usability', '•  Cooperated with the vendavo team and cloud team to implemented changes with query.', '•  Maintain the service enhancements, tickets and incident', '•  Developing view using JSP & JSTL tags', '•  Developing controllers in Spring boot to interact with view and backend business logic', '•  Developing entity classes', '•  Fixing defects communicated by the testers', '•  Developing repositories to perform database operations in Spring boot', '•', 'Implementing WebServices using restful', '•  Developing application based on micro services concept', '•  Exposing WebServices as well as consuming WebServices', '•  Performing form validations using regular expressions', '•  Testing WebServices using postman Generating', '•  Configuring application. properties file', '•', 'Installing MySql Database and creating database schema', 'All the above information mentioned is true', 'Signature: Varshitha S'], 'company_names': None, 'no_of_pages': 3, 'total_experience': 0.0}\n"
     ]
    },
    {
     "name": "stderr",
     "output_type": "stream",
     "text": [
      "C:\\Users\\kambo\\anaconda3\\lib\\site-packages\\spacy\\util.py:275: UserWarning: [W031] Model 'en_training' (0.0.0) requires spaCy v2.1 and is incompatible with the current spaCy version (2.3.5). This may lead to unexpected results or runtime errors. To resolve this, download a newer compatible model or retrain your custom model with the current spaCy version. For more details and available updates, run: python -m spacy validate\n",
      "  warnings.warn(warn_msg)\n"
     ]
    },
    {
     "name": "stdout",
     "output_type": "stream",
     "text": [
      "{'name': 'VINAYAK PEVEKAR', 'email': 'vinayak.pevekar@gmail.com', 'mobile_number': '9029315708', 'skills': ['Sql server', 'Docker', 'Sql', 'Email', 'Profiling', 'Automation', 'Api', 'C++', 'Certification', 'Tax', 'System', 'Biology', 'Statistics', 'Mortgage', 'Design', 'Communication', 'Json', 'C#', 'Database', 'Training', 'Asp', 'Construction', 'Programming', 'Engineering', 'Retention', 'Mysql', 'Protocols', 'Machine learning', 'Matlab', 'Tensorflow', 'Transactions', 'Research', 'Process', 'Gmail', 'Aws', 'Information technology', 'Algorithms', 'Technical', 'Opencv', 'Word', 'C', 'Levenshtein', 'Pdf', 'Parser', 'Cloud', 'Python', '.net'], 'college_name': None, 'degree': ['Master of Technology \\nIndian Institute of Technology Guwahati, Assam, India – 07/2013 – 07/2015 (CGPA- 7.07)', 'Bachelor of Engineering \\nSND College of Engineering and Research Center, Yeola, Nashik, Maharashtra, India – 06/2007- 05/2011 (CGPA- 5.12)', 'M.tech. in Biotechnology from IIT Guwahati with\\nProject Specialization in Computational Biology (Bioinformatics) + B.E. in Information Technology from'], 'designation': ['Senior Software Engineer'], 'experience': ['Senior Software Engineer', 'Square Yards, Mumbai, Maharashtra, India- 08/2020- Current', '\\uf0b7 Automated Scanned and Non-Scanned Documents. Below are main project tasks:', '\\uf0b7 Document Classification: Trained Faster RCNN model to classify the documents as id and non-id from', 'documents Income Tax Return, Bank Statements, ID cards and captured RoI with 94% Accuracy', '\\uf0b7', 'ID-Card:   Subfields were located using Tiny YOLO-v3(87% accuracy) for ids Aadhaar card, Passport,', 'PAN card and extracted by Google vision OCR followed by data formatting by RegEx.', '\\uf0b7', '\\uf0b7 Bank documents: Faster RCNN(74% accuracy)  was trained for column detection and  Unsupervised', 'clustering algorithm DBSCAN  was used for row detection.  Google vision OCR  was used to Exctract', 'text for scanned and a pdf parser library for non-scanned documents. With help of Regex and a self-', 'developed algorithm the transactions were returned in Json.', 'ITR: Identified fields by knowing probable value region for each keys. Achieved this with help of Image', 'processing and RegEx', 'Sale Deed/Lease Deed/Mortgage Automation: Project aims to capture property fields with buyer, seller', 'info from unstructured text in scanned documents.  97% documents automated  where more than 50%', 'documents were of medium quality.', '\\uf0b7', '\\uf0b7 Computer Vision techniques for deskewing and noise removal was needed for pre-process. Image was fed', 'to Tessaract OCR from which words were converted to rows by DBSCAN and also in table. Later fields', 'were captured by RegEx of phrases and nested with word similarity logic using  levenshtein distance .', '\\uf0b7 Created complex algorithms to capture RoI from a completely unstructure text. Project was made in such a', 'fashion that RoI details were saved to train for ML.', 'Software Engineer', 'Cointribe Technologies, Gurugram, Haryana, India – 03/2019 – 08/2020', '\\uf0b7 Project TIORA: Created stable framework and automated processing of scanned and non-scanned bank', 'statements by employing image processing and machine learning techniques. Below are main project tasks:', '\\uf0b7 Automated Table Detection  on scanned and non-scanned documents  by training  Faster RCNN  which', 'achieved 92% accuracy', '\\uf0b7 Used  Unsupervised   clustering   algorithm   DBSCAN  for   row   and   column  detection   based   on  the   text', 'bounding box', '\\uf0b7 Extracted text by using text detection  API  Google vision OCR  on scanned documents and a pdf parser', 'library for non-scanned docs.', '\\uf0b7 User   and   Bank   Info   Extraction:  Applied   a   self-developed   efficient   search   algorithm   using   Regular', 'Expression', '\\uf0b7 Narration   Categorization:   To   assign   appropriate   transaction   category   from   given   bank   transaction', 'narration/detail. Dataset made balance with SMOTE. Word represented with help of  TfidfVectorizer   to', 'TF-IDF features and correlated with chi2. Achieved 84.34% by Linear SVM', 'Senior Software Engineer', 'ARC Document Solutions, Kolkata, West Bengal, India – 12/2015 – 10/2018', '\\uf0b7 Project  Sky-site: This project helps the construction industries to develop, design, organize, sync, share', 'and track architectural documents. Below are main project tasks:', '\\uf0b7 Title block detected using various image processing technique to extract text block.', '\\uf0b7 Auto Hyperlink detection: CCA and Hough Circle transform are applied first to find near circular regions.', 'Pre-processing steps are done to find possible text regions in circles and later feed them to tessaract OCR', 'for text recognition', '\\uf0b7 Output correction from engineering drawing documents from post OCR of Sheet nos: Pre-processed', 'the image using various image processing techniques and extract the text using OCR. The post OCR result', 'was corrected using custom neural network. The results were measured by levenshtein distance algorithm', 'followed by training of these patterns thus resulting in overall greater accuracy.', 'Skysite Sync: Developed modules and implemented algorithms in synchronization tool to make seamless'], 'company_names': ['Zobble Solutions Pvt Ltd'], 'no_of_pages': 3, 'total_experience': 0.0}\n"
     ]
    },
    {
     "name": "stderr",
     "output_type": "stream",
     "text": [
      "C:\\Users\\kambo\\anaconda3\\lib\\site-packages\\spacy\\util.py:275: UserWarning: [W031] Model 'en_training' (0.0.0) requires spaCy v2.1 and is incompatible with the current spaCy version (2.3.5). This may lead to unexpected results or runtime errors. To resolve this, download a newer compatible model or retrain your custom model with the current spaCy version. For more details and available updates, run: python -m spacy validate\n",
      "  warnings.warn(warn_msg)\n"
     ]
    },
    {
     "name": "stdout",
     "output_type": "stream",
     "text": [
      "{'name': 'VISHNU PM', 'email': 'VISHNUPM788@GMAIL.COM', 'mobile_number': '8075051744', 'skills': ['Technical skills', 'Sql', 'Usability', 'Java', 'Automation', 'Windows', 'Api', 'Analytical', 'Ai', 'Design', 'Spark', 'Javascript', 'Mysql', 'Machine learning', 'Scala', 'Retail', 'Marketing', 'Technical', 'Operations', 'Testing'], 'college_name': None, 'degree': None, 'designation': ['Software Engineer', 'Developer'], 'experience': ['●  Software development professional driven to increase team effectiveness.', '●  Focused on usability and performance improvements.', '●  Proven history of developing useful, efficient and cost-effective projects.'], 'company_names': None, 'no_of_pages': 3, 'total_experience': 0.0}\n"
     ]
    },
    {
     "name": "stderr",
     "output_type": "stream",
     "text": [
      "C:\\Users\\kambo\\anaconda3\\lib\\site-packages\\spacy\\util.py:275: UserWarning: [W031] Model 'en_training' (0.0.0) requires spaCy v2.1 and is incompatible with the current spaCy version (2.3.5). This may lead to unexpected results or runtime errors. To resolve this, download a newer compatible model or retrain your custom model with the current spaCy version. For more details and available updates, run: python -m spacy validate\n",
      "  warnings.warn(warn_msg)\n"
     ]
    },
    {
     "name": "stdout",
     "output_type": "stream",
     "text": [
      "{'name': 'Yash Ananta', 'email': 'zodeyash@gmail.com', 'mobile_number': '9822383033', 'skills': ['Docker', 'Rest', 'Java', 'Apis', 'Automation', 'Windows', 'Api', 'C++', 'Controls', 'System', 'Ui', 'Communication', 'Computer science', 'Javascript', 'Mobile', 'Access database', 'Ubuntu', 'Architecture', 'Database', 'Debugging', 'Documentation', 'Programming', 'Analysis', 'Access', 'Specifications', 'Protocols', 'Mysql', 'Security', 'Linux', 'English', 'Assembly', 'Process', 'Jira', 'Php', 'Visual', 'Commissioning', 'Troubleshooting', 'Requests', 'Android', 'Industry experience', 'Technical', 'Operations', 'Word', 'Schedule', 'Cloud', 'Testing', 'Python', 'Coding'], 'college_name': None, 'degree': None, 'designation': None, 'experience': ['\\uf0d8  Depth  in  supporting  development  of  software  products/projects  from  inception,  requirement  specifications,', 'planning, designing, implementation, commissioning.', '\\uf0d8  Well  versed  in  designing  for  technologies  like  Multithreading  application,  O.S.  Platforms.', '\\uf0d8  An  energetic,  self-motivated  individual  with  interest in  programming and learn new  things quickly.', '\\uf0d8  At  Comau  Hackathon for IOT based POC,  received 1  awards for Best individual  performance.', 'EMPLOYMENT  SCAN', '\\uf0d8  Nov 2017 to June 2018 (7m) with INDEED INSPIRING INFOTECH, Pune as SOFTWARE INTERN.', '\\uf0d8  Nov 2019 to Aug 2020 (9m) with Comau India pvt. ltd., Pune INTERNSHIP TRAINEE.', '\\uf0d8  Oct 2020 to Oct 2021 (1y) with Comau India pvt. ltd., Pune ENGINEER TRAINEE.', '\\uf0d8  Oct 2021 to present (1y) with Comau India pvt. ltd., Pune JUNIOR ENGINEER.'], 'company_names': None, 'no_of_pages': 2, 'total_experience': 3.5}\n"
     ]
    },
    {
     "name": "stderr",
     "output_type": "stream",
     "text": [
      "C:\\Users\\kambo\\anaconda3\\lib\\site-packages\\spacy\\util.py:275: UserWarning: [W031] Model 'en_training' (0.0.0) requires spaCy v2.1 and is incompatible with the current spaCy version (2.3.5). This may lead to unexpected results or runtime errors. To resolve this, download a newer compatible model or retrain your custom model with the current spaCy version. For more details and available updates, run: python -m spacy validate\n",
      "  warnings.warn(warn_msg)\n"
     ]
    },
    {
     "name": "stdout",
     "output_type": "stream",
     "text": [
      "{'name': 'POTULARAJU YASWANTH REDDY', 'email': 'ryash2077@gmail.com', 'mobile_number': '6303343207', 'skills': ['Technical skills', 'Rest', 'Java', 'Email', 'Queries', 'Automation', 'Api', 'System', 'Design', 'Conversion', 'Payroll', 'Mobile', 'Interactive', 'Presentation', 'Architecture', 'Database', 'Access', 'Analysis', 'Hotels', 'Mysql', 'Jira', 'P', 'Writing', 'Technical', 'Metrics', 'Testing', 'Coding'], 'college_name': None, 'degree': ['Degree in B.Sc [MSCs] from Sri Vivekananda'], 'designation': ['Software Engineer'], 'experience': None, 'company_names': None, 'no_of_pages': None, 'total_experience': 0}\n"
     ]
    },
    {
     "name": "stderr",
     "output_type": "stream",
     "text": [
      "C:\\Users\\kambo\\anaconda3\\lib\\site-packages\\spacy\\util.py:275: UserWarning: [W031] Model 'en_training' (0.0.0) requires spaCy v2.1 and is incompatible with the current spaCy version (2.3.5). This may lead to unexpected results or runtime errors. To resolve this, download a newer compatible model or retrain your custom model with the current spaCy version. For more details and available updates, run: python -m spacy validate\n",
      "  warnings.warn(warn_msg)\n"
     ]
    },
    {
     "name": "stdout",
     "output_type": "stream",
     "text": [
      "{'name': 'Zeeshan Ali', 'email': 'izeeshanalikhan@gmail.com', 'mobile_number': '810123 8428', 'skills': ['Shell', 'Email', 'Analytical', 'Supervising', 'Schedules', 'Migration', 'Controls', 'System', 'Presentations', 'Reporting', 'Mobile', 'Excel', 'Compliance', 'Kpis', 'Sharepoint', 'Content', 'Scheduling', 'Invoicing', 'Health', 'Training', 'Standardization', 'Access', 'Crm', 'Engineering', 'Analysis', 'Financial reports', 'Specifications', 'Billing', 'Microsoft office', 'Safety', 'English', 'Microsoft sharepoint', 'Updates', 'Budget', 'Plan', 'Process', 'Reports', 'Strategy', 'Requests', 'Powerpoint', 'Money', 'Technical', 'Project management', 'Consulting', 'Invoices', 'Schedule', 'Pdf', 'Administration', 'Resource management'], 'college_name': None, 'degree': ['BCA', 'M.Tech. (Software Engineering)', 'M.Tech. (Software \\nEngineering)'], 'designation': ['PMO', 'Technical Support', 'Project Manager', 'Release Manager', 'EPMO Analyst'], 'experience': ['Presently working with Wipro , as IT Project Manager', 'Key Result Areas:', 'Worked as a Student-Computer Application under the WASE program at the time of joining, assisted in  Kolkata and', 'Pune project for 4 years and successfully completed WASE program.', 'Mapping  requirements  &  providing  them  best  solutions  involving  evaluation  &  definition  of  scope  of  project  and', 'finalization of project requirements.', 'Understanding and coordinating client’s needs / enhancements as well as administering the customization of services', 'and IT and consulting with Technical Team to provide solutions as per the delivery schedules', 'Maintaining and creating visibility around a holistic view of the status and health of the portfolio and/or project office', 'Providing both verbal and written communications regarding project status, risks and issues.', 'Managing  relationship  with  the  senior  technology  managers  associated;  building  and  sustaining  strong  relationship', 'with these managers.'], 'company_names': ['Since Aug’12', 'Wipro'], 'no_of_pages': 4, 'total_experience': 0.0}\n"
     ]
    }
   ],
   "source": [
    "from pyresparser import ResumeParser\n",
    "for i in range (0,len(files_list)):\n",
    "    data = ResumeParser('C:/Users/kambo/OneDrive/Desktop/resumes/all resumes/'+files_list[i]).get_extracted_data()\n",
    "    print(data)"
   ]
  },
  {
   "cell_type": "code",
   "execution_count": 4,
   "id": "aff37f0e",
   "metadata": {},
   "outputs": [
    {
     "name": "stdout",
     "output_type": "stream",
     "text": [
      "enter the skill you want to search for:Java\n"
     ]
    }
   ],
   "source": [
    "skill = input('enter the skill you want to search for:')"
   ]
  },
  {
   "cell_type": "code",
   "execution_count": 6,
   "id": "ebff0e54",
   "metadata": {},
   "outputs": [],
   "source": [
    "import pymongo\n",
    "\n",
    "from pymongo import MongoClient"
   ]
  },
  {
   "cell_type": "code",
   "execution_count": 7,
   "id": "d8c9504f",
   "metadata": {},
   "outputs": [],
   "source": [
    "client = MongoClient('localhost', 27017)"
   ]
  },
  {
   "cell_type": "code",
   "execution_count": 8,
   "id": "45935281",
   "metadata": {},
   "outputs": [
    {
     "data": {
      "text/plain": [
       "Database(MongoClient(host=['localhost:27017'], document_class=dict, tz_aware=False, connect=True), 'test')"
      ]
     },
     "execution_count": 8,
     "metadata": {},
     "output_type": "execute_result"
    }
   ],
   "source": [
    "db = client['test']\n",
    "db"
   ]
  },
  {
   "cell_type": "code",
   "execution_count": 9,
   "id": "474a8ef2",
   "metadata": {},
   "outputs": [
    {
     "data": {
      "text/plain": [
       "Collection(Database(MongoClient(host=['localhost:27017'], document_class=dict, tz_aware=False, connect=True), 'test'), 'my_collection')"
      ]
     },
     "execution_count": 9,
     "metadata": {},
     "output_type": "execute_result"
    }
   ],
   "source": [
    "db.my_collection"
   ]
  },
  {
   "cell_type": "code",
   "execution_count": 10,
   "id": "70df4fb6",
   "metadata": {},
   "outputs": [
    {
     "name": "stderr",
     "output_type": "stream",
     "text": [
      "C:\\Users\\kambo\\anaconda3\\lib\\site-packages\\spacy\\util.py:275: UserWarning: [W031] Model 'en_training' (0.0.0) requires spaCy v2.1 and is incompatible with the current spaCy version (2.3.5). This may lead to unexpected results or runtime errors. To resolve this, download a newer compatible model or retrain your custom model with the current spaCy version. For more details and available updates, run: python -m spacy validate\n",
      "  warnings.warn(warn_msg)\n"
     ]
    },
    {
     "name": "stdout",
     "output_type": "stream",
     "text": [
      "Abhishek Kumar\n",
      "abhisek.dbg17@gmail.com\n",
      "8002598201\n",
      "['Apis', 'Java', 'English', 'Windows', 'Engineering', 'Technical', 'System', 'Jira', 'Agile', 'Unix', 'Cisco', 'Ui']\n",
      "2.92\n"
     ]
    },
    {
     "name": "stderr",
     "output_type": "stream",
     "text": [
      "C:\\Users\\kambo\\anaconda3\\lib\\site-packages\\spacy\\util.py:275: UserWarning: [W031] Model 'en_training' (0.0.0) requires spaCy v2.1 and is incompatible with the current spaCy version (2.3.5). This may lead to unexpected results or runtime errors. To resolve this, download a newer compatible model or retrain your custom model with the current spaCy version. For more details and available updates, run: python -m spacy validate\n",
      "  warnings.warn(warn_msg)\n"
     ]
    },
    {
     "name": "stdout",
     "output_type": "stream",
     "text": [
      "Email ID\n",
      "abhisheknaik6@gmail.com\n",
      "9900457009\n",
      "['Java', 'Email', 'English', 'Higher education', 'Research', 'Therapeutic', 'Engineering', 'Servers', 'Hp alm', 'Agile', 'Programming', 'Github', 'Communication', 'Mysql', 'Lifecycle']\n",
      "3.25\n"
     ]
    },
    {
     "name": "stderr",
     "output_type": "stream",
     "text": [
      "C:\\Users\\kambo\\anaconda3\\lib\\site-packages\\spacy\\util.py:275: UserWarning: [W031] Model 'en_training' (0.0.0) requires spaCy v2.1 and is incompatible with the current spaCy version (2.3.5). This may lead to unexpected results or runtime errors. To resolve this, download a newer compatible model or retrain your custom model with the current spaCy version. For more details and available updates, run: python -m spacy validate\n",
      "  warnings.warn(warn_msg)\n"
     ]
    },
    {
     "name": "stdout",
     "output_type": "stream",
     "text": [
      "Adarsha G\n",
      "adarshagh04@gmail.com\n",
      "9380671785\n",
      "['Technical skills', 'Payments', 'Xml', 'Rest', 'Java', 'Email', 'Telecom', 'Api', 'Windows', 'Time management', 'Analytical', 'Inventory management', 'System', 'Agile', 'Design', 'Healthcare', 'Communication', 'Mobile', 'Excel', 'Database', 'Sdlc', 'Debugging', 'Engineering', 'Servers', 'Mysql', 'Billing', 'Jira', 'Merchant', 'Reports', 'R', 'Technical', 'Software development life cycle', 'Inventory', 'Pdf']\n",
      "0.0\n"
     ]
    },
    {
     "name": "stderr",
     "output_type": "stream",
     "text": [
      "C:\\Users\\kambo\\anaconda3\\lib\\site-packages\\spacy\\util.py:275: UserWarning: [W031] Model 'en_training' (0.0.0) requires spaCy v2.1 and is incompatible with the current spaCy version (2.3.5). This may lead to unexpected results or runtime errors. To resolve this, download a newer compatible model or retrain your custom model with the current spaCy version. For more details and available updates, run: python -m spacy validate\n",
      "  warnings.warn(warn_msg)\n"
     ]
    },
    {
     "name": "stdout",
     "output_type": "stream",
     "text": [
      "Amit Kumar E\n",
      "amit02543@yahoo.com\n",
      "868 9699\n",
      "['Sql', 'Apis', 'Java', 'Rest', 'System', 'Migration', 'Agile', 'Design', 'Conversion', 'Computer science', 'Communication', 'Html', 'Javascript', 'Postgresql', 'Mobile', 'Presentation', 'Interactive', 'Scrum', 'Cloud', 'Architecture', 'Sharepoint', 'Content', 'Database', 'Sdlc', 'Engineering', 'Programming', 'Analysis', 'Servers', 'Scripting', 'Mysql', 'Jsp', 'Security', 'Updates', 'Policies', 'Oracle', 'Process', 'Jira', 'Css', 'Js', 'Governance', 'Github', 'Python']\n",
      "0.0\n"
     ]
    },
    {
     "name": "stderr",
     "output_type": "stream",
     "text": [
      "C:\\Users\\kambo\\anaconda3\\lib\\site-packages\\spacy\\util.py:275: UserWarning: [W031] Model 'en_training' (0.0.0) requires spaCy v2.1 and is incompatible with the current spaCy version (2.3.5). This may lead to unexpected results or runtime errors. To resolve this, download a newer compatible model or retrain your custom model with the current spaCy version. For more details and available updates, run: python -m spacy validate\n",
      "  warnings.warn(warn_msg)\n",
      "C:\\Users\\kambo\\anaconda3\\lib\\site-packages\\spacy\\util.py:275: UserWarning: [W031] Model 'en_training' (0.0.0) requires spaCy v2.1 and is incompatible with the current spaCy version (2.3.5). This may lead to unexpected results or runtime errors. To resolve this, download a newer compatible model or retrain your custom model with the current spaCy version. For more details and available updates, run: python -m spacy validate\n",
      "  warnings.warn(warn_msg)\n"
     ]
    },
    {
     "name": "stdout",
     "output_type": "stream",
     "text": [
      "Ankit Bhor ankit.bhor56@gmail.com\n",
      "ankit.bhor56@gmail.com\n",
      "9131871192\n",
      "['Purchasing', 'Payments', 'Sql', 'Website', 'Java', 'Windows', 'System', 'Design', 'Networking', 'Logistics', 'Communication', 'Intranet', 'Mobile', 'Database', 'Engineering', 'Programming', 'Analysis', 'Servers', 'Jsp', 'Transportation', 'Real estate', 'English', 'Process', 'Vendors', 'Positioning', 'Technical', 'Invoices', 'Testing', 'Coding']\n",
      "0.0\n"
     ]
    },
    {
     "name": "stderr",
     "output_type": "stream",
     "text": [
      "C:\\Users\\kambo\\anaconda3\\lib\\site-packages\\spacy\\util.py:275: UserWarning: [W031] Model 'en_training' (0.0.0) requires spaCy v2.1 and is incompatible with the current spaCy version (2.3.5). This may lead to unexpected results or runtime errors. To resolve this, download a newer compatible model or retrain your custom model with the current spaCy version. For more details and available updates, run: python -m spacy validate\n",
      "  warnings.warn(warn_msg)\n"
     ]
    },
    {
     "name": "stdout",
     "output_type": "stream",
     "text": [
      "ANKITA DAGDIYA                                                   \n",
      "\n",
      "Software Engineer\n",
      "dagdiyaankita1@gmail.com\n",
      "8669233167\n",
      "['Rest', 'Java', 'Email', 'Analytical', 'Agile', 'Reporting', 'Communication', 'Web services', 'Database', 'Debugging', 'Engineering', 'Servers', 'Mysql', 'Jsp', 'Jira', 'Strong analytical skills', 'Writing', 'End user', 'Html5', 'Js', 'Try', 'Microsoft office', 'Fulfillment', 'Testing']\n",
      "2.75\n"
     ]
    },
    {
     "name": "stderr",
     "output_type": "stream",
     "text": [
      "C:\\Users\\kambo\\anaconda3\\lib\\site-packages\\spacy\\util.py:275: UserWarning: [W031] Model 'en_training' (0.0.0) requires spaCy v2.1 and is incompatible with the current spaCy version (2.3.5). This may lead to unexpected results or runtime errors. To resolve this, download a newer compatible model or retrain your custom model with the current spaCy version. For more details and available updates, run: python -m spacy validate\n",
      "  warnings.warn(warn_msg)\n",
      "C:\\Users\\kambo\\anaconda3\\lib\\site-packages\\spacy\\util.py:275: UserWarning: [W031] Model 'en_training' (0.0.0) requires spaCy v2.1 and is incompatible with the current spaCy version (2.3.5). This may lead to unexpected results or runtime errors. To resolve this, download a newer compatible model or retrain your custom model with the current spaCy version. For more details and available updates, run: python -m spacy validate\n",
      "  warnings.warn(warn_msg)\n"
     ]
    },
    {
     "name": "stdout",
     "output_type": "stream",
     "text": [
      "Professional Experience\n",
      "archana.srikant06@gmail.com\n",
      "8431855416\n",
      "['Sql', 'Rest', 'Java', 'Website', 'Windows', 'Analytical', 'Design', 'Healthcare', 'Communication', 'Html', 'Javascript', 'Postgresql', 'Os', 'Web services', 'Ubuntu', 'Correspondence', 'Scheduling', 'Database', 'Training', 'Engineering', 'Programming', 'Mysql', 'English', 'P', 'Reports', 'Electronics', 'Nosql', 'Cms', 'Css', 'Technical', 'Software development life cycle', 'Coding']\n",
      "0.0\n"
     ]
    },
    {
     "name": "stderr",
     "output_type": "stream",
     "text": [
      "C:\\Users\\kambo\\anaconda3\\lib\\site-packages\\spacy\\util.py:275: UserWarning: [W031] Model 'en_training' (0.0.0) requires spaCy v2.1 and is incompatible with the current spaCy version (2.3.5). This may lead to unexpected results or runtime errors. To resolve this, download a newer compatible model or retrain your custom model with the current spaCy version. For more details and available updates, run: python -m spacy validate\n",
      "  warnings.warn(warn_msg)\n"
     ]
    },
    {
     "name": "stdout",
     "output_type": "stream",
     "text": [
      "CHAKALI ARUN KUMAR Email\n",
      "amarunmahiam@gmail.com\n",
      "7416960469\n",
      "['Healthcare', 'Java', 'Email', 'English', 'Windows', 'Operations', 'Technical', 'Health', 'Pharmacy', 'Writing', 'Servers', 'Analytics', 'Mysql']\n",
      "0\n"
     ]
    },
    {
     "name": "stderr",
     "output_type": "stream",
     "text": [
      "C:\\Users\\kambo\\anaconda3\\lib\\site-packages\\spacy\\util.py:275: UserWarning: [W031] Model 'en_training' (0.0.0) requires spaCy v2.1 and is incompatible with the current spaCy version (2.3.5). This may lead to unexpected results or runtime errors. To resolve this, download a newer compatible model or retrain your custom model with the current spaCy version. For more details and available updates, run: python -m spacy validate\n",
      "  warnings.warn(warn_msg)\n"
     ]
    },
    {
     "name": "stdout",
     "output_type": "stream",
     "text": [
      "Arush Agarwal\n",
      "arush.agarwal405@gmail.com\n",
      "7088161507\n",
      "['Javascript', 'Docker', 'Rest', 'Java', 'Os', 'Linux', 'Css', 'English', 'Api', 'Windows', 'Technical', 'Database', 'Engineering', 'Design', 'Cloud', 'Ui', 'Html', 'Coding']\n",
      "0.0\n"
     ]
    },
    {
     "name": "stderr",
     "output_type": "stream",
     "text": [
      "C:\\Users\\kambo\\anaconda3\\lib\\site-packages\\spacy\\util.py:275: UserWarning: [W031] Model 'en_training' (0.0.0) requires spaCy v2.1 and is incompatible with the current spaCy version (2.3.5). This may lead to unexpected results or runtime errors. To resolve this, download a newer compatible model or retrain your custom model with the current spaCy version. For more details and available updates, run: python -m spacy validate\n",
      "  warnings.warn(warn_msg)\n"
     ]
    },
    {
     "name": "stdout",
     "output_type": "stream",
     "text": [
      "Ashutosh Suryawanshi\n",
      "suryawanshiashutosh02@gmail.com\n",
      "9322031578\n",
      "['Technical skills', 'Xml', 'Java', 'Email', 'Api', 'System', 'Agile', 'Design', 'Healthcare', 'Communication', 'Json', 'Database', 'Health', 'Sdlc', 'Programming', 'Mysql', 'Jsp', 'Ecommerce', 'Writing', 'Technical', 'Responses', 'Github', 'Testing']\n",
      "0.0\n"
     ]
    },
    {
     "name": "stderr",
     "output_type": "stream",
     "text": [
      "C:\\Users\\kambo\\anaconda3\\lib\\site-packages\\spacy\\util.py:275: UserWarning: [W031] Model 'en_training' (0.0.0) requires spaCy v2.1 and is incompatible with the current spaCy version (2.3.5). This may lead to unexpected results or runtime errors. To resolve this, download a newer compatible model or retrain your custom model with the current spaCy version. For more details and available updates, run: python -m spacy validate\n",
      "  warnings.warn(warn_msg)\n"
     ]
    },
    {
     "name": "stdout",
     "output_type": "stream",
     "text": [
      "ASHUTOSH LAXMAN\n",
      "ashutoshx6@gmail.com\n",
      "8779524554\n",
      "['Xml', 'Sql', 'Rest', 'Email', 'Java', 'Windows', 'Certification', 'System', 'Migration', 'Cola', 'Reporting', 'Spark', 'Ui', 'Javascript', 'Mobile', 'Payroll', 'Html', 'Architecture', 'Sharepoint', 'Content', 'Database', 'Health', 'Engineering', 'Analysis', 'Jsp', 'Matlab', 'Github', 'Experiments', 'Scala', 'Oracle', 'Process', 'Reports', 'Visual', 'Soap', 'Forecasting', 'Css', 'Travel', 'Technical', 'Proposal', 'Cloud', 'Testing']\n",
      "0.0\n"
     ]
    },
    {
     "name": "stderr",
     "output_type": "stream",
     "text": [
      "C:\\Users\\kambo\\anaconda3\\lib\\site-packages\\spacy\\util.py:275: UserWarning: [W031] Model 'en_training' (0.0.0) requires spaCy v2.1 and is incompatible with the current spaCy version (2.3.5). This may lead to unexpected results or runtime errors. To resolve this, download a newer compatible model or retrain your custom model with the current spaCy version. For more details and available updates, run: python -m spacy validate\n",
      "  warnings.warn(warn_msg)\n"
     ]
    },
    {
     "name": "stdout",
     "output_type": "stream",
     "text": [
      "Balaji Giridhar\n",
      "balajig2192@gmail.com\n",
      "9008478004\n",
      "['Sql', 'Java', 'Banking', 'Js', 'Invoicing', 'Migration', 'Plan', 'Agile', 'Cloud', 'Ui', 'Testing']\n",
      "7.67\n"
     ]
    },
    {
     "name": "stderr",
     "output_type": "stream",
     "text": [
      "C:\\Users\\kambo\\anaconda3\\lib\\site-packages\\spacy\\util.py:275: UserWarning: [W031] Model 'en_training' (0.0.0) requires spaCy v2.1 and is incompatible with the current spaCy version (2.3.5). This may lead to unexpected results or runtime errors. To resolve this, download a newer compatible model or retrain your custom model with the current spaCy version. For more details and available updates, run: python -m spacy validate\n",
      "  warnings.warn(warn_msg)\n"
     ]
    },
    {
     "name": "stdout",
     "output_type": "stream",
     "text": [
      "B Harinadha\n",
      "Harikrishna4646b@gmail.com\n",
      "9121070092\n",
      "['Xml', 'Sql', 'Rest', 'Java', 'Security', 'Json', 'Banking', 'Writing', 'Vendors', 'English', 'Web services', 'Software development life cycle', 'System', 'Jira', 'Agile', 'Programming', 'Servers']\n",
      "0.0\n"
     ]
    },
    {
     "name": "stderr",
     "output_type": "stream",
     "text": [
      "C:\\Users\\kambo\\anaconda3\\lib\\site-packages\\spacy\\util.py:275: UserWarning: [W031] Model 'en_training' (0.0.0) requires spaCy v2.1 and is incompatible with the current spaCy version (2.3.5). This may lead to unexpected results or runtime errors. To resolve this, download a newer compatible model or retrain your custom model with the current spaCy version. For more details and available updates, run: python -m spacy validate\n",
      "  warnings.warn(warn_msg)\n"
     ]
    },
    {
     "name": "stdout",
     "output_type": "stream",
     "text": [
      "BHAVANA S\n",
      "bhavana18894@gmail.com\n",
      "9663366353\n",
      "['Payments', 'Apis', 'Rest', 'Java', 'Windows', 'Api', 'Analytical', 'System', 'Design', 'Computer science', 'Json', 'Scrum', 'Debugging', 'Engineering', 'Analysis', 'Servers', 'Mysql', 'Ecommerce', 'Github', 'Customer requirements', 'Retail', 'Oracle', 'Technical', 'Cloud', 'Testing']\n",
      "3.67\n"
     ]
    },
    {
     "name": "stderr",
     "output_type": "stream",
     "text": [
      "C:\\Users\\kambo\\anaconda3\\lib\\site-packages\\spacy\\util.py:275: UserWarning: [W031] Model 'en_training' (0.0.0) requires spaCy v2.1 and is incompatible with the current spaCy version (2.3.5). This may lead to unexpected results or runtime errors. To resolve this, download a newer compatible model or retrain your custom model with the current spaCy version. For more details and available updates, run: python -m spacy validate\n",
      "  warnings.warn(warn_msg)\n"
     ]
    },
    {
     "name": "stdout",
     "output_type": "stream",
     "text": [
      "Bhupendra Kumar\n",
      "07kumarbhupendra@gmail.com\n",
      "7488197194\n",
      "['Xml', 'Java', 'Windows', 'Analytical', 'Controls', 'System', 'Design', 'Communication', 'Html', 'Json', 'Web services', 'Database', 'Sdlc', 'Mechanical engineering', 'Engineering', 'Analysis', 'Servers', 'Jsp', 'English', 'Process', 'Soap', 'Technical', 'Coding']\n",
      "0.0\n"
     ]
    },
    {
     "name": "stderr",
     "output_type": "stream",
     "text": [
      "C:\\Users\\kambo\\anaconda3\\lib\\site-packages\\spacy\\util.py:275: UserWarning: [W031] Model 'en_training' (0.0.0) requires spaCy v2.1 and is incompatible with the current spaCy version (2.3.5). This may lead to unexpected results or runtime errors. To resolve this, download a newer compatible model or retrain your custom model with the current spaCy version. For more details and available updates, run: python -m spacy validate\n",
      "  warnings.warn(warn_msg)\n"
     ]
    },
    {
     "name": "stdout",
     "output_type": "stream",
     "text": [
      "BRIJ MOHAN CHAUHAN\n",
      "chauhan.brijmohan95@gmail.com\n",
      "7052880802\n",
      "['Sql', 'Java', 'Procurement', 'Time management', 'System', 'Migration', 'Agile', 'Ui', 'Html', 'Javascript', 'Banking', 'Database', 'Debugging', 'Engineering', 'Programming', 'Mysql', 'English', 'Oracle', 'Jira', 'Soap', 'Html5', 'Algorithms', 'Css', 'Technical', 'C', 'Testing']\n",
      "0.0\n"
     ]
    },
    {
     "name": "stderr",
     "output_type": "stream",
     "text": [
      "C:\\Users\\kambo\\anaconda3\\lib\\site-packages\\spacy\\util.py:275: UserWarning: [W031] Model 'en_training' (0.0.0) requires spaCy v2.1 and is incompatible with the current spaCy version (2.3.5). This may lead to unexpected results or runtime errors. To resolve this, download a newer compatible model or retrain your custom model with the current spaCy version. For more details and available updates, run: python -m spacy validate\n",
      "  warnings.warn(warn_msg)\n",
      "C:\\Users\\kambo\\anaconda3\\lib\\site-packages\\spacy\\util.py:275: UserWarning: [W031] Model 'en_training' (0.0.0) requires spaCy v2.1 and is incompatible with the current spaCy version (2.3.5). This may lead to unexpected results or runtime errors. To resolve this, download a newer compatible model or retrain your custom model with the current spaCy version. For more details and available updates, run: python -m spacy validate\n",
      "  warnings.warn(warn_msg)\n"
     ]
    },
    {
     "name": "stdout",
     "output_type": "stream",
     "text": [
      "Chandan B\n",
      "chandansumithra.bs@gmail.com\n",
      "9611341223\n",
      "['International', 'Xml', 'Sql', 'Rest', 'Email', 'Java', 'Technical skills', 'Windows', 'System', 'Agile', 'Design', 'Ui', 'Json', 'Web services', 'Banking', 'Database', 'Access', 'Engineering', 'Analysis', 'Specifications', 'Jsp', 'Linux', 'Transactions', 'English', 'Oracle', 'Process', 'Jira', 'Reports', 'Writing', 'Lifecycle', 'Troubleshooting', 'Soap', 'Technical', 'Operations', 'Investigation', 'Schedule', 'Github', 'Testing']\n",
      "0.0\n"
     ]
    },
    {
     "name": "stderr",
     "output_type": "stream",
     "text": [
      "C:\\Users\\kambo\\anaconda3\\lib\\site-packages\\spacy\\util.py:275: UserWarning: [W031] Model 'en_training' (0.0.0) requires spaCy v2.1 and is incompatible with the current spaCy version (2.3.5). This may lead to unexpected results or runtime errors. To resolve this, download a newer compatible model or retrain your custom model with the current spaCy version. For more details and available updates, run: python -m spacy validate\n",
      "  warnings.warn(warn_msg)\n",
      "C:\\Users\\kambo\\anaconda3\\lib\\site-packages\\spacy\\util.py:275: UserWarning: [W031] Model 'en_training' (0.0.0) requires spaCy v2.1 and is incompatible with the current spaCy version (2.3.5). This may lead to unexpected results or runtime errors. To resolve this, download a newer compatible model or retrain your custom model with the current spaCy version. For more details and available updates, run: python -m spacy validate\n",
      "  warnings.warn(warn_msg)\n"
     ]
    },
    {
     "name": "stdout",
     "output_type": "stream",
     "text": [
      "Chandresh Vikram\n",
      "chandresh.vikram211@gmail.com\n",
      "8904340838\n",
      "['Payments', 'Sql', 'Rest', 'Java', 'Email', 'Distribution', 'Windows', 'Api', 'System', 'Agile', 'Ai', 'Design', 'Communication', 'Postgresql', 'Web services', 'Banking', 'Scrum', 'Database', 'Analysis', 'Servers', 'Mysql', 'Jsp', 'Transactions', 'Process', 'Jira', 'Engagement', 'Writing', 'Electronics', 'Marketing', 'Requests', 'Technical', 'Proposal', 'Responses']\n",
      "0.0\n"
     ]
    },
    {
     "name": "stderr",
     "output_type": "stream",
     "text": [
      "C:\\Users\\kambo\\anaconda3\\lib\\site-packages\\spacy\\util.py:275: UserWarning: [W031] Model 'en_training' (0.0.0) requires spaCy v2.1 and is incompatible with the current spaCy version (2.3.5). This may lead to unexpected results or runtime errors. To resolve this, download a newer compatible model or retrain your custom model with the current spaCy version. For more details and available updates, run: python -m spacy validate\n",
      "  warnings.warn(warn_msg)\n"
     ]
    },
    {
     "name": "stdout",
     "output_type": "stream",
     "text": [
      "CHANDU CHAKALA\n",
      "rajakachandu405@gmail.com\n",
      "9010014125\n",
      "['Java', 'Email', 'Windows', 'System', 'Design', 'Ui', 'Communication', 'Html', 'Javascript', 'Correspondence', 'Database', 'Health', 'Programming', 'Servers', 'Mysql', 'Plan', 'Jira', 'Circuits', 'Css', 'Technical', 'Software development life cycle', 'Parser', 'Testing', 'Coding']\n",
      "0.0\n"
     ]
    },
    {
     "name": "stderr",
     "output_type": "stream",
     "text": [
      "C:\\Users\\kambo\\anaconda3\\lib\\site-packages\\spacy\\util.py:275: UserWarning: [W031] Model 'en_training' (0.0.0) requires spaCy v2.1 and is incompatible with the current spaCy version (2.3.5). This may lead to unexpected results or runtime errors. To resolve this, download a newer compatible model or retrain your custom model with the current spaCy version. For more details and available updates, run: python -m spacy validate\n",
      "  warnings.warn(warn_msg)\n"
     ]
    },
    {
     "name": "stdout",
     "output_type": "stream",
     "text": [
      "Chetan M.\n",
      "chetany1215@gmail.com\n",
      "7057789881\n",
      "['Mobile', 'Apis', 'Java', 'Billing', 'Telecom', 'Analyze', 'Technical', 'Physics', 'Database', 'System', 'Debugging', 'Writing', 'Mysql', 'Coding']\n",
      "0.0\n"
     ]
    },
    {
     "name": "stderr",
     "output_type": "stream",
     "text": [
      "C:\\Users\\kambo\\anaconda3\\lib\\site-packages\\spacy\\util.py:275: UserWarning: [W031] Model 'en_training' (0.0.0) requires spaCy v2.1 and is incompatible with the current spaCy version (2.3.5). This may lead to unexpected results or runtime errors. To resolve this, download a newer compatible model or retrain your custom model with the current spaCy version. For more details and available updates, run: python -m spacy validate\n",
      "  warnings.warn(warn_msg)\n",
      "C:\\Users\\kambo\\anaconda3\\lib\\site-packages\\spacy\\util.py:275: UserWarning: [W031] Model 'en_training' (0.0.0) requires spaCy v2.1 and is incompatible with the current spaCy version (2.3.5). This may lead to unexpected results or runtime errors. To resolve this, download a newer compatible model or retrain your custom model with the current spaCy version. For more details and available updates, run: python -m spacy validate\n",
      "  warnings.warn(warn_msg)\n",
      "C:\\Users\\kambo\\anaconda3\\lib\\site-packages\\spacy\\util.py:275: UserWarning: [W031] Model 'en_training' (0.0.0) requires spaCy v2.1 and is incompatible with the current spaCy version (2.3.5). This may lead to unexpected results or runtime errors. To resolve this, download a newer compatible model or retrain your custom model with the current spaCy version. For more details and available updates, run: python -m spacy validate\n",
      "  warnings.warn(warn_msg)\n"
     ]
    },
    {
     "name": "stdout",
     "output_type": "stream",
     "text": [
      "Debasis Sethy Mobile\n",
      "debasissethy119@gmail.com\n",
      "8249860329\n",
      "['Technical skills', 'Pattern', 'Rest', 'Email', 'Java', 'Queries', 'Sql', 'Api', 'Windows', 'System', 'Agile', 'Design', 'Html', 'Mobile', 'Json', 'Presentation', 'Banking', 'Training', 'Debugging', 'Documentation', 'Access', 'Retention', 'Servers', 'Mysql', 'Specifications', 'Security', 'Transactions', 'Policies', 'Retail', 'Sales', 'Jira', 'Reports', 'Writing', 'Aws', 'Lifecycle', 'Test cases', 'Css', 'Js', 'Technical', 'Cloud', 'Testing', 'Coding']\n",
      "0.0\n"
     ]
    },
    {
     "name": "stderr",
     "output_type": "stream",
     "text": [
      "C:\\Users\\kambo\\anaconda3\\lib\\site-packages\\spacy\\util.py:275: UserWarning: [W031] Model 'en_training' (0.0.0) requires spaCy v2.1 and is incompatible with the current spaCy version (2.3.5). This may lead to unexpected results or runtime errors. To resolve this, download a newer compatible model or retrain your custom model with the current spaCy version. For more details and available updates, run: python -m spacy validate\n",
      "  warnings.warn(warn_msg)\n"
     ]
    },
    {
     "name": "stdout",
     "output_type": "stream",
     "text": [
      "Bengaluru  \n",
      "Software Engineer\n",
      "prasad.debi015@gmail.com\n",
      "6372596829\n",
      "['Technical skills', 'Xml', 'Sql', 'Rest', 'Java', 'Email', 'Api', 'Windows', 'System', 'Agile', 'Design', 'Mobile', 'Architectures', 'Scrum', 'Architecture', 'Database', 'Debugging', 'Analysis', 'Servers', 'Mysql', 'Logging', 'Oracle', 'Jira', 'Writing', 'Technical', 'Testing']\n",
      "3.08\n"
     ]
    },
    {
     "name": "stderr",
     "output_type": "stream",
     "text": [
      "C:\\Users\\kambo\\anaconda3\\lib\\site-packages\\spacy\\util.py:275: UserWarning: [W031] Model 'en_training' (0.0.0) requires spaCy v2.1 and is incompatible with the current spaCy version (2.3.5). This may lead to unexpected results or runtime errors. To resolve this, download a newer compatible model or retrain your custom model with the current spaCy version. For more details and available updates, run: python -m spacy validate\n",
      "  warnings.warn(warn_msg)\n"
     ]
    },
    {
     "name": "stdout",
     "output_type": "stream",
     "text": [
      "Deepti Satpathy\n",
      "deeptidash6@gmail.com|\n",
      "7008100560\n",
      "['Purchasing', 'Docker', 'Apis', 'Java', 'Rest', 'Api', 'Analytical', 'Communication', 'Database', 'Analysis', 'Mysql', 'Transactions', 'English', 'Process', 'Flask', 'Reports', 'Writing', 'End user', 'Electronics', 'Test cases', 'Spyder', 'Try', 'Finance', 'Testing', 'Python']\n",
      "4.25\n"
     ]
    },
    {
     "name": "stderr",
     "output_type": "stream",
     "text": [
      "C:\\Users\\kambo\\anaconda3\\lib\\site-packages\\spacy\\util.py:275: UserWarning: [W031] Model 'en_training' (0.0.0) requires spaCy v2.1 and is incompatible with the current spaCy version (2.3.5). This may lead to unexpected results or runtime errors. To resolve this, download a newer compatible model or retrain your custom model with the current spaCy version. For more details and available updates, run: python -m spacy validate\n",
      "  warnings.warn(warn_msg)\n"
     ]
    },
    {
     "name": "stdout",
     "output_type": "stream",
     "text": [
      "Email ID\n",
      "sabaledeveshri21@gmail.com\n",
      "9156042755\n",
      "['Sql', 'Rest', 'Java', 'Email', 'Windows', 'Api', 'Controls', 'Agile', 'Design', 'Logistics', 'Html', 'Operating systems', 'Database', 'Analysis', 'Servers', 'Analytics', 'Mysql', 'English', 'Retail', 'Jira', 'Writing', 'Information technology', 'Testing']\n",
      "0.0\n"
     ]
    },
    {
     "name": "stderr",
     "output_type": "stream",
     "text": [
      "C:\\Users\\kambo\\anaconda3\\lib\\site-packages\\spacy\\util.py:275: UserWarning: [W031] Model 'en_training' (0.0.0) requires spaCy v2.1 and is incompatible with the current spaCy version (2.3.5). This may lead to unexpected results or runtime errors. To resolve this, download a newer compatible model or retrain your custom model with the current spaCy version. For more details and available updates, run: python -m spacy validate\n",
      "  warnings.warn(warn_msg)\n"
     ]
    },
    {
     "name": "stdout",
     "output_type": "stream",
     "text": [
      "Dhanu Mobile\n",
      "dhanujavadev@gmail.com\n",
      "9962185453\n",
      "['Rest', 'Java', 'Queries', 'Api', 'Agile', 'Mortgage', 'Design', 'Mobile', 'Postgresql', 'Json', 'Web services', 'Banking', 'Scrum', 'Analyze', 'Sdlc', 'Threading', 'Specifications', 'Process', 'Writing', 'Technical', 'Finance', 'Github', 'Testing', 'Coding']\n",
      "4.33\n"
     ]
    },
    {
     "name": "stderr",
     "output_type": "stream",
     "text": [
      "C:\\Users\\kambo\\anaconda3\\lib\\site-packages\\spacy\\util.py:275: UserWarning: [W031] Model 'en_training' (0.0.0) requires spaCy v2.1 and is incompatible with the current spaCy version (2.3.5). This may lead to unexpected results or runtime errors. To resolve this, download a newer compatible model or retrain your custom model with the current spaCy version. For more details and available updates, run: python -m spacy validate\n",
      "  warnings.warn(warn_msg)\n"
     ]
    },
    {
     "name": "stdout",
     "output_type": "stream",
     "text": [
      "DINESH DEVSARKAR\n",
      "dinesdevsarkar@gmail.com\n",
      "9595967275\n",
      "['Pattern', 'Rest', 'Java', 'Sql', 'Banking', 'English', 'Windows', 'Governance', 'Technical', 'Analytical', 'Oracle', 'Database', 'System', 'Engineering', 'Programming', 'Design', 'Workflows', 'Testing']\n",
      "0.0\n"
     ]
    },
    {
     "name": "stderr",
     "output_type": "stream",
     "text": [
      "C:\\Users\\kambo\\anaconda3\\lib\\site-packages\\spacy\\util.py:275: UserWarning: [W031] Model 'en_training' (0.0.0) requires spaCy v2.1 and is incompatible with the current spaCy version (2.3.5). This may lead to unexpected results or runtime errors. To resolve this, download a newer compatible model or retrain your custom model with the current spaCy version. For more details and available updates, run: python -m spacy validate\n",
      "  warnings.warn(warn_msg)\n"
     ]
    },
    {
     "name": "stdout",
     "output_type": "stream",
     "text": [
      "Dipali Zendage\n",
      "dipalizendage94@gmail.com\n",
      "9322974350\n",
      "['Pattern', 'Rest', 'Java', 'Queries', 'Api', 'Analytical', 'Legal', 'System', 'Expenses', 'Agile', 'Design', 'Communication', 'Html', 'Excel', 'Presentation', 'Scrum', 'Database', 'Sdlc', 'Engineering', 'Analysis', 'Servers', 'Mysql', 'English', 'Updates', 'Jira', 'P', 'Css', 'Technical', 'Word', 'Software development life cycle', 'Microsoft office', 'Testing', 'Coding']\n",
      "0.0\n"
     ]
    },
    {
     "name": "stderr",
     "output_type": "stream",
     "text": [
      "C:\\Users\\kambo\\anaconda3\\lib\\site-packages\\spacy\\util.py:275: UserWarning: [W031] Model 'en_training' (0.0.0) requires spaCy v2.1 and is incompatible with the current spaCy version (2.3.5). This may lead to unexpected results or runtime errors. To resolve this, download a newer compatible model or retrain your custom model with the current spaCy version. For more details and available updates, run: python -m spacy validate\n",
      "  warnings.warn(warn_msg)\n",
      "C:\\Users\\kambo\\anaconda3\\lib\\site-packages\\spacy\\util.py:275: UserWarning: [W031] Model 'en_training' (0.0.0) requires spaCy v2.1 and is incompatible with the current spaCy version (2.3.5). This may lead to unexpected results or runtime errors. To resolve this, download a newer compatible model or retrain your custom model with the current spaCy version. For more details and available updates, run: python -m spacy validate\n",
      "  warnings.warn(warn_msg)\n"
     ]
    },
    {
     "name": "stdout",
     "output_type": "stream",
     "text": [
      "ESHWAR NALAKURTHI\n",
      "eswarnalakurthi7@gmail.com\n",
      "9182602595\n",
      "['Technical skills', 'Xml', 'Sql', 'Docker', 'Java', 'Email', 'Rest', 'Windows', 'System', 'Html', 'Javascript', 'Mobile', 'Web services', 'Analyze', 'Database', 'Programming', 'Jsp', 'Linux', 'Process', 'Jira', 'Writing', 'Soap', 'Css', 'Technical', 'Testing']\n",
      "0.0\n"
     ]
    },
    {
     "name": "stderr",
     "output_type": "stream",
     "text": [
      "C:\\Users\\kambo\\anaconda3\\lib\\site-packages\\spacy\\util.py:275: UserWarning: [W031] Model 'en_training' (0.0.0) requires spaCy v2.1 and is incompatible with the current spaCy version (2.3.5). This may lead to unexpected results or runtime errors. To resolve this, download a newer compatible model or retrain your custom model with the current spaCy version. For more details and available updates, run: python -m spacy validate\n",
      "  warnings.warn(warn_msg)\n"
     ]
    },
    {
     "name": "stdout",
     "output_type": "stream",
     "text": [
      "Hemlata Krushna\n",
      "hemlata.wagh1995@gmail.com\n",
      "7841881626\n",
      "['Rest', 'Java', 'Email', 'Api', 'Windows', 'Analytical', 'Design', 'Communication', 'Html', 'Javascript', 'Mobile', 'Operating systems', 'Excel', 'Os', 'Scrum', 'Database', 'Documentation', 'Programming', 'Scripting', 'Mysql', 'Linux', 'English', 'Process', 'Jira', 'Reports', 'Writing', 'End user', 'Video', 'Html5', 'Css', 'Js', 'Technical', 'Testing', '.net']\n",
      "1.33\n"
     ]
    },
    {
     "name": "stderr",
     "output_type": "stream",
     "text": [
      "C:\\Users\\kambo\\anaconda3\\lib\\site-packages\\spacy\\util.py:275: UserWarning: [W031] Model 'en_training' (0.0.0) requires spaCy v2.1 and is incompatible with the current spaCy version (2.3.5). This may lead to unexpected results or runtime errors. To resolve this, download a newer compatible model or retrain your custom model with the current spaCy version. For more details and available updates, run: python -m spacy validate\n",
      "  warnings.warn(warn_msg)\n"
     ]
    },
    {
     "name": "stdout",
     "output_type": "stream",
     "text": [
      "pune Email\n",
      "komalghodeswar77@gmail.com\n",
      "9834825395\n",
      "['Pattern', 'Java', 'Email', 'English', 'Database', 'System', 'Jira', 'Debugging', 'Engineering', 'Writing', 'Design', 'Github', 'Testing', 'Mysql', 'Coding']\n",
      "0.0\n"
     ]
    },
    {
     "name": "stderr",
     "output_type": "stream",
     "text": [
      "C:\\Users\\kambo\\anaconda3\\lib\\site-packages\\spacy\\util.py:275: UserWarning: [W031] Model 'en_training' (0.0.0) requires spaCy v2.1 and is incompatible with the current spaCy version (2.3.5). This may lead to unexpected results or runtime errors. To resolve this, download a newer compatible model or retrain your custom model with the current spaCy version. For more details and available updates, run: python -m spacy validate\n",
      "  warnings.warn(warn_msg)\n"
     ]
    },
    {
     "name": "stdout",
     "output_type": "stream",
     "text": [
      "Konka Karthik\n",
      "Karthik.bly123@gmail.com\n",
      "9740523119\n",
      "['Xml', 'Sql', 'Rest', 'Java', 'Email', 'Pattern', 'Windows', 'Api', 'Controls', 'Design', 'Json', 'Architecture', 'Engineering', 'Servers', 'Mysql', 'Logging', 'Oracle', 'Writing', 'Android', 'Hospital', 'Testing', 'Coding']\n",
      "0.0\n"
     ]
    },
    {
     "name": "stderr",
     "output_type": "stream",
     "text": [
      "C:\\Users\\kambo\\anaconda3\\lib\\site-packages\\spacy\\util.py:275: UserWarning: [W031] Model 'en_training' (0.0.0) requires spaCy v2.1 and is incompatible with the current spaCy version (2.3.5). This may lead to unexpected results or runtime errors. To resolve this, download a newer compatible model or retrain your custom model with the current spaCy version. For more details and available updates, run: python -m spacy validate\n",
      "  warnings.warn(warn_msg)\n",
      "C:\\Users\\kambo\\anaconda3\\lib\\site-packages\\spacy\\util.py:275: UserWarning: [W031] Model 'en_training' (0.0.0) requires spaCy v2.1 and is incompatible with the current spaCy version (2.3.5). This may lead to unexpected results or runtime errors. To resolve this, download a newer compatible model or retrain your custom model with the current spaCy version. For more details and available updates, run: python -m spacy validate\n",
      "  warnings.warn(warn_msg)\n"
     ]
    },
    {
     "name": "stdout",
     "output_type": "stream",
     "text": [
      "KUMARASWAMY Mobile\n",
      "swamykumara845@gmail.com\n",
      "9195427539\n",
      "['Technical skills', 'Payments', 'Sql', 'Docker', 'Java', 'Computer applications', 'Windows', 'Api', 'System', 'Agile', 'Design', 'Html', 'Mobile', 'Web services', 'Scrum', 'Architecture', 'Database', 'Health', 'Analysis', 'Servers', 'Mysql', 'Jsp', 'Linux', 'Oracle', 'Jira', 'Reports', 'Visual', 'Writing', 'Information technology', 'Html5', 'Test cases', 'Css', 'Etl', 'Js', 'Money', 'Technical', 'Inventory', 'Github', 'Transport', 'Coding']\n",
      "0.0\n"
     ]
    },
    {
     "name": "stderr",
     "output_type": "stream",
     "text": [
      "C:\\Users\\kambo\\anaconda3\\lib\\site-packages\\spacy\\util.py:275: UserWarning: [W031] Model 'en_training' (0.0.0) requires spaCy v2.1 and is incompatible with the current spaCy version (2.3.5). This may lead to unexpected results or runtime errors. To resolve this, download a newer compatible model or retrain your custom model with the current spaCy version. For more details and available updates, run: python -m spacy validate\n",
      "  warnings.warn(warn_msg)\n",
      "C:\\Users\\kambo\\anaconda3\\lib\\site-packages\\spacy\\util.py:275: UserWarning: [W031] Model 'en_training' (0.0.0) requires spaCy v2.1 and is incompatible with the current spaCy version (2.3.5). This may lead to unexpected results or runtime errors. To resolve this, download a newer compatible model or retrain your custom model with the current spaCy version. For more details and available updates, run: python -m spacy validate\n",
      "  warnings.warn(warn_msg)\n",
      "C:\\Users\\kambo\\anaconda3\\lib\\site-packages\\spacy\\util.py:275: UserWarning: [W031] Model 'en_training' (0.0.0) requires spaCy v2.1 and is incompatible with the current spaCy version (2.3.5). This may lead to unexpected results or runtime errors. To resolve this, download a newer compatible model or retrain your custom model with the current spaCy version. For more details and available updates, run: python -m spacy validate\n",
      "  warnings.warn(warn_msg)\n"
     ]
    },
    {
     "name": "stdout",
     "output_type": "stream",
     "text": [
      "Madhan D\n",
      "Madhand528@gmail.com\n",
      "6369677478\n",
      "['Docker', 'Rest', 'Java', 'Ordering', 'Windows', 'System', 'Agile', 'Design', 'Ui', 'Html', 'Json', 'Scrum', 'Database', 'Engineering', 'Programming', 'Unix', 'Jsp', 'Security', 'Linux', 'Logging', 'Policies', 'Process', 'Writing', 'Css', 'Administration', 'Testing']\n",
      "0.0\n"
     ]
    },
    {
     "name": "stderr",
     "output_type": "stream",
     "text": [
      "C:\\Users\\kambo\\anaconda3\\lib\\site-packages\\spacy\\util.py:275: UserWarning: [W031] Model 'en_training' (0.0.0) requires spaCy v2.1 and is incompatible with the current spaCy version (2.3.5). This may lead to unexpected results or runtime errors. To resolve this, download a newer compatible model or retrain your custom model with the current spaCy version. For more details and available updates, run: python -m spacy validate\n",
      "  warnings.warn(warn_msg)\n"
     ]
    },
    {
     "name": "stdout",
     "output_type": "stream",
     "text": [
      "Mahek Pipalia\n",
      "mahekpipalia1@gmail.com\n",
      "9038551180\n",
      "['Sql', 'Rest', 'Java', 'Api', 'System', 'Agile', 'Design', 'Database', 'Sdlc', 'Debugging', 'Engineering', 'Programming', 'English', 'Process', 'Nosql', 'Algorithms', 'Hospital', 'Testing', 'Python']\n",
      "0.0\n"
     ]
    },
    {
     "name": "stderr",
     "output_type": "stream",
     "text": [
      "C:\\Users\\kambo\\anaconda3\\lib\\site-packages\\spacy\\util.py:275: UserWarning: [W031] Model 'en_training' (0.0.0) requires spaCy v2.1 and is incompatible with the current spaCy version (2.3.5). This may lead to unexpected results or runtime errors. To resolve this, download a newer compatible model or retrain your custom model with the current spaCy version. For more details and available updates, run: python -m spacy validate\n",
      "  warnings.warn(warn_msg)\n"
     ]
    },
    {
     "name": "stdout",
     "output_type": "stream",
     "text": [
      "Profile Mahesh\n",
      "gajulamahesh94405@gmail.com\n",
      "9440500687\n",
      "['Xml', 'Docker', 'Rest', 'Java', 'Windows', 'System', 'Design', 'Database', 'Health', 'Programming', 'Analysis', 'Servers', 'Oracle', 'Writing', 'Requests', 'Technical', 'Operations', 'Hospital', 'Cloud', 'Coding']\n",
      "0.0\n"
     ]
    },
    {
     "name": "stderr",
     "output_type": "stream",
     "text": [
      "C:\\Users\\kambo\\anaconda3\\lib\\site-packages\\spacy\\util.py:275: UserWarning: [W031] Model 'en_training' (0.0.0) requires spaCy v2.1 and is incompatible with the current spaCy version (2.3.5). This may lead to unexpected results or runtime errors. To resolve this, download a newer compatible model or retrain your custom model with the current spaCy version. For more details and available updates, run: python -m spacy validate\n",
      "  warnings.warn(warn_msg)\n"
     ]
    },
    {
     "name": "stdout",
     "output_type": "stream",
     "text": [
      "Mallikarjuna Narravula\n",
      "mallikarjuna.java18@gmail.com\n",
      "6364591557\n",
      "['Sql', 'Rest', 'Java', 'Ordering', 'Telecom', 'Api', 'Reporting', 'Html', 'Mobile', 'Analyze', 'Database', 'Sdlc', 'Access', 'Servers', 'Logging', 'Oracle', 'Plan', 'Jira', 'Reports', 'Lifecycle', 'Technical', 'Software development life cycle', 'Inventory', 'Staffing', 'Administration', 'Coding']\n",
      "1.33\n"
     ]
    },
    {
     "name": "stderr",
     "output_type": "stream",
     "text": [
      "C:\\Users\\kambo\\anaconda3\\lib\\site-packages\\spacy\\util.py:275: UserWarning: [W031] Model 'en_training' (0.0.0) requires spaCy v2.1 and is incompatible with the current spaCy version (2.3.5). This may lead to unexpected results or runtime errors. To resolve this, download a newer compatible model or retrain your custom model with the current spaCy version. For more details and available updates, run: python -m spacy validate\n",
      "  warnings.warn(warn_msg)\n"
     ]
    },
    {
     "name": "stdout",
     "output_type": "stream",
     "text": [
      "Manasi Aitwade\n",
      "manasi.aitwade17@gmail.com\n",
      "8867146469\n",
      "['Sql', 'Rest', 'Java', 'Queries', 'Telecom', 'Api', 'Design', 'Ui', 'Mobile', 'Engineering', 'Sports', 'Documentation', 'Programming', 'Servers', 'Mysql', 'Billing', 'Soap', 'Technical', 'Metrics', 'Testing']\n",
      "0.0\n"
     ]
    },
    {
     "name": "stderr",
     "output_type": "stream",
     "text": [
      "C:\\Users\\kambo\\anaconda3\\lib\\site-packages\\spacy\\util.py:275: UserWarning: [W031] Model 'en_training' (0.0.0) requires spaCy v2.1 and is incompatible with the current spaCy version (2.3.5). This may lead to unexpected results or runtime errors. To resolve this, download a newer compatible model or retrain your custom model with the current spaCy version. For more details and available updates, run: python -m spacy validate\n",
      "  warnings.warn(warn_msg)\n"
     ]
    },
    {
     "name": "stdout",
     "output_type": "stream",
     "text": [
      "Core Java\n",
      "MANIMANICSE11@GMAIL.COM\n",
      "8296877554\n",
      "['Sql server', 'Sql', 'Java', 'System', 'Spark', 'Html', 'Javascript', 'Json', 'Hive', 'Architecture', 'Database', 'Health', 'Mysql', 'Jsp', 'Datasets', 'Process', 'Workflow', 'Visual', 'Css', 'Auditing', 'Js', 'Technical', 'Asset management']\n",
      "0.0\n"
     ]
    },
    {
     "name": "stderr",
     "output_type": "stream",
     "text": [
      "C:\\Users\\kambo\\anaconda3\\lib\\site-packages\\spacy\\util.py:275: UserWarning: [W031] Model 'en_training' (0.0.0) requires spaCy v2.1 and is incompatible with the current spaCy version (2.3.5). This may lead to unexpected results or runtime errors. To resolve this, download a newer compatible model or retrain your custom model with the current spaCy version. For more details and available updates, run: python -m spacy validate\n",
      "  warnings.warn(warn_msg)\n"
     ]
    },
    {
     "name": "stdout",
     "output_type": "stream",
     "text": [
      "E R\n",
      "manisha.abdar07@gmail.com\n",
      "559 3097\n",
      "['Rest', 'Java', 'Api', 'Agile', 'Design', 'Ui', 'Html', 'Javascript', 'Mobile', 'Excel', 'Presentation', 'Database', 'Sdlc', 'Continuous improvement', 'Debugging', 'Analysis', 'Programming', 'Servers', 'Improvement', 'Mysql', 'Specifications', 'Jsp', 'English', 'Oracle', 'Jira', 'P', 'Writing', 'R', 'Lifecycle', 'Requests', 'Information technology', 'Html5', 'Css', 'Word', 'Project management', 'C', 'Testing', 'Coding']\n",
      "0.0\n"
     ]
    },
    {
     "name": "stderr",
     "output_type": "stream",
     "text": [
      "C:\\Users\\kambo\\anaconda3\\lib\\site-packages\\spacy\\util.py:275: UserWarning: [W031] Model 'en_training' (0.0.0) requires spaCy v2.1 and is incompatible with the current spaCy version (2.3.5). This may lead to unexpected results or runtime errors. To resolve this, download a newer compatible model or retrain your custom model with the current spaCy version. For more details and available updates, run: python -m spacy validate\n",
      "  warnings.warn(warn_msg)\n"
     ]
    },
    {
     "name": "stdout",
     "output_type": "stream",
     "text": [
      "MP M\n",
      "MARUTHIPRASADM96@GMAIL.COM\n",
      "9666788755\n",
      "['Jsp', 'Sql', 'Java', 'Billing', 'Scrum', 'Pharmaceutical', 'Updates', 'Testing', 'Operations', 'Design', 'Jira', 'Access', 'Agile', 'Writing', 'Aws', 'Regulatory', 'Mysql']\n",
      "0.0\n"
     ]
    },
    {
     "name": "stderr",
     "output_type": "stream",
     "text": [
      "C:\\Users\\kambo\\anaconda3\\lib\\site-packages\\spacy\\util.py:275: UserWarning: [W031] Model 'en_training' (0.0.0) requires spaCy v2.1 and is incompatible with the current spaCy version (2.3.5). This may lead to unexpected results or runtime errors. To resolve this, download a newer compatible model or retrain your custom model with the current spaCy version. For more details and available updates, run: python -m spacy validate\n",
      "  warnings.warn(warn_msg)\n"
     ]
    },
    {
     "name": "stdout",
     "output_type": "stream",
     "text": [
      "Tamil Nadu\n",
      "India+91-8760855125mukeshvignesh1558@gmail.comCERTIFICATION1.\n",
      "8760855125\n",
      "['Sql', 'Website', 'Java', 'Rest', 'Pattern', 'Api', 'Agile', 'Design', 'Html', 'Javascript', 'Json', 'Database', 'Access', 'Crm', 'Programming', 'Mysql', 'Jsp', 'Security', 'Process', 'Jira', 'Visual', 'Aws', 'Html5', 'Css', 'Selenium', 'Salesforce', 'Testing', 'Front-end']\n",
      "0.0\n"
     ]
    },
    {
     "name": "stderr",
     "output_type": "stream",
     "text": [
      "C:\\Users\\kambo\\anaconda3\\lib\\site-packages\\spacy\\util.py:275: UserWarning: [W031] Model 'en_training' (0.0.0) requires spaCy v2.1 and is incompatible with the current spaCy version (2.3.5). This may lead to unexpected results or runtime errors. To resolve this, download a newer compatible model or retrain your custom model with the current spaCy version. For more details and available updates, run: python -m spacy validate\n",
      "  warnings.warn(warn_msg)\n"
     ]
    },
    {
     "name": "stdout",
     "output_type": "stream",
     "text": [
      "Mukta Joshi\n",
      "muktasj07@gmail.com\n",
      "9075940443\n",
      "['Xml', 'Java', 'Email', 'Api', 'Analytical', 'Agile', 'Design', 'Html', 'Javascript', 'Mobile', 'Json', 'Database', 'Engineering', 'Mysql', 'Jsp', 'Process', 'Sales', 'R', 'Marketing', 'Strategy', 'Css', 'Inventory', 'Pdf', 'Product design', 'Advertising', 'Testing']\n",
      "0.0\n"
     ]
    },
    {
     "name": "stderr",
     "output_type": "stream",
     "text": [
      "C:\\Users\\kambo\\anaconda3\\lib\\site-packages\\spacy\\util.py:275: UserWarning: [W031] Model 'en_training' (0.0.0) requires spaCy v2.1 and is incompatible with the current spaCy version (2.3.5). This may lead to unexpected results or runtime errors. To resolve this, download a newer compatible model or retrain your custom model with the current spaCy version. For more details and available updates, run: python -m spacy validate\n",
      "  warnings.warn(warn_msg)\n"
     ]
    },
    {
     "name": "stdout",
     "output_type": "stream",
     "text": [
      "NAG ARJUN\n",
      "nagarjuna.m34@outlook.com\n",
      "9491654117\n",
      "['Xml', 'Email', 'Java', 'Windows', 'Analytical', 'Controls', 'Design', 'Ui', 'Html', 'Mobile', 'Architecture', 'Database', 'Sdlc', 'Engineering', 'Programming', 'Analysis', 'Servers', 'Mysql', 'Jsp', 'Visio', 'English', 'Research', 'Oracle', 'Jira', 'Writing', 'Modeling', 'Requests', 'Css', 'Operations', 'Technical', 'Software development life cycle', 'Microsoft visio', 'Testing']\n",
      "0.0\n"
     ]
    },
    {
     "name": "stderr",
     "output_type": "stream",
     "text": [
      "C:\\Users\\kambo\\anaconda3\\lib\\site-packages\\spacy\\util.py:275: UserWarning: [W031] Model 'en_training' (0.0.0) requires spaCy v2.1 and is incompatible with the current spaCy version (2.3.5). This may lead to unexpected results or runtime errors. To resolve this, download a newer compatible model or retrain your custom model with the current spaCy version. For more details and available updates, run: python -m spacy validate\n",
      "  warnings.warn(warn_msg)\n"
     ]
    },
    {
     "name": "stdout",
     "output_type": "stream",
     "text": [
      "NAGABABU BATTHULA\n",
      "nagababu.bathula123@gmail.com\n",
      "6302871380\n",
      "['Technical skills', 'Payments', 'Pattern', 'Java', 'Api', 'Design', 'Communication', 'Mobile', 'Database', 'Debugging', 'Programming', 'Mysql', 'Security', 'Oracle', 'Workflow', 'Merchant', 'Writing', 'Requests', 'Technical', 'Administration']\n",
      "0.0\n"
     ]
    },
    {
     "name": "stderr",
     "output_type": "stream",
     "text": [
      "C:\\Users\\kambo\\anaconda3\\lib\\site-packages\\spacy\\util.py:275: UserWarning: [W031] Model 'en_training' (0.0.0) requires spaCy v2.1 and is incompatible with the current spaCy version (2.3.5). This may lead to unexpected results or runtime errors. To resolve this, download a newer compatible model or retrain your custom model with the current spaCy version. For more details and available updates, run: python -m spacy validate\n",
      "  warnings.warn(warn_msg)\n"
     ]
    },
    {
     "name": "stdout",
     "output_type": "stream",
     "text": [
      "NagarjunaAtla                                                                     \n",
      "Email:atlanagarjuna008@gmail.com\n",
      "9441547225\n",
      "['Sql', 'Java', 'Queries', 'Windows', 'Api', 'Analytical', 'System', 'Agile', 'Statistics', 'Design', 'Conversion', 'Reporting', 'Ui', 'Html', 'Mobile', 'Presentation', 'Database', 'Access', 'Engineering', 'Programming', 'Documentation', 'Sports', 'Servers', 'Analysis', 'Ibm', 'Jsp', 'Linux', 'Transportation', 'Transactions', 'Logging', 'English', 'Retail', 'Oracle', 'Process', 'Regulations', 'Jira', 'Reports', 'Development activities', 'Financing', 'Js', 'Money', 'Technical', 'Pdf', 'Testing', 'Coding']\n",
      "0.0\n"
     ]
    },
    {
     "name": "stderr",
     "output_type": "stream",
     "text": [
      "C:\\Users\\kambo\\anaconda3\\lib\\site-packages\\spacy\\util.py:275: UserWarning: [W031] Model 'en_training' (0.0.0) requires spaCy v2.1 and is incompatible with the current spaCy version (2.3.5). This may lead to unexpected results or runtime errors. To resolve this, download a newer compatible model or retrain your custom model with the current spaCy version. For more details and available updates, run: python -m spacy validate\n",
      "  warnings.warn(warn_msg)\n",
      "C:\\Users\\kambo\\anaconda3\\lib\\site-packages\\spacy\\util.py:275: UserWarning: [W031] Model 'en_training' (0.0.0) requires spaCy v2.1 and is incompatible with the current spaCy version (2.3.5). This may lead to unexpected results or runtime errors. To resolve this, download a newer compatible model or retrain your custom model with the current spaCy version. For more details and available updates, run: python -m spacy validate\n",
      "  warnings.warn(warn_msg)\n",
      "C:\\Users\\kambo\\anaconda3\\lib\\site-packages\\spacy\\util.py:275: UserWarning: [W031] Model 'en_training' (0.0.0) requires spaCy v2.1 and is incompatible with the current spaCy version (2.3.5). This may lead to unexpected results or runtime errors. To resolve this, download a newer compatible model or retrain your custom model with the current spaCy version. For more details and available updates, run: python -m spacy validate\n",
      "  warnings.warn(warn_msg)\n",
      "C:\\Users\\kambo\\anaconda3\\lib\\site-packages\\spacy\\util.py:275: UserWarning: [W031] Model 'en_training' (0.0.0) requires spaCy v2.1 and is incompatible with the current spaCy version (2.3.5). This may lead to unexpected results or runtime errors. To resolve this, download a newer compatible model or retrain your custom model with the current spaCy version. For more details and available updates, run: python -m spacy validate\n",
      "  warnings.warn(warn_msg)\n",
      "C:\\Users\\kambo\\anaconda3\\lib\\site-packages\\spacy\\util.py:275: UserWarning: [W031] Model 'en_training' (0.0.0) requires spaCy v2.1 and is incompatible with the current spaCy version (2.3.5). This may lead to unexpected results or runtime errors. To resolve this, download a newer compatible model or retrain your custom model with the current spaCy version. For more details and available updates, run: python -m spacy validate\n",
      "  warnings.warn(warn_msg)\n",
      "C:\\Users\\kambo\\anaconda3\\lib\\site-packages\\spacy\\util.py:275: UserWarning: [W031] Model 'en_training' (0.0.0) requires spaCy v2.1 and is incompatible with the current spaCy version (2.3.5). This may lead to unexpected results or runtime errors. To resolve this, download a newer compatible model or retrain your custom model with the current spaCy version. For more details and available updates, run: python -m spacy validate\n",
      "  warnings.warn(warn_msg)\n"
     ]
    },
    {
     "name": "stdout",
     "output_type": "stream",
     "text": [
      "ANIRBAN GHOSH\n",
      "AnirbanGhoshaz@gmail.com\n",
      "8722122007\n",
      "['Sql server', 'Sql', 'Email', 'Java', 'Automation', 'Analytical', 'Migration', 'Design', 'Conversion', 'Reporting', 'Spark', 'Interactive', 'Analyze', 'Brand', 'Database', 'Sdlc', 'Engineering', 'Analytics', 'Instrumentation', 'Warehouse', 'Customer requirements', 'Budget', 'Pyspark', 'Plan', 'Reports', 'Matrix', 'Itil', 'Etl', 'Selenium', 'Cloud', 'Tableau']\n",
      "7.67\n"
     ]
    },
    {
     "name": "stderr",
     "output_type": "stream",
     "text": [
      "C:\\Users\\kambo\\anaconda3\\lib\\site-packages\\spacy\\util.py:275: UserWarning: [W031] Model 'en_training' (0.0.0) requires spaCy v2.1 and is incompatible with the current spaCy version (2.3.5). This may lead to unexpected results or runtime errors. To resolve this, download a newer compatible model or retrain your custom model with the current spaCy version. For more details and available updates, run: python -m spacy validate\n",
      "  warnings.warn(warn_msg)\n",
      "C:\\Users\\kambo\\anaconda3\\lib\\site-packages\\spacy\\util.py:275: UserWarning: [W031] Model 'en_training' (0.0.0) requires spaCy v2.1 and is incompatible with the current spaCy version (2.3.5). This may lead to unexpected results or runtime errors. To resolve this, download a newer compatible model or retrain your custom model with the current spaCy version. For more details and available updates, run: python -m spacy validate\n",
      "  warnings.warn(warn_msg)\n",
      "C:\\Users\\kambo\\anaconda3\\lib\\site-packages\\spacy\\util.py:275: UserWarning: [W031] Model 'en_training' (0.0.0) requires spaCy v2.1 and is incompatible with the current spaCy version (2.3.5). This may lead to unexpected results or runtime errors. To resolve this, download a newer compatible model or retrain your custom model with the current spaCy version. For more details and available updates, run: python -m spacy validate\n",
      "  warnings.warn(warn_msg)\n",
      "C:\\Users\\kambo\\anaconda3\\lib\\site-packages\\spacy\\util.py:275: UserWarning: [W031] Model 'en_training' (0.0.0) requires spaCy v2.1 and is incompatible with the current spaCy version (2.3.5). This may lead to unexpected results or runtime errors. To resolve this, download a newer compatible model or retrain your custom model with the current spaCy version. For more details and available updates, run: python -m spacy validate\n",
      "  warnings.warn(warn_msg)\n",
      "C:\\Users\\kambo\\anaconda3\\lib\\site-packages\\spacy\\util.py:275: UserWarning: [W031] Model 'en_training' (0.0.0) requires spaCy v2.1 and is incompatible with the current spaCy version (2.3.5). This may lead to unexpected results or runtime errors. To resolve this, download a newer compatible model or retrain your custom model with the current spaCy version. For more details and available updates, run: python -m spacy validate\n",
      "  warnings.warn(warn_msg)\n",
      "C:\\Users\\kambo\\anaconda3\\lib\\site-packages\\spacy\\util.py:275: UserWarning: [W031] Model 'en_training' (0.0.0) requires spaCy v2.1 and is incompatible with the current spaCy version (2.3.5). This may lead to unexpected results or runtime errors. To resolve this, download a newer compatible model or retrain your custom model with the current spaCy version. For more details and available updates, run: python -m spacy validate\n",
      "  warnings.warn(warn_msg)\n",
      "C:\\Users\\kambo\\anaconda3\\lib\\site-packages\\spacy\\util.py:275: UserWarning: [W031] Model 'en_training' (0.0.0) requires spaCy v2.1 and is incompatible with the current spaCy version (2.3.5). This may lead to unexpected results or runtime errors. To resolve this, download a newer compatible model or retrain your custom model with the current spaCy version. For more details and available updates, run: python -m spacy validate\n",
      "  warnings.warn(warn_msg)\n",
      "C:\\Users\\kambo\\anaconda3\\lib\\site-packages\\spacy\\util.py:275: UserWarning: [W031] Model 'en_training' (0.0.0) requires spaCy v2.1 and is incompatible with the current spaCy version (2.3.5). This may lead to unexpected results or runtime errors. To resolve this, download a newer compatible model or retrain your custom model with the current spaCy version. For more details and available updates, run: python -m spacy validate\n",
      "  warnings.warn(warn_msg)\n",
      "C:\\Users\\kambo\\anaconda3\\lib\\site-packages\\spacy\\util.py:275: UserWarning: [W031] Model 'en_training' (0.0.0) requires spaCy v2.1 and is incompatible with the current spaCy version (2.3.5). This may lead to unexpected results or runtime errors. To resolve this, download a newer compatible model or retrain your custom model with the current spaCy version. For more details and available updates, run: python -m spacy validate\n",
      "  warnings.warn(warn_msg)\n",
      "C:\\Users\\kambo\\anaconda3\\lib\\site-packages\\spacy\\util.py:275: UserWarning: [W031] Model 'en_training' (0.0.0) requires spaCy v2.1 and is incompatible with the current spaCy version (2.3.5). This may lead to unexpected results or runtime errors. To resolve this, download a newer compatible model or retrain your custom model with the current spaCy version. For more details and available updates, run: python -m spacy validate\n",
      "  warnings.warn(warn_msg)\n",
      "C:\\Users\\kambo\\anaconda3\\lib\\site-packages\\spacy\\util.py:275: UserWarning: [W031] Model 'en_training' (0.0.0) requires spaCy v2.1 and is incompatible with the current spaCy version (2.3.5). This may lead to unexpected results or runtime errors. To resolve this, download a newer compatible model or retrain your custom model with the current spaCy version. For more details and available updates, run: python -m spacy validate\n",
      "  warnings.warn(warn_msg)\n",
      "C:\\Users\\kambo\\anaconda3\\lib\\site-packages\\spacy\\util.py:275: UserWarning: [W031] Model 'en_training' (0.0.0) requires spaCy v2.1 and is incompatible with the current spaCy version (2.3.5). This may lead to unexpected results or runtime errors. To resolve this, download a newer compatible model or retrain your custom model with the current spaCy version. For more details and available updates, run: python -m spacy validate\n",
      "  warnings.warn(warn_msg)\n",
      "C:\\Users\\kambo\\anaconda3\\lib\\site-packages\\spacy\\util.py:275: UserWarning: [W031] Model 'en_training' (0.0.0) requires spaCy v2.1 and is incompatible with the current spaCy version (2.3.5). This may lead to unexpected results or runtime errors. To resolve this, download a newer compatible model or retrain your custom model with the current spaCy version. For more details and available updates, run: python -m spacy validate\n",
      "  warnings.warn(warn_msg)\n",
      "C:\\Users\\kambo\\anaconda3\\lib\\site-packages\\spacy\\util.py:275: UserWarning: [W031] Model 'en_training' (0.0.0) requires spaCy v2.1 and is incompatible with the current spaCy version (2.3.5). This may lead to unexpected results or runtime errors. To resolve this, download a newer compatible model or retrain your custom model with the current spaCy version. For more details and available updates, run: python -m spacy validate\n",
      "  warnings.warn(warn_msg)\n",
      "C:\\Users\\kambo\\anaconda3\\lib\\site-packages\\spacy\\util.py:275: UserWarning: [W031] Model 'en_training' (0.0.0) requires spaCy v2.1 and is incompatible with the current spaCy version (2.3.5). This may lead to unexpected results or runtime errors. To resolve this, download a newer compatible model or retrain your custom model with the current spaCy version. For more details and available updates, run: python -m spacy validate\n",
      "  warnings.warn(warn_msg)\n",
      "C:\\Users\\kambo\\anaconda3\\lib\\site-packages\\spacy\\util.py:275: UserWarning: [W031] Model 'en_training' (0.0.0) requires spaCy v2.1 and is incompatible with the current spaCy version (2.3.5). This may lead to unexpected results or runtime errors. To resolve this, download a newer compatible model or retrain your custom model with the current spaCy version. For more details and available updates, run: python -m spacy validate\n",
      "  warnings.warn(warn_msg)\n",
      "C:\\Users\\kambo\\anaconda3\\lib\\site-packages\\spacy\\util.py:275: UserWarning: [W031] Model 'en_training' (0.0.0) requires spaCy v2.1 and is incompatible with the current spaCy version (2.3.5). This may lead to unexpected results or runtime errors. To resolve this, download a newer compatible model or retrain your custom model with the current spaCy version. For more details and available updates, run: python -m spacy validate\n",
      "  warnings.warn(warn_msg)\n",
      "C:\\Users\\kambo\\anaconda3\\lib\\site-packages\\spacy\\util.py:275: UserWarning: [W031] Model 'en_training' (0.0.0) requires spaCy v2.1 and is incompatible with the current spaCy version (2.3.5). This may lead to unexpected results or runtime errors. To resolve this, download a newer compatible model or retrain your custom model with the current spaCy version. For more details and available updates, run: python -m spacy validate\n",
      "  warnings.warn(warn_msg)\n",
      "C:\\Users\\kambo\\anaconda3\\lib\\site-packages\\spacy\\util.py:275: UserWarning: [W031] Model 'en_training' (0.0.0) requires spaCy v2.1 and is incompatible with the current spaCy version (2.3.5). This may lead to unexpected results or runtime errors. To resolve this, download a newer compatible model or retrain your custom model with the current spaCy version. For more details and available updates, run: python -m spacy validate\n",
      "  warnings.warn(warn_msg)\n",
      "C:\\Users\\kambo\\anaconda3\\lib\\site-packages\\spacy\\util.py:275: UserWarning: [W031] Model 'en_training' (0.0.0) requires spaCy v2.1 and is incompatible with the current spaCy version (2.3.5). This may lead to unexpected results or runtime errors. To resolve this, download a newer compatible model or retrain your custom model with the current spaCy version. For more details and available updates, run: python -m spacy validate\n",
      "  warnings.warn(warn_msg)\n",
      "C:\\Users\\kambo\\anaconda3\\lib\\site-packages\\spacy\\util.py:275: UserWarning: [W031] Model 'en_training' (0.0.0) requires spaCy v2.1 and is incompatible with the current spaCy version (2.3.5). This may lead to unexpected results or runtime errors. To resolve this, download a newer compatible model or retrain your custom model with the current spaCy version. For more details and available updates, run: python -m spacy validate\n",
      "  warnings.warn(warn_msg)\n",
      "C:\\Users\\kambo\\anaconda3\\lib\\site-packages\\spacy\\util.py:275: UserWarning: [W031] Model 'en_training' (0.0.0) requires spaCy v2.1 and is incompatible with the current spaCy version (2.3.5). This may lead to unexpected results or runtime errors. To resolve this, download a newer compatible model or retrain your custom model with the current spaCy version. For more details and available updates, run: python -m spacy validate\n",
      "  warnings.warn(warn_msg)\n",
      "C:\\Users\\kambo\\anaconda3\\lib\\site-packages\\spacy\\util.py:275: UserWarning: [W031] Model 'en_training' (0.0.0) requires spaCy v2.1 and is incompatible with the current spaCy version (2.3.5). This may lead to unexpected results or runtime errors. To resolve this, download a newer compatible model or retrain your custom model with the current spaCy version. For more details and available updates, run: python -m spacy validate\n",
      "  warnings.warn(warn_msg)\n",
      "C:\\Users\\kambo\\anaconda3\\lib\\site-packages\\spacy\\util.py:275: UserWarning: [W031] Model 'en_training' (0.0.0) requires spaCy v2.1 and is incompatible with the current spaCy version (2.3.5). This may lead to unexpected results or runtime errors. To resolve this, download a newer compatible model or retrain your custom model with the current spaCy version. For more details and available updates, run: python -m spacy validate\n",
      "  warnings.warn(warn_msg)\n",
      "C:\\Users\\kambo\\anaconda3\\lib\\site-packages\\spacy\\util.py:275: UserWarning: [W031] Model 'en_training' (0.0.0) requires spaCy v2.1 and is incompatible with the current spaCy version (2.3.5). This may lead to unexpected results or runtime errors. To resolve this, download a newer compatible model or retrain your custom model with the current spaCy version. For more details and available updates, run: python -m spacy validate\n",
      "  warnings.warn(warn_msg)\n",
      "C:\\Users\\kambo\\anaconda3\\lib\\site-packages\\spacy\\util.py:275: UserWarning: [W031] Model 'en_training' (0.0.0) requires spaCy v2.1 and is incompatible with the current spaCy version (2.3.5). This may lead to unexpected results or runtime errors. To resolve this, download a newer compatible model or retrain your custom model with the current spaCy version. For more details and available updates, run: python -m spacy validate\n",
      "  warnings.warn(warn_msg)\n",
      "C:\\Users\\kambo\\anaconda3\\lib\\site-packages\\spacy\\util.py:275: UserWarning: [W031] Model 'en_training' (0.0.0) requires spaCy v2.1 and is incompatible with the current spaCy version (2.3.5). This may lead to unexpected results or runtime errors. To resolve this, download a newer compatible model or retrain your custom model with the current spaCy version. For more details and available updates, run: python -m spacy validate\n",
      "  warnings.warn(warn_msg)\n",
      "C:\\Users\\kambo\\anaconda3\\lib\\site-packages\\spacy\\util.py:275: UserWarning: [W031] Model 'en_training' (0.0.0) requires spaCy v2.1 and is incompatible with the current spaCy version (2.3.5). This may lead to unexpected results or runtime errors. To resolve this, download a newer compatible model or retrain your custom model with the current spaCy version. For more details and available updates, run: python -m spacy validate\n",
      "  warnings.warn(warn_msg)\n",
      "C:\\Users\\kambo\\anaconda3\\lib\\site-packages\\spacy\\util.py:275: UserWarning: [W031] Model 'en_training' (0.0.0) requires spaCy v2.1 and is incompatible with the current spaCy version (2.3.5). This may lead to unexpected results or runtime errors. To resolve this, download a newer compatible model or retrain your custom model with the current spaCy version. For more details and available updates, run: python -m spacy validate\n",
      "  warnings.warn(warn_msg)\n",
      "C:\\Users\\kambo\\anaconda3\\lib\\site-packages\\spacy\\util.py:275: UserWarning: [W031] Model 'en_training' (0.0.0) requires spaCy v2.1 and is incompatible with the current spaCy version (2.3.5). This may lead to unexpected results or runtime errors. To resolve this, download a newer compatible model or retrain your custom model with the current spaCy version. For more details and available updates, run: python -m spacy validate\n",
      "  warnings.warn(warn_msg)\n",
      "C:\\Users\\kambo\\anaconda3\\lib\\site-packages\\spacy\\util.py:275: UserWarning: [W031] Model 'en_training' (0.0.0) requires spaCy v2.1 and is incompatible with the current spaCy version (2.3.5). This may lead to unexpected results or runtime errors. To resolve this, download a newer compatible model or retrain your custom model with the current spaCy version. For more details and available updates, run: python -m spacy validate\n",
      "  warnings.warn(warn_msg)\n",
      "C:\\Users\\kambo\\anaconda3\\lib\\site-packages\\spacy\\util.py:275: UserWarning: [W031] Model 'en_training' (0.0.0) requires spaCy v2.1 and is incompatible with the current spaCy version (2.3.5). This may lead to unexpected results or runtime errors. To resolve this, download a newer compatible model or retrain your custom model with the current spaCy version. For more details and available updates, run: python -m spacy validate\n",
      "  warnings.warn(warn_msg)\n"
     ]
    },
    {
     "name": "stdout",
     "output_type": "stream",
     "text": [
      "www.linkedin.com/in/niveditaprakash1990 prakash.nivedita1@gmail.com\n",
      "prakash.nivedita1@gmail.com\n",
      "9990677609\n",
      "['Xml', 'Sql', 'Shell', 'Java', 'Queries', 'Apis', 'Rest', 'Api', 'Analytical', 'System', 'Expenses', 'Design', 'Ui', 'Spark', 'Supervisor', 'Javascript', 'Json', 'Business issues', 'Hive', 'Database', 'Health', 'Access', 'Engineering', 'Programming', 'Analysis', 'Scripting', 'Analytics', 'Mysql', 'Jsp', 'Kpi', 'Hbase', 'Research', 'Oracle', 'Workflow', 'Process', 'Jira', 'Photography', 'Nosql', 'Etl', 'Governance', 'Technical', 'Operations', 'Parser', 'Cloud', 'Testing', 'Python']\n",
      "7.33\n"
     ]
    },
    {
     "name": "stderr",
     "output_type": "stream",
     "text": [
      "C:\\Users\\kambo\\anaconda3\\lib\\site-packages\\spacy\\util.py:275: UserWarning: [W031] Model 'en_training' (0.0.0) requires spaCy v2.1 and is incompatible with the current spaCy version (2.3.5). This may lead to unexpected results or runtime errors. To resolve this, download a newer compatible model or retrain your custom model with the current spaCy version. For more details and available updates, run: python -m spacy validate\n",
      "  warnings.warn(warn_msg)\n",
      "C:\\Users\\kambo\\anaconda3\\lib\\site-packages\\spacy\\util.py:275: UserWarning: [W031] Model 'en_training' (0.0.0) requires spaCy v2.1 and is incompatible with the current spaCy version (2.3.5). This may lead to unexpected results or runtime errors. To resolve this, download a newer compatible model or retrain your custom model with the current spaCy version. For more details and available updates, run: python -m spacy validate\n",
      "  warnings.warn(warn_msg)\n",
      "C:\\Users\\kambo\\anaconda3\\lib\\site-packages\\spacy\\util.py:275: UserWarning: [W031] Model 'en_training' (0.0.0) requires spaCy v2.1 and is incompatible with the current spaCy version (2.3.5). This may lead to unexpected results or runtime errors. To resolve this, download a newer compatible model or retrain your custom model with the current spaCy version. For more details and available updates, run: python -m spacy validate\n",
      "  warnings.warn(warn_msg)\n",
      "C:\\Users\\kambo\\anaconda3\\lib\\site-packages\\spacy\\util.py:275: UserWarning: [W031] Model 'en_training' (0.0.0) requires spaCy v2.1 and is incompatible with the current spaCy version (2.3.5). This may lead to unexpected results or runtime errors. To resolve this, download a newer compatible model or retrain your custom model with the current spaCy version. For more details and available updates, run: python -m spacy validate\n",
      "  warnings.warn(warn_msg)\n",
      "C:\\Users\\kambo\\anaconda3\\lib\\site-packages\\spacy\\util.py:275: UserWarning: [W031] Model 'en_training' (0.0.0) requires spaCy v2.1 and is incompatible with the current spaCy version (2.3.5). This may lead to unexpected results or runtime errors. To resolve this, download a newer compatible model or retrain your custom model with the current spaCy version. For more details and available updates, run: python -m spacy validate\n",
      "  warnings.warn(warn_msg)\n"
     ]
    },
    {
     "name": "stdout",
     "output_type": "stream",
     "text": [
      "SANDHYA  Azure Data Engineer\n",
      "ksandy7335@gmail.com\n",
      "9492700133\n",
      "['Technical skills', 'Sql', 'Email', 'Queries', 'Db2', 'Java', 'Windows', 'Legal', 'System', 'Controls', 'Agile', 'Cola', 'Communication', 'Spark', 'Mobile', 'Excel', 'Scrum', 'Brand', 'Scheduling', 'Database', 'Analysis', 'Servers', 'Quality assurance', 'Linux', 'Datasets', 'Updates', 'Process', 'Sales', 'Reports', 'Writing', 'Aws', 'Etl', 'Beverage', 'Technical', 'Operations', 'Schedule', 'Administration', 'Cloud', 'Testing', 'Python']\n",
      "0\n"
     ]
    },
    {
     "name": "stderr",
     "output_type": "stream",
     "text": [
      "C:\\Users\\kambo\\anaconda3\\lib\\site-packages\\spacy\\util.py:275: UserWarning: [W031] Model 'en_training' (0.0.0) requires spaCy v2.1 and is incompatible with the current spaCy version (2.3.5). This may lead to unexpected results or runtime errors. To resolve this, download a newer compatible model or retrain your custom model with the current spaCy version. For more details and available updates, run: python -m spacy validate\n",
      "  warnings.warn(warn_msg)\n",
      "C:\\Users\\kambo\\anaconda3\\lib\\site-packages\\spacy\\util.py:275: UserWarning: [W031] Model 'en_training' (0.0.0) requires spaCy v2.1 and is incompatible with the current spaCy version (2.3.5). This may lead to unexpected results or runtime errors. To resolve this, download a newer compatible model or retrain your custom model with the current spaCy version. For more details and available updates, run: python -m spacy validate\n",
      "  warnings.warn(warn_msg)\n",
      "C:\\Users\\kambo\\anaconda3\\lib\\site-packages\\spacy\\util.py:275: UserWarning: [W031] Model 'en_training' (0.0.0) requires spaCy v2.1 and is incompatible with the current spaCy version (2.3.5). This may lead to unexpected results or runtime errors. To resolve this, download a newer compatible model or retrain your custom model with the current spaCy version. For more details and available updates, run: python -m spacy validate\n",
      "  warnings.warn(warn_msg)\n",
      "C:\\Users\\kambo\\anaconda3\\lib\\site-packages\\spacy\\util.py:275: UserWarning: [W031] Model 'en_training' (0.0.0) requires spaCy v2.1 and is incompatible with the current spaCy version (2.3.5). This may lead to unexpected results or runtime errors. To resolve this, download a newer compatible model or retrain your custom model with the current spaCy version. For more details and available updates, run: python -m spacy validate\n",
      "  warnings.warn(warn_msg)\n"
     ]
    },
    {
     "name": "stdout",
     "output_type": "stream",
     "text": [
      "Shekhar Nalawade\n",
      "shekhar.nalawade@gmail.com\n",
      "9503051575\n",
      "['International', 'Sql', 'Java', 'Yaml', 'Queries', 'Automation', 'Certification', 'Analytical', 'Schedules', 'Migration', 'Agile', 'Life cycle', 'Healthcare', 'Reporting', 'Mobile', 'Excel', 'Json', 'Banking', 'Scrum', 'Architecture', 'Database', 'Health', 'Training', 'Big data', 'Engineering', 'Analysis', 'Unix', 'Ibm', 'Programming', 'Scripting', 'Data analysis', 'Warehouse', 'English', 'Retail', 'Oracle', 'Workflow', 'Pyspark', 'Jira', 'Test cases', 'Etl', 'Technical', 'Operations', 'Finance', 'Schedule', 'Cloud', 'Testing', 'Python']\n",
      "0.0\n"
     ]
    },
    {
     "name": "stderr",
     "output_type": "stream",
     "text": [
      "C:\\Users\\kambo\\anaconda3\\lib\\site-packages\\spacy\\util.py:275: UserWarning: [W031] Model 'en_training' (0.0.0) requires spaCy v2.1 and is incompatible with the current spaCy version (2.3.5). This may lead to unexpected results or runtime errors. To resolve this, download a newer compatible model or retrain your custom model with the current spaCy version. For more details and available updates, run: python -m spacy validate\n",
      "  warnings.warn(warn_msg)\n",
      "C:\\Users\\kambo\\anaconda3\\lib\\site-packages\\spacy\\util.py:275: UserWarning: [W031] Model 'en_training' (0.0.0) requires spaCy v2.1 and is incompatible with the current spaCy version (2.3.5). This may lead to unexpected results or runtime errors. To resolve this, download a newer compatible model or retrain your custom model with the current spaCy version. For more details and available updates, run: python -m spacy validate\n",
      "  warnings.warn(warn_msg)\n",
      "C:\\Users\\kambo\\anaconda3\\lib\\site-packages\\spacy\\util.py:275: UserWarning: [W031] Model 'en_training' (0.0.0) requires spaCy v2.1 and is incompatible with the current spaCy version (2.3.5). This may lead to unexpected results or runtime errors. To resolve this, download a newer compatible model or retrain your custom model with the current spaCy version. For more details and available updates, run: python -m spacy validate\n",
      "  warnings.warn(warn_msg)\n",
      "C:\\Users\\kambo\\anaconda3\\lib\\site-packages\\spacy\\util.py:275: UserWarning: [W031] Model 'en_training' (0.0.0) requires spaCy v2.1 and is incompatible with the current spaCy version (2.3.5). This may lead to unexpected results or runtime errors. To resolve this, download a newer compatible model or retrain your custom model with the current spaCy version. For more details and available updates, run: python -m spacy validate\n",
      "  warnings.warn(warn_msg)\n",
      "C:\\Users\\kambo\\anaconda3\\lib\\site-packages\\spacy\\util.py:275: UserWarning: [W031] Model 'en_training' (0.0.0) requires spaCy v2.1 and is incompatible with the current spaCy version (2.3.5). This may lead to unexpected results or runtime errors. To resolve this, download a newer compatible model or retrain your custom model with the current spaCy version. For more details and available updates, run: python -m spacy validate\n",
      "  warnings.warn(warn_msg)\n",
      "C:\\Users\\kambo\\anaconda3\\lib\\site-packages\\spacy\\util.py:275: UserWarning: [W031] Model 'en_training' (0.0.0) requires spaCy v2.1 and is incompatible with the current spaCy version (2.3.5). This may lead to unexpected results or runtime errors. To resolve this, download a newer compatible model or retrain your custom model with the current spaCy version. For more details and available updates, run: python -m spacy validate\n",
      "  warnings.warn(warn_msg)\n",
      "C:\\Users\\kambo\\anaconda3\\lib\\site-packages\\spacy\\util.py:275: UserWarning: [W031] Model 'en_training' (0.0.0) requires spaCy v2.1 and is incompatible with the current spaCy version (2.3.5). This may lead to unexpected results or runtime errors. To resolve this, download a newer compatible model or retrain your custom model with the current spaCy version. For more details and available updates, run: python -m spacy validate\n",
      "  warnings.warn(warn_msg)\n",
      "C:\\Users\\kambo\\anaconda3\\lib\\site-packages\\spacy\\util.py:275: UserWarning: [W031] Model 'en_training' (0.0.0) requires spaCy v2.1 and is incompatible with the current spaCy version (2.3.5). This may lead to unexpected results or runtime errors. To resolve this, download a newer compatible model or retrain your custom model with the current spaCy version. For more details and available updates, run: python -m spacy validate\n",
      "  warnings.warn(warn_msg)\n"
     ]
    },
    {
     "name": "stdout",
     "output_type": "stream",
     "text": [
      "Sudhakar Email\n",
      "nsudhacar.it@gmail.com\n",
      "7675973049\n",
      "['Xml', 'Sql', 'Shell', 'Email', 'Queries', 'Java', 'Openstack', 'Docker', 'Telecom', 'Automation', 'Application support', 'Windows', 'Api', 'System', 'Migration', 'Agile', 'Design', 'Networking', 'Communication', 'Spark', 'Html', 'Json', 'Business issues', 'Scrum', 'Hive', 'Ubuntu', 'Dhcp', 'Analyze', 'Content', 'Sharepoint', 'Database', 'Health', 'Debugging', 'Programming', 'Analysis', 'Servers', 'Scripting', 'Analytics', 'Improvement', 'Hardware', 'Jsp', 'Active directory', 'Security', 'Linux', 'Sql server', 'Updates', 'Oracle', 'Process', 'Reports', 'Visual', 'Workflows', 'Tfs', 'Troubleshooting', 'Dns', 'Installation', 'Broadcast', 'Etl', 'Technical', 'Operations', 'Software development life cycle', 'Invoices', 'Administration', 'Parser', 'Cloud', 'Testing', 'Python', '.net']\n",
      "0.0\n"
     ]
    },
    {
     "name": "stderr",
     "output_type": "stream",
     "text": [
      "C:\\Users\\kambo\\anaconda3\\lib\\site-packages\\spacy\\util.py:275: UserWarning: [W031] Model 'en_training' (0.0.0) requires spaCy v2.1 and is incompatible with the current spaCy version (2.3.5). This may lead to unexpected results or runtime errors. To resolve this, download a newer compatible model or retrain your custom model with the current spaCy version. For more details and available updates, run: python -m spacy validate\n",
      "  warnings.warn(warn_msg)\n",
      "C:\\Users\\kambo\\anaconda3\\lib\\site-packages\\spacy\\util.py:275: UserWarning: [W031] Model 'en_training' (0.0.0) requires spaCy v2.1 and is incompatible with the current spaCy version (2.3.5). This may lead to unexpected results or runtime errors. To resolve this, download a newer compatible model or retrain your custom model with the current spaCy version. For more details and available updates, run: python -m spacy validate\n",
      "  warnings.warn(warn_msg)\n",
      "C:\\Users\\kambo\\anaconda3\\lib\\site-packages\\spacy\\util.py:275: UserWarning: [W031] Model 'en_training' (0.0.0) requires spaCy v2.1 and is incompatible with the current spaCy version (2.3.5). This may lead to unexpected results or runtime errors. To resolve this, download a newer compatible model or retrain your custom model with the current spaCy version. For more details and available updates, run: python -m spacy validate\n",
      "  warnings.warn(warn_msg)\n",
      "C:\\Users\\kambo\\anaconda3\\lib\\site-packages\\spacy\\util.py:275: UserWarning: [W031] Model 'en_training' (0.0.0) requires spaCy v2.1 and is incompatible with the current spaCy version (2.3.5). This may lead to unexpected results or runtime errors. To resolve this, download a newer compatible model or retrain your custom model with the current spaCy version. For more details and available updates, run: python -m spacy validate\n",
      "  warnings.warn(warn_msg)\n"
     ]
    },
    {
     "name": "stdout",
     "output_type": "stream",
     "text": [
      "Tanjeet Singh\n",
      "tanjeetsajmani@gmail.com\n",
      "7697629476\n",
      "['Programming', 'Python', 'Java', 'Scripting', 'Hive', 'Warehouse', 'Etl', 'Hbase', 'Research', 'Technical', 'Oracle', 'Analytics', 'Engineering', 'Analysis', 'Unix', 'Cloud', 'Reporting', 'Spark']\n",
      "0.0\n"
     ]
    },
    {
     "name": "stderr",
     "output_type": "stream",
     "text": [
      "C:\\Users\\kambo\\anaconda3\\lib\\site-packages\\spacy\\util.py:275: UserWarning: [W031] Model 'en_training' (0.0.0) requires spaCy v2.1 and is incompatible with the current spaCy version (2.3.5). This may lead to unexpected results or runtime errors. To resolve this, download a newer compatible model or retrain your custom model with the current spaCy version. For more details and available updates, run: python -m spacy validate\n",
      "  warnings.warn(warn_msg)\n",
      "C:\\Users\\kambo\\anaconda3\\lib\\site-packages\\spacy\\util.py:275: UserWarning: [W031] Model 'en_training' (0.0.0) requires spaCy v2.1 and is incompatible with the current spaCy version (2.3.5). This may lead to unexpected results or runtime errors. To resolve this, download a newer compatible model or retrain your custom model with the current spaCy version. For more details and available updates, run: python -m spacy validate\n",
      "  warnings.warn(warn_msg)\n",
      "C:\\Users\\kambo\\anaconda3\\lib\\site-packages\\spacy\\util.py:275: UserWarning: [W031] Model 'en_training' (0.0.0) requires spaCy v2.1 and is incompatible with the current spaCy version (2.3.5). This may lead to unexpected results or runtime errors. To resolve this, download a newer compatible model or retrain your custom model with the current spaCy version. For more details and available updates, run: python -m spacy validate\n",
      "  warnings.warn(warn_msg)\n"
     ]
    },
    {
     "name": "stdout",
     "output_type": "stream",
     "text": [
      "Venu Gopal\n",
      "venugopal4a0@gmail.com\n",
      "0807499266\n",
      "['Sql server', 'Sql', 'Rest', 'Java', 'Python', 'Datasets', 'Sap', 'Etl', 'Api', 'English', 'Process', 'Pyspark', 'Mysql', 'Aws', 'Spark']\n",
      "0.0\n"
     ]
    },
    {
     "name": "stderr",
     "output_type": "stream",
     "text": [
      "C:\\Users\\kambo\\anaconda3\\lib\\site-packages\\spacy\\util.py:275: UserWarning: [W031] Model 'en_training' (0.0.0) requires spaCy v2.1 and is incompatible with the current spaCy version (2.3.5). This may lead to unexpected results or runtime errors. To resolve this, download a newer compatible model or retrain your custom model with the current spaCy version. For more details and available updates, run: python -m spacy validate\n",
      "  warnings.warn(warn_msg)\n",
      "C:\\Users\\kambo\\anaconda3\\lib\\site-packages\\spacy\\util.py:275: UserWarning: [W031] Model 'en_training' (0.0.0) requires spaCy v2.1 and is incompatible with the current spaCy version (2.3.5). This may lead to unexpected results or runtime errors. To resolve this, download a newer compatible model or retrain your custom model with the current spaCy version. For more details and available updates, run: python -m spacy validate\n",
      "  warnings.warn(warn_msg)\n",
      "C:\\Users\\kambo\\anaconda3\\lib\\site-packages\\spacy\\util.py:275: UserWarning: [W031] Model 'en_training' (0.0.0) requires spaCy v2.1 and is incompatible with the current spaCy version (2.3.5). This may lead to unexpected results or runtime errors. To resolve this, download a newer compatible model or retrain your custom model with the current spaCy version. For more details and available updates, run: python -m spacy validate\n",
      "  warnings.warn(warn_msg)\n",
      "C:\\Users\\kambo\\anaconda3\\lib\\site-packages\\spacy\\util.py:275: UserWarning: [W031] Model 'en_training' (0.0.0) requires spaCy v2.1 and is incompatible with the current spaCy version (2.3.5). This may lead to unexpected results or runtime errors. To resolve this, download a newer compatible model or retrain your custom model with the current spaCy version. For more details and available updates, run: python -m spacy validate\n",
      "  warnings.warn(warn_msg)\n"
     ]
    },
    {
     "name": "stdout",
     "output_type": "stream",
     "text": [
      "Neelu Aggarwal\n",
      "neelu.aggarwal94@gmail.com\n",
      "7042138228\n",
      "['Sql', 'Rest', 'Java', 'Writing', 'Safety', 'Agile', 'English', 'Api', 'C++', 'Architecture', 'Documentation', 'Health', 'C', 'Access', 'Engineering', 'Analysis', 'Design', 'Protocols']\n",
      "0.0\n"
     ]
    },
    {
     "name": "stderr",
     "output_type": "stream",
     "text": [
      "C:\\Users\\kambo\\anaconda3\\lib\\site-packages\\spacy\\util.py:275: UserWarning: [W031] Model 'en_training' (0.0.0) requires spaCy v2.1 and is incompatible with the current spaCy version (2.3.5). This may lead to unexpected results or runtime errors. To resolve this, download a newer compatible model or retrain your custom model with the current spaCy version. For more details and available updates, run: python -m spacy validate\n",
      "  warnings.warn(warn_msg)\n"
     ]
    },
    {
     "name": "stdout",
     "output_type": "stream",
     "text": [
      "Ganesh Gaikwad\n",
      "ganesh.gaikwad5692@gmail.com\n",
      "9699321345\n",
      "['Rest', 'Java', 'Website', 'Computer applications', 'Api', 'Windows', 'Agile', 'Design', 'Html', 'Javascript', 'Excel', 'Web services', 'Banking', 'Analyze', 'Brand', 'Sdlc', 'Mysql', 'Ecommerce', 'English', 'Sci', 'Plan', 'Jira', 'Writing', 'Lifecycle', 'Css', 'Technical', 'Word', 'Software development life cycle', 'Testing', 'Coding']\n",
      "0.0\n"
     ]
    },
    {
     "name": "stderr",
     "output_type": "stream",
     "text": [
      "C:\\Users\\kambo\\anaconda3\\lib\\site-packages\\spacy\\util.py:275: UserWarning: [W031] Model 'en_training' (0.0.0) requires spaCy v2.1 and is incompatible with the current spaCy version (2.3.5). This may lead to unexpected results or runtime errors. To resolve this, download a newer compatible model or retrain your custom model with the current spaCy version. For more details and available updates, run: python -m spacy validate\n",
      "  warnings.warn(warn_msg)\n",
      "C:\\Users\\kambo\\anaconda3\\lib\\site-packages\\spacy\\util.py:275: UserWarning: [W031] Model 'en_training' (0.0.0) requires spaCy v2.1 and is incompatible with the current spaCy version (2.3.5). This may lead to unexpected results or runtime errors. To resolve this, download a newer compatible model or retrain your custom model with the current spaCy version. For more details and available updates, run: python -m spacy validate\n",
      "  warnings.warn(warn_msg)\n"
     ]
    },
    {
     "name": "stdout",
     "output_type": "stream",
     "text": [
      "Nishant Kodathi\n",
      "kodatinishant12345@gmail.com\n",
      "9705120540\n",
      "['Sql', 'Website', 'Java', 'Queries', 'Apis', 'Automation', 'Design', 'Reporting', 'Spark', 'C#', 'Architecture', 'Database', 'Debugging', 'Access', 'Analysis', 'Engineering', 'Threading', 'Data analysis', 'Analytics', 'Scripting', 'Active directory', 'Warehouse', 'Process', 'Visual', 'Aws', 'Project management skills', 'Auditing', 'Technical', 'C', 'Cloud', 'Python']\n",
      "0.0\n"
     ]
    },
    {
     "name": "stderr",
     "output_type": "stream",
     "text": [
      "C:\\Users\\kambo\\anaconda3\\lib\\site-packages\\spacy\\util.py:275: UserWarning: [W031] Model 'en_training' (0.0.0) requires spaCy v2.1 and is incompatible with the current spaCy version (2.3.5). This may lead to unexpected results or runtime errors. To resolve this, download a newer compatible model or retrain your custom model with the current spaCy version. For more details and available updates, run: python -m spacy validate\n",
      "  warnings.warn(warn_msg)\n"
     ]
    },
    {
     "name": "stdout",
     "output_type": "stream",
     "text": [
      "NITHIN R\n",
      "nithin93reghu@gmail.com\n",
      "8848346291\n",
      "['Rest', 'Java', 'Api', 'Time management', 'Agile', 'Design', 'Communication', 'Html', 'Mobile', 'Postgresql', 'Excel', 'Web services', 'Sdlc', 'Engineering', 'Analysis', 'Improvement', 'Research', 'Oracle', 'Jira', 'R', 'Electronics', 'Technical', 'Project management', 'Pdf', 'Github', 'Testing']\n",
      "0.0\n"
     ]
    },
    {
     "name": "stderr",
     "output_type": "stream",
     "text": [
      "C:\\Users\\kambo\\anaconda3\\lib\\site-packages\\spacy\\util.py:275: UserWarning: [W031] Model 'en_training' (0.0.0) requires spaCy v2.1 and is incompatible with the current spaCy version (2.3.5). This may lead to unexpected results or runtime errors. To resolve this, download a newer compatible model or retrain your custom model with the current spaCy version. For more details and available updates, run: python -m spacy validate\n",
      "  warnings.warn(warn_msg)\n"
     ]
    },
    {
     "name": "stdout",
     "output_type": "stream",
     "text": [
      "NITISH PANDEY\n",
      "pandeynitish22@gmail.com\n",
      "9125314129\n",
      "['International', 'Sql', 'Rest', 'Java', 'Windows', 'System', 'Agile', 'Conversion', 'Communication', 'Operating systems', 'Web services', 'Architecture', 'Database', 'Debugging', 'Documentation', 'Servers', 'Oracle', 'Jira', 'Electronics', 'Operations', 'Finance', 'Testing']\n",
      "0.0\n"
     ]
    },
    {
     "name": "stderr",
     "output_type": "stream",
     "text": [
      "C:\\Users\\kambo\\anaconda3\\lib\\site-packages\\spacy\\util.py:275: UserWarning: [W031] Model 'en_training' (0.0.0) requires spaCy v2.1 and is incompatible with the current spaCy version (2.3.5). This may lead to unexpected results or runtime errors. To resolve this, download a newer compatible model or retrain your custom model with the current spaCy version. For more details and available updates, run: python -m spacy validate\n",
      "  warnings.warn(warn_msg)\n"
     ]
    },
    {
     "name": "stdout",
     "output_type": "stream",
     "text": [
      "Java Developer\n",
      "nogeshhalmare.official@gmail.com\n",
      "9172247748\n",
      "['Xml', 'Sql', 'Rest', 'Java', 'Api', 'Windows', 'System', 'Design', 'Javascript', 'Json', 'Os', 'Database', 'Health', 'Sdlc', 'Access', 'Debugging', 'Analysis', 'Documentation', 'Servers', 'Jsp', 'Security', 'Linux', 'Logging', 'English', 'Research', 'Oracle', 'Jira', 'Writing', 'Lifecycle', 'Technical', 'Coding']\n",
      "0.0\n"
     ]
    },
    {
     "name": "stderr",
     "output_type": "stream",
     "text": [
      "C:\\Users\\kambo\\anaconda3\\lib\\site-packages\\spacy\\util.py:275: UserWarning: [W031] Model 'en_training' (0.0.0) requires spaCy v2.1 and is incompatible with the current spaCy version (2.3.5). This may lead to unexpected results or runtime errors. To resolve this, download a newer compatible model or retrain your custom model with the current spaCy version. For more details and available updates, run: python -m spacy validate\n",
      "  warnings.warn(warn_msg)\n"
     ]
    },
    {
     "name": "stdout",
     "output_type": "stream",
     "text": [
      "Om Gawande\n",
      "gawandeom03@gmail.com\n",
      "7350614031\n",
      "['Rest', 'Java', 'Queries', 'Website', 'Api', 'System', 'Agile', 'Design', 'Reporting', 'Communication', 'Javascript', 'Excel', 'Presentation', 'E-commerce', 'Debugging', 'Engineering', 'Programming', 'Analysis', 'Servers', 'Scripting', 'Improvement', 'Mysql', 'Jsp', 'English', 'Process', 'Sales', 'Jira', 'Gmail', 'Writing', 'Requests', 'Information technology', 'Html5', 'Technical', 'Word', 'Testing', 'Coding']\n",
      "0.0\n"
     ]
    },
    {
     "name": "stderr",
     "output_type": "stream",
     "text": [
      "C:\\Users\\kambo\\anaconda3\\lib\\site-packages\\spacy\\util.py:275: UserWarning: [W031] Model 'en_training' (0.0.0) requires spaCy v2.1 and is incompatible with the current spaCy version (2.3.5). This may lead to unexpected results or runtime errors. To resolve this, download a newer compatible model or retrain your custom model with the current spaCy version. For more details and available updates, run: python -m spacy validate\n",
      "  warnings.warn(warn_msg)\n"
     ]
    },
    {
     "name": "stdout",
     "output_type": "stream",
     "text": [
      "OMKAR GHUGARE\n",
      "omkar.ghugare992@gmail.com\n",
      "9175123965\n",
      "['Technical skills', 'Xml', 'Sql', 'Rest', 'Java', 'Windows', 'C++', 'System', 'Design', 'Networking', 'Ui', 'Communication', 'Html', 'Cloud', 'Programming', 'Servers', 'Mysql', 'Security', 'Linux', 'English', 'Oracle', 'Visual', 'Workflows', 'Saas', 'Css', 'Technical', 'C', 'Github', 'Testing']\n",
      "0.0\n"
     ]
    },
    {
     "name": "stderr",
     "output_type": "stream",
     "text": [
      "C:\\Users\\kambo\\anaconda3\\lib\\site-packages\\spacy\\util.py:275: UserWarning: [W031] Model 'en_training' (0.0.0) requires spaCy v2.1 and is incompatible with the current spaCy version (2.3.5). This may lead to unexpected results or runtime errors. To resolve this, download a newer compatible model or retrain your custom model with the current spaCy version. For more details and available updates, run: python -m spacy validate\n",
      "  warnings.warn(warn_msg)\n",
      "C:\\Users\\kambo\\anaconda3\\lib\\site-packages\\spacy\\util.py:275: UserWarning: [W031] Model 'en_training' (0.0.0) requires spaCy v2.1 and is incompatible with the current spaCy version (2.3.5). This may lead to unexpected results or runtime errors. To resolve this, download a newer compatible model or retrain your custom model with the current spaCy version. For more details and available updates, run: python -m spacy validate\n",
      "  warnings.warn(warn_msg)\n"
     ]
    },
    {
     "name": "stdout",
     "output_type": "stream",
     "text": [
      "Paleti Bhanu\n",
      "paletibanujava0830@gmail.com\n",
      "9581150605\n",
      "['Xml', 'Sql', 'Payments', 'Java', 'Email', 'Rest', 'Queries', 'Apis', 'Api', 'Analytical', 'System', 'Healthcare', 'Reporting', 'Html', 'Javascript', 'Json', 'Presentation', 'Web services', 'Cloud', 'Architecture', 'Database', 'Health', 'Access', 'Analysis', 'Specifications', 'Security', 'Linux', 'Logging', 'Policies', 'Oracle', 'Process', 'Jira', 'Saas', 'Routing', 'Css', 'Technical', 'Regulations', 'Administration', 'Github', 'Filing', 'Testing']\n",
      "0.0\n"
     ]
    },
    {
     "name": "stderr",
     "output_type": "stream",
     "text": [
      "C:\\Users\\kambo\\anaconda3\\lib\\site-packages\\spacy\\util.py:275: UserWarning: [W031] Model 'en_training' (0.0.0) requires spaCy v2.1 and is incompatible with the current spaCy version (2.3.5). This may lead to unexpected results or runtime errors. To resolve this, download a newer compatible model or retrain your custom model with the current spaCy version. For more details and available updates, run: python -m spacy validate\n",
      "  warnings.warn(warn_msg)\n"
     ]
    },
    {
     "name": "stdout",
     "output_type": "stream",
     "text": [
      "Name   \n",
      "pareshpk.tech@gmail.com\n",
      "9699075841\n",
      "['Sql server', 'Pattern', 'Sql', 'Java', 'Windows', 'Api', 'Analytical', 'System', 'Agile', 'Design', 'Logistics', 'Reporting', 'Html', 'Operating systems', 'Json', 'Scrum', 'Architecture', 'Database', 'Documentation', 'Analysis', 'Programming', 'Mysql', 'Jsp', 'Github', 'Electrical', 'Transactions', 'Warehouse', 'English', 'Research', 'Oracle', 'Process', 'Jira', 'Reports', 'Writing', 'Aws', 'Modeling', 'Requests', 'Information technology', 'Algorithms', 'Css', 'Cad', 'Money', 'C', 'Cloud', 'Testing', 'Transport', 'Coding']\n",
      "0\n"
     ]
    },
    {
     "name": "stderr",
     "output_type": "stream",
     "text": [
      "C:\\Users\\kambo\\anaconda3\\lib\\site-packages\\spacy\\util.py:275: UserWarning: [W031] Model 'en_training' (0.0.0) requires spaCy v2.1 and is incompatible with the current spaCy version (2.3.5). This may lead to unexpected results or runtime errors. To resolve this, download a newer compatible model or retrain your custom model with the current spaCy version. For more details and available updates, run: python -m spacy validate\n",
      "  warnings.warn(warn_msg)\n",
      "C:\\Users\\kambo\\anaconda3\\lib\\site-packages\\spacy\\util.py:275: UserWarning: [W031] Model 'en_training' (0.0.0) requires spaCy v2.1 and is incompatible with the current spaCy version (2.3.5). This may lead to unexpected results or runtime errors. To resolve this, download a newer compatible model or retrain your custom model with the current spaCy version. For more details and available updates, run: python -m spacy validate\n",
      "  warnings.warn(warn_msg)\n"
     ]
    },
    {
     "name": "stdout",
     "output_type": "stream",
     "text": [
      "Prakash D\n",
      "tech.prakash94@gmail.com\n",
      "9392491948\n",
      "['Xml', 'Pattern', 'Rest', 'Java', 'Email', 'Apis', 'Api', 'Agile', 'Design', 'Reporting', 'Html', 'Json', 'Web services', 'Documentation', 'Programming', 'Servers', 'Mysql', 'Process', 'Strategy', 'Soap', 'Information technology', 'Technical', 'C']\n",
      "0.0\n"
     ]
    },
    {
     "name": "stderr",
     "output_type": "stream",
     "text": [
      "C:\\Users\\kambo\\anaconda3\\lib\\site-packages\\spacy\\util.py:275: UserWarning: [W031] Model 'en_training' (0.0.0) requires spaCy v2.1 and is incompatible with the current spaCy version (2.3.5). This may lead to unexpected results or runtime errors. To resolve this, download a newer compatible model or retrain your custom model with the current spaCy version. For more details and available updates, run: python -m spacy validate\n",
      "  warnings.warn(warn_msg)\n"
     ]
    },
    {
     "name": "stdout",
     "output_type": "stream",
     "text": [
      "Prathap R\n",
      "prathapram17@gmail.com\n",
      "9597721923\n",
      "['Java', 'Procurement', 'Automation', 'Windows', 'Inventory management', 'Analytical', 'Controls', 'System', 'Communication', 'Html', 'Mobile', 'Compliance', 'Banking', 'Brand', 'Database', 'Programming', 'Iso', 'Analysis', 'Servers', 'Mysql', 'Jsp', 'English', 'Customer requirements', 'Retail', 'Oracle', 'Process', 'R', 'Css', 'Technical', 'Operations', 'Inventory', 'Consulting', 'Falcon', 'Cloud', 'Coding']\n",
      "0.0\n"
     ]
    },
    {
     "name": "stderr",
     "output_type": "stream",
     "text": [
      "C:\\Users\\kambo\\anaconda3\\lib\\site-packages\\spacy\\util.py:275: UserWarning: [W031] Model 'en_training' (0.0.0) requires spaCy v2.1 and is incompatible with the current spaCy version (2.3.5). This may lead to unexpected results or runtime errors. To resolve this, download a newer compatible model or retrain your custom model with the current spaCy version. For more details and available updates, run: python -m spacy validate\n",
      "  warnings.warn(warn_msg)\n"
     ]
    },
    {
     "name": "stdout",
     "output_type": "stream",
     "text": [
      "Curriculum Vitae\n",
      "psiddhu.tech@outlook.com\n",
      "8355826194\n",
      "['Xml', 'Sql', 'Rest', 'Java', 'Email', 'Pattern', 'Apis', 'Sql server', 'Pl/sql', 'Api', 'System', 'Agile', 'Design', 'Ui', 'Communication', 'Html', 'Underwriting', 'Javascript', 'Mobile', 'Postgresql', 'Json', 'Web services', 'Scrum', 'Architecture', 'Database', 'Health', 'Sdlc', 'Debugging', 'Documentation', 'Analysis', 'Ibm', 'Programming', 'Servers', 'Unix', 'Engineering', 'Mysql', 'Access', 'Jsp', 'Security', 'Logging', 'English', 'Policies', 'Oracle', 'Process', 'Workflow', 'Reports', 'Writing', 'Strategy', 'Soap', 'Installation', 'Css', 'Technical', 'Operations', 'Help desk', 'Resource management', 'Parser', 'Testing', 'Coding']\n",
      "0.0\n"
     ]
    },
    {
     "name": "stderr",
     "output_type": "stream",
     "text": [
      "C:\\Users\\kambo\\anaconda3\\lib\\site-packages\\spacy\\util.py:275: UserWarning: [W031] Model 'en_training' (0.0.0) requires spaCy v2.1 and is incompatible with the current spaCy version (2.3.5). This may lead to unexpected results or runtime errors. To resolve this, download a newer compatible model or retrain your custom model with the current spaCy version. For more details and available updates, run: python -m spacy validate\n",
      "  warnings.warn(warn_msg)\n"
     ]
    },
    {
     "name": "stdout",
     "output_type": "stream",
     "text": [
      "Software Skills\n",
      "rachayitapatro337741@gmail.com\n",
      "7205221783\n",
      "['Purchasing', 'Java', 'Email', 'Windows', 'Api', 'Design', 'Html', 'Javascript', 'Banking', 'Database', 'Access', 'Programming', 'Mysql', 'Security', 'Oracle', 'Budget', 'Plan', 'Jira', 'Sales', 'End user', 'Cloud', 'Testing']\n",
      "0.0\n"
     ]
    },
    {
     "name": "stderr",
     "output_type": "stream",
     "text": [
      "C:\\Users\\kambo\\anaconda3\\lib\\site-packages\\spacy\\util.py:275: UserWarning: [W031] Model 'en_training' (0.0.0) requires spaCy v2.1 and is incompatible with the current spaCy version (2.3.5). This may lead to unexpected results or runtime errors. To resolve this, download a newer compatible model or retrain your custom model with the current spaCy version. For more details and available updates, run: python -m spacy validate\n",
      "  warnings.warn(warn_msg)\n"
     ]
    },
    {
     "name": "stdout",
     "output_type": "stream",
     "text": [
      "Dell Customer Communication\n",
      "tech.rahulsahu876@gmail.com\n",
      "9376407674\n",
      "['Apis', 'Rest', 'Java', 'Email', 'Automation', 'Windows', 'Api', 'Analytical', 'System', 'Agile', 'Ui', 'Communication', 'Html', 'Database', 'Access', 'Programming', 'Servers', 'Mysql', 'Jsp', 'Linux', 'Logging', 'Warehouse', 'Oracle', 'Jira', 'Writing', 'Marketing', 'Css', 'Vendors', 'Technical', 'Testing']\n",
      "0.0\n"
     ]
    },
    {
     "name": "stderr",
     "output_type": "stream",
     "text": [
      "C:\\Users\\kambo\\anaconda3\\lib\\site-packages\\spacy\\util.py:275: UserWarning: [W031] Model 'en_training' (0.0.0) requires spaCy v2.1 and is incompatible with the current spaCy version (2.3.5). This may lead to unexpected results or runtime errors. To resolve this, download a newer compatible model or retrain your custom model with the current spaCy version. For more details and available updates, run: python -m spacy validate\n",
      "  warnings.warn(warn_msg)\n"
     ]
    },
    {
     "name": "stdout",
     "output_type": "stream",
     "text": [
      "Rajeev Ranjan\n",
      "E-mail:rajeev.p.ranjan0307@gmail.com\n",
      "None\n",
      "['International', 'Purchasing', 'Sql', 'Website', 'Java', 'Db2', 'Telecom', 'Queries', 'Solicitation', 'Distribution', 'Email', 'Windows', 'System', 'Design', 'Html', 'Intranet', 'Javascript', 'Payroll', 'Mobile', 'Presentation', 'Database', 'Debugging', 'Documentation', 'Access', 'Unix', 'Ibm', 'Servers', 'Mysql', 'Jsp', 'Billing', 'Transportation', 'English', 'Retail', 'Oracle', 'Workflow', 'Plan', 'Litigation', 'Flex', 'Writing', 'Marketing', 'Hospital', 'Github', 'Fulfillment', 'Testing']\n",
      "0\n"
     ]
    },
    {
     "name": "stderr",
     "output_type": "stream",
     "text": [
      "C:\\Users\\kambo\\anaconda3\\lib\\site-packages\\spacy\\util.py:275: UserWarning: [W031] Model 'en_training' (0.0.0) requires spaCy v2.1 and is incompatible with the current spaCy version (2.3.5). This may lead to unexpected results or runtime errors. To resolve this, download a newer compatible model or retrain your custom model with the current spaCy version. For more details and available updates, run: python -m spacy validate\n",
      "  warnings.warn(warn_msg)\n"
     ]
    },
    {
     "name": "stdout",
     "output_type": "stream",
     "text": [
      "Rajkumar Mallik\n",
      "Email:tech.rajkumar04@gmail.com\n",
      "9172261689\n",
      "['International', 'Xml', 'Pattern', 'Sql', 'Java', 'Technical skills', 'Api', 'Windows', 'Analytical', 'Schedules', 'System', 'Agile', 'Design', 'Healthcare', 'Html', 'Javascript', 'Payroll', 'Web services', 'Architecture', 'Scheduling', 'Database', 'Health', 'Sdlc', 'Engineering', 'Programming', 'Accounting', 'Analysis', 'Servers', 'Jsp', 'General ledger', 'Business planning', 'Linux', 'Logging', 'Oracle', 'Jira', 'Reports', 'Writing', 'Financial management', 'Test cases', 'Technical', 'Software development life cycle', 'Inventory', 'Finance', 'Resource management', 'Schedule', 'Hospital', 'Administration', 'Falcon', 'Testing', 'Coding']\n",
      "0.0\n"
     ]
    },
    {
     "name": "stderr",
     "output_type": "stream",
     "text": [
      "C:\\Users\\kambo\\anaconda3\\lib\\site-packages\\spacy\\util.py:275: UserWarning: [W031] Model 'en_training' (0.0.0) requires spaCy v2.1 and is incompatible with the current spaCy version (2.3.5). This may lead to unexpected results or runtime errors. To resolve this, download a newer compatible model or retrain your custom model with the current spaCy version. For more details and available updates, run: python -m spacy validate\n",
      "  warnings.warn(warn_msg)\n"
     ]
    },
    {
     "name": "stdout",
     "output_type": "stream",
     "text": [
      "RAJSHEKAR N\n",
      "raj.shekar09726@gmail.com\n",
      "9972009757\n",
      "['Sql', 'Rest', 'Java', 'Apis', 'Computer applications', 'Api', 'System', 'Agile', 'Design', 'Scrum', 'Health', 'Sdlc', 'Programming', 'Servers', 'Mysql', 'English', 'Updates', 'Jira', 'Reports', 'Testing']\n",
      "0.0\n"
     ]
    },
    {
     "name": "stderr",
     "output_type": "stream",
     "text": [
      "C:\\Users\\kambo\\anaconda3\\lib\\site-packages\\spacy\\util.py:275: UserWarning: [W031] Model 'en_training' (0.0.0) requires spaCy v2.1 and is incompatible with the current spaCy version (2.3.5). This may lead to unexpected results or runtime errors. To resolve this, download a newer compatible model or retrain your custom model with the current spaCy version. For more details and available updates, run: python -m spacy validate\n",
      "  warnings.warn(warn_msg)\n"
     ]
    },
    {
     "name": "stdout",
     "output_type": "stream",
     "text": [
      "Rakesh Kolhe Male\n",
      "rakeshkolhe392@gmail.com\n",
      "9398415872\n",
      "['Technical skills', 'Xml', 'Sql', 'Rest', 'Java', 'Email', 'Pattern', 'Api', 'Windows', 'System', 'Design', 'Javascript', 'Mobile', 'Postgresql', 'Json', 'Presentation', 'Scrum', 'Architecture', 'Database', 'Access', 'Programming', 'Paste', 'Servers', 'Oracle', 'Process', 'Reports', 'Writing', 'Html5', 'Test cases', 'Css', 'Technical', 'Schedule', 'Click', 'Testing']\n",
      "0.0\n"
     ]
    },
    {
     "name": "stderr",
     "output_type": "stream",
     "text": [
      "C:\\Users\\kambo\\anaconda3\\lib\\site-packages\\spacy\\util.py:275: UserWarning: [W031] Model 'en_training' (0.0.0) requires spaCy v2.1 and is incompatible with the current spaCy version (2.3.5). This may lead to unexpected results or runtime errors. To resolve this, download a newer compatible model or retrain your custom model with the current spaCy version. For more details and available updates, run: python -m spacy validate\n",
      "  warnings.warn(warn_msg)\n"
     ]
    },
    {
     "name": "stdout",
     "output_type": "stream",
     "text": [
      "RAUSHAN KUMAR\n",
      "raushanpaswan194@gmail.com\n",
      "9666872033\n",
      "['Rest', 'Java', 'Email', 'Api', 'Design', 'Html', 'Javascript', 'Database', 'Health', 'Sdlc', 'Engineering', 'Programming', 'Analysis', 'Servers', 'Mysql', 'English', 'Oracle', 'Writing', 'Css', 'Hospitality', 'Technical', 'Software development life cycle', 'Cloud', 'Testing']\n",
      "0\n"
     ]
    },
    {
     "name": "stderr",
     "output_type": "stream",
     "text": [
      "C:\\Users\\kambo\\anaconda3\\lib\\site-packages\\spacy\\util.py:275: UserWarning: [W031] Model 'en_training' (0.0.0) requires spaCy v2.1 and is incompatible with the current spaCy version (2.3.5). This may lead to unexpected results or runtime errors. To resolve this, download a newer compatible model or retrain your custom model with the current spaCy version. For more details and available updates, run: python -m spacy validate\n",
      "  warnings.warn(warn_msg)\n"
     ]
    },
    {
     "name": "stdout",
     "output_type": "stream",
     "text": [
      "Ravi Kumar\n",
      "ravipandey6748@gmail.com\n",
      "7004815539\n",
      "['Technical skills', 'Sql', 'Rest', 'Java', 'Email', 'Apis', 'Computer applications', 'Api', 'System', 'Agile', 'Html', 'Interactive', 'Web services', 'Database', 'Debugging', 'Programming', 'Servers', 'Mysql', 'Jsp', 'English', 'Process', 'Technical', 'Operations', 'Pdf', 'Testing']\n",
      "0.0\n"
     ]
    },
    {
     "name": "stderr",
     "output_type": "stream",
     "text": [
      "C:\\Users\\kambo\\anaconda3\\lib\\site-packages\\spacy\\util.py:275: UserWarning: [W031] Model 'en_training' (0.0.0) requires spaCy v2.1 and is incompatible with the current spaCy version (2.3.5). This may lead to unexpected results or runtime errors. To resolve this, download a newer compatible model or retrain your custom model with the current spaCy version. For more details and available updates, run: python -m spacy validate\n",
      "  warnings.warn(warn_msg)\n",
      "C:\\Users\\kambo\\anaconda3\\lib\\site-packages\\spacy\\util.py:275: UserWarning: [W031] Model 'en_training' (0.0.0) requires spaCy v2.1 and is incompatible with the current spaCy version (2.3.5). This may lead to unexpected results or runtime errors. To resolve this, download a newer compatible model or retrain your custom model with the current spaCy version. For more details and available updates, run: python -m spacy validate\n",
      "  warnings.warn(warn_msg)\n"
     ]
    },
    {
     "name": "stdout",
     "output_type": "stream",
     "text": [
      "YAMINI GUPTA\n",
      "yaminigupta.1308@gmail.com\n",
      "9871399355\n",
      "['Apis', 'Rest', 'Java', 'Sql', 'Queries', 'Automation', 'System', 'Agile', 'Design', 'Html', 'Presentation', 'Database', 'Analysis', 'Mysql', 'Electronics', 'Android', 'Css', 'Technical', 'Metrics']\n",
      "0.0\n"
     ]
    },
    {
     "name": "stderr",
     "output_type": "stream",
     "text": [
      "C:\\Users\\kambo\\anaconda3\\lib\\site-packages\\spacy\\util.py:275: UserWarning: [W031] Model 'en_training' (0.0.0) requires spaCy v2.1 and is incompatible with the current spaCy version (2.3.5). This may lead to unexpected results or runtime errors. To resolve this, download a newer compatible model or retrain your custom model with the current spaCy version. For more details and available updates, run: python -m spacy validate\n",
      "  warnings.warn(warn_msg)\n",
      "C:\\Users\\kambo\\anaconda3\\lib\\site-packages\\spacy\\util.py:275: UserWarning: [W031] Model 'en_training' (0.0.0) requires spaCy v2.1 and is incompatible with the current spaCy version (2.3.5). This may lead to unexpected results or runtime errors. To resolve this, download a newer compatible model or retrain your custom model with the current spaCy version. For more details and available updates, run: python -m spacy validate\n",
      "  warnings.warn(warn_msg)\n",
      "C:\\Users\\kambo\\anaconda3\\lib\\site-packages\\spacy\\util.py:275: UserWarning: [W031] Model 'en_training' (0.0.0) requires spaCy v2.1 and is incompatible with the current spaCy version (2.3.5). This may lead to unexpected results or runtime errors. To resolve this, download a newer compatible model or retrain your custom model with the current spaCy version. For more details and available updates, run: python -m spacy validate\n",
      "  warnings.warn(warn_msg)\n"
     ]
    },
    {
     "name": "stdout",
     "output_type": "stream",
     "text": [
      "RESUME Email\n",
      "vjsajimol@gmail.com\n",
      "9497425149\n",
      "['Sql', 'Rest', 'Java', 'Email', 'Queries', 'Pattern', 'Windows', 'System', 'Agile', 'Design', 'Reporting', 'Mobile', 'Operating systems', 'Web services', 'Architecture', 'Database', 'Analysis', 'Programming', 'Jsp', 'Oracle', 'Process', 'Writing', 'Recruit', 'Testing']\n",
      "0.0\n"
     ]
    },
    {
     "name": "stderr",
     "output_type": "stream",
     "text": [
      "C:\\Users\\kambo\\anaconda3\\lib\\site-packages\\spacy\\util.py:275: UserWarning: [W031] Model 'en_training' (0.0.0) requires spaCy v2.1 and is incompatible with the current spaCy version (2.3.5). This may lead to unexpected results or runtime errors. To resolve this, download a newer compatible model or retrain your custom model with the current spaCy version. For more details and available updates, run: python -m spacy validate\n",
      "  warnings.warn(warn_msg)\n",
      "C:\\Users\\kambo\\anaconda3\\lib\\site-packages\\spacy\\util.py:275: UserWarning: [W031] Model 'en_training' (0.0.0) requires spaCy v2.1 and is incompatible with the current spaCy version (2.3.5). This may lead to unexpected results or runtime errors. To resolve this, download a newer compatible model or retrain your custom model with the current spaCy version. For more details and available updates, run: python -m spacy validate\n",
      "  warnings.warn(warn_msg)\n"
     ]
    },
    {
     "name": "stdout",
     "output_type": "stream",
     "text": [
      "VITAE Rohini\n",
      "rohinimali245@gmail.com\n",
      "9198902699\n",
      "['Rest', 'Java', 'Email', 'Api', 'Windows', 'Agile', 'Design', 'Reporting', 'Communication', 'Budgeting', 'Html', 'Javascript', 'Mobile', 'Operating systems', 'Excel', 'Presentation', 'Web services', 'Analyze', 'Debugging', 'Documentation', 'Programming', 'Unix', 'Servers', 'Mysql', 'Jsp', 'Linux', 'English', 'Updates', 'Project planning', 'Plan', 'Jira', 'Css', 'Technical', 'Word', 'Testing', 'Coding']\n",
      "0.0\n"
     ]
    },
    {
     "name": "stderr",
     "output_type": "stream",
     "text": [
      "C:\\Users\\kambo\\anaconda3\\lib\\site-packages\\spacy\\util.py:275: UserWarning: [W031] Model 'en_training' (0.0.0) requires spaCy v2.1 and is incompatible with the current spaCy version (2.3.5). This may lead to unexpected results or runtime errors. To resolve this, download a newer compatible model or retrain your custom model with the current spaCy version. For more details and available updates, run: python -m spacy validate\n",
      "  warnings.warn(warn_msg)\n"
     ]
    },
    {
     "name": "stdout",
     "output_type": "stream",
     "text": [
      "ROJALINI SAHOO\n",
      "sahoorojalin67@gmail.com\n",
      "7978748886\n",
      "['Jsp', 'Writing', 'Java', 'English', 'Certification', 'Technical', 'Visual', 'Database', 'Oracle', 'Process', 'Chemicals', 'Jira', 'Engineering', 'Programming', 'Analysis', 'Testing', 'Mysql']\n",
      "0.0\n"
     ]
    },
    {
     "name": "stderr",
     "output_type": "stream",
     "text": [
      "C:\\Users\\kambo\\anaconda3\\lib\\site-packages\\spacy\\util.py:275: UserWarning: [W031] Model 'en_training' (0.0.0) requires spaCy v2.1 and is incompatible with the current spaCy version (2.3.5). This may lead to unexpected results or runtime errors. To resolve this, download a newer compatible model or retrain your custom model with the current spaCy version. For more details and available updates, run: python -m spacy validate\n",
      "  warnings.warn(warn_msg)\n"
     ]
    },
    {
     "name": "stdout",
     "output_type": "stream",
     "text": [
      "SANTOSH SAHOO\n",
      "–tech.santoshsahoo@gmail.com\n",
      "6364283343\n",
      "['Xml', 'Pattern', 'Java', 'Email', 'Api', 'Windows', 'System', 'Expenses', 'Tax', 'Design', 'Json', 'Health', 'Mechanical engineering', 'Engineering', 'Mysql', 'Oracle', 'Jira', 'Writing', 'Technical']\n",
      "0.0\n"
     ]
    },
    {
     "name": "stderr",
     "output_type": "stream",
     "text": [
      "C:\\Users\\kambo\\anaconda3\\lib\\site-packages\\spacy\\util.py:275: UserWarning: [W031] Model 'en_training' (0.0.0) requires spaCy v2.1 and is incompatible with the current spaCy version (2.3.5). This may lead to unexpected results or runtime errors. To resolve this, download a newer compatible model or retrain your custom model with the current spaCy version. For more details and available updates, run: python -m spacy validate\n",
      "  warnings.warn(warn_msg)\n"
     ]
    },
    {
     "name": "stdout",
     "output_type": "stream",
     "text": [
      "Designation Email\n",
      "shridharchougule597@gmail.com\n",
      "9740625597\n",
      "['Rest', 'Java', 'Email', 'Website', 'Api', 'Windows', 'System', 'Agile', 'Design', 'Reporting', 'Communication', 'Html', 'Computer science', 'Excel', 'Presentation', 'Web services', 'Analyze', 'Database', 'Continuous improvement', 'Debugging', 'Programming', 'Servers', 'Improvement', 'Mysql', 'Specifications', 'Jsp', 'English', 'Process', 'Workflow', 'Jira', 'Css', 'Technical', 'Word', 'Testing', 'Coding']\n",
      "0.0\n"
     ]
    },
    {
     "name": "stderr",
     "output_type": "stream",
     "text": [
      "C:\\Users\\kambo\\anaconda3\\lib\\site-packages\\spacy\\util.py:275: UserWarning: [W031] Model 'en_training' (0.0.0) requires spaCy v2.1 and is incompatible with the current spaCy version (2.3.5). This may lead to unexpected results or runtime errors. To resolve this, download a newer compatible model or retrain your custom model with the current spaCy version. For more details and available updates, run: python -m spacy validate\n",
      "  warnings.warn(warn_msg)\n"
     ]
    },
    {
     "name": "stdout",
     "output_type": "stream",
     "text": [
      "SHUBHAM VERMA\n",
      "skverma1121@gmail.com\n",
      "8217607599\n",
      "['Postgresql', 'Sql', 'Rest', 'Java', 'Json', 'Jsp', 'English', 'Api', 'Sanitize', 'C++', 'Js', 'Oracle', 'System', 'Reports', 'C', 'Mortgage', 'Design', 'Mysql']\n",
      "0.0\n"
     ]
    },
    {
     "name": "stderr",
     "output_type": "stream",
     "text": [
      "C:\\Users\\kambo\\anaconda3\\lib\\site-packages\\spacy\\util.py:275: UserWarning: [W031] Model 'en_training' (0.0.0) requires spaCy v2.1 and is incompatible with the current spaCy version (2.3.5). This may lead to unexpected results or runtime errors. To resolve this, download a newer compatible model or retrain your custom model with the current spaCy version. For more details and available updates, run: python -m spacy validate\n",
      "  warnings.warn(warn_msg)\n",
      "C:\\Users\\kambo\\anaconda3\\lib\\site-packages\\spacy\\util.py:275: UserWarning: [W031] Model 'en_training' (0.0.0) requires spaCy v2.1 and is incompatible with the current spaCy version (2.3.5). This may lead to unexpected results or runtime errors. To resolve this, download a newer compatible model or retrain your custom model with the current spaCy version. For more details and available updates, run: python -m spacy validate\n",
      "  warnings.warn(warn_msg)\n"
     ]
    },
    {
     "name": "stdout",
     "output_type": "stream",
     "text": [
      "Shweta Singh\n",
      "tomarshweta880@gmail.com\n",
      "7389042740\n",
      "['Sql', 'Shell', 'Java', 'Email', 'Certification', 'System', 'Agile', 'Design', 'Ui', 'Html', 'Health', 'Training', 'Sports', 'Analysis', 'Programming', 'Engineering', 'Improvement', 'Specifications', 'Electrical', 'Plan', 'P', 'Css', 'Technical', 'Inventory', 'Project management', 'Testing']\n",
      "0.5\n"
     ]
    },
    {
     "name": "stderr",
     "output_type": "stream",
     "text": [
      "C:\\Users\\kambo\\anaconda3\\lib\\site-packages\\spacy\\util.py:275: UserWarning: [W031] Model 'en_training' (0.0.0) requires spaCy v2.1 and is incompatible with the current spaCy version (2.3.5). This may lead to unexpected results or runtime errors. To resolve this, download a newer compatible model or retrain your custom model with the current spaCy version. For more details and available updates, run: python -m spacy validate\n",
      "  warnings.warn(warn_msg)\n"
     ]
    },
    {
     "name": "stdout",
     "output_type": "stream",
     "text": [
      "Software Engineer\n",
      "email:-pandasimran321@gmail.com\n",
      "9535483501\n",
      "['Purchasing', 'Xml', 'Sql', 'Rest', 'Java', 'Db2', 'Sql server', 'Technical skills', 'Procurement', 'Windows', 'Inventory management', 'Analytical', 'System', 'Migration', 'Design', 'Logistics', 'Communication', 'Html', 'Payroll', 'Javascript', 'Mobile', 'Json', 'Interactive', 'Web services', 'Architecture', 'E-commerce', 'Scheduling', 'Database', 'Health', 'Training', 'Sdlc', 'Debugging', 'Documentation', 'Analysis', 'Ibm', 'Servers', 'Mysql', 'Specifications', 'Sourcing', 'Protocols', 'Jsp', 'Transportation', 'Logging', 'English', 'Oracle', 'Process', 'Jira', 'Visual', 'Troubleshooting', 'Soap', 'Android', 'Css', 'Vendors', 'Pharmaceutical', 'Js', 'Technical', 'Inventory', 'Cloud', 'Testing']\n",
      "0.0\n"
     ]
    },
    {
     "name": "stderr",
     "output_type": "stream",
     "text": [
      "C:\\Users\\kambo\\anaconda3\\lib\\site-packages\\spacy\\util.py:275: UserWarning: [W031] Model 'en_training' (0.0.0) requires spaCy v2.1 and is incompatible with the current spaCy version (2.3.5). This may lead to unexpected results or runtime errors. To resolve this, download a newer compatible model or retrain your custom model with the current spaCy version. For more details and available updates, run: python -m spacy validate\n",
      "  warnings.warn(warn_msg)\n",
      "C:\\Users\\kambo\\anaconda3\\lib\\site-packages\\spacy\\util.py:275: UserWarning: [W031] Model 'en_training' (0.0.0) requires spaCy v2.1 and is incompatible with the current spaCy version (2.3.5). This may lead to unexpected results or runtime errors. To resolve this, download a newer compatible model or retrain your custom model with the current spaCy version. For more details and available updates, run: python -m spacy validate\n",
      "  warnings.warn(warn_msg)\n"
     ]
    },
    {
     "name": "stdout",
     "output_type": "stream",
     "text": [
      "Career Summary\n",
      "sivaramakrishnalchjava@gmail.com\n",
      "9182549741\n",
      "['International', 'Sql', 'Shell', 'Java', 'Db2', 'Queries', 'Windows', 'System', 'Migration', 'Agile', 'Mobile', 'Banking', 'Analyze', 'Scheduling', 'Database', 'Training', 'Documentation', 'Unix', 'Servers', 'Linux', 'Oracle', 'Process', 'Reports', 'Operations', 'Technical']\n",
      "0.0\n"
     ]
    },
    {
     "name": "stderr",
     "output_type": "stream",
     "text": [
      "C:\\Users\\kambo\\anaconda3\\lib\\site-packages\\spacy\\util.py:275: UserWarning: [W031] Model 'en_training' (0.0.0) requires spaCy v2.1 and is incompatible with the current spaCy version (2.3.5). This may lead to unexpected results or runtime errors. To resolve this, download a newer compatible model or retrain your custom model with the current spaCy version. For more details and available updates, run: python -m spacy validate\n",
      "  warnings.warn(warn_msg)\n",
      "C:\\Users\\kambo\\anaconda3\\lib\\site-packages\\spacy\\util.py:275: UserWarning: [W031] Model 'en_training' (0.0.0) requires spaCy v2.1 and is incompatible with the current spaCy version (2.3.5). This may lead to unexpected results or runtime errors. To resolve this, download a newer compatible model or retrain your custom model with the current spaCy version. For more details and available updates, run: python -m spacy validate\n",
      "  warnings.warn(warn_msg)\n"
     ]
    },
    {
     "name": "stdout",
     "output_type": "stream",
     "text": [
      "Software Pvt\n",
      "snehaldhok211@gmail.com\n",
      "9191680015\n",
      "['International', 'Xml', 'Pattern', 'Rest', 'Java', 'Queries', 'Api', 'System', 'Agile', 'Design', 'Communication', 'Html', 'Javascript', 'Mobile', 'Excel', 'Presentation', 'Scrum', 'Analyze', 'Architecture', 'Database', 'Engineering', 'Analysis', 'Servers', 'Mysql', 'Safety', 'Updates', 'Jira', 'Electronics', 'Html5', 'Css', 'Technical', 'Word', 'Microsoft office', 'Testing', 'Coding']\n",
      "0.0\n"
     ]
    },
    {
     "name": "stderr",
     "output_type": "stream",
     "text": [
      "C:\\Users\\kambo\\anaconda3\\lib\\site-packages\\spacy\\util.py:275: UserWarning: [W031] Model 'en_training' (0.0.0) requires spaCy v2.1 and is incompatible with the current spaCy version (2.3.5). This may lead to unexpected results or runtime errors. To resolve this, download a newer compatible model or retrain your custom model with the current spaCy version. For more details and available updates, run: python -m spacy validate\n",
      "  warnings.warn(warn_msg)\n",
      "C:\\Users\\kambo\\anaconda3\\lib\\site-packages\\spacy\\util.py:275: UserWarning: [W031] Model 'en_training' (0.0.0) requires spaCy v2.1 and is incompatible with the current spaCy version (2.3.5). This may lead to unexpected results or runtime errors. To resolve this, download a newer compatible model or retrain your custom model with the current spaCy version. For more details and available updates, run: python -m spacy validate\n",
      "  warnings.warn(warn_msg)\n"
     ]
    },
    {
     "name": "stdout",
     "output_type": "stream",
     "text": [
      "Sonu Prakash\n",
      "sonuprakashbta@gmail.com\n",
      "9780571597\n",
      "['Payroll', 'Mobile', 'Javascript', 'Rest', 'Java', 'Email', 'Interactive', 'Js', 'Technical', 'Operations', 'Ai', 'Html']\n",
      "1.58\n"
     ]
    },
    {
     "name": "stderr",
     "output_type": "stream",
     "text": [
      "C:\\Users\\kambo\\anaconda3\\lib\\site-packages\\spacy\\util.py:275: UserWarning: [W031] Model 'en_training' (0.0.0) requires spaCy v2.1 and is incompatible with the current spaCy version (2.3.5). This may lead to unexpected results or runtime errors. To resolve this, download a newer compatible model or retrain your custom model with the current spaCy version. For more details and available updates, run: python -m spacy validate\n",
      "  warnings.warn(warn_msg)\n"
     ]
    },
    {
     "name": "stdout",
     "output_type": "stream",
     "text": [
      "Email:sreepatnam82977@gmail.com Career\n",
      "Email:sreepatnam82977@gmail.com\n",
      "8297780283\n",
      "['Sql', 'Apis', 'Java', 'Ordering', 'Windows', 'Analytical', 'System', 'Communication', 'Html', 'Web services', 'Programming', 'Scripting', 'Mysql', 'Jsp', 'Linux', 'Oracle', 'Workflow', 'P', 'Visual', 'Writing', 'Requests', 'Css', 'Technical', 'Testing', 'Coding']\n",
      "0.0\n"
     ]
    },
    {
     "name": "stderr",
     "output_type": "stream",
     "text": [
      "C:\\Users\\kambo\\anaconda3\\lib\\site-packages\\spacy\\util.py:275: UserWarning: [W031] Model 'en_training' (0.0.0) requires spaCy v2.1 and is incompatible with the current spaCy version (2.3.5). This may lead to unexpected results or runtime errors. To resolve this, download a newer compatible model or retrain your custom model with the current spaCy version. For more details and available updates, run: python -m spacy validate\n",
      "  warnings.warn(warn_msg)\n"
     ]
    },
    {
     "name": "stdout",
     "output_type": "stream",
     "text": [
      "Subbareddy  \n",
      "\n",
      "     \n",
      "subbareddy9195@gmail.com\n",
      "9391474507\n",
      "['Mobile', 'Sql', 'Rest', 'Java', 'Email', 'Scrum', 'English', 'Windows', 'Technical', 'System', 'Sales', 'Plan', 'Engineering', 'Servers', 'Analytics', 'Communication', 'Coding']\n",
      "0.0\n"
     ]
    },
    {
     "name": "stderr",
     "output_type": "stream",
     "text": [
      "C:\\Users\\kambo\\anaconda3\\lib\\site-packages\\spacy\\util.py:275: UserWarning: [W031] Model 'en_training' (0.0.0) requires spaCy v2.1 and is incompatible with the current spaCy version (2.3.5). This may lead to unexpected results or runtime errors. To resolve this, download a newer compatible model or retrain your custom model with the current spaCy version. For more details and available updates, run: python -m spacy validate\n",
      "  warnings.warn(warn_msg)\n"
     ]
    },
    {
     "name": "stdout",
     "output_type": "stream",
     "text": [
      "Sujeet Kumar\n",
      "sujeetray96@gmail.com\n",
      "8858715612\n",
      "['Apis', 'Rest', 'Java', 'Prototyping', 'Api', 'System', 'Design', 'Html', 'Postgresql', 'Engineering', 'Analysis', 'Programming', 'Mysql', 'Machine learning', 'Retail', 'Oracle', 'Process', 'Android', 'Algorithms', 'Css', 'Test cases', 'Js', 'Testing']\n",
      "0.0\n"
     ]
    },
    {
     "name": "stderr",
     "output_type": "stream",
     "text": [
      "C:\\Users\\kambo\\anaconda3\\lib\\site-packages\\spacy\\util.py:275: UserWarning: [W031] Model 'en_training' (0.0.0) requires spaCy v2.1 and is incompatible with the current spaCy version (2.3.5). This may lead to unexpected results or runtime errors. To resolve this, download a newer compatible model or retrain your custom model with the current spaCy version. For more details and available updates, run: python -m spacy validate\n",
      "  warnings.warn(warn_msg)\n"
     ]
    },
    {
     "name": "stdout",
     "output_type": "stream",
     "text": [
      "SUMANTH Email\n",
      "sumanthit846@gmail.com\n",
      "8867115581\n",
      "['Technical skills', 'Sql', 'Website', 'Java', 'Email', 'Automation', 'Windows', 'System', 'Design', 'Html', 'Javascript', 'Mobile', 'Analyze', 'Database', 'Access', 'Programming', 'Servers', 'Hotels', 'Jsp', 'Linux', 'Ecommerce', 'Process', 'Writing', 'Soap', 'Requests', 'Css', 'Travel', 'Governance', 'Technical', 'Testing']\n",
      "0.0\n"
     ]
    },
    {
     "name": "stderr",
     "output_type": "stream",
     "text": [
      "C:\\Users\\kambo\\anaconda3\\lib\\site-packages\\spacy\\util.py:275: UserWarning: [W031] Model 'en_training' (0.0.0) requires spaCy v2.1 and is incompatible with the current spaCy version (2.3.5). This may lead to unexpected results or runtime errors. To resolve this, download a newer compatible model or retrain your custom model with the current spaCy version. For more details and available updates, run: python -m spacy validate\n",
      "  warnings.warn(warn_msg)\n"
     ]
    },
    {
     "name": "stdout",
     "output_type": "stream",
     "text": [
      "Sumit Kumar\n",
      "sumitsuman451@gmail.com\n",
      "7978294991\n",
      "['Business stakeholders', 'Security', 'Java', 'Algorithms', 'Visual', 'Database', 'Troubleshooting', 'Jira', 'Engineering', 'Administration', 'Design', 'Analysis', 'Servers', 'Computer science', 'Communication', 'Mysql', 'Lifecycle']\n",
      "0.0\n"
     ]
    },
    {
     "name": "stderr",
     "output_type": "stream",
     "text": [
      "C:\\Users\\kambo\\anaconda3\\lib\\site-packages\\spacy\\util.py:275: UserWarning: [W031] Model 'en_training' (0.0.0) requires spaCy v2.1 and is incompatible with the current spaCy version (2.3.5). This may lead to unexpected results or runtime errors. To resolve this, download a newer compatible model or retrain your custom model with the current spaCy version. For more details and available updates, run: python -m spacy validate\n",
      "  warnings.warn(warn_msg)\n"
     ]
    },
    {
     "name": "stdout",
     "output_type": "stream",
     "text": [
      "Sunitha J\n",
      "sunithajayanna@gmail.com.com\n",
      "9110808387\n",
      "['Sql', 'Email', 'Java', 'Sap', 'Automation', 'System', 'Design', 'Reporting', 'Computer science', 'Spark', 'Mobile', 'Json', 'Scheduling', 'Health', 'Engineering', 'Programming', 'Analysis', 'Analytics', 'Mysql', 'Warehouse', 'Sales', 'Pyspark', 'Reports', 'Writing', 'Requests', 'Etl', 'Technical', 'Schedule', 'Metrics', 'Cloud', 'Python']\n",
      "0.0\n"
     ]
    },
    {
     "name": "stderr",
     "output_type": "stream",
     "text": [
      "C:\\Users\\kambo\\anaconda3\\lib\\site-packages\\spacy\\util.py:275: UserWarning: [W031] Model 'en_training' (0.0.0) requires spaCy v2.1 and is incompatible with the current spaCy version (2.3.5). This may lead to unexpected results or runtime errors. To resolve this, download a newer compatible model or retrain your custom model with the current spaCy version. For more details and available updates, run: python -m spacy validate\n",
      "  warnings.warn(warn_msg)\n"
     ]
    },
    {
     "name": "stdout",
     "output_type": "stream",
     "text": [
      "SURAJ SHELKIKAR\n",
      "Surajshelkikar1996@gmail.com\n",
      "8149992748\n",
      "['Technical skills', 'Xml', 'Sql', 'Rest', 'Java', 'Queries', 'Pattern', 'Api', 'Analytical', 'System', 'Agile', 'Design', 'Html', 'Javascript', 'Excel', 'Interactive', 'Presentation', 'Architecture', 'Database', 'Sdlc', 'Engineering', 'Servers', 'Mysql', 'Jsp', 'English', 'Updates', 'Jira', 'Writing', 'Html5', 'Css', 'Technical', 'Word', 'Software development life cycle', 'Microsoft office', 'Coding']\n",
      "0.0\n"
     ]
    },
    {
     "name": "stderr",
     "output_type": "stream",
     "text": [
      "C:\\Users\\kambo\\anaconda3\\lib\\site-packages\\spacy\\util.py:275: UserWarning: [W031] Model 'en_training' (0.0.0) requires spaCy v2.1 and is incompatible with the current spaCy version (2.3.5). This may lead to unexpected results or runtime errors. To resolve this, download a newer compatible model or retrain your custom model with the current spaCy version. For more details and available updates, run: python -m spacy validate\n",
      "  warnings.warn(warn_msg)\n"
     ]
    },
    {
     "name": "stdout",
     "output_type": "stream",
     "text": [
      "Suresh Nalla\n",
      "sureshnalla1787@gmail.com\n",
      "9966448355\n",
      "['Xml', 'Sql', 'Rest', 'Java', 'Automation', 'Api', 'Windows', 'System', 'Agile', 'Design', 'Ui', 'Communication', 'Html', 'Javascript', 'Mobile', 'Operating systems', 'Interactive', 'Database', 'Access', 'Programming', 'Servers', 'Mysql', 'Specifications', 'Jsp', 'Billing', 'Oracle', 'Workflow', 'Engagement', 'Css', 'Governance', 'Technical', 'Finance', 'Administration', 'Salesforce', 'Testing', 'Coding']\n",
      "0\n"
     ]
    },
    {
     "name": "stderr",
     "output_type": "stream",
     "text": [
      "C:\\Users\\kambo\\anaconda3\\lib\\site-packages\\spacy\\util.py:275: UserWarning: [W031] Model 'en_training' (0.0.0) requires spaCy v2.1 and is incompatible with the current spaCy version (2.3.5). This may lead to unexpected results or runtime errors. To resolve this, download a newer compatible model or retrain your custom model with the current spaCy version. For more details and available updates, run: python -m spacy validate\n",
      "  warnings.warn(warn_msg)\n",
      "C:\\Users\\kambo\\anaconda3\\lib\\site-packages\\spacy\\util.py:275: UserWarning: [W031] Model 'en_training' (0.0.0) requires spaCy v2.1 and is incompatible with the current spaCy version (2.3.5). This may lead to unexpected results or runtime errors. To resolve this, download a newer compatible model or retrain your custom model with the current spaCy version. For more details and available updates, run: python -m spacy validate\n",
      "  warnings.warn(warn_msg)\n",
      "C:\\Users\\kambo\\anaconda3\\lib\\site-packages\\spacy\\util.py:275: UserWarning: [W031] Model 'en_training' (0.0.0) requires spaCy v2.1 and is incompatible with the current spaCy version (2.3.5). This may lead to unexpected results or runtime errors. To resolve this, download a newer compatible model or retrain your custom model with the current spaCy version. For more details and available updates, run: python -m spacy validate\n",
      "  warnings.warn(warn_msg)\n"
     ]
    },
    {
     "name": "stdout",
     "output_type": "stream",
     "text": [
      "Taran Kapoor Guda\n",
      "tarankapoor2100@gmail.com\n",
      "9131808715\n",
      "['Xml', 'Pattern', 'Rest', 'Java', 'Email', 'Apis', 'Windows', 'Api', 'Analytical', 'Design', 'Html', 'Javascript', 'Mobile', 'Json', 'Web services', 'Database', 'Debugging', 'Programming', 'Servers', 'Mysql', 'Jsp', 'Marketing', 'Technical']\n",
      "0.0\n"
     ]
    },
    {
     "name": "stderr",
     "output_type": "stream",
     "text": [
      "C:\\Users\\kambo\\anaconda3\\lib\\site-packages\\spacy\\util.py:275: UserWarning: [W031] Model 'en_training' (0.0.0) requires spaCy v2.1 and is incompatible with the current spaCy version (2.3.5). This may lead to unexpected results or runtime errors. To resolve this, download a newer compatible model or retrain your custom model with the current spaCy version. For more details and available updates, run: python -m spacy validate\n",
      "  warnings.warn(warn_msg)\n"
     ]
    },
    {
     "name": "stdout",
     "output_type": "stream",
     "text": [
      "Utkarsh Mishra\n",
      "mishrautkarsh894@gmail.com\n",
      "7088660646\n",
      "['Sql', 'Docker', 'Java', 'Rest', 'Api', 'C++', 'System', 'Healthcare', 'Communication', 'Html', 'Json', 'Training', 'Engineering', 'Mathematics', 'Mysql', 'Ios', 'English', 'Spanish', 'Writing', 'Nosql', 'Android', 'Algorithms', 'Css', 'C', 'Testing']\n",
      "0.0\n"
     ]
    },
    {
     "name": "stderr",
     "output_type": "stream",
     "text": [
      "C:\\Users\\kambo\\anaconda3\\lib\\site-packages\\spacy\\util.py:275: UserWarning: [W031] Model 'en_training' (0.0.0) requires spaCy v2.1 and is incompatible with the current spaCy version (2.3.5). This may lead to unexpected results or runtime errors. To resolve this, download a newer compatible model or retrain your custom model with the current spaCy version. For more details and available updates, run: python -m spacy validate\n",
      "  warnings.warn(warn_msg)\n"
     ]
    },
    {
     "name": "stdout",
     "output_type": "stream",
     "text": [
      "BhanukumarVadla    Email\n",
      "vadlabhanukumar21@gmail.com\n",
      "8790320836\n",
      "['Technical skills', 'Payments', 'Pattern', 'Rest', 'Email', 'Java', 'Aviation', 'Sql', 'Teaching', 'Windows', 'System', 'Agile', 'Design', 'Communication', 'Mobile', 'Web services', 'Banking', 'Scrum', 'Architecture', 'Database', 'Health', 'Mechanical engineering', 'Construction', 'Engineering', 'Programming', 'Analysis', 'Servers', 'Mysql', 'Research', 'Retail', 'Process', 'Reports', 'Real-time', 'Marketing', 'Journalism', 'Travel', 'Technical', 'Testing']\n",
      "0.0\n"
     ]
    },
    {
     "name": "stderr",
     "output_type": "stream",
     "text": [
      "C:\\Users\\kambo\\anaconda3\\lib\\site-packages\\spacy\\util.py:275: UserWarning: [W031] Model 'en_training' (0.0.0) requires spaCy v2.1 and is incompatible with the current spaCy version (2.3.5). This may lead to unexpected results or runtime errors. To resolve this, download a newer compatible model or retrain your custom model with the current spaCy version. For more details and available updates, run: python -m spacy validate\n",
      "  warnings.warn(warn_msg)\n"
     ]
    },
    {
     "name": "stdout",
     "output_type": "stream",
     "text": [
      "Cognizant Technology\n",
      "None\n",
      "None\n",
      "['Website', 'Java', 'Usability', 'Html', 'Javascript', 'Web services', 'User experience', 'Analyze', 'Database', 'Retention', 'Mysql', 'Jsp', 'Security', 'Sales', 'Php', 'Reports', 'Marketing', 'Lifecycle', 'Css', 'Technical', 'Operations', 'Cloud', 'Testing']\n",
      "0.0\n"
     ]
    },
    {
     "name": "stderr",
     "output_type": "stream",
     "text": [
      "C:\\Users\\kambo\\anaconda3\\lib\\site-packages\\spacy\\util.py:275: UserWarning: [W031] Model 'en_training' (0.0.0) requires spaCy v2.1 and is incompatible with the current spaCy version (2.3.5). This may lead to unexpected results or runtime errors. To resolve this, download a newer compatible model or retrain your custom model with the current spaCy version. For more details and available updates, run: python -m spacy validate\n",
      "  warnings.warn(warn_msg)\n",
      "C:\\Users\\kambo\\anaconda3\\lib\\site-packages\\spacy\\util.py:275: UserWarning: [W031] Model 'en_training' (0.0.0) requires spaCy v2.1 and is incompatible with the current spaCy version (2.3.5). This may lead to unexpected results or runtime errors. To resolve this, download a newer compatible model or retrain your custom model with the current spaCy version. For more details and available updates, run: python -m spacy validate\n",
      "  warnings.warn(warn_msg)\n"
     ]
    },
    {
     "name": "stdout",
     "output_type": "stream",
     "text": [
      "VISHNU PM\n",
      "VISHNUPM788@GMAIL.COM\n",
      "8075051744\n",
      "['Technical skills', 'Sql', 'Usability', 'Java', 'Automation', 'Windows', 'Api', 'Analytical', 'Ai', 'Design', 'Spark', 'Javascript', 'Mysql', 'Machine learning', 'Scala', 'Retail', 'Marketing', 'Technical', 'Operations', 'Testing']\n",
      "0.0\n"
     ]
    },
    {
     "name": "stderr",
     "output_type": "stream",
     "text": [
      "C:\\Users\\kambo\\anaconda3\\lib\\site-packages\\spacy\\util.py:275: UserWarning: [W031] Model 'en_training' (0.0.0) requires spaCy v2.1 and is incompatible with the current spaCy version (2.3.5). This may lead to unexpected results or runtime errors. To resolve this, download a newer compatible model or retrain your custom model with the current spaCy version. For more details and available updates, run: python -m spacy validate\n",
      "  warnings.warn(warn_msg)\n"
     ]
    },
    {
     "name": "stdout",
     "output_type": "stream",
     "text": [
      "Yash Ananta\n",
      "zodeyash@gmail.com\n",
      "9822383033\n",
      "['Docker', 'Rest', 'Java', 'Apis', 'Automation', 'Windows', 'Api', 'C++', 'Controls', 'System', 'Ui', 'Communication', 'Computer science', 'Javascript', 'Mobile', 'Access database', 'Ubuntu', 'Architecture', 'Database', 'Debugging', 'Documentation', 'Programming', 'Analysis', 'Access', 'Specifications', 'Protocols', 'Mysql', 'Security', 'Linux', 'English', 'Assembly', 'Process', 'Jira', 'Php', 'Visual', 'Commissioning', 'Troubleshooting', 'Requests', 'Android', 'Industry experience', 'Technical', 'Operations', 'Word', 'Schedule', 'Cloud', 'Testing', 'Python', 'Coding']\n",
      "3.5\n"
     ]
    },
    {
     "name": "stderr",
     "output_type": "stream",
     "text": [
      "C:\\Users\\kambo\\anaconda3\\lib\\site-packages\\spacy\\util.py:275: UserWarning: [W031] Model 'en_training' (0.0.0) requires spaCy v2.1 and is incompatible with the current spaCy version (2.3.5). This may lead to unexpected results or runtime errors. To resolve this, download a newer compatible model or retrain your custom model with the current spaCy version. For more details and available updates, run: python -m spacy validate\n",
      "  warnings.warn(warn_msg)\n"
     ]
    },
    {
     "name": "stdout",
     "output_type": "stream",
     "text": [
      "POTULARAJU YASWANTH REDDY\n",
      "ryash2077@gmail.com\n",
      "6303343207\n",
      "['Technical skills', 'Rest', 'Java', 'Email', 'Queries', 'Automation', 'Api', 'System', 'Design', 'Conversion', 'Payroll', 'Mobile', 'Interactive', 'Presentation', 'Architecture', 'Database', 'Access', 'Analysis', 'Hotels', 'Mysql', 'Jira', 'P', 'Writing', 'Technical', 'Metrics', 'Testing', 'Coding']\n",
      "0\n"
     ]
    },
    {
     "name": "stderr",
     "output_type": "stream",
     "text": [
      "C:\\Users\\kambo\\anaconda3\\lib\\site-packages\\spacy\\util.py:275: UserWarning: [W031] Model 'en_training' (0.0.0) requires spaCy v2.1 and is incompatible with the current spaCy version (2.3.5). This may lead to unexpected results or runtime errors. To resolve this, download a newer compatible model or retrain your custom model with the current spaCy version. For more details and available updates, run: python -m spacy validate\n",
      "  warnings.warn(warn_msg)\n"
     ]
    }
   ],
   "source": [
    "for i in range (0,len(files_list)):\n",
    "    data = ResumeParser('C:/Users/kambo/OneDrive/Desktop/resumes/all resumes/'+files_list[i]).get_extracted_data()\n",
    "    for j in data['skills']:\n",
    "        if j == skill:\n",
    "            if(data['experience']==None):\n",
    "                rank = data['total_experience']+len(data['skills'])\n",
    "            else:\n",
    "                rank = data['total_experience']+len(data['skills'])+len(data['experience'])\n",
    "\n",
    "            print(data['name'])\n",
    "            print(data['email'])\n",
    "            print(data['mobile_number'])\n",
    "            print(data['skills'])\n",
    "            print(data['total_experience'])\n",
    "            inserting_data = {'name':data['name'],'email':data['email'],'mobile_number':data['mobile_number'],'skills':data['skills'],'total_experience':data['total_experience'],'points':rank}\n",
    "            db.skill.insert_one(inserting_data)"
   ]
  },
  {
   "cell_type": "code",
   "execution_count": 11,
   "id": "b08e4580",
   "metadata": {},
   "outputs": [
    {
     "data": {
      "text/plain": [
       "<pymongo.cursor.Cursor at 0x17282857df0>"
      ]
     },
     "execution_count": 11,
     "metadata": {},
     "output_type": "execute_result"
    }
   ],
   "source": [
    "db.skill.find()"
   ]
  },
  {
   "cell_type": "code",
   "execution_count": 29,
   "id": "06887009",
   "metadata": {},
   "outputs": [
    {
     "name": "stdout",
     "output_type": "stream",
     "text": [
      "{'_id': ObjectId('6393e3f42e7dab477d51fec2'), 'name': 'ANKITA DAGDIYA                                                   \\n\\nSoftware Engineer', 'email': 'dagdiyaankita1@gmail.com', 'mobile_number': '8669233167', 'skills': ['Rest', 'Java', 'Email', 'Analytical', 'Agile', 'Reporting', 'Communication', 'Web services', 'Database', 'Debugging', 'Engineering', 'Servers', 'Mysql', 'Jsp', 'Jira', 'Strong analytical skills', 'Writing', 'End user', 'Html5', 'Js', 'Try', 'Microsoft office', 'Fulfillment', 'Testing'], 'total_experience': 2.75, 'points': 138.75}\n",
      "{'_id': ObjectId('6393e42e2e7dab477d51fedf'), 'name': 'Profile Mahesh', 'email': 'gajulamahesh94405@gmail.com', 'mobile_number': '9440500687', 'skills': ['Xml', 'Docker', 'Rest', 'Java', 'Windows', 'System', 'Design', 'Database', 'Health', 'Programming', 'Analysis', 'Servers', 'Oracle', 'Writing', 'Requests', 'Technical', 'Operations', 'Hospital', 'Cloud', 'Coding'], 'total_experience': 0.0, 'points': 121.0}\n",
      "{'_id': ObjectId('6393e4182e7dab477d51fed5'), 'name': 'Dhanu Mobile', 'email': 'dhanujavadev@gmail.com', 'mobile_number': '9962185453', 'skills': ['Rest', 'Java', 'Queries', 'Api', 'Agile', 'Mortgage', 'Design', 'Mobile', 'Postgresql', 'Json', 'Web services', 'Banking', 'Scrum', 'Analyze', 'Sdlc', 'Threading', 'Specifications', 'Process', 'Writing', 'Technical', 'Finance', 'Github', 'Testing', 'Coding'], 'total_experience': 4.33, 'points': 116.33}\n",
      "{'_id': ObjectId('6393e43a2e7dab477d51fee7'), 'name': 'NAG ARJUN', 'email': 'nagarjuna.m34@outlook.com', 'mobile_number': '9491654117', 'skills': ['Xml', 'Email', 'Java', 'Windows', 'Analytical', 'Controls', 'Design', 'Ui', 'Html', 'Mobile', 'Architecture', 'Database', 'Sdlc', 'Engineering', 'Programming', 'Analysis', 'Servers', 'Mysql', 'Jsp', 'Visio', 'English', 'Research', 'Oracle', 'Jira', 'Writing', 'Modeling', 'Requests', 'Css', 'Operations', 'Technical', 'Software development life cycle', 'Microsoft visio', 'Testing'], 'total_experience': 0.0, 'points': 103.0}\n",
      "{'_id': ObjectId('6393e43c2e7dab477d51fee8'), 'name': 'NAGABABU BATTHULA', 'email': 'nagababu.bathula123@gmail.com', 'mobile_number': '6302871380', 'skills': ['Technical skills', 'Payments', 'Pattern', 'Java', 'Api', 'Design', 'Communication', 'Mobile', 'Database', 'Debugging', 'Programming', 'Mysql', 'Security', 'Oracle', 'Workflow', 'Merchant', 'Writing', 'Requests', 'Technical', 'Administration'], 'total_experience': 0.0, 'points': 93.0}\n",
      "{'_id': ObjectId('6393e4d62e7dab477d51ff0b'), 'name': 'Designation Email', 'email': 'shridharchougule597@gmail.com', 'mobile_number': '9740625597', 'skills': ['Rest', 'Java', 'Email', 'Website', 'Api', 'Windows', 'System', 'Agile', 'Design', 'Reporting', 'Communication', 'Html', 'Computer science', 'Excel', 'Presentation', 'Web services', 'Analyze', 'Database', 'Continuous improvement', 'Debugging', 'Programming', 'Servers', 'Improvement', 'Mysql', 'Specifications', 'Jsp', 'English', 'Process', 'Workflow', 'Jira', 'Css', 'Technical', 'Word', 'Testing', 'Coding'], 'total_experience': 0.0, 'points': 92.0}\n",
      "{'_id': ObjectId('6393e4b22e7dab477d51fef8'), 'name': 'OMKAR GHUGARE', 'email': 'omkar.ghugare992@gmail.com', 'mobile_number': '9175123965', 'skills': ['Technical skills', 'Xml', 'Sql', 'Rest', 'Java', 'Windows', 'C++', 'System', 'Design', 'Networking', 'Ui', 'Communication', 'Html', 'Cloud', 'Programming', 'Servers', 'Mysql', 'Security', 'Linux', 'English', 'Oracle', 'Visual', 'Workflows', 'Saas', 'Css', 'Technical', 'C', 'Github', 'Testing'], 'total_experience': 0.0, 'points': 89.0}\n",
      "{'_id': ObjectId('6393e41f2e7dab477d51fed9'), 'name': 'Hemlata Krushna', 'email': 'hemlata.wagh1995@gmail.com', 'mobile_number': '7841881626', 'skills': ['Rest', 'Java', 'Email', 'Api', 'Windows', 'Analytical', 'Design', 'Communication', 'Html', 'Javascript', 'Mobile', 'Operating systems', 'Excel', 'Os', 'Scrum', 'Database', 'Documentation', 'Programming', 'Scripting', 'Mysql', 'Linux', 'English', 'Process', 'Jira', 'Reports', 'Writing', 'End user', 'Video', 'Html5', 'Css', 'Js', 'Technical', 'Testing', '.net'], 'total_experience': 1.33, 'points': 85.33}\n",
      "{'_id': ObjectId('6393e4732e7dab477d51feeb'), 'name': 'www.linkedin.com/in/niveditaprakash1990 prakash.nivedita1@gmail.com', 'email': 'prakash.nivedita1@gmail.com', 'mobile_number': '9990677609', 'skills': ['Xml', 'Sql', 'Shell', 'Java', 'Queries', 'Apis', 'Rest', 'Api', 'Analytical', 'System', 'Expenses', 'Design', 'Ui', 'Spark', 'Supervisor', 'Javascript', 'Json', 'Business issues', 'Hive', 'Database', 'Health', 'Access', 'Engineering', 'Programming', 'Analysis', 'Scripting', 'Analytics', 'Mysql', 'Jsp', 'Kpi', 'Hbase', 'Research', 'Oracle', 'Workflow', 'Process', 'Jira', 'Photography', 'Nosql', 'Etl', 'Governance', 'Technical', 'Operations', 'Parser', 'Cloud', 'Testing', 'Python'], 'total_experience': 7.33, 'points': 82.33}\n",
      "{'_id': ObjectId('6393e4142e7dab477d51fed3'), 'name': 'Deepti Satpathy', 'email': 'deeptidash6@gmail.com|', 'mobile_number': '7008100560', 'skills': ['Purchasing', 'Docker', 'Apis', 'Java', 'Rest', 'Api', 'Analytical', 'Communication', 'Database', 'Analysis', 'Mysql', 'Transactions', 'English', 'Process', 'Flask', 'Reports', 'Writing', 'End user', 'Electronics', 'Test cases', 'Spyder', 'Try', 'Finance', 'Testing', 'Python'], 'total_experience': 4.25, 'points': 81.25}\n",
      "{'_id': ObjectId('6393e4032e7dab477d51feca'), 'name': 'BHAVANA S', 'email': 'bhavana18894@gmail.com', 'mobile_number': '9663366353', 'skills': ['Payments', 'Apis', 'Rest', 'Java', 'Windows', 'Api', 'Analytical', 'System', 'Design', 'Computer science', 'Json', 'Scrum', 'Debugging', 'Engineering', 'Analysis', 'Servers', 'Mysql', 'Ecommerce', 'Github', 'Customer requirements', 'Retail', 'Oracle', 'Technical', 'Cloud', 'Testing'], 'total_experience': 3.67, 'points': 78.67}\n",
      "{'_id': ObjectId('6393e4252e7dab477d51fedc'), 'name': 'KUMARASWAMY Mobile', 'email': 'swamykumara845@gmail.com', 'mobile_number': '9195427539', 'skills': ['Technical skills', 'Payments', 'Sql', 'Docker', 'Java', 'Computer applications', 'Windows', 'Api', 'System', 'Agile', 'Design', 'Html', 'Mobile', 'Web services', 'Scrum', 'Architecture', 'Database', 'Health', 'Analysis', 'Servers', 'Mysql', 'Jsp', 'Linux', 'Oracle', 'Jira', 'Reports', 'Visual', 'Writing', 'Information technology', 'Html5', 'Test cases', 'Css', 'Etl', 'Js', 'Money', 'Technical', 'Inventory', 'Github', 'Transport', 'Coding'], 'total_experience': 0.0, 'points': 77.0}\n",
      "{'_id': ObjectId('6393e4022e7dab477d51fec9'), 'name': 'B Harinadha', 'email': 'Harikrishna4646b@gmail.com', 'mobile_number': '9121070092', 'skills': ['Xml', 'Sql', 'Rest', 'Java', 'Security', 'Json', 'Banking', 'Writing', 'Vendors', 'English', 'Web services', 'Software development life cycle', 'System', 'Jira', 'Agile', 'Programming', 'Servers'], 'total_experience': 0.0, 'points': 76.0}\n",
      "{'_id': ObjectId('6393e4962e7dab477d51feef'), 'name': 'Tanjeet Singh', 'email': 'tanjeetsajmani@gmail.com', 'mobile_number': '7697629476', 'skills': ['Programming', 'Python', 'Java', 'Scripting', 'Hive', 'Warehouse', 'Etl', 'Hbase', 'Research', 'Technical', 'Oracle', 'Analytics', 'Engineering', 'Analysis', 'Unix', 'Cloud', 'Reporting', 'Spark'], 'total_experience': 0.0, 'points': 75.0}\n",
      "{'_id': ObjectId('6393e4b92e7dab477d51fefb'), 'name': 'Prakash D', 'email': 'tech.prakash94@gmail.com', 'mobile_number': '9392491948', 'skills': ['Xml', 'Pattern', 'Rest', 'Java', 'Email', 'Apis', 'Api', 'Agile', 'Design', 'Reporting', 'Html', 'Json', 'Web services', 'Documentation', 'Programming', 'Servers', 'Mysql', 'Process', 'Strategy', 'Soap', 'Information technology', 'Technical', 'C'], 'total_experience': 0.0, 'points': 75.0}\n",
      "{'_id': ObjectId('6393e4132e7dab477d51fed2'), 'name': 'Bengaluru  \\nSoftware Engineer', 'email': 'prasad.debi015@gmail.com', 'mobile_number': '6372596829', 'skills': ['Technical skills', 'Xml', 'Sql', 'Rest', 'Java', 'Email', 'Api', 'Windows', 'System', 'Agile', 'Design', 'Mobile', 'Architectures', 'Scrum', 'Architecture', 'Database', 'Debugging', 'Analysis', 'Servers', 'Mysql', 'Logging', 'Oracle', 'Jira', 'Writing', 'Technical', 'Testing'], 'total_experience': 3.08, 'points': 72.08}\n",
      "{'_id': ObjectId('6393e4342e7dab477d51fee3'), 'name': 'E R', 'email': 'manisha.abdar07@gmail.com', 'mobile_number': '559 3097', 'skills': ['Rest', 'Java', 'Api', 'Agile', 'Design', 'Ui', 'Html', 'Javascript', 'Mobile', 'Excel', 'Presentation', 'Database', 'Sdlc', 'Continuous improvement', 'Debugging', 'Analysis', 'Programming', 'Servers', 'Improvement', 'Mysql', 'Specifications', 'Jsp', 'English', 'Oracle', 'Jira', 'P', 'Writing', 'R', 'Lifecycle', 'Requests', 'Information technology', 'Html5', 'Css', 'Word', 'Project management', 'C', 'Testing', 'Coding'], 'total_experience': 0.0, 'points': 72.0}\n",
      "{'_id': ObjectId('6393e4c82e7dab477d51ff05'), 'name': 'Ravi Kumar', 'email': 'ravipandey6748@gmail.com', 'mobile_number': '7004815539', 'skills': ['Technical skills', 'Sql', 'Rest', 'Java', 'Email', 'Apis', 'Computer applications', 'Api', 'System', 'Agile', 'Html', 'Interactive', 'Web services', 'Database', 'Debugging', 'Programming', 'Servers', 'Mysql', 'Jsp', 'English', 'Process', 'Technical', 'Operations', 'Pdf', 'Testing'], 'total_experience': 0.0, 'points': 72.0}\n",
      "{'_id': ObjectId('6393e48e2e7dab477d51feee'), 'name': 'Sudhakar Email', 'email': 'nsudhacar.it@gmail.com', 'mobile_number': '7675973049', 'skills': ['Xml', 'Sql', 'Shell', 'Email', 'Queries', 'Java', 'Openstack', 'Docker', 'Telecom', 'Automation', 'Application support', 'Windows', 'Api', 'System', 'Migration', 'Agile', 'Design', 'Networking', 'Communication', 'Spark', 'Html', 'Json', 'Business issues', 'Scrum', 'Hive', 'Ubuntu', 'Dhcp', 'Analyze', 'Content', 'Sharepoint', 'Database', 'Health', 'Debugging', 'Programming', 'Analysis', 'Servers', 'Scripting', 'Analytics', 'Improvement', 'Hardware', 'Jsp', 'Active directory', 'Security', 'Linux', 'Sql server', 'Updates', 'Oracle', 'Process', 'Reports', 'Visual', 'Workflows', 'Tfs', 'Troubleshooting', 'Dns', 'Installation', 'Broadcast', 'Etl', 'Technical', 'Operations', 'Software development life cycle', 'Invoices', 'Administration', 'Parser', 'Cloud', 'Testing', 'Python', '.net'], 'total_experience': 0.0, 'points': 67.0}\n",
      "{'_id': ObjectId('6393e4be2e7dab477d51fefe'), 'name': 'Software Skills', 'email': 'rachayitapatro337741@gmail.com', 'mobile_number': '7205221783', 'skills': ['Purchasing', 'Java', 'Email', 'Windows', 'Api', 'Design', 'Html', 'Javascript', 'Banking', 'Database', 'Access', 'Programming', 'Mysql', 'Security', 'Oracle', 'Budget', 'Plan', 'Jira', 'Sales', 'End user', 'Cloud', 'Testing'], 'total_experience': 0.0, 'points': 67.0}\n",
      "{'_id': ObjectId('6393e4302e7dab477d51fee0'), 'name': 'Mallikarjuna Narravula', 'email': 'mallikarjuna.java18@gmail.com', 'mobile_number': '6364591557', 'skills': ['Sql', 'Rest', 'Java', 'Ordering', 'Telecom', 'Api', 'Reporting', 'Html', 'Mobile', 'Analyze', 'Database', 'Sdlc', 'Access', 'Servers', 'Logging', 'Oracle', 'Plan', 'Jira', 'Reports', 'Lifecycle', 'Technical', 'Software development life cycle', 'Inventory', 'Staffing', 'Administration', 'Coding'], 'total_experience': 1.33, 'points': 66.33}\n",
      "{'_id': ObjectId('6393e41b2e7dab477d51fed7'), 'name': 'Dipali Zendage', 'email': 'dipalizendage94@gmail.com', 'mobile_number': '9322974350', 'skills': ['Pattern', 'Rest', 'Java', 'Queries', 'Api', 'Analytical', 'Legal', 'System', 'Expenses', 'Agile', 'Design', 'Communication', 'Html', 'Excel', 'Presentation', 'Scrum', 'Database', 'Sdlc', 'Engineering', 'Analysis', 'Servers', 'Mysql', 'English', 'Updates', 'Jira', 'P', 'Css', 'Technical', 'Word', 'Software development life cycle', 'Microsoft office', 'Testing', 'Coding'], 'total_experience': 0.0, 'points': 66.0}\n",
      "{'_id': ObjectId('6393e4dd2e7dab477d51ff0d'), 'name': 'Shweta Singh', 'email': 'tomarshweta880@gmail.com', 'mobile_number': '7389042740', 'skills': ['Sql', 'Shell', 'Java', 'Email', 'Certification', 'System', 'Agile', 'Design', 'Ui', 'Html', 'Health', 'Training', 'Sports', 'Analysis', 'Programming', 'Engineering', 'Improvement', 'Specifications', 'Electrical', 'Plan', 'P', 'Css', 'Technical', 'Inventory', 'Project management', 'Testing'], 'total_experience': 0.5, 'points': 65.5}\n",
      "{'_id': ObjectId('6393e4cf2e7dab477d51ff07'), 'name': 'RESUME Email', 'email': 'vjsajimol@gmail.com', 'mobile_number': '9497425149', 'skills': ['Sql', 'Rest', 'Java', 'Email', 'Queries', 'Pattern', 'Windows', 'System', 'Agile', 'Design', 'Reporting', 'Mobile', 'Operating systems', 'Web services', 'Architecture', 'Database', 'Analysis', 'Programming', 'Jsp', 'Oracle', 'Process', 'Writing', 'Recruit', 'Testing'], 'total_experience': 0.0, 'points': 62.0}\n",
      "{'_id': ObjectId('6393e5082e7dab477d51ff1f'), 'name': 'Yash Ananta', 'email': 'zodeyash@gmail.com', 'mobile_number': '9822383033', 'skills': ['Docker', 'Rest', 'Java', 'Apis', 'Automation', 'Windows', 'Api', 'C++', 'Controls', 'System', 'Ui', 'Communication', 'Computer science', 'Javascript', 'Mobile', 'Access database', 'Ubuntu', 'Architecture', 'Database', 'Debugging', 'Documentation', 'Programming', 'Analysis', 'Access', 'Specifications', 'Protocols', 'Mysql', 'Security', 'Linux', 'English', 'Assembly', 'Process', 'Jira', 'Php', 'Visual', 'Commissioning', 'Troubleshooting', 'Requests', 'Android', 'Industry experience', 'Technical', 'Operations', 'Word', 'Schedule', 'Cloud', 'Testing', 'Python', 'Coding'], 'total_experience': 3.5, 'points': 61.5}\n",
      "{'_id': ObjectId('6393e4c22e7dab477d51ff01'), 'name': 'Rajkumar Mallik', 'email': 'Email:tech.rajkumar04@gmail.com', 'mobile_number': '9172261689', 'skills': ['International', 'Xml', 'Pattern', 'Sql', 'Java', 'Technical skills', 'Api', 'Windows', 'Analytical', 'Schedules', 'System', 'Agile', 'Design', 'Healthcare', 'Html', 'Javascript', 'Payroll', 'Web services', 'Architecture', 'Scheduling', 'Database', 'Health', 'Sdlc', 'Engineering', 'Programming', 'Accounting', 'Analysis', 'Servers', 'Jsp', 'General ledger', 'Business planning', 'Linux', 'Logging', 'Oracle', 'Jira', 'Reports', 'Writing', 'Financial management', 'Test cases', 'Technical', 'Software development life cycle', 'Inventory', 'Finance', 'Resource management', 'Schedule', 'Hospital', 'Administration', 'Falcon', 'Testing', 'Coding'], 'total_experience': 0.0, 'points': 61.0}\n",
      "{'_id': ObjectId('6393e4452e7dab477d51feea'), 'name': 'ANIRBAN GHOSH', 'email': 'AnirbanGhoshaz@gmail.com', 'mobile_number': '8722122007', 'skills': ['Sql server', 'Sql', 'Email', 'Java', 'Automation', 'Analytical', 'Migration', 'Design', 'Conversion', 'Reporting', 'Spark', 'Interactive', 'Analyze', 'Brand', 'Database', 'Sdlc', 'Engineering', 'Analytics', 'Instrumentation', 'Warehouse', 'Customer requirements', 'Budget', 'Pyspark', 'Plan', 'Reports', 'Matrix', 'Itil', 'Etl', 'Selenium', 'Cloud', 'Tableau'], 'total_experience': 7.67, 'points': 59.67}\n",
      "{'_id': ObjectId('6393e4202e7dab477d51feda'), 'name': 'pune Email', 'email': 'komalghodeswar77@gmail.com', 'mobile_number': '9834825395', 'skills': ['Pattern', 'Java', 'Email', 'English', 'Database', 'System', 'Jira', 'Debugging', 'Engineering', 'Writing', 'Design', 'Github', 'Testing', 'Mysql', 'Coding'], 'total_experience': 0.0, 'points': 59.0}\n",
      "{'_id': ObjectId('6393e4df2e7dab477d51ff0e'), 'name': 'Software Engineer', 'email': 'email:-pandasimran321@gmail.com', 'mobile_number': '9535483501', 'skills': ['Purchasing', 'Xml', 'Sql', 'Rest', 'Java', 'Db2', 'Sql server', 'Technical skills', 'Procurement', 'Windows', 'Inventory management', 'Analytical', 'System', 'Migration', 'Design', 'Logistics', 'Communication', 'Html', 'Payroll', 'Javascript', 'Mobile', 'Json', 'Interactive', 'Web services', 'Architecture', 'E-commerce', 'Scheduling', 'Database', 'Health', 'Training', 'Sdlc', 'Debugging', 'Documentation', 'Analysis', 'Ibm', 'Servers', 'Mysql', 'Specifications', 'Sourcing', 'Protocols', 'Jsp', 'Transportation', 'Logging', 'English', 'Oracle', 'Process', 'Jira', 'Visual', 'Troubleshooting', 'Soap', 'Android', 'Css', 'Vendors', 'Pharmaceutical', 'Js', 'Technical', 'Inventory', 'Cloud', 'Testing'], 'total_experience': 0.0, 'points': 59.0}\n",
      "{'_id': ObjectId('6393e4b02e7dab477d51fef7'), 'name': 'Om Gawande', 'email': 'gawandeom03@gmail.com', 'mobile_number': '7350614031', 'skills': ['Rest', 'Java', 'Queries', 'Website', 'Api', 'System', 'Agile', 'Design', 'Reporting', 'Communication', 'Javascript', 'Excel', 'Presentation', 'E-commerce', 'Debugging', 'Engineering', 'Programming', 'Analysis', 'Servers', 'Scripting', 'Improvement', 'Mysql', 'Jsp', 'English', 'Process', 'Sales', 'Jira', 'Gmail', 'Writing', 'Requests', 'Information technology', 'Html5', 'Technical', 'Word', 'Testing', 'Coding'], 'total_experience': 0.0, 'points': 58.0}\n",
      "{'_id': ObjectId('6393e4bc2e7dab477d51fefd'), 'name': 'Curriculum Vitae', 'email': 'psiddhu.tech@outlook.com', 'mobile_number': '8355826194', 'skills': ['Xml', 'Sql', 'Rest', 'Java', 'Email', 'Pattern', 'Apis', 'Sql server', 'Pl/sql', 'Api', 'System', 'Agile', 'Design', 'Ui', 'Communication', 'Html', 'Underwriting', 'Javascript', 'Mobile', 'Postgresql', 'Json', 'Web services', 'Scrum', 'Architecture', 'Database', 'Health', 'Sdlc', 'Debugging', 'Documentation', 'Analysis', 'Ibm', 'Programming', 'Servers', 'Unix', 'Engineering', 'Mysql', 'Access', 'Jsp', 'Security', 'Logging', 'English', 'Policies', 'Oracle', 'Process', 'Workflow', 'Reports', 'Writing', 'Strategy', 'Soap', 'Installation', 'Css', 'Technical', 'Operations', 'Help desk', 'Resource management', 'Parser', 'Testing', 'Coding'], 'total_experience': 0.0, 'points': 58.0}\n",
      "{'_id': ObjectId('6393e4d52e7dab477d51ff0a'), 'name': 'SANTOSH SAHOO', 'email': '–tech.santoshsahoo@gmail.com', 'mobile_number': '6364283343', 'skills': ['Xml', 'Pattern', 'Java', 'Email', 'Api', 'Windows', 'System', 'Expenses', 'Tax', 'Design', 'Json', 'Health', 'Mechanical engineering', 'Engineering', 'Mysql', 'Oracle', 'Jira', 'Writing', 'Technical'], 'total_experience': 0.0, 'points': 57.0}\n",
      "{'_id': ObjectId('6393e4822e7dab477d51feed'), 'name': 'Shekhar Nalawade', 'email': 'shekhar.nalawade@gmail.com', 'mobile_number': '9503051575', 'skills': ['International', 'Sql', 'Java', 'Yaml', 'Queries', 'Automation', 'Certification', 'Analytical', 'Schedules', 'Migration', 'Agile', 'Life cycle', 'Healthcare', 'Reporting', 'Mobile', 'Excel', 'Json', 'Banking', 'Scrum', 'Architecture', 'Database', 'Health', 'Training', 'Big data', 'Engineering', 'Analysis', 'Unix', 'Ibm', 'Programming', 'Scripting', 'Data analysis', 'Warehouse', 'English', 'Retail', 'Oracle', 'Workflow', 'Pyspark', 'Jira', 'Test cases', 'Etl', 'Technical', 'Operations', 'Finance', 'Schedule', 'Cloud', 'Testing', 'Python'], 'total_experience': 0.0, 'points': 55.0}\n",
      "{'_id': ObjectId('6393e4fe2e7dab477d51ff1b'), 'name': 'Utkarsh Mishra', 'email': 'mishrautkarsh894@gmail.com', 'mobile_number': '7088660646', 'skills': ['Sql', 'Docker', 'Java', 'Rest', 'Api', 'C++', 'System', 'Healthcare', 'Communication', 'Html', 'Json', 'Training', 'Engineering', 'Mathematics', 'Mysql', 'Ios', 'English', 'Spanish', 'Writing', 'Nosql', 'Android', 'Algorithms', 'Css', 'C', 'Testing'], 'total_experience': 0.0, 'points': 53.0}\n",
      "{'_id': ObjectId('6393e4312e7dab477d51fee1'), 'name': 'Manasi Aitwade', 'email': 'manasi.aitwade17@gmail.com', 'mobile_number': '8867146469', 'skills': ['Sql', 'Rest', 'Java', 'Queries', 'Telecom', 'Api', 'Design', 'Ui', 'Mobile', 'Engineering', 'Sports', 'Documentation', 'Programming', 'Servers', 'Mysql', 'Billing', 'Soap', 'Technical', 'Metrics', 'Testing'], 'total_experience': 0.0, 'points': 52.0}\n",
      "{'_id': ObjectId('6393e4212e7dab477d51fedb'), 'name': 'Konka Karthik', 'email': 'Karthik.bly123@gmail.com', 'mobile_number': '9740523119', 'skills': ['Xml', 'Sql', 'Rest', 'Java', 'Email', 'Pattern', 'Windows', 'Api', 'Controls', 'Design', 'Json', 'Architecture', 'Engineering', 'Servers', 'Mysql', 'Logging', 'Oracle', 'Writing', 'Android', 'Hospital', 'Testing', 'Coding'], 'total_experience': 0.0, 'points': 49.0}\n",
      "{'_id': ObjectId('6393e4a92e7dab477d51fef4'), 'name': 'NITHIN R', 'email': 'nithin93reghu@gmail.com', 'mobile_number': '8848346291', 'skills': ['Rest', 'Java', 'Api', 'Time management', 'Agile', 'Design', 'Communication', 'Html', 'Mobile', 'Postgresql', 'Excel', 'Web services', 'Sdlc', 'Engineering', 'Analysis', 'Improvement', 'Research', 'Oracle', 'Jira', 'R', 'Electronics', 'Technical', 'Project management', 'Pdf', 'Github', 'Testing'], 'total_experience': 0.0, 'points': 47.0}\n",
      "{'_id': ObjectId('6393e4b62e7dab477d51fefa'), 'name': 'Name   ', 'email': 'pareshpk.tech@gmail.com', 'mobile_number': '9699075841', 'skills': ['Sql server', 'Pattern', 'Sql', 'Java', 'Windows', 'Api', 'Analytical', 'System', 'Agile', 'Design', 'Logistics', 'Reporting', 'Html', 'Operating systems', 'Json', 'Scrum', 'Architecture', 'Database', 'Documentation', 'Analysis', 'Programming', 'Mysql', 'Jsp', 'Github', 'Electrical', 'Transactions', 'Warehouse', 'English', 'Research', 'Oracle', 'Process', 'Jira', 'Reports', 'Writing', 'Aws', 'Modeling', 'Requests', 'Information technology', 'Algorithms', 'Css', 'Cad', 'Money', 'C', 'Cloud', 'Testing', 'Transport', 'Coding'], 'total_experience': 0, 'points': 47}\n",
      "{'_id': ObjectId('6393e43d2e7dab477d51fee9'), 'name': 'NagarjunaAtla                                                                     ', 'email': 'Email:atlanagarjuna008@gmail.com', 'mobile_number': '9441547225', 'skills': ['Sql', 'Java', 'Queries', 'Windows', 'Api', 'Analytical', 'System', 'Agile', 'Statistics', 'Design', 'Conversion', 'Reporting', 'Ui', 'Html', 'Mobile', 'Presentation', 'Database', 'Access', 'Engineering', 'Programming', 'Documentation', 'Sports', 'Servers', 'Analysis', 'Ibm', 'Jsp', 'Linux', 'Transportation', 'Transactions', 'Logging', 'English', 'Retail', 'Oracle', 'Process', 'Regulations', 'Jira', 'Reports', 'Development activities', 'Financing', 'Js', 'Money', 'Technical', 'Pdf', 'Testing', 'Coding'], 'total_experience': 0.0, 'points': 45.0}\n",
      "{'_id': ObjectId('6393e4d22e7dab477d51ff08'), 'name': 'VITAE Rohini', 'email': 'rohinimali245@gmail.com', 'mobile_number': '9198902699', 'skills': ['Rest', 'Java', 'Email', 'Api', 'Windows', 'Agile', 'Design', 'Reporting', 'Communication', 'Budgeting', 'Html', 'Javascript', 'Mobile', 'Operating systems', 'Excel', 'Presentation', 'Web services', 'Analyze', 'Debugging', 'Documentation', 'Programming', 'Unix', 'Servers', 'Mysql', 'Jsp', 'Linux', 'English', 'Updates', 'Project planning', 'Plan', 'Jira', 'Css', 'Technical', 'Word', 'Testing', 'Coding'], 'total_experience': 0.0, 'points': 45.0}\n",
      "{'_id': ObjectId('6393e4002e7dab477d51fec7'), 'name': 'ASHUTOSH LAXMAN', 'email': 'ashutoshx6@gmail.com', 'mobile_number': '8779524554', 'skills': ['Xml', 'Sql', 'Rest', 'Email', 'Java', 'Windows', 'Certification', 'System', 'Migration', 'Cola', 'Reporting', 'Spark', 'Ui', 'Javascript', 'Mobile', 'Payroll', 'Html', 'Architecture', 'Sharepoint', 'Content', 'Database', 'Health', 'Engineering', 'Analysis', 'Jsp', 'Matlab', 'Github', 'Experiments', 'Scala', 'Oracle', 'Process', 'Reports', 'Visual', 'Soap', 'Forecasting', 'Css', 'Travel', 'Technical', 'Proposal', 'Cloud', 'Testing'], 'total_experience': 0.0, 'points': 44.0}\n",
      "{'_id': ObjectId('6393e4c12e7dab477d51ff00'), 'name': 'Rajeev Ranjan', 'email': 'E-mail:rajeev.p.ranjan0307@gmail.com', 'mobile_number': None, 'skills': ['International', 'Purchasing', 'Sql', 'Website', 'Java', 'Db2', 'Telecom', 'Queries', 'Solicitation', 'Distribution', 'Email', 'Windows', 'System', 'Design', 'Html', 'Intranet', 'Javascript', 'Payroll', 'Mobile', 'Presentation', 'Database', 'Debugging', 'Documentation', 'Access', 'Unix', 'Ibm', 'Servers', 'Mysql', 'Jsp', 'Billing', 'Transportation', 'English', 'Retail', 'Oracle', 'Workflow', 'Plan', 'Litigation', 'Flex', 'Writing', 'Marketing', 'Hospital', 'Github', 'Fulfillment', 'Testing'], 'total_experience': 0, 'points': 44}\n",
      "{'_id': ObjectId('6393e4f52e7dab477d51ff18'), 'name': 'SURAJ SHELKIKAR', 'email': 'Surajshelkikar1996@gmail.com', 'mobile_number': '8149992748', 'skills': ['Technical skills', 'Xml', 'Sql', 'Rest', 'Java', 'Queries', 'Pattern', 'Api', 'Analytical', 'System', 'Agile', 'Design', 'Html', 'Javascript', 'Excel', 'Interactive', 'Presentation', 'Architecture', 'Database', 'Sdlc', 'Engineering', 'Servers', 'Mysql', 'Jsp', 'English', 'Updates', 'Jira', 'Writing', 'Html5', 'Css', 'Technical', 'Word', 'Software development life cycle', 'Microsoft office', 'Coding'], 'total_experience': 0.0, 'points': 43.0}\n",
      "{'_id': ObjectId('6393e3f02e7dab477d51fec0'), 'name': 'Amit Kumar E', 'email': 'amit02543@yahoo.com', 'mobile_number': '868 9699', 'skills': ['Sql', 'Apis', 'Java', 'Rest', 'System', 'Migration', 'Agile', 'Design', 'Conversion', 'Computer science', 'Communication', 'Html', 'Javascript', 'Postgresql', 'Mobile', 'Presentation', 'Interactive', 'Scrum', 'Cloud', 'Architecture', 'Sharepoint', 'Content', 'Database', 'Sdlc', 'Engineering', 'Programming', 'Analysis', 'Servers', 'Scripting', 'Mysql', 'Jsp', 'Security', 'Updates', 'Policies', 'Oracle', 'Process', 'Jira', 'Css', 'Js', 'Governance', 'Github', 'Python'], 'total_experience': 0.0, 'points': 42.0}\n",
      "{'_id': ObjectId('6393e4122e7dab477d51fed1'), 'name': 'Debasis Sethy Mobile', 'email': 'debasissethy119@gmail.com', 'mobile_number': '8249860329', 'skills': ['Technical skills', 'Pattern', 'Rest', 'Email', 'Java', 'Queries', 'Sql', 'Api', 'Windows', 'System', 'Agile', 'Design', 'Html', 'Mobile', 'Json', 'Presentation', 'Banking', 'Training', 'Debugging', 'Documentation', 'Access', 'Retention', 'Servers', 'Mysql', 'Specifications', 'Security', 'Transactions', 'Policies', 'Retail', 'Sales', 'Jira', 'Reports', 'Writing', 'Aws', 'Lifecycle', 'Test cases', 'Css', 'Js', 'Technical', 'Cloud', 'Testing', 'Coding'], 'total_experience': 0.0, 'points': 42.0}\n",
      "{'_id': ObjectId('6393e4b52e7dab477d51fef9'), 'name': 'Paleti Bhanu', 'email': 'paletibanujava0830@gmail.com', 'mobile_number': '9581150605', 'skills': ['Xml', 'Sql', 'Payments', 'Java', 'Email', 'Rest', 'Queries', 'Apis', 'Api', 'Analytical', 'System', 'Healthcare', 'Reporting', 'Html', 'Javascript', 'Json', 'Presentation', 'Web services', 'Cloud', 'Architecture', 'Database', 'Health', 'Access', 'Analysis', 'Specifications', 'Security', 'Linux', 'Logging', 'Policies', 'Oracle', 'Process', 'Jira', 'Saas', 'Routing', 'Css', 'Technical', 'Regulations', 'Administration', 'Github', 'Filing', 'Testing'], 'total_experience': 0.0, 'points': 42.0}\n",
      "{'_id': ObjectId('6393e4c42e7dab477d51ff02'), 'name': 'RAJSHEKAR N', 'email': 'raj.shekar09726@gmail.com', 'mobile_number': '9972009757', 'skills': ['Sql', 'Rest', 'Java', 'Apis', 'Computer applications', 'Api', 'System', 'Agile', 'Design', 'Scrum', 'Health', 'Sdlc', 'Programming', 'Servers', 'Mysql', 'English', 'Updates', 'Jira', 'Reports', 'Testing'], 'total_experience': 0.0, 'points': 42.0}\n",
      "{'_id': ObjectId('6393e5042e7dab477d51ff1d'), 'name': 'Cognizant Technology', 'email': None, 'mobile_number': None, 'skills': ['Website', 'Java', 'Usability', 'Html', 'Javascript', 'Web services', 'User experience', 'Analyze', 'Database', 'Retention', 'Mysql', 'Jsp', 'Security', 'Sales', 'Php', 'Reports', 'Marketing', 'Lifecycle', 'Css', 'Technical', 'Operations', 'Cloud', 'Testing'], 'total_experience': 0.0, 'points': 42.0}\n",
      "{'_id': ObjectId('6393e4012e7dab477d51fec8'), 'name': 'Balaji Giridhar', 'email': 'balajig2192@gmail.com', 'mobile_number': '9008478004', 'skills': ['Sql', 'Java', 'Banking', 'Js', 'Invoicing', 'Migration', 'Plan', 'Agile', 'Cloud', 'Ui', 'Testing'], 'total_experience': 7.67, 'points': 41.67}\n",
      "{'_id': ObjectId('6393e42d2e7dab477d51fede'), 'name': 'Mahek Pipalia', 'email': 'mahekpipalia1@gmail.com', 'mobile_number': '9038551180', 'skills': ['Sql', 'Rest', 'Java', 'Api', 'System', 'Agile', 'Design', 'Database', 'Sdlc', 'Debugging', 'Engineering', 'Programming', 'English', 'Process', 'Nosql', 'Algorithms', 'Hospital', 'Testing', 'Python'], 'total_experience': 0.0, 'points': 40.0}\n",
      "{'_id': ObjectId('6393e47a2e7dab477d51feec'), 'name': 'SANDHYA  Azure Data Engineer', 'email': 'ksandy7335@gmail.com', 'mobile_number': '9492700133', 'skills': ['Technical skills', 'Sql', 'Email', 'Queries', 'Db2', 'Java', 'Windows', 'Legal', 'System', 'Controls', 'Agile', 'Cola', 'Communication', 'Spark', 'Mobile', 'Excel', 'Scrum', 'Brand', 'Scheduling', 'Database', 'Analysis', 'Servers', 'Quality assurance', 'Linux', 'Datasets', 'Updates', 'Process', 'Sales', 'Reports', 'Writing', 'Aws', 'Etl', 'Beverage', 'Technical', 'Operations', 'Schedule', 'Administration', 'Cloud', 'Testing', 'Python'], 'total_experience': 0, 'points': 40}\n",
      "{'_id': ObjectId('6393e4062e7dab477d51fecc'), 'name': 'BRIJ MOHAN CHAUHAN', 'email': 'chauhan.brijmohan95@gmail.com', 'mobile_number': '7052880802', 'skills': ['Sql', 'Java', 'Procurement', 'Time management', 'System', 'Migration', 'Agile', 'Ui', 'Html', 'Javascript', 'Banking', 'Database', 'Debugging', 'Engineering', 'Programming', 'Mysql', 'English', 'Oracle', 'Jira', 'Soap', 'Html5', 'Algorithms', 'Css', 'Technical', 'C', 'Testing'], 'total_experience': 0.0, 'points': 39.0}\n",
      "{'_id': ObjectId('6393e4ad2e7dab477d51fef5'), 'name': 'NITISH PANDEY', 'email': 'pandeynitish22@gmail.com', 'mobile_number': '9125314129', 'skills': ['International', 'Sql', 'Rest', 'Java', 'Windows', 'System', 'Agile', 'Conversion', 'Communication', 'Operating systems', 'Web services', 'Architecture', 'Database', 'Debugging', 'Documentation', 'Servers', 'Oracle', 'Jira', 'Electronics', 'Operations', 'Finance', 'Testing'], 'total_experience': 0.0, 'points': 39.0}\n",
      "{'_id': ObjectId('6393e4092e7dab477d51fecd'), 'name': 'Chandan B', 'email': 'chandansumithra.bs@gmail.com', 'mobile_number': '9611341223', 'skills': ['International', 'Xml', 'Sql', 'Rest', 'Email', 'Java', 'Technical skills', 'Windows', 'System', 'Agile', 'Design', 'Ui', 'Json', 'Web services', 'Banking', 'Database', 'Access', 'Engineering', 'Analysis', 'Specifications', 'Jsp', 'Linux', 'Transactions', 'English', 'Oracle', 'Process', 'Jira', 'Reports', 'Writing', 'Lifecycle', 'Troubleshooting', 'Soap', 'Technical', 'Operations', 'Investigation', 'Schedule', 'Github', 'Testing'], 'total_experience': 0.0, 'points': 38.0}\n",
      "{'_id': ObjectId('6393e4ff2e7dab477d51ff1c'), 'name': 'BhanukumarVadla    Email', 'email': 'vadlabhanukumar21@gmail.com', 'mobile_number': '8790320836', 'skills': ['Technical skills', 'Payments', 'Pattern', 'Rest', 'Email', 'Java', 'Aviation', 'Sql', 'Teaching', 'Windows', 'System', 'Agile', 'Design', 'Communication', 'Mobile', 'Web services', 'Banking', 'Scrum', 'Architecture', 'Database', 'Health', 'Mechanical engineering', 'Construction', 'Engineering', 'Programming', 'Analysis', 'Servers', 'Mysql', 'Research', 'Retail', 'Process', 'Reports', 'Real-time', 'Marketing', 'Journalism', 'Travel', 'Technical', 'Testing'], 'total_experience': 0.0, 'points': 38.0}\n",
      "{'_id': ObjectId('6393e3f82e7dab477d51fec3'), 'name': 'Professional Experience', 'email': 'archana.srikant06@gmail.com', 'mobile_number': '8431855416', 'skills': ['Sql', 'Rest', 'Java', 'Website', 'Windows', 'Analytical', 'Design', 'Healthcare', 'Communication', 'Html', 'Javascript', 'Postgresql', 'Os', 'Web services', 'Ubuntu', 'Correspondence', 'Scheduling', 'Database', 'Training', 'Engineering', 'Programming', 'Mysql', 'English', 'P', 'Reports', 'Electronics', 'Nosql', 'Cms', 'Css', 'Technical', 'Software development life cycle', 'Coding'], 'total_experience': 0.0, 'points': 37.0}\n",
      "{'_id': ObjectId('6393e4bb2e7dab477d51fefc'), 'name': 'Prathap R', 'email': 'prathapram17@gmail.com', 'mobile_number': '9597721923', 'skills': ['Java', 'Procurement', 'Automation', 'Windows', 'Inventory management', 'Analytical', 'Controls', 'System', 'Communication', 'Html', 'Mobile', 'Compliance', 'Banking', 'Brand', 'Database', 'Programming', 'Iso', 'Analysis', 'Servers', 'Mysql', 'Jsp', 'English', 'Customer requirements', 'Retail', 'Oracle', 'Process', 'R', 'Css', 'Technical', 'Operations', 'Inventory', 'Consulting', 'Falcon', 'Cloud', 'Coding'], 'total_experience': 0.0, 'points': 37.0}\n",
      "{'_id': ObjectId('6393e4a82e7dab477d51fef3'), 'name': 'Nishant Kodathi', 'email': 'kodatinishant12345@gmail.com', 'mobile_number': '9705120540', 'skills': ['Sql', 'Website', 'Java', 'Queries', 'Apis', 'Automation', 'Design', 'Reporting', 'Spark', 'C#', 'Architecture', 'Database', 'Debugging', 'Access', 'Analysis', 'Engineering', 'Threading', 'Data analysis', 'Analytics', 'Scripting', 'Active directory', 'Warehouse', 'Process', 'Visual', 'Aws', 'Project management skills', 'Auditing', 'Technical', 'C', 'Cloud', 'Python'], 'total_experience': 0.0, 'points': 36.0}\n",
      "{'_id': ObjectId('6393e4f62e7dab477d51ff19'), 'name': 'Suresh Nalla', 'email': 'sureshnalla1787@gmail.com', 'mobile_number': '9966448355', 'skills': ['Xml', 'Sql', 'Rest', 'Java', 'Automation', 'Api', 'Windows', 'System', 'Agile', 'Design', 'Ui', 'Communication', 'Html', 'Javascript', 'Mobile', 'Operating systems', 'Interactive', 'Database', 'Access', 'Programming', 'Servers', 'Mysql', 'Specifications', 'Jsp', 'Billing', 'Oracle', 'Workflow', 'Engagement', 'Css', 'Governance', 'Technical', 'Finance', 'Administration', 'Salesforce', 'Testing', 'Coding'], 'total_experience': 0, 'points': 36}\n",
      "{'_id': ObjectId('6393e4192e7dab477d51fed6'), 'name': 'DINESH DEVSARKAR', 'email': 'dinesdevsarkar@gmail.com', 'mobile_number': '9595967275', 'skills': ['Pattern', 'Rest', 'Java', 'Sql', 'Banking', 'English', 'Windows', 'Governance', 'Technical', 'Analytical', 'Oracle', 'Database', 'System', 'Engineering', 'Programming', 'Design', 'Workflows', 'Testing'], 'total_experience': 0.0, 'points': 35.0}\n",
      "{'_id': ObjectId('6393e4e62e7dab477d51ff10'), 'name': 'Software Pvt', 'email': 'snehaldhok211@gmail.com', 'mobile_number': '9191680015', 'skills': ['International', 'Xml', 'Pattern', 'Rest', 'Java', 'Queries', 'Api', 'System', 'Agile', 'Design', 'Communication', 'Html', 'Javascript', 'Mobile', 'Excel', 'Presentation', 'Scrum', 'Analyze', 'Architecture', 'Database', 'Engineering', 'Analysis', 'Servers', 'Mysql', 'Safety', 'Updates', 'Jira', 'Electronics', 'Html5', 'Css', 'Technical', 'Word', 'Microsoft office', 'Testing', 'Coding'], 'total_experience': 0.0, 'points': 35.0}\n",
      "{'_id': ObjectId('6393e4f32e7dab477d51ff17'), 'name': 'Sunitha J', 'email': 'sunithajayanna@gmail.com.com', 'mobile_number': '9110808387', 'skills': ['Sql', 'Email', 'Java', 'Sap', 'Automation', 'System', 'Design', 'Reporting', 'Computer science', 'Spark', 'Mobile', 'Json', 'Scheduling', 'Health', 'Engineering', 'Programming', 'Analysis', 'Analytics', 'Mysql', 'Warehouse', 'Sales', 'Pyspark', 'Reports', 'Writing', 'Requests', 'Etl', 'Technical', 'Schedule', 'Metrics', 'Cloud', 'Python'], 'total_experience': 0.0, 'points': 35.0}\n",
      "{'_id': ObjectId('6393e3ef2e7dab477d51febf'), 'name': 'Adarsha G', 'email': 'adarshagh04@gmail.com', 'mobile_number': '9380671785', 'skills': ['Technical skills', 'Payments', 'Xml', 'Rest', 'Java', 'Email', 'Telecom', 'Api', 'Windows', 'Time management', 'Analytical', 'Inventory management', 'System', 'Agile', 'Design', 'Healthcare', 'Communication', 'Mobile', 'Excel', 'Database', 'Sdlc', 'Debugging', 'Engineering', 'Servers', 'Mysql', 'Billing', 'Jira', 'Merchant', 'Reports', 'R', 'Technical', 'Software development life cycle', 'Inventory', 'Pdf'], 'total_experience': 0.0, 'points': 34.0}\n",
      "{'_id': ObjectId('6393e4c52e7dab477d51ff03'), 'name': 'Rakesh Kolhe Male', 'email': 'rakeshkolhe392@gmail.com', 'mobile_number': '9398415872', 'skills': ['Technical skills', 'Xml', 'Sql', 'Rest', 'Java', 'Email', 'Pattern', 'Api', 'Windows', 'System', 'Design', 'Javascript', 'Mobile', 'Postgresql', 'Json', 'Presentation', 'Scrum', 'Architecture', 'Database', 'Access', 'Programming', 'Paste', 'Servers', 'Oracle', 'Process', 'Reports', 'Writing', 'Html5', 'Test cases', 'Css', 'Technical', 'Schedule', 'Click', 'Testing'], 'total_experience': 0.0, 'points': 34.0}\n",
      "{'_id': ObjectId('6393e40b2e7dab477d51fece'), 'name': 'Chandresh Vikram', 'email': 'chandresh.vikram211@gmail.com', 'mobile_number': '8904340838', 'skills': ['Payments', 'Sql', 'Rest', 'Java', 'Email', 'Distribution', 'Windows', 'Api', 'System', 'Agile', 'Ai', 'Design', 'Communication', 'Postgresql', 'Web services', 'Banking', 'Scrum', 'Database', 'Analysis', 'Servers', 'Mysql', 'Jsp', 'Transactions', 'Process', 'Jira', 'Engagement', 'Writing', 'Electronics', 'Marketing', 'Requests', 'Technical', 'Proposal', 'Responses'], 'total_experience': 0.0, 'points': 33.0}\n",
      "{'_id': ObjectId('6393e4332e7dab477d51fee2'), 'name': 'Core Java', 'email': 'MANIMANICSE11@GMAIL.COM', 'mobile_number': '8296877554', 'skills': ['Sql server', 'Sql', 'Java', 'System', 'Spark', 'Html', 'Javascript', 'Json', 'Hive', 'Architecture', 'Database', 'Health', 'Mysql', 'Jsp', 'Datasets', 'Process', 'Workflow', 'Visual', 'Css', 'Auditing', 'Js', 'Technical', 'Asset management'], 'total_experience': 0.0, 'points': 32.0}\n",
      "{'_id': ObjectId('6393e4af2e7dab477d51fef6'), 'name': 'Java Developer', 'email': 'nogeshhalmare.official@gmail.com', 'mobile_number': '9172247748', 'skills': ['Xml', 'Sql', 'Rest', 'Java', 'Api', 'Windows', 'System', 'Design', 'Javascript', 'Json', 'Os', 'Database', 'Health', 'Sdlc', 'Access', 'Debugging', 'Analysis', 'Documentation', 'Servers', 'Jsp', 'Security', 'Linux', 'Logging', 'English', 'Research', 'Oracle', 'Jira', 'Writing', 'Lifecycle', 'Technical', 'Coding'], 'total_experience': 0.0, 'points': 32.0}\n",
      "{'_id': ObjectId('6393e4ec2e7dab477d51ff12'), 'name': 'Email:sreepatnam82977@gmail.com Career', 'email': 'Email:sreepatnam82977@gmail.com', 'mobile_number': '8297780283', 'skills': ['Sql', 'Apis', 'Java', 'Ordering', 'Windows', 'Analytical', 'System', 'Communication', 'Html', 'Web services', 'Programming', 'Scripting', 'Mysql', 'Jsp', 'Linux', 'Oracle', 'Workflow', 'P', 'Visual', 'Writing', 'Requests', 'Css', 'Technical', 'Testing', 'Coding'], 'total_experience': 0.0, 'points': 32.0}\n",
      "{'_id': ObjectId('6393e4392e7dab477d51fee6'), 'name': 'Mukta Joshi', 'email': 'muktasj07@gmail.com', 'mobile_number': '9075940443', 'skills': ['Xml', 'Java', 'Email', 'Api', 'Analytical', 'Agile', 'Design', 'Html', 'Javascript', 'Mobile', 'Json', 'Database', 'Engineering', 'Mysql', 'Jsp', 'Process', 'Sales', 'R', 'Marketing', 'Strategy', 'Css', 'Inventory', 'Pdf', 'Product design', 'Advertising', 'Testing'], 'total_experience': 0.0, 'points': 30.0}\n",
      "{'_id': ObjectId('6393e4a52e7dab477d51fef2'), 'name': 'Ganesh Gaikwad', 'email': 'ganesh.gaikwad5692@gmail.com', 'mobile_number': '9699321345', 'skills': ['Rest', 'Java', 'Website', 'Computer applications', 'Api', 'Windows', 'Agile', 'Design', 'Html', 'Javascript', 'Excel', 'Web services', 'Banking', 'Analyze', 'Brand', 'Sdlc', 'Mysql', 'Ecommerce', 'English', 'Sci', 'Plan', 'Jira', 'Writing', 'Lifecycle', 'Css', 'Technical', 'Word', 'Software development life cycle', 'Testing', 'Coding'], 'total_experience': 0.0, 'points': 30.0}\n",
      "{'_id': ObjectId('6393e4bf2e7dab477d51feff'), 'name': 'Dell Customer Communication', 'email': 'tech.rahulsahu876@gmail.com', 'mobile_number': '9376407674', 'skills': ['Apis', 'Rest', 'Java', 'Email', 'Automation', 'Windows', 'Api', 'Analytical', 'System', 'Agile', 'Ui', 'Communication', 'Html', 'Database', 'Access', 'Programming', 'Servers', 'Mysql', 'Jsp', 'Linux', 'Logging', 'Warehouse', 'Oracle', 'Jira', 'Writing', 'Marketing', 'Css', 'Vendors', 'Technical', 'Testing'], 'total_experience': 0.0, 'points': 30.0}\n",
      "{'_id': ObjectId('6393e4f12e7dab477d51ff15'), 'name': 'SUMANTH Email', 'email': 'sumanthit846@gmail.com', 'mobile_number': '8867115581', 'skills': ['Technical skills', 'Sql', 'Website', 'Java', 'Email', 'Automation', 'Windows', 'System', 'Design', 'Html', 'Javascript', 'Mobile', 'Analyze', 'Database', 'Access', 'Programming', 'Servers', 'Hotels', 'Jsp', 'Linux', 'Ecommerce', 'Process', 'Writing', 'Soap', 'Requests', 'Css', 'Travel', 'Governance', 'Technical', 'Testing'], 'total_experience': 0.0, 'points': 30.0}\n",
      "{'_id': ObjectId('6393e3f32e7dab477d51fec1'), 'name': 'Ankit Bhor ankit.bhor56@gmail.com', 'email': 'ankit.bhor56@gmail.com', 'mobile_number': '9131871192', 'skills': ['Purchasing', 'Payments', 'Sql', 'Website', 'Java', 'Windows', 'System', 'Design', 'Networking', 'Logistics', 'Communication', 'Intranet', 'Mobile', 'Database', 'Engineering', 'Programming', 'Analysis', 'Servers', 'Jsp', 'Transportation', 'Real estate', 'English', 'Process', 'Vendors', 'Positioning', 'Technical', 'Invoices', 'Testing', 'Coding'], 'total_experience': 0.0, 'points': 29.0}\n",
      "{'_id': ObjectId('6393e4052e7dab477d51fecb'), 'name': 'Bhupendra Kumar', 'email': '07kumarbhupendra@gmail.com', 'mobile_number': '7488197194', 'skills': ['Xml', 'Java', 'Windows', 'Analytical', 'Controls', 'System', 'Design', 'Communication', 'Html', 'Json', 'Web services', 'Database', 'Sdlc', 'Mechanical engineering', 'Engineering', 'Analysis', 'Servers', 'Jsp', 'English', 'Process', 'Soap', 'Technical', 'Coding'], 'total_experience': 0.0, 'points': 29.0}\n",
      "{'_id': ObjectId('6393e4382e7dab477d51fee5'), 'name': 'Tamil Nadu', 'email': 'India+91-8760855125mukeshvignesh1558@gmail.comCERTIFICATION1.', 'mobile_number': '8760855125', 'skills': ['Sql', 'Website', 'Java', 'Rest', 'Pattern', 'Api', 'Agile', 'Design', 'Html', 'Javascript', 'Json', 'Database', 'Access', 'Crm', 'Programming', 'Mysql', 'Jsp', 'Security', 'Process', 'Jira', 'Visual', 'Aws', 'Html5', 'Css', 'Selenium', 'Salesforce', 'Testing', 'Front-end'], 'total_experience': 0.0, 'points': 28.0}\n",
      "{'_id': ObjectId('6393e4d32e7dab477d51ff09'), 'name': 'ROJALINI SAHOO', 'email': 'sahoorojalin67@gmail.com', 'mobile_number': '7978748886', 'skills': ['Jsp', 'Writing', 'Java', 'English', 'Certification', 'Technical', 'Visual', 'Database', 'Oracle', 'Process', 'Chemicals', 'Jira', 'Engineering', 'Programming', 'Analysis', 'Testing', 'Mysql'], 'total_experience': 0.0, 'points': 27.0}\n",
      "{'_id': ObjectId('6393e50a2e7dab477d51ff20'), 'name': 'POTULARAJU YASWANTH REDDY', 'email': 'ryash2077@gmail.com', 'mobile_number': '6303343207', 'skills': ['Technical skills', 'Rest', 'Java', 'Email', 'Queries', 'Automation', 'Api', 'System', 'Design', 'Conversion', 'Payroll', 'Mobile', 'Interactive', 'Presentation', 'Architecture', 'Database', 'Access', 'Analysis', 'Hotels', 'Mysql', 'Jira', 'P', 'Writing', 'Technical', 'Metrics', 'Testing', 'Coding'], 'total_experience': 0, 'points': 27}\n",
      "{'_id': ObjectId('6393e3fe2e7dab477d51fec6'), 'name': 'Ashutosh Suryawanshi', 'email': 'suryawanshiashutosh02@gmail.com', 'mobile_number': '9322031578', 'skills': ['Technical skills', 'Xml', 'Java', 'Email', 'Api', 'System', 'Agile', 'Design', 'Healthcare', 'Communication', 'Json', 'Database', 'Health', 'Sdlc', 'Programming', 'Mysql', 'Jsp', 'Ecommerce', 'Writing', 'Technical', 'Responses', 'Github', 'Testing'], 'total_experience': 0.0, 'points': 26.0}\n",
      "{'_id': ObjectId('6393e4162e7dab477d51fed4'), 'name': 'Email ID', 'email': 'sabaledeveshri21@gmail.com', 'mobile_number': '9156042755', 'skills': ['Sql', 'Rest', 'Java', 'Email', 'Windows', 'Api', 'Controls', 'Agile', 'Design', 'Logistics', 'Html', 'Operating systems', 'Database', 'Analysis', 'Servers', 'Analytics', 'Mysql', 'English', 'Retail', 'Jira', 'Writing', 'Information technology', 'Testing'], 'total_experience': 0.0, 'points': 26.0}\n",
      "{'_id': ObjectId('6393e4292e7dab477d51fedd'), 'name': 'Madhan D', 'email': 'Madhand528@gmail.com', 'mobile_number': '6369677478', 'skills': ['Docker', 'Rest', 'Java', 'Ordering', 'Windows', 'System', 'Agile', 'Design', 'Ui', 'Html', 'Json', 'Scrum', 'Database', 'Engineering', 'Programming', 'Unix', 'Jsp', 'Security', 'Linux', 'Logging', 'Policies', 'Process', 'Writing', 'Css', 'Administration', 'Testing'], 'total_experience': 0.0, 'points': 26.0}\n",
      "{'_id': ObjectId('6393e4e32e7dab477d51ff0f'), 'name': 'Career Summary', 'email': 'sivaramakrishnalchjava@gmail.com', 'mobile_number': '9182549741', 'skills': ['International', 'Sql', 'Shell', 'Java', 'Db2', 'Queries', 'Windows', 'System', 'Migration', 'Agile', 'Mobile', 'Banking', 'Analyze', 'Scheduling', 'Database', 'Training', 'Documentation', 'Unix', 'Servers', 'Linux', 'Oracle', 'Process', 'Reports', 'Operations', 'Technical'], 'total_experience': 0.0, 'points': 26.0}\n",
      "{'_id': ObjectId('6393e3ed2e7dab477d51febe'), 'name': 'Email ID', 'email': 'abhisheknaik6@gmail.com', 'mobile_number': '9900457009', 'skills': ['Java', 'Email', 'English', 'Higher education', 'Research', 'Therapeutic', 'Engineering', 'Servers', 'Hp alm', 'Agile', 'Programming', 'Github', 'Communication', 'Mysql', 'Lifecycle'], 'total_experience': 3.25, 'points': 25.25}\n",
      "{'_id': ObjectId('6393e41d2e7dab477d51fed8'), 'name': 'ESHWAR NALAKURTHI', 'email': 'eswarnalakurthi7@gmail.com', 'mobile_number': '9182602595', 'skills': ['Technical skills', 'Xml', 'Sql', 'Docker', 'Java', 'Email', 'Rest', 'Windows', 'System', 'Html', 'Javascript', 'Mobile', 'Web services', 'Analyze', 'Database', 'Programming', 'Jsp', 'Linux', 'Process', 'Jira', 'Writing', 'Soap', 'Css', 'Technical', 'Testing'], 'total_experience': 0.0, 'points': 25.0}\n",
      "{'_id': ObjectId('6393e4362e7dab477d51fee4'), 'name': 'MP M', 'email': 'MARUTHIPRASADM96@GMAIL.COM', 'mobile_number': '9666788755', 'skills': ['Jsp', 'Sql', 'Java', 'Billing', 'Scrum', 'Pharmaceutical', 'Updates', 'Testing', 'Operations', 'Design', 'Jira', 'Access', 'Agile', 'Writing', 'Aws', 'Regulatory', 'Mysql'], 'total_experience': 0.0, 'points': 25.0}\n",
      "{'_id': ObjectId('6393e40c2e7dab477d51fecf'), 'name': 'CHANDU CHAKALA', 'email': 'rajakachandu405@gmail.com', 'mobile_number': '9010014125', 'skills': ['Java', 'Email', 'Windows', 'System', 'Design', 'Ui', 'Communication', 'Html', 'Javascript', 'Correspondence', 'Database', 'Health', 'Programming', 'Servers', 'Mysql', 'Plan', 'Jira', 'Circuits', 'Css', 'Technical', 'Software development life cycle', 'Parser', 'Testing', 'Coding'], 'total_experience': 0.0, 'points': 24.0}\n",
      "{'_id': ObjectId('6393e4c62e7dab477d51ff04'), 'name': 'RAUSHAN KUMAR', 'email': 'raushanpaswan194@gmail.com', 'mobile_number': '9666872033', 'skills': ['Rest', 'Java', 'Email', 'Api', 'Design', 'Html', 'Javascript', 'Database', 'Health', 'Sdlc', 'Engineering', 'Programming', 'Analysis', 'Servers', 'Mysql', 'English', 'Oracle', 'Writing', 'Css', 'Hospitality', 'Technical', 'Software development life cycle', 'Cloud', 'Testing'], 'total_experience': 0, 'points': 24}\n",
      "{'_id': ObjectId('6393e4f22e7dab477d51ff16'), 'name': 'Sumit Kumar', 'email': 'sumitsuman451@gmail.com', 'mobile_number': '7978294991', 'skills': ['Business stakeholders', 'Security', 'Java', 'Algorithms', 'Visual', 'Database', 'Troubleshooting', 'Jira', 'Engineering', 'Administration', 'Design', 'Analysis', 'Servers', 'Computer science', 'Communication', 'Mysql', 'Lifecycle'], 'total_experience': 0.0, 'points': 24.0}\n",
      "{'_id': ObjectId('6393e4eb2e7dab477d51ff11'), 'name': 'Sonu Prakash', 'email': 'sonuprakashbta@gmail.com', 'mobile_number': '9780571597', 'skills': ['Payroll', 'Mobile', 'Javascript', 'Rest', 'Java', 'Email', 'Interactive', 'Js', 'Technical', 'Operations', 'Ai', 'Html'], 'total_experience': 1.58, 'points': 23.58}\n",
      "{'_id': ObjectId('6393e4ef2e7dab477d51ff14'), 'name': 'Sujeet Kumar', 'email': 'sujeetray96@gmail.com', 'mobile_number': '8858715612', 'skills': ['Apis', 'Rest', 'Java', 'Prototyping', 'Api', 'System', 'Design', 'Html', 'Postgresql', 'Engineering', 'Analysis', 'Programming', 'Mysql', 'Machine learning', 'Retail', 'Oracle', 'Process', 'Android', 'Algorithms', 'Css', 'Test cases', 'Js', 'Testing'], 'total_experience': 0.0, 'points': 23.0}\n",
      "{'_id': ObjectId('6393e4fa2e7dab477d51ff1a'), 'name': 'Taran Kapoor Guda', 'email': 'tarankapoor2100@gmail.com', 'mobile_number': '9131808715', 'skills': ['Xml', 'Pattern', 'Rest', 'Java', 'Email', 'Apis', 'Windows', 'Api', 'Analytical', 'Design', 'Html', 'Javascript', 'Mobile', 'Json', 'Web services', 'Database', 'Debugging', 'Programming', 'Servers', 'Mysql', 'Jsp', 'Marketing', 'Technical'], 'total_experience': 0.0, 'points': 23.0}\n",
      "{'_id': ObjectId('6393e5072e7dab477d51ff1e'), 'name': 'VISHNU PM', 'email': 'VISHNUPM788@GMAIL.COM', 'mobile_number': '8075051744', 'skills': ['Technical skills', 'Sql', 'Usability', 'Java', 'Automation', 'Windows', 'Api', 'Analytical', 'Ai', 'Design', 'Spark', 'Javascript', 'Mysql', 'Machine learning', 'Scala', 'Retail', 'Marketing', 'Technical', 'Operations', 'Testing'], 'total_experience': 0.0, 'points': 23.0}\n",
      "{'_id': ObjectId('6393e40e2e7dab477d51fed0'), 'name': 'Chetan M.', 'email': 'chetany1215@gmail.com', 'mobile_number': '7057789881', 'skills': ['Mobile', 'Apis', 'Java', 'Billing', 'Telecom', 'Analyze', 'Technical', 'Physics', 'Database', 'System', 'Debugging', 'Writing', 'Mysql', 'Coding'], 'total_experience': 0.0, 'points': 22.0}\n",
      "{'_id': ObjectId('6393e4a32e7dab477d51fef1'), 'name': 'Neelu Aggarwal', 'email': 'neelu.aggarwal94@gmail.com', 'mobile_number': '7042138228', 'skills': ['Sql', 'Rest', 'Java', 'Writing', 'Safety', 'Agile', 'English', 'Api', 'C++', 'Architecture', 'Documentation', 'Health', 'C', 'Access', 'Engineering', 'Analysis', 'Design', 'Protocols'], 'total_experience': 0.0, 'points': 22.0}\n",
      "{'_id': ObjectId('6393e3ec2e7dab477d51febd'), 'name': 'Abhishek Kumar', 'email': 'abhisek.dbg17@gmail.com', 'mobile_number': '8002598201', 'skills': ['Apis', 'Java', 'English', 'Windows', 'Engineering', 'Technical', 'System', 'Jira', 'Agile', 'Unix', 'Cisco', 'Ui'], 'total_experience': 2.92, 'points': 21.92}\n",
      "{'_id': ObjectId('6393e4cb2e7dab477d51ff06'), 'name': 'YAMINI GUPTA', 'email': 'yaminigupta.1308@gmail.com', 'mobile_number': '9871399355', 'skills': ['Apis', 'Rest', 'Java', 'Sql', 'Queries', 'Automation', 'System', 'Agile', 'Design', 'Html', 'Presentation', 'Database', 'Analysis', 'Mysql', 'Electronics', 'Android', 'Css', 'Technical', 'Metrics'], 'total_experience': 0.0, 'points': 19.0}\n",
      "{'_id': ObjectId('6393e4ee2e7dab477d51ff13'), 'name': 'Subbareddy  \\n\\n     ', 'email': 'subbareddy9195@gmail.com', 'mobile_number': '9391474507', 'skills': ['Mobile', 'Sql', 'Rest', 'Java', 'Email', 'Scrum', 'English', 'Windows', 'Technical', 'System', 'Sales', 'Plan', 'Engineering', 'Servers', 'Analytics', 'Communication', 'Coding'], 'total_experience': 0.0, 'points': 19.0}\n",
      "{'_id': ObjectId('6393e3fc2e7dab477d51fec5'), 'name': 'Arush Agarwal', 'email': 'arush.agarwal405@gmail.com', 'mobile_number': '7088161507', 'skills': ['Javascript', 'Docker', 'Rest', 'Java', 'Os', 'Linux', 'Css', 'English', 'Api', 'Windows', 'Technical', 'Database', 'Engineering', 'Design', 'Cloud', 'Ui', 'Html', 'Coding'], 'total_experience': 0.0, 'points': 18.0}\n",
      "{'_id': ObjectId('6393e4da2e7dab477d51ff0c'), 'name': 'SHUBHAM VERMA', 'email': 'skverma1121@gmail.com', 'mobile_number': '8217607599', 'skills': ['Postgresql', 'Sql', 'Rest', 'Java', 'Json', 'Jsp', 'English', 'Api', 'Sanitize', 'C++', 'Js', 'Oracle', 'System', 'Reports', 'C', 'Mortgage', 'Design', 'Mysql'], 'total_experience': 0.0, 'points': 18.0}\n",
      "{'_id': ObjectId('6393e49c2e7dab477d51fef0'), 'name': 'Venu Gopal', 'email': 'venugopal4a0@gmail.com', 'mobile_number': '0807499266', 'skills': ['Sql server', 'Sql', 'Rest', 'Java', 'Python', 'Datasets', 'Sap', 'Etl', 'Api', 'English', 'Process', 'Pyspark', 'Mysql', 'Aws', 'Spark'], 'total_experience': 0.0, 'points': 15.0}\n",
      "{'_id': ObjectId('6393e3f92e7dab477d51fec4'), 'name': 'CHAKALI ARUN KUMAR Email', 'email': 'amarunmahiam@gmail.com', 'mobile_number': '7416960469', 'skills': ['Healthcare', 'Java', 'Email', 'English', 'Windows', 'Operations', 'Technical', 'Health', 'Pharmacy', 'Writing', 'Servers', 'Analytics', 'Mysql'], 'total_experience': 0, 'points': 13}\n"
     ]
    }
   ],
   "source": [
    "for items in db.skill.find().sort(\"points\", pymongo.DESCENDING):\n",
    "    print(items)"
   ]
  },
  {
   "cell_type": "code",
   "execution_count": 30,
   "id": "b3dcbbd4",
   "metadata": {},
   "outputs": [
    {
     "name": "stdout",
     "output_type": "stream",
     "text": [
      "{'_id': ObjectId('6393e3f42e7dab477d51fec2'), 'name': 'ANKITA DAGDIYA                                                   \\n\\nSoftware Engineer', 'email': 'dagdiyaankita1@gmail.com', 'mobile_number': '8669233167', 'skills': ['Rest', 'Java', 'Email', 'Analytical', 'Agile', 'Reporting', 'Communication', 'Web services', 'Database', 'Debugging', 'Engineering', 'Servers', 'Mysql', 'Jsp', 'Jira', 'Strong analytical skills', 'Writing', 'End user', 'Html5', 'Js', 'Try', 'Microsoft office', 'Fulfillment', 'Testing'], 'total_experience': 2.75, 'points': 138.75}\n",
      "{'_id': ObjectId('6393e42e2e7dab477d51fedf'), 'name': 'Profile Mahesh', 'email': 'gajulamahesh94405@gmail.com', 'mobile_number': '9440500687', 'skills': ['Xml', 'Docker', 'Rest', 'Java', 'Windows', 'System', 'Design', 'Database', 'Health', 'Programming', 'Analysis', 'Servers', 'Oracle', 'Writing', 'Requests', 'Technical', 'Operations', 'Hospital', 'Cloud', 'Coding'], 'total_experience': 0.0, 'points': 121.0}\n",
      "{'_id': ObjectId('6393e4182e7dab477d51fed5'), 'name': 'Dhanu Mobile', 'email': 'dhanujavadev@gmail.com', 'mobile_number': '9962185453', 'skills': ['Rest', 'Java', 'Queries', 'Api', 'Agile', 'Mortgage', 'Design', 'Mobile', 'Postgresql', 'Json', 'Web services', 'Banking', 'Scrum', 'Analyze', 'Sdlc', 'Threading', 'Specifications', 'Process', 'Writing', 'Technical', 'Finance', 'Github', 'Testing', 'Coding'], 'total_experience': 4.33, 'points': 116.33}\n",
      "{'_id': ObjectId('6393e43a2e7dab477d51fee7'), 'name': 'NAG ARJUN', 'email': 'nagarjuna.m34@outlook.com', 'mobile_number': '9491654117', 'skills': ['Xml', 'Email', 'Java', 'Windows', 'Analytical', 'Controls', 'Design', 'Ui', 'Html', 'Mobile', 'Architecture', 'Database', 'Sdlc', 'Engineering', 'Programming', 'Analysis', 'Servers', 'Mysql', 'Jsp', 'Visio', 'English', 'Research', 'Oracle', 'Jira', 'Writing', 'Modeling', 'Requests', 'Css', 'Operations', 'Technical', 'Software development life cycle', 'Microsoft visio', 'Testing'], 'total_experience': 0.0, 'points': 103.0}\n"
     ]
    }
   ],
   "source": [
    "for items in db.skill.find().sort(\"points\", pymongo.DESCENDING).limit(4):\n",
    "    print(items)"
   ]
  },
  {
   "cell_type": "code",
   "execution_count": null,
   "id": "dd34091c",
   "metadata": {},
   "outputs": [],
   "source": []
  }
 ],
 "metadata": {
  "kernelspec": {
   "display_name": "Python 3 (ipykernel)",
   "language": "python",
   "name": "python3"
  },
  "language_info": {
   "codemirror_mode": {
    "name": "ipython",
    "version": 3
   },
   "file_extension": ".py",
   "mimetype": "text/x-python",
   "name": "python",
   "nbconvert_exporter": "python",
   "pygments_lexer": "ipython3",
   "version": "3.9.13"
  }
 },
 "nbformat": 4,
 "nbformat_minor": 5
}
